{
 "cells": [
  {
   "cell_type": "markdown",
   "metadata": {},
   "source": [
    "# Align\n",
    "---\n",
    "\n",
    "#### Overview\n",
    "Interactive 3D alignment of serial sections."
   ]
  },
  {
   "cell_type": "code",
   "execution_count": 4,
   "metadata": {},
   "outputs": [],
   "source": [
    "import pathlib\n",
    "import requests\n",
    "\n",
    "from tqdm.notebook import tqdm\n",
    "import numpy as np\n",
    "import matplotlib.pyplot as plt\n",
    "import renderapi\n",
    "import os\n",
    "\n",
    "from scripted_render_pipeline import basic_auth\n",
    "from scripted_render_pipeline.importer import uploader\n",
    "from interactive_render import plotting\n",
    "from interactive_render.utils import clear_image_cache"
   ]
  },
  {
   "cell_type": "code",
   "execution_count": 5,
   "metadata": {},
   "outputs": [
    {
     "data": {
      "text/plain": [
       "<Response [200]>"
      ]
     },
     "execution_count": 5,
     "metadata": {},
     "output_type": "execute_result"
    }
   ],
   "source": [
    "clear_image_cache()"
   ]
  },
  {
   "cell_type": "markdown",
   "metadata": {},
   "source": [
    "#### `render-ws` environment variables"
   ]
  },
  {
   "cell_type": "code",
   "execution_count": 6,
   "metadata": {},
   "outputs": [],
   "source": [
    "# create an authorized session\n",
    "auth = basic_auth.load_auth()\n",
    "sesh = requests.Session()\n",
    "sesh.auth = auth\n",
    "\n",
    "# render-ws environment variables\n",
    "params_render = {\n",
    "    \"host\": \"http://localhost\",\n",
    "    \"port\": 8081,\n",
    "    \"client_scripts\": \"/home/catmaid/render/render-ws-java-client/src/main/scripts\",\n",
    "    \"client_script\": \"/home/catmaid/render/render-ws-java-client/src/main/scripts/run_ws_client.sh\",\n",
    "    \"owner\": \"akievits\",\n",
    "    \"project\": \"20230914_RP_exocrine_partial_test\",\n",
    "    \"session\": sesh\n",
    "}\n",
    "\n",
    "params_uploader = {\n",
    "    \"host\": \"https://sonic.tnw.tudelft.nl\",\n",
    "    \"owner\": \"akievits\",\n",
    "    \"project\": \"20230914_RP_exocrine_partial_test\",\n",
    "    \"auth\": auth\n",
    "}\n",
    "\n",
    "# set project directory\n",
    "dir_project = pathlib.Path(\"/long_term_storage/akievits/FAST-EM/20230914_RP_exocrine_partial_test/\")"
   ]
  },
  {
   "cell_type": "markdown",
   "metadata": {},
   "source": [
    "## 2) Rough alignment (I)\n",
    "---\n",
    "Perform rough alignment of downsamples section images\n",
    "\n",
    "### Create downsampled montage stack"
   ]
  },
  {
   "cell_type": "code",
   "execution_count": 70,
   "metadata": {},
   "outputs": [],
   "source": [
    "from interactive_render.utils import create_downsampled_stack"
   ]
  },
  {
   "cell_type": "code",
   "execution_count": 71,
   "metadata": {},
   "outputs": [],
   "source": [
    "# Set stacks for downsampling\n",
    "stack_2_downsample = {\n",
    "    'in': 'postcorrection_stitched',\n",
    "    'out': 'postcorrection_dsmontages'\n",
    "}"
   ]
  },
  {
   "cell_type": "code",
   "execution_count": 73,
   "metadata": {},
   "outputs": [],
   "source": [
    "SCALE = 0.05"
   ]
  },
  {
   "cell_type": "code",
   "execution_count": 72,
   "metadata": {},
   "outputs": [
    {
     "data": {
      "application/vnd.jupyter.widget-view+json": {
       "model_id": "3740b5415a814c1cb3b1052e9059d436",
       "version_major": 2,
       "version_minor": 0
      },
      "text/plain": [
       "  0%|          | 0/3 [00:00<?, ?it/s]"
      ]
     },
     "metadata": {},
     "output_type": "display_data"
    },
    {
     "name": "stderr",
     "output_type": "stream",
     "text": [
      "uploading: 100%|██████████| 1/1 [00:00<00:00,  4.17stacks/s]\n"
     ]
    }
   ],
   "source": [
    "# Create downsampled stack\n",
    "ds_stack = create_downsampled_stack(dir_project, \n",
    "                                    stack_2_downsample, \n",
    "                                    **params_render)\n",
    "# Upload\n",
    "# initialize uploader\n",
    "uppity = uploader.Uploader(\n",
    "        **params_uploader,\n",
    "        clobber=False\n",
    ")\n",
    "\n",
    "# import stack to render-ws\n",
    "uppity.upload_to_render(\n",
    "    stacks=[ds_stack],\n",
    "    z_resolution=100\n",
    ")"
   ]
  },
  {
   "cell_type": "markdown",
   "metadata": {},
   "source": [
    "### Inspect downsampled montage stack"
   ]
  },
  {
   "cell_type": "code",
   "execution_count": 73,
   "metadata": {},
   "outputs": [
    {
     "data": {
      "application/vnd.jupyter.widget-view+json": {
       "model_id": "b831a7271bdf4dad93342bc126c94af4",
       "version_major": 2,
       "version_minor": 0
      },
      "text/plain": [
       "  0%|          | 0/1 [00:00<?, ?it/s]"
      ]
     },
     "metadata": {},
     "output_type": "display_data"
    },
    {
     "data": {
      "application/vnd.jupyter.widget-view+json": {
       "model_id": "3186a3e1fc904a4f95eab37b914e5f0d",
       "version_major": 2,
       "version_minor": 0
      },
      "text/plain": [
       "interactive(children=(IntSlider(value=0, description='z', max=2), IntSlider(value=26, description='vmin', max=…"
      ]
     },
     "metadata": {},
     "output_type": "display_data"
    }
   ],
   "source": [
    "# plot stack\n",
    "plotting.plot_stacks(\n",
    "    [ds_stack.name],\n",
    "    width=1000,\n",
    "    vmin=0,\n",
    "    vmax=65535,\n",
    "    **params_render\n",
    ")"
   ]
  },
  {
   "cell_type": "markdown",
   "metadata": {},
   "source": [
    "## 3) Rough alignment (II)\n",
    "---\n",
    "Get point matches for `dsmontage` stack and roughly align\n",
    "### Align `dsmontage` stack\n"
   ]
  },
  {
   "cell_type": "code",
   "execution_count": 8,
   "metadata": {},
   "outputs": [],
   "source": [
    "ds_stack_2_align = {\n",
    "    'in': 'postcorrection_dsmontages',\n",
    "    'out': 'postcorrection_dsmontages_aligned'\n",
    "}"
   ]
  },
  {
   "cell_type": "markdown",
   "metadata": {},
   "source": [
    "### Get point matches\n",
    "\n",
    "Use `render-ws` `PointMatchClient` script to find matching features between the neighboring z-levels\n",
    "#### Collect tile pairs"
   ]
  },
  {
   "cell_type": "code",
   "execution_count": 75,
   "metadata": {},
   "outputs": [
    {
     "name": "stderr",
     "output_type": "stream",
     "text": [
      "WARNING:renderapi.client.client_calls:call_run_ws_client requires memory specification -- defaulting to 1G\n"
     ]
    },
    {
     "name": "stdout",
     "output_type": "stream",
     "text": [
      "Number of tile pairs... 2 \n",
      "-------------------------\n"
     ]
    },
    {
     "data": {
      "text/plain": [
       "[{'p': {'groupId': 'S003', 'id': 't0_z0.0_y0_x0'},\n",
       "  'q': {'groupId': 'S004', 'id': 't0_z1.0_y0_x0'}},\n",
       " {'p': {'groupId': 'S004', 'id': 't0_z1.0_y0_x0'},\n",
       "  'q': {'groupId': 'S005', 'id': 't0_z2.0_y0_x0'}}]"
      ]
     },
     "execution_count": 75,
     "metadata": {},
     "output_type": "execute_result"
    }
   ],
   "source": [
    "# choose stack from which to get tile pairs\n",
    "z_values = [int(z) for z in renderapi.stack.get_z_values_for_stack(\n",
    "    ds_stack_2_align['in'],\n",
    "    **params_render\n",
    ")]\n",
    "\n",
    "# Get tile pairs from the rough aligned stack\n",
    "tilepairs = renderapi.client.tilePairClient(\n",
    "    stack=ds_stack_2_align['in'],\n",
    "    minz=min(z_values),\n",
    "    maxz=max(z_values),\n",
    "    zNeighborDistance=1,  # half-height of search cylinder\n",
    "    excludeSameLayerNeighbors=False,\n",
    "    subprocess_mode=\"check_output\",  # suppresses output\n",
    "    **params_render\n",
    ")[\"neighborPairs\"]\n",
    "\n",
    "# Show tile pairs\n",
    "out = f\"Number of tile pairs... {len(tilepairs)}\"\n",
    "print(out, \"\\n\" + \"-\"*len(out))\n",
    "tilepairs[:5]"
   ]
  },
  {
   "cell_type": "code",
   "execution_count": 76,
   "metadata": {},
   "outputs": [],
   "source": [
    "from renderapi.client import (\n",
    "    SiftPointMatchOptions,\n",
    "    MatchDerivationParameters,\n",
    "    FeatureExtractionParameters\n",
    ")"
   ]
  },
  {
   "cell_type": "code",
   "execution_count": 9,
   "metadata": {},
   "outputs": [
    {
     "data": {
      "text/plain": [
       "'20230914_RP_exocrine_partial_test_postcorrection_dsmontages_matches'"
      ]
     },
     "execution_count": 9,
     "metadata": {},
     "output_type": "execute_result"
    }
   ],
   "source": [
    "# Name for pointmatch collection\n",
    "match_collection = f\"{params_render['project']}_{ds_stack_2_align['in']}_matches\"\n",
    "match_collection"
   ]
  },
  {
   "cell_type": "code",
   "execution_count": 78,
   "metadata": {},
   "outputs": [],
   "source": [
    "# renderapi.pointmatch.delete_collection(match_collection,\n",
    "#                                        **params_render)"
   ]
  },
  {
   "cell_type": "markdown",
   "metadata": {},
   "source": [
    "#### Set SIFT + RANSAC parameters"
   ]
  },
  {
   "cell_type": "code",
   "execution_count": 79,
   "metadata": {},
   "outputs": [
    {
     "data": {
      "text/plain": [
       "{'SIFTfdSize': 8,\n",
       " 'SIFTmaxScale': 0.8,\n",
       " 'SIFTminScale': 0.2,\n",
       " 'SIFTsteps': 5,\n",
       " 'matchIterations': None,\n",
       " 'matchMaxEpsilon': 25,\n",
       " 'matchMaxNumInliers': None,\n",
       " 'matchMaxTrust': None,\n",
       " 'matchMinInlierRatio': 0.01,\n",
       " 'matchMinNumInliers': 3,\n",
       " 'matchModelType': 'AFFINE',\n",
       " 'matchRod': 0.92,\n",
       " 'renderScale': None,\n",
       " 'fillWithNoise': True,\n",
       " 'numberOfThreads': 40}"
      ]
     },
     "execution_count": 79,
     "metadata": {},
     "output_type": "execute_result"
    }
   ],
   "source": [
    "# `RANSAC` parameters\n",
    "params_RANSAC = MatchDerivationParameters(\n",
    "    matchIterations=None,\n",
    "    matchMaxEpsilon=25,        # maximal alignment error\n",
    "    matchMaxNumInliers=None,\n",
    "    matchMaxTrust=None,\n",
    "    matchMinInlierRatio=0.01,  # minimal inlier ratio\n",
    "    matchMinNumInliers=3,      # minimal number of inliers\n",
    "    matchModelType='AFFINE',   # expected transformation\n",
    "    matchRod=0.92              # closest/next closest ratio\n",
    ")\n",
    "\n",
    "# `SIFT` parameters\n",
    "params_SIFT = FeatureExtractionParameters(\n",
    "    SIFTfdSize=8,              # feature descriptor size\n",
    "    SIFTmaxScale=0.8,         # (width/height *) maximum image size\n",
    "    SIFTminScale=0.2,         # (width/height *) minimum image size\n",
    "    SIFTsteps=7               # steps per scale octave\n",
    ")\n",
    "\n",
    "# Combined `SIFT` & `RANSAC` parameters\n",
    "params_SIFT = SiftPointMatchOptions(\n",
    "    fillWithNoise=True,\n",
    "    **{**params_RANSAC.__dict__,\n",
    "       **params_SIFT.__dict__}\n",
    ")\n",
    "\n",
    "# Extra parameters\n",
    "params_SIFT.numberOfThreads = 40  # multithreading\n",
    "params_SIFT.__dict__"
   ]
  },
  {
   "cell_type": "code",
   "execution_count": 80,
   "metadata": {},
   "outputs": [
    {
     "data": {
      "application/vnd.jupyter.widget-view+json": {
       "model_id": "cbae5baa595446baa76e5e37972c670b",
       "version_major": 2,
       "version_minor": 0
      },
      "text/plain": [
       "  0%|          | 0/2 [00:00<?, ?it/s]"
      ]
     },
     "metadata": {},
     "output_type": "display_data"
    },
    {
     "name": "stderr",
     "output_type": "stream",
     "text": [
      "WARNING:renderapi.client.client_calls:call_run_ws_client requires memory specification -- defaulting to 1G\n",
      "WARNING:renderapi.client.client_calls:call_run_ws_client requires memory specification -- defaulting to 1G\n"
     ]
    }
   ],
   "source": [
    "# Loop through tile pairs\n",
    "for tp in tqdm(tilepairs):\n",
    "\n",
    "    # Format tile pair\n",
    "    tp_ids = (tp[\"p\"][\"id\"], tp[\"q\"][\"id\"])\n",
    "\n",
    "    # Run SIFT + RANSAC via render-ws PointMatchClient\n",
    "    renderapi.client.pointMatchClient(\n",
    "        stack=ds_stack_2_align['in'],\n",
    "        collection=match_collection,\n",
    "        tile_pairs=[tp_ids],\n",
    "        sift_options=params_SIFT,\n",
    "        excludeAllTransforms=True,\n",
    "        subprocess_mode='check_output',  # suppresses output\n",
    "        **params_render\n",
    "    )"
   ]
  },
  {
   "cell_type": "markdown",
   "metadata": {},
   "source": [
    "### Inspect"
   ]
  },
  {
   "cell_type": "code",
   "execution_count": 10,
   "metadata": {},
   "outputs": [
    {
     "data": {
      "application/vnd.jupyter.widget-view+json": {
       "model_id": "68b689eb129646809389e3982973e639",
       "version_major": 2,
       "version_minor": 0
      },
      "text/plain": [
       "  0%|          | 0/1 [00:00<?, ?it/s]"
      ]
     },
     "metadata": {},
     "output_type": "display_data"
    },
    {
     "data": {
      "application/vnd.jupyter.widget-view+json": {
       "model_id": "b37d60c12e474318bf2cbe19787bb8a0",
       "version_major": 2,
       "version_minor": 0
      },
      "text/plain": [
       "interactive(children=(IntSlider(value=0, description='z', max=1), Output()), _dom_classes=('widget-interact',)…"
      ]
     },
     "metadata": {},
     "output_type": "display_data"
    }
   ],
   "source": [
    "plotting.plot_dsstack_with_alignment_matches(\n",
    "    ds_stack_2_align['in'],\n",
    "    match_collection,\n",
    "    width=1000,\n",
    "    **params_render\n",
    ")"
   ]
  },
  {
   "cell_type": "markdown",
   "metadata": {},
   "source": [
    "### Filter point matches\n",
    "Filter false point matches that are located on the edges of the stack"
   ]
  },
  {
   "cell_type": "code",
   "execution_count": 83,
   "metadata": {},
   "outputs": [
    {
     "data": {
      "application/vnd.jupyter.widget-view+json": {
       "model_id": "1cd109e4148b4ee1a93ecaa041630dd3",
       "version_major": 2,
       "version_minor": 0
      },
      "text/plain": [
       "  0%|          | 0/2 [00:00<?, ?it/s]"
      ]
     },
     "metadata": {},
     "output_type": "display_data"
    }
   ],
   "source": [
    "# Define clipping based on stack bounds\n",
    "bounds = renderapi.stack.get_stack_bounds(ds_stack_2_align['in'],\n",
    "                                          **params_render)\n",
    "clip = 0.05 # fraction of image size\n",
    "min_X, max_X = clip * bounds['maxX'], (1-clip) * bounds['maxX'] \n",
    "min_Y, max_Y = clip * bounds['maxY'], (1-clip) * bounds['maxX'] \n",
    "\n",
    "# Filtered matches\n",
    "matches_filtered = []\n",
    "\n",
    "# loop through tile pairs\n",
    "for tp in tqdm(tilepairs):\n",
    "    # get z value from groupId (aka sectionId)\n",
    "    p_sectionId = tp[\"p\"][\"groupId\"]\n",
    "    q_sectionId = tp[\"q\"][\"groupId\"]\n",
    "    matches_per_group = renderapi.pointmatch.get_matches_from_group_to_group(match_collection,\n",
    "                                                                             p_sectionId,\n",
    "                                                                             q_sectionId,\n",
    "                                                                             **params_render)\n",
    "    # Filter match coordinates\n",
    "    pmatches = matches_per_group[0]['matches']['p']\n",
    "    qmatches = matches_per_group[0]['matches']['q']\n",
    "    p_matches = np.array(\n",
    "        [[px, py] for px, py in zip(pmatches[0], pmatches[1]) if ((px >= min_X and px <= max_X) and (py >= min_Y and py <= max_Y))]\n",
    "    )\n",
    "    q_matches = np.array(\n",
    "        [[qx, qy] for qx, qy in zip(qmatches[0], qmatches[1]) if ((qx >= min_X and qx <= max_X) and (qy >= min_Y and qy <= max_Y))]\n",
    "    )\n",
    "\n",
    "    # format matches for uploading to render-ws point match database\n",
    "    d = {\n",
    "        \"pGroupId\": p_sectionId,  # sectionId for image P\n",
    "        \"qGroupId\": q_sectionId,  # sectionId for image Q\n",
    "        \"pId\": tp[\"p\"][\"id\"],  # tileId for image P\n",
    "        \"qId\": tp[\"q\"][\"id\"],  # tileId for image Q\n",
    "        \"matches\": {\n",
    "            \"p\": p_matches.T.tolist(),\n",
    "            \"q\": q_matches.T.tolist(),\n",
    "            \"w\": np.ones(len(p_matches)).tolist()\n",
    "        }\n",
    "    }\n",
    "    matches_filtered.append(d)\n",
    "    \n"
   ]
  },
  {
   "cell_type": "markdown",
   "metadata": {},
   "source": [
    "### Delete original point matches and upload filtered matches"
   ]
  },
  {
   "cell_type": "code",
   "execution_count": 84,
   "metadata": {},
   "outputs": [
    {
     "data": {
      "text/plain": [
       "<Response [201]>"
      ]
     },
     "execution_count": 84,
     "metadata": {},
     "output_type": "execute_result"
    }
   ],
   "source": [
    "# Delete existing collection\n",
    "renderapi.pointmatch.delete_collection(match_collection,\n",
    "                                       **params_render)\n",
    "\n",
    "# Import filtered matches\n",
    "renderapi.pointmatch.import_matches(\n",
    "    match_collection,\n",
    "    matches_filtered,\n",
    "    **params_render\n",
    ")"
   ]
  },
  {
   "cell_type": "markdown",
   "metadata": {},
   "source": [
    "### Inspect filtered matches"
   ]
  },
  {
   "cell_type": "code",
   "execution_count": 85,
   "metadata": {},
   "outputs": [
    {
     "data": {
      "application/vnd.jupyter.widget-view+json": {
       "model_id": "cc0c6e1ce84e4cbe82e5cc4534b9f8d6",
       "version_major": 2,
       "version_minor": 0
      },
      "text/plain": [
       "  0%|          | 0/1 [00:00<?, ?it/s]"
      ]
     },
     "metadata": {},
     "output_type": "display_data"
    },
    {
     "data": {
      "application/vnd.jupyter.widget-view+json": {
       "model_id": "e0f55b76c7884fbf972cc64365bbc1ee",
       "version_major": 2,
       "version_minor": 0
      },
      "text/plain": [
       "interactive(children=(IntSlider(value=0, description='z', max=1), Output()), _dom_classes=('widget-interact',)…"
      ]
     },
     "metadata": {},
     "output_type": "display_data"
    }
   ],
   "source": [
    "plotting.plot_dsstack_with_alignment_matches(\n",
    "    ds_stack_2_align['in'],\n",
    "    match_collection,\n",
    "    width=1000,\n",
    "    **params_render\n",
    ")"
   ]
  },
  {
   "cell_type": "markdown",
   "metadata": {},
   "source": [
    "### Align `dsmontage` stack\n",
    "---\n",
    "\n",
    "### Create alignment files"
   ]
  },
  {
   "cell_type": "code",
   "execution_count": 11,
   "metadata": {},
   "outputs": [],
   "source": [
    "from pathlib import Path\n",
    "import os\n",
    "import subprocess\n",
    "import json\n",
    "from pprint import pprint"
   ]
  },
  {
   "cell_type": "code",
   "execution_count": 21,
   "metadata": {},
   "outputs": [
    {
     "name": "stdout",
     "output_type": "stream",
     "text": [
      "/long_term_storage/akievits/FAST-EM/20230914_RP_exocrine_partial_test/_jsons_align_rough/postcorrection_dsmontages/align_rough.json\n",
      "-----------------------------------------------------------------------------------------------------------------------------------\n",
      "{'close_stack': 'True',\n",
      " 'first_section': 0.0,\n",
      " 'hdf5_options': {'chunks_per_file': -1, 'output_dir': ''},\n",
      " 'input_stack': {'client_scripts': '/home/catmaid/render/render-ws-java-client/src/main/scripts',\n",
      "                 'collection_type': 'stack',\n",
      "                 'db_interface': 'render',\n",
      "                 'host': 'http://localhost',\n",
      "                 'mongo_host': 'sonic.tnw.tudelft.nl',\n",
      "                 'mongo_port': 27017,\n",
      "                 'name': 'postcorrection_dsmontages',\n",
      "                 'owner': 'akievits',\n",
      "                 'port': 8081,\n",
      "                 'project': '20230914_RP_exocrine_partial_test'},\n",
      " 'last_section': 2.0,\n",
      " 'log_level': 'INFO',\n",
      " 'matrix_assembly': {'cross_pt_weight': 1.0,\n",
      "                     'depth': 2,\n",
      "                     'inverse_dz': 'True',\n",
      "                     'montage_pt_weight': 1.0,\n",
      "                     'npts_max': 500,\n",
      "                     'npts_min': 5},\n",
      " 'output_mode': 'stack',\n",
      " 'output_stack': {'client_scripts': '/home/catmaid/render/render-ws-java-client/src/main/scripts',\n",
      "                  'collection_type': 'stack',\n",
      "                  'db_interface': 'render',\n",
      "                  'host': 'http://localhost',\n",
      "                  'mongo_host': 'sonic.tnw.tudelft.nl',\n",
      "                  'mongo_port': 27017,\n",
      "                  'name': 'postcorrection_dsmontages_aligned',\n",
      "                  'owner': 'akievits',\n",
      "                  'port': 8081,\n",
      "                  'project': '20230914_RP_exocrine_partial_test'},\n",
      " 'pointmatch': {'client_scripts': '/home/catmaid/render/render-ws-java-client/src/main/scripts',\n",
      "                'collection_type': 'pointmatch',\n",
      "                'db_interface': 'render',\n",
      "                'host': 'http://localhost',\n",
      "                'mongo_host': 'sonic.tnw.tudelft.nl',\n",
      "                'mongo_port': 27017,\n",
      "                'name': '20230914_RP_exocrine_partial_test_postcorrection_dsmontages_matches',\n",
      "                'owner': 'akievits',\n",
      "                'port': 8081},\n",
      " 'regularization': {'default_lambda': 0.1,\n",
      "                    'thinplate_factor': 1e-05,\n",
      "                    'translation_factor': 0.1},\n",
      " 'solve_type': '3D',\n",
      " 'start_from_file': '',\n",
      " 'transformation': 'rigid'}\n"
     ]
    }
   ],
   "source": [
    "z_values = renderapi.stack.get_z_values_for_stack(ds_stack_2_align['in'],\n",
    "                                                  **params_render)\n",
    "# Load align.json template\n",
    "template_align_json = Path('../templates/align.json')\n",
    "with template_align_json.open('r') as json_data:\n",
    "    params_align_rough = json.load(json_data)\n",
    "\n",
    "# Edit BigFeta solver schema\n",
    "params_align_rough['first_section'] = min(z_values)\n",
    "params_align_rough['last_section'] = max(z_values)\n",
    "params_align_rough['solve_type'] = '3D'\n",
    "params_align_rough['transformation'] = 'rigid'\n",
    "params_align_rough['log_level'] = 'INFO'\n",
    "\n",
    "# Edit input stack data\n",
    "params_align_rough['input_stack']['host'] = params_render['host']\n",
    "params_align_rough['input_stack']['owner'] = params_render['owner']\n",
    "params_align_rough['input_stack']['project'] = params_render['project']\n",
    "params_align_rough['input_stack']['name'] = ds_stack_2_align['in']\n",
    "\n",
    "# Edit point match stack data\n",
    "params_align_rough['pointmatch']['host'] = params_render['host']\n",
    "params_align_rough['pointmatch']['owner'] = params_render['owner']\n",
    "params_align_rough['pointmatch']['name'] = match_collection\n",
    "\n",
    "# Edit output stack data\n",
    "params_align_rough['output_stack']['host'] = params_render['host']\n",
    "params_align_rough['output_stack']['owner'] = params_render['owner']\n",
    "params_align_rough['output_stack']['project'] = params_render['project']\n",
    "params_align_rough['output_stack']['name'] = ds_stack_2_align['out']\n",
    "\n",
    "# Edit regularization parameters\n",
    "params_align_rough['regularization']['default_lambda'] = 0.1      # default: 0.005\n",
    "params_align_rough['regularization']['translation_factor'] = 0.1  # default: 0.005\n",
    "params_align_rough['regularization']['thinplate_factor'] = 1e-5     # default: 1e-5\n",
    "\n",
    "# Export montage settings to\n",
    "align_json = dir_project / '_jsons_align_rough' / ds_stack_2_align['in'] / 'align_rough.json'\n",
    "align_json.parent.mkdir(parents=True, exist_ok=True)\n",
    "with align_json.open('w') as json_data:\n",
    "    json.dump(params_align_rough, json_data, indent=2)\n",
    "\n",
    "# Check alignment parameters\n",
    "print(align_json)\n",
    "print('-'*len(align_json.as_posix()))\n",
    "pprint(params_align_rough)"
   ]
  },
  {
   "cell_type": "markdown",
   "metadata": {},
   "source": [
    "### Run `BigFeta`"
   ]
  },
  {
   "cell_type": "code",
   "execution_count": 22,
   "metadata": {},
   "outputs": [
    {
     "name": "stderr",
     "output_type": "stream",
     "text": [
      "/home/akievits/interactive-render-workflow/.venv/lib/python3.9/site-packages/argschema/utils.py:346: FutureWarning: '--transform_apply' is using old-style command-line syntax with each element as a separate argument. This will not be supported in argschema after 2.0. See http://argschema.readthedocs.io/en/master/user/intro.html#command-line-specification for details.\n",
      "  warnings.warn(warn_msg, FutureWarning)\n",
      "INFO:bigfeta.utils:\n",
      " loaded 3 tile specs from 3 zvalues in 0.0 sec using interface: render\n",
      "INFO:__main__: A created in 0.1 seconds\n",
      "INFO:__main__:\n",
      " solved in 0.0 sec\n",
      " precision [norm(Kx-Lm)/norm(Lm)] = 1.8e-12\n",
      " error     [norm(Ax-b)] = 0.008\n",
      " [mean(Ax) +/- std(Ax)] : -0.0 +/- 0.0\n",
      " [mean(error mag) +/- std(error mag)] : 0.0 +/- 0.0\n",
      "/home/catmaid/BigFeta/bigfeta/transform/rigid_model.py:69: DeprecationWarning: Conversion of an array with ndim > 0 to a scalar is deprecated, and will error in future. Ensure you extract a single element from your array before performing this operation. (Deprecated NumPy 1.25.)\n",
      "  self.M[0, 0] = vec[0] * s\n",
      "/home/catmaid/BigFeta/bigfeta/transform/rigid_model.py:70: DeprecationWarning: Conversion of an array with ndim > 0 to a scalar is deprecated, and will error in future. Ensure you extract a single element from your array before performing this operation. (Deprecated NumPy 1.25.)\n",
      "  self.M[0, 1] = vec[1] * s\n",
      "/home/catmaid/BigFeta/bigfeta/transform/rigid_model.py:71: DeprecationWarning: Conversion of an array with ndim > 0 to a scalar is deprecated, and will error in future. Ensure you extract a single element from your array before performing this operation. (Deprecated NumPy 1.25.)\n",
      "  self.M[0, 2] = vec[2] * s\n",
      "/home/catmaid/BigFeta/bigfeta/transform/rigid_model.py:72: DeprecationWarning: Conversion of an array with ndim > 0 to a scalar is deprecated, and will error in future. Ensure you extract a single element from your array before performing this operation. (Deprecated NumPy 1.25.)\n",
      "  self.M[1, 0] = -vec[1] * s\n",
      "/home/catmaid/BigFeta/bigfeta/transform/rigid_model.py:73: DeprecationWarning: Conversion of an array with ndim > 0 to a scalar is deprecated, and will error in future. Ensure you extract a single element from your array before performing this operation. (Deprecated NumPy 1.25.)\n",
      "  self.M[1, 1] = vec[0] * s\n",
      "/home/catmaid/BigFeta/bigfeta/transform/rigid_model.py:74: DeprecationWarning: Conversion of an array with ndim > 0 to a scalar is deprecated, and will error in future. Ensure you extract a single element from your array before performing this operation. (Deprecated NumPy 1.25.)\n",
      "  self.M[1, 2] = vec[3] * s\n",
      "INFO:__main__:\n",
      " scales: 1.00 +/- 0.00, 1.00 +/- 0.00\n",
      "INFO:bigfeta.utils:\n",
      "ingesting results to http://localhost:8081 akievits__20230914_RP_exocrine_partial_test__postcorrection_dsmontages_aligned\n",
      "INFO:bigfeta.utils:render output is going to /dev/null\n",
      "INFO:__main__: total time: 1.3\n"
     ]
    }
   ],
   "source": [
    "# Path to `BigFeta`\n",
    "cwd = Path.cwd().as_posix()\n",
    "BigFeta_dir = Path('/home/catmaid/BigFeta/')\n",
    "\n",
    "# Select json for rough alignment\n",
    "align_json = dir_project / '_jsons_align_rough' / ds_stack_2_align['in'] / 'align_rough.json'\n",
    "\n",
    "# Call `BigFeta.BigFeta` process -- have to switch to BigFeta directory\n",
    "os.chdir(BigFeta_dir.as_posix())\n",
    "subprocess.run(['python', '-m', 'bigfeta.bigfeta', '--input_json', align_json.as_posix()])\n",
    "os.chdir(cwd)"
   ]
  },
  {
   "cell_type": "markdown",
   "metadata": {},
   "source": [
    "### Inspect alignment"
   ]
  },
  {
   "cell_type": "code",
   "execution_count": 23,
   "metadata": {},
   "outputs": [
    {
     "data": {
      "application/vnd.jupyter.widget-view+json": {
       "model_id": "6cc50584edd14a79a3cab4667c132625",
       "version_major": 2,
       "version_minor": 0
      },
      "text/plain": [
       "  0%|          | 0/1 [00:00<?, ?it/s]"
      ]
     },
     "metadata": {},
     "output_type": "display_data"
    },
    {
     "data": {
      "application/vnd.jupyter.widget-view+json": {
       "model_id": "78478e1603604b26a60997c9fa8410af",
       "version_major": 2,
       "version_minor": 0
      },
      "text/plain": [
       "interactive(children=(IntSlider(value=0, description='z', max=2), IntSlider(value=26, description='vmin', max=…"
      ]
     },
     "metadata": {},
     "output_type": "display_data"
    }
   ],
   "source": [
    "# plot stack\n",
    "plotting.plot_stacks(\n",
    "    stacks=[ds_stack_2_align['out']],\n",
    "    **params_render\n",
    ")"
   ]
  },
  {
   "cell_type": "markdown",
   "metadata": {},
   "source": [
    "## 4) Rough alignment (III)\n",
    "---\n",
    "### Propagate transform to stitched together stack\n",
    "The output stack is only used to generate tile pairs from. Doesn't really matter what the resulting stack looks like so much as long it's roughly aligned in `z` and not too crazy."
   ]
  },
  {
   "cell_type": "code",
   "execution_count": 36,
   "metadata": {},
   "outputs": [],
   "source": [
    "stack_2_align_rough = {\n",
    "    'in': 'postcorrection_stitched',\n",
    "    'out': 'postcorrection_aligned_rough'\n",
    "}"
   ]
  },
  {
   "cell_type": "code",
   "execution_count": 75,
   "metadata": {},
   "outputs": [
    {
     "data": {
      "application/vnd.jupyter.widget-view+json": {
       "model_id": "7f5661a4689d4298b1cb5bf6df837444",
       "version_major": 2,
       "version_minor": 0
      },
      "text/plain": [
       "  0%|          | 0/3 [00:00<?, ?it/s]"
      ]
     },
     "metadata": {},
     "output_type": "display_data"
    },
    {
     "name": "stdout",
     "output_type": "stream",
     "text": [
      "org.janelia.render.client.ImportJsonClient\n",
      "\n",
      "  Running: /home/catmaid/render/deploy/jdk1.8.0_131/bin/java -cp /home/catmaid/render/render-ws-java-client/target/render-ws-java-client-2.0.1-SNAPSHOT-standalone.jar -Xms1G -Xmx1G -Djava.awt.headless=true -XX:+UseSerialGC org.janelia.render.client.ImportJsonClient --baseDataUrl http://localhost:8081/render-ws/v1 --owner akievits --project 20230914_RP_exocrine_partial_test --stack postcorrection_aligned_rough /long_term_storage/akievits/FAST-EM/20230914_RP_exocrine_partial_test/_jsons_align_rough/postcorrection_aligned_rough/tilespecs_rough_align.json\n",
      "\n",
      "\n",
      "11:47:51.758 [main] INFO  [org.janelia.render.client.ClientRunner] run: entry\n",
      "11:47:51.917 [main] INFO  [org.janelia.render.client.ImportJsonClient] runClient: entry, parameters={\n",
      "  \"renderWeb\" : {\n",
      "    \"baseDataUrl\" : \"http://localhost:8081/render-ws/v1\",\n",
      "    \"owner\" : \"akievits\",\n",
      "    \"project\" : \"20230914_RP_exocrine_partial_test\"\n",
      "  },\n",
      "  \"tileSpecValidator\" : { },\n",
      "  \"stack\" : \"postcorrection_aligned_rough\",\n",
      "  \"tileFiles\" : [\n",
      "    \"/long_term_storage/akievits/FAST-EM/20230914_RP_exocrine_partial_test/_jsons_align_rough/postcorrection_aligned_rough/tilespecs_rough_align.json\"\n",
      "  ]\n",
      "}\n",
      "11:47:52.201 [main] INFO  [org.janelia.render.client.RenderDataClient] getStackMetaData: submitting GET http://localhost:8081/render-ws/v1/owner/akievits/project/20230914_RP_exocrine_partial_test/stack/postcorrection_aligned_rough\n",
      "11:47:52.291 [main] INFO  [org.janelia.render.client.RenderDataClient] ensureStackIsInLoadingState: postcorrection_aligned_rough stack is already in the LOADING state\n",
      "11:47:52.292 [main] INFO  [org.janelia.render.client.ImportJsonClient] loadTransformData: exit, loaded 0 transform specs\n",
      "11:47:52.292 [main] INFO  [org.janelia.render.client.ImportJsonClient] importStackData: entry, tileFile=/long_term_storage/akievits/FAST-EM/20230914_RP_exocrine_partial_test/_jsons_align_rough/postcorrection_aligned_rough/tilespecs_rough_align.json\n",
      "11:47:52.292 [main] INFO  [org.janelia.render.client.ImportJsonClient] loadTileData: entry, path=/long_term_storage/akievits/FAST-EM/20230914_RP_exocrine_partial_test/_jsons_align_rough/postcorrection_aligned_rough/tilespecs_rough_align.json\n",
      "11:47:52.341 [main] INFO  [org.janelia.render.client.ImportJsonClient] loadTileData: exit, loaded 75 tile specs\n",
      "11:47:52.365 [main] INFO  [org.janelia.render.client.ImportJsonClient] importStackData: derived bounding box for 75 tiles, elapsedSeconds=0\n",
      "11:47:52.400 [main] INFO  [org.janelia.render.client.RenderDataClient] saveResolvedTiles: submitting PUT http://localhost:8081/render-ws/v1/owner/akievits/project/20230914_RP_exocrine_partial_test/stack/postcorrection_aligned_rough/resolvedTiles for 0 transforms and 75 tiles\n",
      "11:47:52.444 [main] INFO  [org.janelia.render.client.ImportJsonClient] importStackData: exit, saved tiles and transforms from /long_term_storage/akievits/FAST-EM/20230914_RP_exocrine_partial_test/_jsons_align_rough/postcorrection_aligned_rough/tilespecs_rough_align.json\n",
      "11:47:52.445 [main] INFO  [org.janelia.render.client.ClientRunner] run: exit, processing completed in 0 hours, 0 minutes, 0 seconds\n"
     ]
    }
   ],
   "source": [
    "ts_rough_aligned = []\n",
    "z_values = renderapi.stack.get_z_values_for_stack(stack_2_align_rough['in'],\n",
    "                                                  **params_render)\n",
    "for z in tqdm(z_values, total=len(z_values)):\n",
    "    # Get the transformation from the aligned downsampled stack\n",
    "    tform_ds = renderapi.tilespec.get_tile_specs_from_z(ds_stack_2_align['out'],\n",
    "                                                        z=z,\n",
    "                                                        **params_render)[0].tforms[0]\n",
    "    # Get TileSpecs from high res stack to transform\n",
    "    tilespec = renderapi.tilespec.get_tile_specs_from_z(stack_2_align_rough['in'],\n",
    "                                                        z=z,\n",
    "                                                        **params_render)\n",
    "    # Add transform\n",
    "    for ts in tilespec:\n",
    "        new_tforms = renderapi.transform.AffineModel(M00=tform_ds.M00, \n",
    "                                                     M01=tform_ds.M01, \n",
    "                                                     M10=tform_ds.M10, \n",
    "                                                     M11=tform_ds.M11, \n",
    "                                                     B0=tform_ds.B0 * (1/SCALE) + ts.tforms[0].B0,\n",
    "                                                     B1=tform_ds.B1 * (1/SCALE) + ts.tforms[0].B1)\n",
    "        ts.tforms = [new_tforms]\n",
    "        ts_rough_aligned.append(ts.to_dict())\n",
    "        \n",
    "# Dump new TileSpecs to json\n",
    "rough_align_json = dir_project / '_jsons_align_rough' / stack_2_align_rough['out'] / 'tilespecs_rough_align.json'\n",
    "rough_align_json.parent.mkdir(parents=True, exist_ok=True)\n",
    "json.dump(ts_rough_aligned, \n",
    "          open(rough_align_json,'w'), \n",
    "          indent=4)\n",
    "# Create new stack\n",
    "renderapi.stack.create_stack(stack_2_align_rough['out'],\n",
    "                             **params_render)\n",
    "# Import TileSpecs from json\n",
    "renderapi.client.import_jsonfiles(stack_2_align_rough['out'],\n",
    "                                  [rough_align_json],\n",
    "                                  **params_render) \n",
    "    "
   ]
  },
  {
   "cell_type": "markdown",
   "metadata": {},
   "source": [
    "### Inspect"
   ]
  },
  {
   "cell_type": "code",
   "execution_count": 76,
   "metadata": {},
   "outputs": [
    {
     "data": {
      "application/vnd.jupyter.widget-view+json": {
       "model_id": "c9d42fb43c47469ba2aea13fde82c573",
       "version_major": 2,
       "version_minor": 0
      },
      "text/plain": [
       "  0%|          | 0/1 [00:00<?, ?it/s]"
      ]
     },
     "metadata": {},
     "output_type": "display_data"
    },
    {
     "data": {
      "application/vnd.jupyter.widget-view+json": {
       "model_id": "3fa253de7031461b9e72ebe5b6700c24",
       "version_major": 2,
       "version_minor": 0
      },
      "text/plain": [
       "interactive(children=(IntSlider(value=0, description='z', max=2), IntSlider(value=25226, description='vmin', m…"
      ]
     },
     "metadata": {},
     "output_type": "display_data"
    }
   ],
   "source": [
    "# plot stack\n",
    "plotting.plot_stacks(\n",
    "    stacks=[stack_2_align_rough['out']],\n",
    "    **params_render\n",
    ")"
   ]
  },
  {
   "cell_type": "code",
   "execution_count": null,
   "metadata": {},
   "outputs": [],
   "source": []
  }
 ],
 "metadata": {
  "kernelspec": {
   "display_name": ".venv",
   "language": "python",
   "name": "python3"
  },
  "language_info": {
   "codemirror_mode": {
    "name": "ipython",
    "version": 3
   },
   "file_extension": ".py",
   "mimetype": "text/x-python",
   "name": "python",
   "nbconvert_exporter": "python",
   "pygments_lexer": "ipython3",
   "version": "3.9.1"
  }
 },
 "nbformat": 4,
 "nbformat_minor": 2
}
