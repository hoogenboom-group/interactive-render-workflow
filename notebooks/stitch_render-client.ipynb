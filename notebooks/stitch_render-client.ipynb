{
 "cells": [
  {
   "cell_type": "markdown",
   "id": "7f98536f-5fed-4071-bb4c-1de1884879ff",
   "metadata": {},
   "source": [
    "# Stitch\n",
    "---\n",
    "\n",
    "#### Overview\n",
    "Interactive stitching of one or several sections."
   ]
  },
  {
   "cell_type": "code",
   "execution_count": 1,
   "id": "a9f1c1f9-f144-493d-b6bc-69b97102f1a6",
   "metadata": {
    "tags": []
   },
   "outputs": [],
   "source": [
    "# indirectly enable autocomplete\n",
    "%config Completer.use_jedi = False\n",
    "\n",
    "# autoreload modules\n",
    "%load_ext autoreload\n",
    "%autoreload 2"
   ]
  },
  {
   "cell_type": "code",
   "execution_count": 2,
   "id": "9775c083-9d1d-4542-8b1a-11552e0faa77",
   "metadata": {
    "tags": []
   },
   "outputs": [],
   "source": [
    "import pathlib\n",
    "import requests\n",
    "\n",
    "from tqdm.notebook import tqdm\n",
    "import renderapi\n",
    "\n",
    "from scripted_render_pipeline import basic_auth\n",
    "from interactive_render import plotting"
   ]
  },
  {
   "cell_type": "markdown",
   "id": "6e0ba2e0-a94e-48f3-a42b-56f8fbfbd101",
   "metadata": {},
   "source": [
    "#### `render-ws` environment variables"
   ]
  },
  {
   "cell_type": "code",
   "execution_count": 13,
   "id": "4c79b07f-5658-4a24-8743-9a71b0b06e01",
   "metadata": {
    "tags": []
   },
   "outputs": [],
   "source": [
    "# create an authorized session\n",
    "auth = basic_auth.load_auth()\n",
    "sesh = requests.Session()\n",
    "sesh.auth = auth\n",
    "\n",
    "project = \"20240222_RL019_hoechst_exocrine\"\n",
    "# render-ws environment variables\n",
    "params_render = {\n",
    "    \"host\": \"http://localhost\",\n",
    "    \"port\": 8081,\n",
    "    \"client_scripts\": \"/home/catmaid/render/render-ws-java-client/src/main/scripts\",\n",
    "    \"client_script\": \"/home/catmaid/render/render-ws-java-client/src/main/scripts/run_ws_client.sh\",\n",
    "    \"owner\": \"skaracoban\",\n",
    "    \"project\": project,\n",
    "    \"session\": sesh\n",
    "}\n",
    "\n",
    "params_align = {\n",
    "    \"host\": \"http://localhost\",\n",
    "    \"port\": 8081,\n",
    "    \"client_scripts\": \"/home/catmaid/render/render-ws-java-client/src/main/scripts\",\n",
    "    \"client_script\": \"/home/catmaid/render/render-ws-java-client/src/main/scripts/run_ws_client.sh\",\n",
    "    \"owner\": \"skaracoban\",\n",
    "    \"project\": project,\n",
    "    \"memGB\": '2G', # Allocate enough memory\n",
    "    \"session\": sesh\n",
    "}\n",
    "\n",
    "# set project directory\n",
    "dir_project = pathlib.Path(\"/long_term_storage/skaracoban/data/test_data/20240222_RL019_hoechst_exocrine\")\n",
    "\n",
    "# set max_workers (for multithreading)\n",
    "max_workers = 20"
   ]
  },
  {
   "cell_type": "markdown",
   "id": "f37c3bca-4660-4835-99df-5a58b5005c47",
   "metadata": {},
   "source": [
    "## Stitching (part I)\n",
    "---\n",
    "Get tile pairs. Get point matches.\n",
    "\n",
    "### Get tile pairs\n",
    "\n",
    "Use render-ws `tilePairClient` to get the set of tile pairs."
   ]
  },
  {
   "cell_type": "code",
   "execution_count": 4,
   "id": "b45f7d85-e39d-4eab-a5a8-eb1280d2c812",
   "metadata": {
    "tags": []
   },
   "outputs": [
    {
     "name": "stdout",
     "output_type": "stream",
     "text": [
      "Number of tile pairs... 264 \n",
      "---------------------------\n"
     ]
    },
    {
     "data": {
      "text/plain": [
       "[['aaa_aaa_EM_himag-S001-00000x00011', 'aax_aax_EM_himag-S001-00000x00010'],\n",
       " ['aaa_aaa_EM_himag-S001-00000x00011', 'aab_aab_EM_himag-S001-00001x00011'],\n",
       " ['aab_aab_EM_himag-S001-00001x00011', 'aaw_aaw_EM_himag-S001-00001x00010'],\n",
       " ['aab_aab_EM_himag-S001-00001x00011', 'aac_aac_EM_himag-S001-00002x00011'],\n",
       " ['aac_aac_EM_himag-S001-00002x00011', 'aav_aav_EM_himag-S001-00002x00010']]"
      ]
     },
     "execution_count": 4,
     "metadata": {},
     "output_type": "execute_result"
    }
   ],
   "source": [
    "# choose stack from which to get tile pairs\n",
    "stack = \"EM_himag\"\n",
    "z_values = [int(z) for z in renderapi.stack.get_z_values_for_stack(\n",
    "    stack,\n",
    "    **params_render\n",
    ")]\n",
    "\n",
    "# Get tile pairs from the rough aligned stack\n",
    "tilepairs = renderapi.client.tilePairClient(\n",
    "    stack=stack,\n",
    "    minz=min(z_values),\n",
    "    maxz=max(z_values),\n",
    "    zNeighborDistance=0,  # half-height of search cylinder\n",
    "    excludeSameLayerNeighbors=False,\n",
    "    subprocess_mode=\"check_output\",  # suppresses output\n",
    "    **params_render\n",
    ")[\"neighborPairs\"]\n",
    "\n",
    "# Reformat for PointMatchClient\n",
    "tile_pairs_reformat = [[tp[\"p\"][\"id\"], tp[\"q\"][\"id\"]] for tp in tilepairs]\n",
    "\n",
    "# Get relative positions for first tile in every tilepair\n",
    "relativePositions = [tp['p']['relativePosition'] for tp in tilepairs]\n",
    "\n",
    "# Show tile pairs\n",
    "out = f\"Number of tile pairs... {len(tile_pairs_reformat)}\"\n",
    "print(out, \"\\n\" + \"-\"*len(out))\n",
    "tile_pairs_reformat[:5]"
   ]
  },
  {
   "cell_type": "markdown",
   "id": "1d019a14-0f44-4e2c-b3f4-ff132eada894",
   "metadata": {
    "tags": []
   },
   "source": [
    "### Get point matches\n",
    "\n",
    "Use `render-ws` `PointMatchClient` script to find matching features between the neighboring megafields."
   ]
  },
  {
   "cell_type": "code",
   "execution_count": 5,
   "id": "dbffce13-8eed-4073-a47b-5db91418b835",
   "metadata": {
    "tags": []
   },
   "outputs": [],
   "source": [
    "from renderapi.client import (\n",
    "    SiftPointMatchOptions,\n",
    "    MatchDerivationParameters,\n",
    "    FeatureExtractionParameters\n",
    ")"
   ]
  },
  {
   "cell_type": "code",
   "execution_count": 6,
   "id": "c10bf3f9-049a-4670-a91c-4fd7a4fb537c",
   "metadata": {
    "tags": []
   },
   "outputs": [
    {
     "data": {
      "text/plain": [
       "'20240222_RL019_hoechst_exocrine_EM_himag_stitch_matches'"
      ]
     },
     "execution_count": 6,
     "metadata": {},
     "output_type": "execute_result"
    }
   ],
   "source": [
    "# Name for pointmatch collection\n",
    "match_collection = f\"{params_render['project']}_{stack}_stitch_matches\"\n",
    "match_collection"
   ]
  },
  {
   "cell_type": "code",
   "execution_count": 7,
   "metadata": {},
   "outputs": [],
   "source": [
    "# renderapi.pointmatch.delete_collection(match_collection,\n",
    "#                                        **params_render)"
   ]
  },
  {
   "cell_type": "markdown",
   "id": "e2056bd8-0ec8-4440-83a6-efa1aaea8c7f",
   "metadata": {},
   "source": [
    "#### Set SIFT + RANSAC parameters"
   ]
  },
  {
   "cell_type": "code",
   "execution_count": 8,
   "id": "53325649-5850-4986-9b46-4c46c0329b8f",
   "metadata": {
    "tags": []
   },
   "outputs": [
    {
     "data": {
      "text/plain": [
       "{'SIFTfdSize': 8,\n",
       " 'SIFTmaxScale': 0.2,\n",
       " 'SIFTminScale': 0.05,\n",
       " 'SIFTsteps': 5,\n",
       " 'matchIterations': None,\n",
       " 'matchMaxEpsilon': 25,\n",
       " 'matchMaxNumInliers': None,\n",
       " 'matchMaxTrust': None,\n",
       " 'matchMinInlierRatio': 0.05,\n",
       " 'matchMinNumInliers': 7,\n",
       " 'matchModelType': 'AFFINE',\n",
       " 'matchRod': 0.92,\n",
       " 'renderScale': None,\n",
       " 'fillWithNoise': True,\n",
       " 'numberOfThreads': 1,\n",
       " 'clipWidth': 640,\n",
       " 'clipHeight': 640}"
      ]
     },
     "execution_count": 8,
     "metadata": {},
     "output_type": "execute_result"
    }
   ],
   "source": [
    "# `RANSAC` parameters\n",
    "params_RANSAC = MatchDerivationParameters(\n",
    "    matchIterations=None,\n",
    "    matchMaxEpsilon=25,        # maximal alignment error\n",
    "    matchMaxNumInliers=None,\n",
    "    matchMaxTrust=None,\n",
    "    matchMinInlierRatio=0.05,  # minimal inlier ratio\n",
    "    matchMinNumInliers=7,      # minimal number of inliers\n",
    "    matchModelType='AFFINE',   # expected transformation\n",
    "    matchRod=0.92              # closest/next closest ratio\n",
    ")\n",
    "\n",
    "# `SIFT` parameters\n",
    "params_SIFT = FeatureExtractionParameters(\n",
    "    SIFTfdSize=8,              # feature descriptor size\n",
    "    SIFTmaxScale=0.20,         # (width/height *) maximum image size\n",
    "    SIFTminScale=0.05,         # (width/height *) minimum image size\n",
    "    SIFTsteps=5                # steps per scale octave\n",
    ")\n",
    "\n",
    "# Combined `SIFT` & `RANSAC` parameters\n",
    "params_SIFT = SiftPointMatchOptions(\n",
    "    fillWithNoise=True,\n",
    "    **{**params_RANSAC.__dict__,\n",
    "       **params_SIFT.__dict__}\n",
    ")\n",
    "\n",
    "# Extra parameters\n",
    "params_SIFT.numberOfThreads = 1  # multithreading\n",
    "params_SIFT.clipWidth = 640      # N pixels included in rendered clips of LEFT/RIGHT oriented montage tiles\n",
    "params_SIFT.clipHeight = 640     # N pixels included in rendered clips of TOP/BOTTOM oriented montage tiles\n",
    "params_SIFT.__dict__"
   ]
  },
  {
   "cell_type": "markdown",
   "id": "966190f6-9c3b-4738-a39f-f781d2d740e1",
   "metadata": {},
   "source": [
    "#### Execute SIFT + RANSAC on `N` cores\n",
    "Runs `N` parallel threads with one thread per tile pair"
   ]
  },
  {
   "cell_type": "code",
   "execution_count": 9,
   "metadata": {},
   "outputs": [],
   "source": [
    "import concurrent.futures"
   ]
  },
  {
   "cell_type": "code",
   "execution_count": 11,
   "metadata": {},
   "outputs": [
    {
     "data": {
      "application/vnd.jupyter.widget-view+json": {
       "model_id": "d69c056e47c44b259744144f5da80e49",
       "version_major": 2,
       "version_minor": 0
      },
      "text/plain": [
       "submitting tile pairs:   0%|          | 0/264 [00:00<?, ?tilepairs/s]"
      ]
     },
     "metadata": {},
     "output_type": "display_data"
    },
    {
     "data": {
      "application/vnd.jupyter.widget-view+json": {
       "model_id": "591037aafc7d4b68b2097c5bb091c9c7",
       "version_major": 2,
       "version_minor": 0
      },
      "text/plain": [
       "extracting point matches:   0%|          | 0/264 [00:00<?, ?tilepairs/s]"
      ]
     },
     "metadata": {},
     "output_type": "display_data"
    }
   ],
   "source": [
    "futures = set()\n",
    "all_sections = {}\n",
    "executor = concurrent.futures.ThreadPoolExecutor(\n",
    "max_workers = max_workers\n",
    ")\n",
    "\n",
    "try:\n",
    "    for tile_pair, pos in tqdm(zip(tile_pairs_reformat, relativePositions),\n",
    "                               desc=\"submitting tile pairs\",\n",
    "                               total=len(tile_pairs_reformat),\n",
    "                               unit=\"tilepairs\",\n",
    "                               smoothing=0.3):\n",
    "        params_SIFT.firstCanvasPosition = pos\n",
    "        future = executor.submit(\n",
    "            renderapi.client.pointMatchClient,\n",
    "                stack=stack,\n",
    "                collection=match_collection,\n",
    "                tile_pairs=[tile_pair],\n",
    "                sift_options=params_SIFT,\n",
    "                excludeAllTransforms=True,\n",
    "                subprocess_mode='check_output',  # suppresses output\n",
    "                **params_align)\n",
    "        futures.add(future)\n",
    "\n",
    "    for future in tqdm(\n",
    "        concurrent.futures.as_completed(futures),\n",
    "        desc=\"extracting point matches\",\n",
    "        total=len(futures),\n",
    "        unit=\"tilepairs\",\n",
    "        smoothing=min(100 / len(futures), 0.3),\n",
    "    ):\n",
    "        futures.remove(future)\n",
    "        \n",
    "finally:\n",
    "    for future in futures:\n",
    "        future.cancel()\n",
    "    executor.shutdown()"
   ]
  },
  {
   "cell_type": "markdown",
   "id": "5185a7af-729a-4c22-b939-43d9b09bb492",
   "metadata": {},
   "source": [
    "### Inspect"
   ]
  },
  {
   "cell_type": "code",
   "execution_count": 10,
   "id": "5cd8c09e-f2ff-4c80-87e3-f7c430948b31",
   "metadata": {
    "tags": []
   },
   "outputs": [
    {
     "name": "stdout",
     "output_type": "stream",
     "text": [
      "grid shape: (10, 10)\n"
     ]
    },
    {
     "data": {
      "application/vnd.jupyter.widget-view+json": {
       "model_id": "9b541d7d3d4a4c8fb0448436aee3eccc",
       "version_major": 2,
       "version_minor": 0
      },
      "text/plain": [
       "interactive(children=(IntSlider(value=0, description='z', max=0), Output()), _dom_classes=('widget-interact',)…"
      ]
     },
     "metadata": {},
     "output_type": "display_data"
    }
   ],
   "source": [
    "plotting.plot_stack_with_stitching_matches(\n",
    "    stack,\n",
    "    match_collection,\n",
    "    params_render,\n",
    "    width=256\n",
    ")"
   ]
  },
  {
   "cell_type": "markdown",
   "id": "9958961a-022f-4c89-b1a0-638899578979",
   "metadata": {},
   "source": [
    "## Stitching (part II)\n",
    "---\n",
    "\n",
    "### Create alignment files"
   ]
  },
  {
   "cell_type": "code",
   "execution_count": 11,
   "id": "705e9814-1905-4edb-b21d-d456f2abe054",
   "metadata": {
    "tags": []
   },
   "outputs": [],
   "source": [
    "from pathlib import Path\n",
    "import os\n",
    "import subprocess\n",
    "import json\n",
    "from pprint import pprint"
   ]
  },
  {
   "cell_type": "code",
   "execution_count": 14,
   "id": "36d903ec-2bd7-4b61-839e-c0d896dac411",
   "metadata": {
    "tags": []
   },
   "outputs": [
    {
     "name": "stdout",
     "output_type": "stream",
     "text": [
      "/long_term_storage/skaracoban/data/test_data/20240222_RL019_hoechst_exocrine/_jsons_montage/EM_himag/montage.json\n",
      "-----------------------------------------------------------------------------------------------------------------\n",
      "{'close_stack': 'True',\n",
      " 'first_section': 0.0,\n",
      " 'hdf5_options': {'chunks_per_file': -1, 'output_dir': ''},\n",
      " 'input_stack': {'client_scripts': '/home/catmaid/render/render-ws-java-client/src/main/scripts',\n",
      "                 'collection_type': 'stack',\n",
      "                 'db_interface': 'render',\n",
      "                 'host': 'http://localhost',\n",
      "                 'name': 'EM_himag',\n",
      "                 'owner': 'skaracoban',\n",
      "                 'port': 8081,\n",
      "                 'project': '20240222_RL019_hoechst_exocrine'},\n",
      " 'last_section': 0.0,\n",
      " 'log_level': 'INFO',\n",
      " 'matrix_assembly': {'cross_pt_weight': 1.0,\n",
      "                     'depth': 2,\n",
      "                     'inverse_dz': 'True',\n",
      "                     'montage_pt_weight': 1.0,\n",
      "                     'npts_max': 500,\n",
      "                     'npts_min': 5},\n",
      " 'output_mode': 'stack',\n",
      " 'output_stack': {'client_scripts': '/home/catmaid/render/render-ws-java-client/src/main/scripts',\n",
      "                  'collection_type': 'stack',\n",
      "                  'db_interface': 'render',\n",
      "                  'host': 'http://localhost',\n",
      "                  'name': 'EM_himag_stitched',\n",
      "                  'owner': 'skaracoban',\n",
      "                  'port': 8081,\n",
      "                  'project': '20240222_RL019_hoechst_exocrine'},\n",
      " 'pointmatch': {'client_scripts': '/home/catmaid/render/render-ws-java-client/src/main/scripts',\n",
      "                'collection_type': 'pointmatch',\n",
      "                'db_interface': 'render',\n",
      "                'host': 'http://localhost',\n",
      "                'name': '20240222_RL019_hoechst_exocrine_EM_himag_stitch_matches',\n",
      "                'owner': 'skaracoban',\n",
      "                'port': 8081},\n",
      " 'regularization': {'default_lambda': 0.005,\n",
      "                    'thinplate_factor': 1e-05,\n",
      "                    'translation_factor': 0.005},\n",
      " 'solve_type': 'montage',\n",
      " 'start_from_file': '',\n",
      " 'transformation': 'TranslationModel'}\n"
     ]
    }
   ],
   "source": [
    "z_values = renderapi.stack.get_z_values_for_stack(stack,\n",
    "                                                  **params_render)\n",
    "# Load align.json template\n",
    "template_stitch_json = Path('../templates/montage.json')\n",
    "with template_stitch_json.open('r') as json_data:\n",
    "    params_stitch = json.load(json_data)\n",
    "\n",
    "# Edit BigFeta solver schema\n",
    "params_stitch['first_section'] = min(z_values)\n",
    "params_stitch['last_section'] = max(z_values)\n",
    "params_stitch['transformation'] = 'TranslationModel'\n",
    "\n",
    "# Edit input stack data\n",
    "params_stitch['input_stack']['host'] = params_render['host']\n",
    "params_stitch['input_stack']['owner'] = params_render['owner']\n",
    "params_stitch['input_stack']['project'] = params_render['project']\n",
    "params_stitch['input_stack']['name'] = stack\n",
    "\n",
    "# Edit point match stack data\n",
    "params_stitch['pointmatch']['host'] = params_render['host']\n",
    "params_stitch['pointmatch']['owner'] = params_render['owner']\n",
    "params_stitch['pointmatch']['name'] = match_collection\n",
    "\n",
    "# Edit output stack data\n",
    "params_stitch['output_stack']['host'] = params_render['host']\n",
    "params_stitch['output_stack']['owner'] = params_render['owner']\n",
    "params_stitch['output_stack']['project'] = params_render['project']\n",
    "params_stitch['output_stack']['name'] = f\"{stack}_stitched\"\n",
    "\n",
    "# Edit regularization parameters\n",
    "params_stitch['regularization']['default_lambda'] = 0.005      # default: 0.005\n",
    "params_stitch['regularization']['translation_factor'] = 0.005  # default: 0.005\n",
    "\n",
    "# Export montage settings to\n",
    "stitch_json = dir_project / '_jsons_montage' / stack / 'montage.json'\n",
    "stitch_json.parent.mkdir(parents=True, exist_ok=True)\n",
    "with stitch_json.open('w') as json_data:\n",
    "    json.dump(params_stitch, json_data, indent=2)\n",
    "\n",
    "# Check alignment parameters\n",
    "print(stitch_json)\n",
    "print('-'*len(stitch_json.as_posix()))\n",
    "pprint(params_stitch)"
   ]
  },
  {
   "cell_type": "markdown",
   "id": "868465fd-a7c9-4b27-a95c-c3942660ed98",
   "metadata": {},
   "source": [
    "### Compute optimal transformations with `BigFeta`"
   ]
  },
  {
   "cell_type": "code",
   "execution_count": 16,
   "id": "3dc48cc5-1e99-46ee-8646-5f2e0e7f0dc8",
   "metadata": {
    "tags": []
   },
   "outputs": [
    {
     "name": "stderr",
     "output_type": "stream",
     "text": [
      "/home/skaracoban/miniconda3/envs/render/lib/python3.10/site-packages/argschema/utils.py:346: FutureWarning: '--transform_apply' is using old-style command-line syntax with each element as a separate argument. This will not be supported in argschema after 2.0. See http://argschema.readthedocs.io/en/master/user/intro.html#command-line-specification for details.\n",
      "  warnings.warn(warn_msg, FutureWarning)\n",
      "INFO:bigfeta.utils:\n",
      " loaded 144 tile specs from 1 zvalues in 0.1 sec using interface: render\n",
      "INFO:__main__: A created in 0.5 seconds\n",
      "INFO:__main__:\n",
      " solved in 0.1 sec\n",
      " precision [norm(Kx-Lm)/norm(Lm)] = 3.3e-16, 6.8e-16\n",
      " error     [norm(Ax-b)] = 979.498, 1190.968\n",
      " [mean(Ax) +/- std(Ax)] : 0.2 +/- 5.5, 2.3 +/- 6.2\n",
      " [mean(error mag) +/- std(error mag)] : 7.5 +/- 4.1\n",
      "INFO:__main__:\n",
      " scales: 1.00 +/- 0.00, 1.00 +/- 0.00\n",
      "INFO:bigfeta.utils:\n",
      "ingesting results to http://localhost:8081 skaracoban__20240222_RL019_hoechst_exocrine__EM_himag_stitched\n",
      "INFO:bigfeta.utils:render output is going to /dev/null\n",
      "INFO:__main__: total time: 2.6\n"
     ]
    }
   ],
   "source": [
    "# Path to `BigFeta`\n",
    "cwd = Path.cwd().as_posix()\n",
    "dir_BigFeta = Path('/home/skaracoban/render_code/BigFeta/')\n",
    "\n",
    "# Select json for stitching\n",
    "stitch_json = dir_project / '_jsons_montage' / stack / 'montage.json'\n",
    "\n",
    "# Call `BigFeta.BigFeta` process -- have to switch to BigFeta directory\n",
    "os.chdir(dir_BigFeta.as_posix())\n",
    "subprocess.run(['python', '-m', 'bigfeta.bigfeta', '--input_json', stitch_json.as_posix()])\n",
    "os.chdir(cwd)"
   ]
  },
  {
   "cell_type": "markdown",
   "id": "abb5fdfb-0e0f-4a04-a70e-d3275a8f6580",
   "metadata": {},
   "source": [
    "### Inspect"
   ]
  },
  {
   "cell_type": "code",
   "execution_count": 18,
   "id": "ef74803c-dff3-4315-9e10-484de54ff937",
   "metadata": {
    "tags": []
   },
   "outputs": [
    {
     "data": {
      "application/vnd.jupyter.widget-view+json": {
       "model_id": "f098969194664ad2bffabe4bcde2e15e",
       "version_major": 2,
       "version_minor": 0
      },
      "text/plain": [
       "  0%|          | 0/2 [00:00<?, ?it/s]"
      ]
     },
     "metadata": {},
     "output_type": "display_data"
    },
    {
     "data": {
      "application/vnd.jupyter.widget-view+json": {
       "model_id": "e58490fa8592498eb2f340d1cf37b3b4",
       "version_major": 2,
       "version_minor": 0
      },
      "text/plain": [
       "interactive(children=(IntSlider(value=0, description='z', max=0), IntSlider(value=33062, description='vmin', m…"
      ]
     },
     "metadata": {},
     "output_type": "display_data"
    }
   ],
   "source": [
    "# Plot stacks\n",
    "stacks = [\"EM_himag\", \"EM_himag_stitched\"]\n",
    "plotting.plot_stacks(\n",
    "    stacks,\n",
    "    **params_render\n",
    ")"
   ]
  }
 ],
 "metadata": {
  "kernelspec": {
   "display_name": "Python 3 (ipykernel)",
   "language": "python",
   "name": "python3"
  },
  "language_info": {
   "codemirror_mode": {
    "name": "ipython",
    "version": 3
   },
   "file_extension": ".py",
   "mimetype": "text/x-python",
   "name": "python",
   "nbconvert_exporter": "python",
   "pygments_lexer": "ipython3",
   "version": "3.10.13"
  }
 },
 "nbformat": 4,
 "nbformat_minor": 5
}
