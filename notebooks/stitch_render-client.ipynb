{
 "cells": [
  {
   "cell_type": "markdown",
   "id": "7f98536f-5fed-4071-bb4c-1de1884879ff",
   "metadata": {},
   "source": [
    "# Stitch\n",
    "---\n",
    "\n",
    "#### Overview\n",
    "Interactive stitching of one or several sections. Tile pairs in 2D are identified based on the corresponding row and column indices in the file name. Point matches are then sought in the overlap region between tiles using SIFT and RANSAC routines in render-ws, implemented as `render-ws` `PointMatchClient`. Alignment is performed using a translation model in BigFeta."
   ]
  },
  {
   "cell_type": "code",
   "execution_count": 1,
   "id": "a9f1c1f9-f144-493d-b6bc-69b97102f1a6",
   "metadata": {
    "tags": []
   },
   "outputs": [],
   "source": [
    "# indirectly enable autocomplete\n",
    "%config Completer.use_jedi = False\n",
    "\n",
    "# autoreload modules\n",
    "%load_ext autoreload\n",
    "%autoreload 2"
   ]
  },
  {
   "cell_type": "code",
   "execution_count": 2,
   "id": "9775c083-9d1d-4542-8b1a-11552e0faa77",
   "metadata": {
    "tags": []
   },
   "outputs": [],
   "source": [
    "import pathlib\n",
    "import requests\n",
    "\n",
    "from tqdm.notebook import tqdm\n",
    "import renderapi\n",
    "\n",
    "from scripted_render_pipeline import basic_auth\n",
    "from interactive_render import plotting"
   ]
  },
  {
   "cell_type": "markdown",
   "id": "6e0ba2e0-a94e-48f3-a42b-56f8fbfbd101",
   "metadata": {},
   "source": [
    "#### `render-ws` environment variables\n",
    "* `host` : Web address which hosts render-ws. It's usually the preamble of the link to render-ws html page, i.e. `{host_name}/render-ws/view/index.html`\n",
    "* `owner` : render-ws ID of dataset\n",
    "* `project`: render-ws project name\n",
    "* `auth`: authorization for render-ws. See https://github.com/hoogenboom-group/scripted-render-pipeline/tree/master for instructions"
   ]
  },
  {
   "cell_type": "code",
   "execution_count": 4,
   "id": "4c79b07f-5658-4a24-8743-9a71b0b06e01",
   "metadata": {
    "tags": []
   },
   "outputs": [],
   "source": [
    "# script parameters\n",
    "project = \"20231107_MCF7_UAC_test\" # render-ws project\n",
    "owner = \"akievits\" # render-ws owner ID\n",
    "\n",
    "# create an authorized session\n",
    "auth = basic_auth.load_auth()\n",
    "sesh = requests.Session()\n",
    "sesh.auth = auth\n",
    "\n",
    "# render-ws environment variables\n",
    "params_render = {\n",
    "    \"host\": \"http://localhost\",\n",
    "    \"port\": 8081,\n",
    "    \"client_scripts\": \"/home/catmaid/render/render-ws-java-client/src/main/scripts\",\n",
    "    \"client_script\": \"/home/catmaid/render/render-ws-java-client/src/main/scripts/run_ws_client.sh\",\n",
    "    \"owner\": owner,\n",
    "    \"project\": project,\n",
    "    \"session\": sesh\n",
    "}\n",
    "\n",
    "params_align = {\n",
    "    \"host\": \"http://localhost\",\n",
    "    \"port\": 8081,\n",
    "    \"client_scripts\": \"/home/catmaid/render/render-ws-java-client/src/main/scripts\",\n",
    "    \"client_script\": \"/home/catmaid/render/render-ws-java-client/src/main/scripts/run_ws_client.sh\",\n",
    "    \"owner\": owner,\n",
    "    \"project\": project,\n",
    "    \"memGB\": '2G', # Allocate enough memory\n",
    "    \"session\": sesh\n",
    "}\n",
    "\n",
    "# set project directory\n",
    "dir_project = pathlib.Path(f\"/long_term_storage/akievits/FAST-EM/tests/{project}/\")\n",
    "\n",
    "# set max_workers (for multithreading, 1 worker = 1 CPU core)\n",
    "max_workers = 40"
   ]
  },
  {
   "cell_type": "markdown",
   "id": "f37c3bca-4660-4835-99df-5a58b5005c47",
   "metadata": {},
   "source": [
    "## Stitching (part I)\n",
    "---\n",
    "Get tile pairs. Get point matches.\n",
    "\n",
    "### Get tile pairs\n",
    "\n",
    "Use render-ws `tilePairClient` to get the set of tile pairs."
   ]
  },
  {
   "cell_type": "code",
   "execution_count": 5,
   "id": "b45f7d85-e39d-4eab-a5a8-eb1280d2c812",
   "metadata": {
    "tags": []
   },
   "outputs": [
    {
     "name": "stdout",
     "output_type": "stream",
     "text": [
      "Number of tile pairs... 120 \n",
      "---------------------------\n"
     ]
    },
    {
     "data": {
      "text/plain": [
       "[('t00_z0_y4_x4', 't05_z0_y3_x4'),\n",
       " ('t00_z0_y4_x4', 't01_z0_y4_x3'),\n",
       " ('t01_z0_y4_x3', 't06_z0_y3_x3'),\n",
       " ('t01_z0_y4_x3', 't02_z0_y4_x2'),\n",
       " ('t02_z0_y4_x2', 't07_z0_y3_x2')]"
      ]
     },
     "execution_count": 5,
     "metadata": {},
     "output_type": "execute_result"
    }
   ],
   "source": [
    "# choose stack from which to get tile pairs\n",
    "stack = \"postcorrection\"\n",
    "z_values = [int(z) for z in renderapi.stack.get_z_values_for_stack(\n",
    "    stack,\n",
    "    **params_render\n",
    ")]\n",
    "\n",
    "# Get tile pairs from the rough aligned stack\n",
    "tilepairs = renderapi.client.tilePairClient(\n",
    "    stack=stack,\n",
    "    minz=min(z_values),\n",
    "    maxz=max(z_values),\n",
    "    zNeighborDistance=0,  # half-height of search cylinder\n",
    "    excludeSameLayerNeighbors=False,\n",
    "    subprocess_mode=\"check_output\",  # suppresses output\n",
    "    **params_render\n",
    ")[\"neighborPairs\"]\n",
    "\n",
    "# Reformat for PointMatchClient\n",
    "tile_pairs_reformat = [(tp[\"p\"][\"id\"], tp[\"q\"][\"id\"]) for tp in tilepairs]\n",
    "\n",
    "# Get relative positions for first tile in every tilepair\n",
    "relativePositions = [tp['p']['relativePosition'] for tp in tilepairs]\n",
    "\n",
    "# Show tile pairs\n",
    "out = f\"Number of tile pairs... {len(tile_pairs_reformat)}\"\n",
    "print(out, \"\\n\" + \"-\"*len(out))\n",
    "tile_pairs_reformat[:5]"
   ]
  },
  {
   "cell_type": "markdown",
   "id": "1d019a14-0f44-4e2c-b3f4-ff132eada894",
   "metadata": {
    "tags": []
   },
   "source": [
    "### Get point matches\n",
    "\n",
    "Use `render-ws` `PointMatchClient` script to find matching features between the neighboring megafields."
   ]
  },
  {
   "cell_type": "code",
   "execution_count": 6,
   "id": "dbffce13-8eed-4073-a47b-5db91418b835",
   "metadata": {
    "tags": []
   },
   "outputs": [],
   "source": [
    "from renderapi.client import (\n",
    "    SiftPointMatchOptions,\n",
    "    MatchDerivationParameters,\n",
    "    FeatureExtractionParameters\n",
    ")"
   ]
  },
  {
   "cell_type": "code",
   "execution_count": 9,
   "id": "c10bf3f9-049a-4670-a91c-4fd7a4fb537c",
   "metadata": {
    "tags": []
   },
   "outputs": [
    {
     "data": {
      "text/plain": [
       "'20231107_MCF7_UAC_test_postcorrection_stitch_matches'"
      ]
     },
     "execution_count": 9,
     "metadata": {},
     "output_type": "execute_result"
    }
   ],
   "source": [
    "# Name for pointmatch collection\n",
    "match_collection = f\"{params_render['project']}_{stack}_stitch_matches\"\n",
    "match_collection"
   ]
  },
  {
   "cell_type": "code",
   "execution_count": 10,
   "metadata": {},
   "outputs": [],
   "source": [
    "## This line can be used to delete a match collection, if the point match finding needs to be redone\n",
    "# renderapi.pointmatch.delete_collection(match_collection,\n",
    "#                                        **params_render)"
   ]
  },
  {
   "cell_type": "markdown",
   "id": "e2056bd8-0ec8-4440-83a6-efa1aaea8c7f",
   "metadata": {},
   "source": [
    "#### Set SIFT + RANSAC parameters\n",
    "These parameters can be adjusted but have been found to work well for FAST-EM datasets"
   ]
  },
  {
   "cell_type": "code",
   "execution_count": 11,
   "id": "53325649-5850-4986-9b46-4c46c0329b8f",
   "metadata": {
    "tags": []
   },
   "outputs": [
    {
     "data": {
      "text/plain": [
       "{'SIFTfdSize': 8,\n",
       " 'SIFTmaxScale': 0.2,\n",
       " 'SIFTminScale': 0.05,\n",
       " 'SIFTsteps': 5,\n",
       " 'matchIterations': None,\n",
       " 'matchMaxEpsilon': 25,\n",
       " 'matchMaxNumInliers': None,\n",
       " 'matchMaxTrust': None,\n",
       " 'matchMinInlierRatio': 0.05,\n",
       " 'matchMinNumInliers': 7,\n",
       " 'matchModelType': 'AFFINE',\n",
       " 'matchRod': 0.92,\n",
       " 'renderScale': None,\n",
       " 'fillWithNoise': True,\n",
       " 'numberOfThreads': 1,\n",
       " 'clipWidth': 400,\n",
       " 'clipHeight': 400}"
      ]
     },
     "execution_count": 11,
     "metadata": {},
     "output_type": "execute_result"
    }
   ],
   "source": [
    "# `RANSAC` parameters\n",
    "params_RANSAC = MatchDerivationParameters(\n",
    "    matchIterations=None,\n",
    "    matchMaxEpsilon=25,        # maximal alignment error\n",
    "    matchMaxNumInliers=None,\n",
    "    matchMaxTrust=None,\n",
    "    matchMinInlierRatio=0.05,  # minimal inlier ratio\n",
    "    matchMinNumInliers=7,      # minimal number of inliers\n",
    "    matchModelType='AFFINE',   # expected transformation\n",
    "    matchRod=0.92              # closest/next closest ratio\n",
    ")\n",
    "\n",
    "# `SIFT` parameters\n",
    "params_SIFT = FeatureExtractionParameters(\n",
    "    SIFTfdSize=8,              # feature descriptor size\n",
    "    SIFTmaxScale=0.20,         # (width/height *) maximum image size\n",
    "    SIFTminScale=0.05,         # (width/height *) minimum image size\n",
    "    SIFTsteps=5                # steps per scale octave\n",
    ")\n",
    "\n",
    "# Combined `SIFT` & `RANSAC` parameters\n",
    "params_SIFT = SiftPointMatchOptions(\n",
    "    fillWithNoise=True,\n",
    "    **{**params_RANSAC.__dict__,\n",
    "       **params_SIFT.__dict__}\n",
    ")\n",
    "\n",
    "# Extra parameters\n",
    "params_SIFT.numberOfThreads = 1  # multithreading\n",
    "params_SIFT.clipWidth = 400      # N pixels included in rendered clips of LEFT/RIGHT oriented montage tiles\n",
    "params_SIFT.clipHeight = 400     # N pixels included in rendered clips of TOP/BOTTOM oriented montage tiles\n",
    "params_SIFT.__dict__"
   ]
  },
  {
   "cell_type": "markdown",
   "id": "966190f6-9c3b-4738-a39f-f781d2d740e1",
   "metadata": {},
   "source": [
    "#### Execute SIFT + RANSAC on `N` cores\n",
    "Runs `N` parallel threads with one thread per tile pair"
   ]
  },
  {
   "cell_type": "code",
   "execution_count": 16,
   "metadata": {},
   "outputs": [],
   "source": [
    "import concurrent.futures\n",
    "import copy"
   ]
  },
  {
   "cell_type": "code",
   "execution_count": 17,
   "metadata": {},
   "outputs": [
    {
     "data": {
      "application/vnd.jupyter.widget-view+json": {
       "model_id": "65f1919e730346fca40b67460dedff39",
       "version_major": 2,
       "version_minor": 0
      },
      "text/plain": [
       "submitting tile pairs:   0%|          | 0/120 [00:00<?, ?tilepairs/s]"
      ]
     },
     "metadata": {},
     "output_type": "display_data"
    },
    {
     "data": {
      "application/vnd.jupyter.widget-view+json": {
       "model_id": "299f48b659654bd584b4fc93500fe95c",
       "version_major": 2,
       "version_minor": 0
      },
      "text/plain": [
       "extracting point matches:   0%|          | 0/120 [00:00<?, ?tilepairs/s]"
      ]
     },
     "metadata": {},
     "output_type": "display_data"
    }
   ],
   "source": [
    "# Have to resort to futures because pointMatchClient only supports a single thread when clipping images\n",
    "futures = set()\n",
    "all_sections = {}\n",
    "executor = concurrent.futures.ThreadPoolExecutor(\n",
    "max_workers = max_workers\n",
    ")\n",
    "\n",
    "try:\n",
    "    for tile_pair, pos in tqdm(zip(tile_pairs_reformat, relativePositions),\n",
    "                               desc=\"submitting tile pairs\",\n",
    "                               total=len(tile_pairs_reformat),\n",
    "                               unit=\"tilepairs\",\n",
    "                               smoothing=0.3):\n",
    "        params = copy.copy(params_SIFT)\n",
    "        params.firstCanvasPosition = pos\n",
    "        future = executor.submit(\n",
    "            renderapi.client.pointMatchClient,\n",
    "            stack=stack,\n",
    "            collection=match_collection,\n",
    "            tile_pairs=[tile_pair],\n",
    "            sift_options=params,\n",
    "            excludeAllTransforms=True,\n",
    "            subprocess_mode='check_output',  # suppresses output\n",
    "            **params_align)\n",
    "        futures.add(future)\n",
    "\n",
    "    for future in tqdm(\n",
    "        concurrent.futures.as_completed(futures),\n",
    "        desc=\"extracting point matches\",\n",
    "        total=len(futures),\n",
    "        unit=\"tilepairs\",\n",
    "        smoothing=min(100 / len(futures), 0.3),\n",
    "    ):\n",
    "        futures.remove(future)\n",
    "        \n",
    "finally:\n",
    "    for future in futures:\n",
    "        future.cancel()\n",
    "    executor.shutdown()"
   ]
  },
  {
   "cell_type": "markdown",
   "id": "5185a7af-729a-4c22-b939-43d9b09bb492",
   "metadata": {},
   "source": [
    "### Inspect"
   ]
  },
  {
   "cell_type": "code",
   "execution_count": 18,
   "id": "5cd8c09e-f2ff-4c80-87e3-f7c430948b31",
   "metadata": {
    "tags": []
   },
   "outputs": [
    {
     "data": {
      "application/vnd.jupyter.widget-view+json": {
       "model_id": "abf4d46d2c424a35bea85785074f9413",
       "version_major": 2,
       "version_minor": 0
      },
      "text/plain": [
       "interactive(children=(IntSlider(value=0, description='z', max=2), Output()), _dom_classes=('widget-interact',)…"
      ]
     },
     "metadata": {},
     "output_type": "display_data"
    }
   ],
   "source": [
    "plotting.plot_stack_with_stitching_matches(\n",
    "    stack,\n",
    "    match_collection,\n",
    "    params_render,\n",
    "    width=256\n",
    ")"
   ]
  },
  {
   "cell_type": "markdown",
   "id": "9958961a-022f-4c89-b1a0-638899578979",
   "metadata": {},
   "source": [
    "## Stitching (part II)\n",
    "---\n",
    "\n",
    "### Create alignment files\n",
    "The alignment file is generated on disk and contains the settings for this alignment job. The regularization parameters are the most important parameters that may need adjustment, if stitching fails a good strategy is to decrease or increase on of the regularization parameters by a factor of 10 each time. "
   ]
  },
  {
   "cell_type": "code",
   "execution_count": 39,
   "id": "705e9814-1905-4edb-b21d-d456f2abe054",
   "metadata": {
    "tags": []
   },
   "outputs": [],
   "source": [
    "from pathlib import Path\n",
    "import os\n",
    "import subprocess\n",
    "import json\n",
    "from pprint import pprint"
   ]
  },
  {
   "cell_type": "code",
   "execution_count": 40,
   "id": "36d903ec-2bd7-4b61-839e-c0d896dac411",
   "metadata": {
    "tags": []
   },
   "outputs": [
    {
     "name": "stdout",
     "output_type": "stream",
     "text": [
      "/long_term_storage/akievits/FAST-EM/tests/20231107_MCF7_UAC_test/_jsons_montage/postcorrection/montage.json\n",
      "-----------------------------------------------------------------------------------------------------------\n",
      "{'close_stack': 'True',\n",
      " 'first_section': 0.0,\n",
      " 'hdf5_options': {'chunks_per_file': -1, 'output_dir': ''},\n",
      " 'input_stack': {'client_scripts': '/home/catmaid/render/render-ws-java-client/src/main/scripts',\n",
      "                 'collection_type': 'stack',\n",
      "                 'db_interface': 'render',\n",
      "                 'host': 'http://localhost',\n",
      "                 'name': 'postcorrection',\n",
      "                 'owner': 'akievits',\n",
      "                 'port': 8081,\n",
      "                 'project': '20231107_MCF7_UAC_test'},\n",
      " 'last_section': 2.0,\n",
      " 'log_level': 'INFO',\n",
      " 'matrix_assembly': {'cross_pt_weight': 1.0,\n",
      "                     'depth': 2,\n",
      "                     'inverse_dz': 'True',\n",
      "                     'montage_pt_weight': 1.0,\n",
      "                     'npts_max': 500,\n",
      "                     'npts_min': 5},\n",
      " 'output_mode': 'stack',\n",
      " 'output_stack': {'client_scripts': '/home/catmaid/render/render-ws-java-client/src/main/scripts',\n",
      "                  'collection_type': 'stack',\n",
      "                  'db_interface': 'render',\n",
      "                  'host': 'http://localhost',\n",
      "                  'name': 'postcorrection_stitched',\n",
      "                  'owner': 'akievits',\n",
      "                  'port': 8081,\n",
      "                  'project': '20231107_MCF7_UAC_test'},\n",
      " 'pointmatch': {'client_scripts': '/home/catmaid/render/render-ws-java-client/src/main/scripts',\n",
      "                'collection_type': 'pointmatch',\n",
      "                'db_interface': 'render',\n",
      "                'host': 'http://localhost',\n",
      "                'name': '20231107_MCF7_UAC_test_postcorrection_stitch_matches',\n",
      "                'owner': 'akievits',\n",
      "                'port': 8081},\n",
      " 'regularization': {'default_lambda': 0.005,\n",
      "                    'thinplate_factor': 1e-05,\n",
      "                    'translation_factor': 0.005},\n",
      " 'solve_type': 'montage',\n",
      " 'start_from_file': '',\n",
      " 'transformation': 'TranslationModel'}\n"
     ]
    }
   ],
   "source": [
    "z_values = renderapi.stack.get_z_values_for_stack(stack,\n",
    "                                                  **params_render)\n",
    "# Load align.json template\n",
    "template_stitch_json = Path('../templates/montage.json')\n",
    "with template_stitch_json.open('r') as json_data:\n",
    "    params_stitch = json.load(json_data)\n",
    "\n",
    "# Edit BigFeta solver schema\n",
    "params_stitch['first_section'] = min(z_values)\n",
    "params_stitch['last_section'] = max(z_values)\n",
    "params_stitch['transformation'] = 'TranslationModel'\n",
    "\n",
    "# Edit input stack data\n",
    "params_stitch['input_stack']['host'] = params_render['host']\n",
    "params_stitch['input_stack']['owner'] = params_render['owner']\n",
    "params_stitch['input_stack']['project'] = params_render['project']\n",
    "params_stitch['input_stack']['name'] = stack\n",
    "\n",
    "# Edit point match stack data\n",
    "params_stitch['pointmatch']['host'] = params_render['host']\n",
    "params_stitch['pointmatch']['owner'] = params_render['owner']\n",
    "params_stitch['pointmatch']['name'] = match_collection\n",
    "\n",
    "# Edit output stack data\n",
    "params_stitch['output_stack']['host'] = params_render['host']\n",
    "params_stitch['output_stack']['owner'] = params_render['owner']\n",
    "params_stitch['output_stack']['project'] = params_render['project']\n",
    "params_stitch['output_stack']['name'] = f\"{stack}_stitched\"\n",
    "\n",
    "# Edit regularization parameters\n",
    "params_stitch['regularization']['default_lambda'] = 0.005      # default: 0.005\n",
    "params_stitch['regularization']['translation_factor'] = 0.005  # default: 0.005\n",
    "\n",
    "# Export montage settings to\n",
    "stitch_json = dir_project / '_jsons_montage' / stack / 'montage.json'\n",
    "stitch_json.parent.mkdir(parents=True, exist_ok=True)\n",
    "with stitch_json.open('w') as json_data:\n",
    "    json.dump(params_stitch, json_data, indent=2)\n",
    "\n",
    "# Check alignment parameters\n",
    "print(stitch_json)\n",
    "print('-'*len(stitch_json.as_posix()))\n",
    "pprint(params_stitch)"
   ]
  },
  {
   "cell_type": "markdown",
   "id": "868465fd-a7c9-4b27-a95c-c3942660ed98",
   "metadata": {},
   "source": [
    "### Compute optimal transformations with `BigFeta`"
   ]
  },
  {
   "cell_type": "code",
   "execution_count": 41,
   "id": "3dc48cc5-1e99-46ee-8646-5f2e0e7f0dc8",
   "metadata": {
    "tags": []
   },
   "outputs": [
    {
     "name": "stderr",
     "output_type": "stream",
     "text": [
      "/home/akievits/interactive-render-workflow/.venv/lib/python3.10/site-packages/argschema/utils.py:346: FutureWarning: '--transform_apply' is using old-style command-line syntax with each element as a separate argument. This will not be supported in argschema after 2.0. See http://argschema.readthedocs.io/en/master/user/intro.html#command-line-specification for details.\n",
      "  warnings.warn(warn_msg, FutureWarning)\n",
      "INFO:bigfeta.utils:\n",
      " loaded 25 tile specs from 1 zvalues in 0.1 sec using interface: render\n",
      "INFO:__main__: A created in 0.2 seconds\n",
      "INFO:__main__:\n",
      " solved in 0.0 sec\n",
      " precision [norm(Kx-Lm)/norm(Lm)] = 6.3e-16, 7.6e-16\n",
      " error     [norm(Ax-b)] = 367.359, 277.496\n",
      " [mean(Ax) +/- std(Ax)] : 0.0 +/- 5.4, 0.0 +/- 4.1\n",
      " [mean(error mag) +/- std(error mag)] : 6.0 +/- 3.1\n",
      "INFO:__main__:\n",
      " scales: 1.00 +/- 0.00, 1.00 +/- 0.00\n",
      "INFO:bigfeta.utils:\n",
      "ingesting results to http://localhost:8081 akievits__20231107_MCF7_UAC_test__postcorrection_stitched\n",
      "INFO:bigfeta.utils:render output is going to /dev/null\n",
      "INFO:bigfeta.utils:\n",
      " loaded 25 tile specs from 1 zvalues in 0.0 sec using interface: render\n",
      "INFO:__main__: A created in 0.1 seconds\n",
      "INFO:__main__:\n",
      " solved in 0.0 sec\n",
      " precision [norm(Kx-Lm)/norm(Lm)] = 7.2e-16, 7.2e-16\n",
      " error     [norm(Ax-b)] = 340.132, 255.254\n",
      " [mean(Ax) +/- std(Ax)] : 0.0 +/- 5.5, 0.0 +/- 4.1\n",
      " [mean(error mag) +/- std(error mag)] : 6.1 +/- 3.2\n",
      "INFO:__main__:\n",
      " scales: 1.00 +/- 0.00, 1.00 +/- 0.00\n",
      "INFO:bigfeta.utils:\n",
      "ingesting results to http://localhost:8081 akievits__20231107_MCF7_UAC_test__postcorrection_stitched\n",
      "INFO:bigfeta.utils:render output is going to /dev/null\n",
      "INFO:bigfeta.utils:\n",
      " loaded 25 tile specs from 1 zvalues in 0.0 sec using interface: render\n",
      "INFO:__main__: A created in 0.2 seconds\n",
      "INFO:__main__:\n",
      " solved in 0.0 sec\n",
      " precision [norm(Kx-Lm)/norm(Lm)] = 6.0e-16, 4.4e-16\n",
      " error     [norm(Ax-b)] = 352.622, 265.951\n",
      " [mean(Ax) +/- std(Ax)] : 0.0 +/- 5.5, 0.0 +/- 4.2\n",
      " [mean(error mag) +/- std(error mag)] : 6.1 +/- 3.2\n",
      "INFO:__main__:\n",
      " scales: 1.00 +/- 0.00, 1.00 +/- 0.00\n",
      "INFO:bigfeta.utils:\n",
      "ingesting results to http://localhost:8081 akievits__20231107_MCF7_UAC_test__postcorrection_stitched\n",
      "INFO:bigfeta.utils:render output is going to /dev/null\n",
      "INFO:__main__: total time: 4.6\n"
     ]
    }
   ],
   "source": [
    "# Path to `BigFeta`\n",
    "cwd = Path.cwd().as_posix()\n",
    "dir_BigFeta = Path(f\"/home/{owner}/BigFeta/\")\n",
    "\n",
    "# Select json for stitching\n",
    "stitch_json = dir_project / '_jsons_montage' / stack / 'montage.json'\n",
    "\n",
    "# Call `BigFeta.BigFeta` process -- have to switch to BigFeta directory\n",
    "os.chdir(dir_BigFeta.as_posix())\n",
    "subprocess.run(['python', '-m', 'bigfeta.bigfeta', '--input_json', stitch_json.as_posix()])\n",
    "os.chdir(cwd)"
   ]
  },
  {
   "cell_type": "markdown",
   "id": "abb5fdfb-0e0f-4a04-a70e-d3275a8f6580",
   "metadata": {},
   "source": [
    "### Inspect"
   ]
  },
  {
   "cell_type": "code",
   "execution_count": 42,
   "id": "ef74803c-dff3-4315-9e10-484de54ff937",
   "metadata": {
    "tags": []
   },
   "outputs": [
    {
     "data": {
      "application/vnd.jupyter.widget-view+json": {
       "model_id": "ddb849341f0e4c9fb5ef041ce03be20d",
       "version_major": 2,
       "version_minor": 0
      },
      "text/plain": [
       "  0%|          | 0/2 [00:00<?, ?it/s]"
      ]
     },
     "metadata": {},
     "output_type": "display_data"
    },
    {
     "data": {
      "application/vnd.jupyter.widget-view+json": {
       "model_id": "0eb7b2e891bc4c27acadec5a584209c8",
       "version_major": 2,
       "version_minor": 0
      },
      "text/plain": [
       "interactive(children=(IntSlider(value=0, description='z', max=2), IntSlider(value=28502, description='vmin', m…"
      ]
     },
     "metadata": {},
     "output_type": "display_data"
    }
   ],
   "source": [
    "# Plot stacks\n",
    "stacks = [\"postcorrection\", \"postcorrection_stitched\"]\n",
    "plotting.plot_stacks(\n",
    "    stacks,\n",
    "    **params_render\n",
    ")"
   ]
  },
  {
   "cell_type": "markdown",
   "id": "1614850d",
   "metadata": {},
   "source": [
    "### Optional: Filter tiles with no point matches (substrate/resin tiles)\n",
    "If there are a lot of empty resin images, which are not transformed because they frequently have few to no point matches, these can be removed from the stitching result. A new `render-ws` stack called `postcorrection_stitched_filtered` will be created"
   ]
  },
  {
   "cell_type": "code",
   "execution_count": null,
   "id": "582bae90",
   "metadata": {},
   "outputs": [],
   "source": [
    "z_values = renderapi.stack.get_z_values_for_stack(stack=f\"{stack}_stitched\",\n",
    "                                                  **params_render)\n",
    "tileIds = renderapi.stack.get_stack_tileIds(stack=f\"{stack}_stitched\",\n",
    "                                            **params_render)\n",
    "match_tileIds = []\n",
    "# Loop over z-values\n",
    "for z in tqdm(z_values,\n",
    "              desc=\"Finding tiles with matches\",\n",
    "              total=len(z_values),\n",
    "              unit=\" z-levels\"):\n",
    "    # SectionId to find tilepairs and matches for\n",
    "    sectionId = renderapi.stack.get_sectionId_for_z(stack=f\"{stack}_stitched\",\n",
    "                                                    z=z,\n",
    "                                                    **params_render)\n",
    "    # Get match groupIds (all Ids for which there exist matches)\n",
    "    matches = renderapi.pointmatch.get_matches_within_group(match_collection,\n",
    "                                                            groupId=sectionId,\n",
    "                                                            **params_render)\n",
    "    # tileIds with matches\n",
    "    for match in matches:\n",
    "        match_tileIds.append(match['pId'])\n",
    "        match_tileIds.append(match['qId'])\n",
    "# Get all tileIds\n",
    "all_tile_Ids = renderapi.stack.get_stack_tileIds(stack=f\"{stack}_stitched\",\n",
    "                                                 **params_render)\n",
    "# If no matches, island tile\n",
    "island_tileIds = [tileId for tileId in all_tile_Ids if tileId not in match_tileIds]"
   ]
  },
  {
   "cell_type": "code",
   "execution_count": null,
   "id": "d2486a3e",
   "metadata": {},
   "outputs": [],
   "source": [
    "# Clone stack to create filtered stack\n",
    "renderapi.stack.clone_stack(f\"{stack}_stitched\",\n",
    "                            f\"{stack}_stitched_filtered\",\n",
    "                            **params_render)\n",
    "\n",
    "# Filter stack\n",
    "renderapi.stack.set_stack_state(stack=f\"{stack}_stitched_filtered\",\n",
    "                                state='LOADING',\n",
    "                                **params_render)\n",
    "for tileId in island_tileIds:\n",
    "    renderapi.stack.delete_tile(stack=f\"{stack}_stitched_filtered\",\n",
    "                                tileId=tileId,\n",
    "                                **params_render)                                \n",
    "renderapi.stack.set_stack_state(stack=f\"{stack}_stitched_filtered\",\n",
    "                                state='COMPLETE',\n",
    "                                **params_render)"
   ]
  },
  {
   "cell_type": "markdown",
   "id": "2512a0c4",
   "metadata": {},
   "source": [
    "### Inspect filtered stack"
   ]
  },
  {
   "cell_type": "code",
   "execution_count": null,
   "id": "9fc46b05",
   "metadata": {},
   "outputs": [],
   "source": [
    "# Plot stacks\n",
    "stacks = [f\"{stack}_stitched\", f\"{stack}_stitched_filtered\"]\n",
    "plotting.plot_stacks(\n",
    "    stacks,\n",
    "    **params_render\n",
    ")"
   ]
  }
 ],
 "metadata": {
  "kernelspec": {
   "display_name": "Python 3 (ipykernel)",
   "language": "python",
   "name": "python3"
  },
  "language_info": {
   "codemirror_mode": {
    "name": "ipython",
    "version": 3
   },
   "file_extension": ".py",
   "mimetype": "text/x-python",
   "name": "python",
   "nbconvert_exporter": "python",
   "pygments_lexer": "ipython3",
   "version": "3.10.12"
  }
 },
 "nbformat": 4,
 "nbformat_minor": 5
}
