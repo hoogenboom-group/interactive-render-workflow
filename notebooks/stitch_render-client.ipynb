{
 "cells": [
  {
   "cell_type": "markdown",
   "id": "7f98536f-5fed-4071-bb4c-1de1884879ff",
   "metadata": {},
   "source": [
    "# Stitch\n",
    "---\n",
    "\n",
    "#### Overview\n",
    "Interactive stitching of one or several sections."
   ]
  },
  {
   "cell_type": "code",
   "execution_count": 3,
   "id": "a9f1c1f9-f144-493d-b6bc-69b97102f1a6",
   "metadata": {
    "tags": []
   },
   "outputs": [],
   "source": [
    "# indirectly enable autocomplete\n",
    "%config Completer.use_jedi = False\n",
    "\n",
    "# autoreload modules\n",
    "%load_ext autoreload\n",
    "%autoreload 2"
   ]
  },
  {
   "cell_type": "code",
   "execution_count": 4,
   "id": "9775c083-9d1d-4542-8b1a-11552e0faa77",
   "metadata": {
    "tags": []
   },
   "outputs": [],
   "source": [
    "import pathlib\n",
    "import requests\n",
    "\n",
    "from tqdm.notebook import tqdm\n",
    "import renderapi\n",
    "\n",
    "from scripted_render_pipeline import basic_auth\n",
    "from interactive_render import plotting"
   ]
  },
  {
   "cell_type": "markdown",
   "id": "6e0ba2e0-a94e-48f3-a42b-56f8fbfbd101",
   "metadata": {},
   "source": [
    "#### `render-ws` environment variables"
   ]
  },
  {
   "cell_type": "code",
   "execution_count": 5,
   "id": "4c79b07f-5658-4a24-8743-9a71b0b06e01",
   "metadata": {
    "tags": []
   },
   "outputs": [],
   "source": [
    "# create an authorized session\n",
    "auth = basic_auth.load_auth()\n",
    "sesh = requests.Session()\n",
    "sesh.auth = auth\n",
    "\n",
    "project = \"20231107_MCF7_UAC_test\"\n",
    "# render-ws environment variables\n",
    "params_render = {\n",
    "    \"host\": \"http://localhost\",\n",
    "    \"port\": 8081,\n",
    "    \"client_scripts\": \"/home/catmaid/render/render-ws-java-client/src/main/scripts\",\n",
    "    \"client_script\": \"/home/catmaid/render/render-ws-java-client/src/main/scripts/run_ws_client.sh\",\n",
    "    \"owner\": \"akievits\",\n",
    "    \"project\": project,\n",
    "    \"session\": sesh\n",
    "}\n",
    "\n",
    "params_align = {\n",
    "    \"host\": \"http://localhost\",\n",
    "    \"port\": 8081,\n",
    "    \"client_scripts\": \"/home/catmaid/render/render-ws-java-client/src/main/scripts\",\n",
    "    \"client_script\": \"/home/catmaid/render/render-ws-java-client/src/main/scripts/run_ws_client.sh\",\n",
    "    \"owner\": \"akievits\",\n",
    "    \"project\": project,\n",
    "    \"memGB\": '2G', # Allocate enough memory\n",
    "    \"session\": sesh\n",
    "}\n",
    "\n",
    "# set project directory\n",
    "dir_project = pathlib.Path(\"/long_term_storage/akievits/FAST-EM/tests/20231107_MCF7_UAC_test/\")\n",
    "\n",
    "# set max_workers (for multithreading)\n",
    "max_workers = 10"
   ]
  },
  {
   "cell_type": "markdown",
   "id": "f37c3bca-4660-4835-99df-5a58b5005c47",
   "metadata": {},
   "source": [
    "## Stitching (part I)\n",
    "---\n",
    "Get tile pairs. Get point matches.\n",
    "\n",
    "### Get tile pairs\n",
    "\n",
    "Use render-ws `tilePairClient` to get the set of tile pairs."
   ]
  },
  {
   "cell_type": "code",
   "execution_count": 6,
   "id": "b45f7d85-e39d-4eab-a5a8-eb1280d2c812",
   "metadata": {
    "tags": []
   },
   "outputs": [
    {
     "name": "stdout",
     "output_type": "stream",
     "text": [
      "Number of tile pairs... 120 \n",
      "---------------------------\n"
     ]
    },
    {
     "data": {
      "text/plain": [
       "[('t00_z0_y4_x4', 't05_z0_y3_x4'),\n",
       " ('t00_z0_y4_x4', 't01_z0_y4_x3'),\n",
       " ('t01_z0_y4_x3', 't06_z0_y3_x3'),\n",
       " ('t01_z0_y4_x3', 't02_z0_y4_x2'),\n",
       " ('t02_z0_y4_x2', 't07_z0_y3_x2')]"
      ]
     },
     "execution_count": 6,
     "metadata": {},
     "output_type": "execute_result"
    }
   ],
   "source": [
    "# choose stack from which to get tile pairs\n",
    "stack = \"postcorrection\"\n",
    "z_values = [int(z) for z in renderapi.stack.get_z_values_for_stack(\n",
    "    stack,\n",
    "    **params_render\n",
    ")]\n",
    "\n",
    "# Get tile pairs from the rough aligned stack\n",
    "tilepairs = renderapi.client.tilePairClient(\n",
    "    stack=stack,\n",
    "    minz=min(z_values),\n",
    "    maxz=max(z_values),\n",
    "    zNeighborDistance=0,  # half-height of search cylinder\n",
    "    excludeSameLayerNeighbors=False,\n",
    "    subprocess_mode=\"check_output\",  # suppresses output\n",
    "    **params_render\n",
    ")[\"neighborPairs\"]\n",
    "\n",
    "# Reformat for PointMatchClient\n",
    "tile_pairs_reformat = [(tp[\"p\"][\"id\"], tp[\"q\"][\"id\"]) for tp in tilepairs]\n",
    "\n",
    "# Get relative positions for first tile in every tilepair\n",
    "relativePositions = [tp['p']['relativePosition'] for tp in tilepairs]\n",
    "\n",
    "# Show tile pairs\n",
    "out = f\"Number of tile pairs... {len(tile_pairs_reformat)}\"\n",
    "print(out, \"\\n\" + \"-\"*len(out))\n",
    "tile_pairs_reformat[:5]"
   ]
  },
  {
   "cell_type": "markdown",
   "id": "1d019a14-0f44-4e2c-b3f4-ff132eada894",
   "metadata": {
    "tags": []
   },
   "source": [
    "### Get point matches\n",
    "\n",
    "Use `render-ws` `PointMatchClient` script to find matching features between the neighboring megafields."
   ]
  },
  {
   "cell_type": "code",
   "execution_count": 21,
   "id": "dbffce13-8eed-4073-a47b-5db91418b835",
   "metadata": {
    "tags": []
   },
   "outputs": [],
   "source": [
    "from renderapi.client import (\n",
    "    SiftPointMatchOptions,\n",
    "    MatchDerivationParameters,\n",
    "    FeatureExtractionParameters\n",
    ")"
   ]
  },
  {
   "cell_type": "code",
   "execution_count": 34,
   "id": "c10bf3f9-049a-4670-a91c-4fd7a4fb537c",
   "metadata": {
    "tags": []
   },
   "outputs": [
    {
     "data": {
      "text/plain": [
       "'20231107_MCF7_UAC_test_postcorrection_stitch_matches'"
      ]
     },
     "execution_count": 34,
     "metadata": {},
     "output_type": "execute_result"
    }
   ],
   "source": [
    "# Name for pointmatch collection\n",
    "match_collection = f\"{params_render['project']}_{stack}_stitch_matches\"\n",
    "match_collection"
   ]
  },
  {
   "cell_type": "code",
   "execution_count": 35,
   "metadata": {},
   "outputs": [],
   "source": [
    "# renderapi.pointmatch.delete_collection(match_collection,\n",
    "#                                        **params_render)"
   ]
  },
  {
   "cell_type": "markdown",
   "id": "e2056bd8-0ec8-4440-83a6-efa1aaea8c7f",
   "metadata": {},
   "source": [
    "#### Set SIFT + RANSAC parameters"
   ]
  },
  {
   "cell_type": "code",
   "execution_count": 36,
   "id": "53325649-5850-4986-9b46-4c46c0329b8f",
   "metadata": {
    "tags": []
   },
   "outputs": [
    {
     "data": {
      "text/plain": [
       "{'SIFTfdSize': 8,\n",
       " 'SIFTmaxScale': 0.2,\n",
       " 'SIFTminScale': 0.05,\n",
       " 'SIFTsteps': 5,\n",
       " 'matchIterations': None,\n",
       " 'matchMaxEpsilon': 25,\n",
       " 'matchMaxNumInliers': None,\n",
       " 'matchMaxTrust': None,\n",
       " 'matchMinInlierRatio': 0.05,\n",
       " 'matchMinNumInliers': 7,\n",
       " 'matchModelType': 'AFFINE',\n",
       " 'matchRod': 0.92,\n",
       " 'renderScale': None,\n",
       " 'fillWithNoise': True,\n",
       " 'numberOfThreads': 1,\n",
       " 'clipWidth': 640,\n",
       " 'clipHeight': 640}"
      ]
     },
     "execution_count": 36,
     "metadata": {},
     "output_type": "execute_result"
    }
   ],
   "source": [
    "# `RANSAC` parameters\n",
    "params_RANSAC = MatchDerivationParameters(\n",
    "    matchIterations=None,\n",
    "    matchMaxEpsilon=25,        # maximal alignment error\n",
    "    matchMaxNumInliers=None,\n",
    "    matchMaxTrust=None,\n",
    "    matchMinInlierRatio=0.05,  # minimal inlier ratio\n",
    "    matchMinNumInliers=7,      # minimal number of inliers\n",
    "    matchModelType='AFFINE',   # expected transformation\n",
    "    matchRod=0.92              # closest/next closest ratio\n",
    ")\n",
    "\n",
    "# `SIFT` parameters\n",
    "params_SIFT = FeatureExtractionParameters(\n",
    "    SIFTfdSize=8,              # feature descriptor size\n",
    "    SIFTmaxScale=0.20,         # (width/height *) maximum image size\n",
    "    SIFTminScale=0.05,         # (width/height *) minimum image size\n",
    "    SIFTsteps=5                # steps per scale octave\n",
    ")\n",
    "\n",
    "# Combined `SIFT` & `RANSAC` parameters\n",
    "params_SIFT = SiftPointMatchOptions(\n",
    "    fillWithNoise=True,\n",
    "    **{**params_RANSAC.__dict__,\n",
    "       **params_SIFT.__dict__}\n",
    ")\n",
    "\n",
    "# Extra parameters\n",
    "params_SIFT.numberOfThreads = 1  # multithreading\n",
    "params_SIFT.clipWidth = 640      # N pixels included in rendered clips of LEFT/RIGHT oriented montage tiles\n",
    "params_SIFT.clipHeight = 640     # N pixels included in rendered clips of TOP/BOTTOM oriented montage tiles\n",
    "params_SIFT.__dict__"
   ]
  },
  {
   "cell_type": "markdown",
   "id": "966190f6-9c3b-4738-a39f-f781d2d740e1",
   "metadata": {},
   "source": [
    "#### Execute SIFT + RANSAC on `N` cores\n",
    "Runs `N` parallel threads with one thread per tile pair"
   ]
  },
  {
   "cell_type": "code",
   "execution_count": 25,
   "metadata": {},
   "outputs": [],
   "source": [
    "# import concurrent.futures"
   ]
  },
  {
   "cell_type": "code",
   "execution_count": 29,
   "metadata": {},
   "outputs": [
    {
     "data": {
      "application/vnd.jupyter.widget-view+json": {
       "model_id": "c7755d21c91c4f349bd01d1816a1ca2b",
       "version_major": 2,
       "version_minor": 0
      },
      "text/plain": [
       "submitting tile pairs:   0%|          | 0/120 [00:00<?, ?tilepairs/s]"
      ]
     },
     "metadata": {},
     "output_type": "display_data"
    },
    {
     "data": {
      "application/vnd.jupyter.widget-view+json": {
       "model_id": "72087e7dd3e8497f8899172924681f78",
       "version_major": 2,
       "version_minor": 0
      },
      "text/plain": [
       "extracting point matches:   0%|          | 0/120 [00:00<?, ?tilepairs/s]"
      ]
     },
     "metadata": {},
     "output_type": "display_data"
    }
   ],
   "source": [
    "## BROKEN\n",
    "## Breaks pointMatchClient in such a way that not all matches are saved in the match collection. FIX\n",
    "\n",
    "# futures = set()\n",
    "# all_sections = {}\n",
    "# executor = concurrent.futures.ThreadPoolExecutor(\n",
    "# max_workers = max_workers\n",
    "# )\n",
    "\n",
    "# try:\n",
    "#     for tile_pair, pos in tqdm(zip(tile_pairs_reformat, relativePositions),\n",
    "#                                desc=\"submitting tile pairs\",\n",
    "#                                total=len(tile_pairs_reformat),\n",
    "#                                unit=\"tilepairs\",\n",
    "#                                smoothing=0.3):\n",
    "#         params_SIFT.firstCanvasPosition = pos\n",
    "#         future = executor.submit(\n",
    "#             renderapi.client.pointMatchClient,\n",
    "#             stack=stack,\n",
    "#             collection=match_collection,\n",
    "#             tile_pairs=[tile_pair],\n",
    "#             sift_options=params_SIFT,\n",
    "#             excludeAllTransforms=True,\n",
    "#             subprocess_mode='check_output',  # suppresses output\n",
    "#             **params_align)\n",
    "#         futures.add(future)\n",
    "\n",
    "#     for future in tqdm(\n",
    "#         concurrent.futures.as_completed(futures),\n",
    "#         desc=\"extracting point matches\",\n",
    "#         total=len(futures),\n",
    "#         unit=\"tilepairs\",\n",
    "#         smoothing=min(100 / len(futures), 0.3),\n",
    "#     ):\n",
    "#         futures.remove(future)\n",
    "        \n",
    "# finally:\n",
    "#     for future in futures:\n",
    "#         future.cancel()\n",
    "#     executor.shutdown()"
   ]
  },
  {
   "cell_type": "code",
   "execution_count": 8,
   "id": "4d7e8746",
   "metadata": {},
   "outputs": [
    {
     "data": {
      "application/vnd.jupyter.widget-view+json": {
       "model_id": "3c5e86a331fd456792df087cb9c53f07",
       "version_major": 2,
       "version_minor": 0
      },
      "text/plain": [
       "extracting point matches:   0%|          | 0/120 [00:00<?, ?tilepairs/s]"
      ]
     },
     "metadata": {},
     "output_type": "display_data"
    },
    {
     "ename": "NameError",
     "evalue": "name 'params_SIFT' is not defined",
     "output_type": "error",
     "traceback": [
      "\u001b[0;31m---------------------------------------------------------------------------\u001b[0m",
      "\u001b[0;31mNameError\u001b[0m                                 Traceback (most recent call last)",
      "Cell \u001b[0;32mIn[8], line 11\u001b[0m\n\u001b[1;32m      1\u001b[0m \u001b[38;5;66;03m# Loop through tile pairs\u001b[39;00m\n\u001b[1;32m      2\u001b[0m \u001b[38;5;28;01mfor\u001b[39;00m tp, pos \u001b[38;5;129;01min\u001b[39;00m tqdm(\u001b[38;5;28mzip\u001b[39m(tile_pairs_reformat, relativePositions),\n\u001b[1;32m      3\u001b[0m                     desc\u001b[38;5;241m=\u001b[39m\u001b[38;5;124m\"\u001b[39m\u001b[38;5;124mextracting point matches\u001b[39m\u001b[38;5;124m\"\u001b[39m,\n\u001b[1;32m      4\u001b[0m                     total\u001b[38;5;241m=\u001b[39m\u001b[38;5;28mlen\u001b[39m(tile_pairs_reformat),\n\u001b[0;32m   (...)\u001b[0m\n\u001b[1;32m      9\u001b[0m     \u001b[38;5;66;03m# Provide relative position of first tile so that the\u001b[39;00m\n\u001b[1;32m     10\u001b[0m     \u001b[38;5;66;03m# client script knows how to clip the images properly\u001b[39;00m\n\u001b[0;32m---> 11\u001b[0m     \u001b[43mparams_SIFT\u001b[49m\u001b[38;5;241m.\u001b[39mfirstCanvasPosition \u001b[38;5;241m=\u001b[39m pos\n\u001b[1;32m     13\u001b[0m     \u001b[38;5;66;03m# Run SIFT + RANSAC via render-ws PointMatchClient\u001b[39;00m\n\u001b[1;32m     14\u001b[0m     renderapi\u001b[38;5;241m.\u001b[39mclient\u001b[38;5;241m.\u001b[39mpointMatchClient(\n\u001b[1;32m     15\u001b[0m         stack\u001b[38;5;241m=\u001b[39mstack,\n\u001b[1;32m     16\u001b[0m         collection\u001b[38;5;241m=\u001b[39mmatch_collection,\n\u001b[0;32m   (...)\u001b[0m\n\u001b[1;32m     21\u001b[0m         \u001b[38;5;241m*\u001b[39m\u001b[38;5;241m*\u001b[39mparams_render\n\u001b[1;32m     22\u001b[0m     )\n",
      "\u001b[0;31mNameError\u001b[0m: name 'params_SIFT' is not defined"
     ]
    }
   ],
   "source": [
    "# Loop through tile pairs\n",
    "for tp, pos in tqdm(zip(tile_pairs_reformat, relativePositions),\n",
    "                    desc=\"extracting point matches\",\n",
    "                    total=len(tile_pairs_reformat),\n",
    "                    unit=\"tilepairs\",\n",
    "                    smoothing=0.3\n",
    "                    ):\n",
    "\n",
    "    # Provide relative position of first tile so that the\n",
    "    # client script knows how to clip the images properly\n",
    "    params_SIFT.firstCanvasPosition = pos\n",
    "\n",
    "    # Run SIFT + RANSAC via render-ws PointMatchClient\n",
    "    renderapi.client.pointMatchClient(\n",
    "        stack=stack,\n",
    "        collection=match_collection,\n",
    "        tile_pairs=[tp],\n",
    "        sift_options=params_SIFT,\n",
    "        excludeAllTransforms=True,\n",
    "        subprocess_mode='check_output',  # suppresses output\n",
    "        **params_render\n",
    "    )"
   ]
  },
  {
   "cell_type": "markdown",
   "id": "5185a7af-729a-4c22-b939-43d9b09bb492",
   "metadata": {},
   "source": [
    "### Inspect"
   ]
  },
  {
   "cell_type": "code",
   "execution_count": 38,
   "id": "5cd8c09e-f2ff-4c80-87e3-f7c430948b31",
   "metadata": {
    "tags": []
   },
   "outputs": [
    {
     "data": {
      "application/vnd.jupyter.widget-view+json": {
       "model_id": "68c2caea49d64ee9b5c9cd9c6afc4c5b",
       "version_major": 2,
       "version_minor": 0
      },
      "text/plain": [
       "interactive(children=(IntSlider(value=0, description='z', max=2), Output()), _dom_classes=('widget-interact',)…"
      ]
     },
     "metadata": {},
     "output_type": "display_data"
    }
   ],
   "source": [
    "plotting.plot_stack_with_stitching_matches(\n",
    "    stack,\n",
    "    match_collection,\n",
    "    params_render,\n",
    "    width=256\n",
    ")"
   ]
  },
  {
   "cell_type": "markdown",
   "id": "9958961a-022f-4c89-b1a0-638899578979",
   "metadata": {},
   "source": [
    "## Stitching (part II)\n",
    "---\n",
    "\n",
    "### Create alignment files"
   ]
  },
  {
   "cell_type": "code",
   "execution_count": 39,
   "id": "705e9814-1905-4edb-b21d-d456f2abe054",
   "metadata": {
    "tags": []
   },
   "outputs": [],
   "source": [
    "from pathlib import Path\n",
    "import os\n",
    "import subprocess\n",
    "import json\n",
    "from pprint import pprint"
   ]
  },
  {
   "cell_type": "code",
   "execution_count": 40,
   "id": "36d903ec-2bd7-4b61-839e-c0d896dac411",
   "metadata": {
    "tags": []
   },
   "outputs": [
    {
     "name": "stdout",
     "output_type": "stream",
     "text": [
      "/long_term_storage/akievits/FAST-EM/tests/20231107_MCF7_UAC_test/_jsons_montage/postcorrection/montage.json\n",
      "-----------------------------------------------------------------------------------------------------------\n",
      "{'close_stack': 'True',\n",
      " 'first_section': 0.0,\n",
      " 'hdf5_options': {'chunks_per_file': -1, 'output_dir': ''},\n",
      " 'input_stack': {'client_scripts': '/home/catmaid/render/render-ws-java-client/src/main/scripts',\n",
      "                 'collection_type': 'stack',\n",
      "                 'db_interface': 'render',\n",
      "                 'host': 'http://localhost',\n",
      "                 'name': 'postcorrection',\n",
      "                 'owner': 'akievits',\n",
      "                 'port': 8081,\n",
      "                 'project': '20231107_MCF7_UAC_test'},\n",
      " 'last_section': 2.0,\n",
      " 'log_level': 'INFO',\n",
      " 'matrix_assembly': {'cross_pt_weight': 1.0,\n",
      "                     'depth': 2,\n",
      "                     'inverse_dz': 'True',\n",
      "                     'montage_pt_weight': 1.0,\n",
      "                     'npts_max': 500,\n",
      "                     'npts_min': 5},\n",
      " 'output_mode': 'stack',\n",
      " 'output_stack': {'client_scripts': '/home/catmaid/render/render-ws-java-client/src/main/scripts',\n",
      "                  'collection_type': 'stack',\n",
      "                  'db_interface': 'render',\n",
      "                  'host': 'http://localhost',\n",
      "                  'name': 'postcorrection_stitched',\n",
      "                  'owner': 'akievits',\n",
      "                  'port': 8081,\n",
      "                  'project': '20231107_MCF7_UAC_test'},\n",
      " 'pointmatch': {'client_scripts': '/home/catmaid/render/render-ws-java-client/src/main/scripts',\n",
      "                'collection_type': 'pointmatch',\n",
      "                'db_interface': 'render',\n",
      "                'host': 'http://localhost',\n",
      "                'name': '20231107_MCF7_UAC_test_postcorrection_stitch_matches',\n",
      "                'owner': 'akievits',\n",
      "                'port': 8081},\n",
      " 'regularization': {'default_lambda': 0.005,\n",
      "                    'thinplate_factor': 1e-05,\n",
      "                    'translation_factor': 0.005},\n",
      " 'solve_type': 'montage',\n",
      " 'start_from_file': '',\n",
      " 'transformation': 'TranslationModel'}\n"
     ]
    }
   ],
   "source": [
    "z_values = renderapi.stack.get_z_values_for_stack(stack,\n",
    "                                                  **params_render)\n",
    "# Load align.json template\n",
    "template_stitch_json = Path('../templates/montage.json')\n",
    "with template_stitch_json.open('r') as json_data:\n",
    "    params_stitch = json.load(json_data)\n",
    "\n",
    "# Edit BigFeta solver schema\n",
    "params_stitch['first_section'] = min(z_values)\n",
    "params_stitch['last_section'] = max(z_values)\n",
    "params_stitch['transformation'] = 'TranslationModel'\n",
    "\n",
    "# Edit input stack data\n",
    "params_stitch['input_stack']['host'] = params_render['host']\n",
    "params_stitch['input_stack']['owner'] = params_render['owner']\n",
    "params_stitch['input_stack']['project'] = params_render['project']\n",
    "params_stitch['input_stack']['name'] = stack\n",
    "\n",
    "# Edit point match stack data\n",
    "params_stitch['pointmatch']['host'] = params_render['host']\n",
    "params_stitch['pointmatch']['owner'] = params_render['owner']\n",
    "params_stitch['pointmatch']['name'] = match_collection\n",
    "\n",
    "# Edit output stack data\n",
    "params_stitch['output_stack']['host'] = params_render['host']\n",
    "params_stitch['output_stack']['owner'] = params_render['owner']\n",
    "params_stitch['output_stack']['project'] = params_render['project']\n",
    "params_stitch['output_stack']['name'] = f\"{stack}_stitched\"\n",
    "\n",
    "# Edit regularization parameters\n",
    "params_stitch['regularization']['default_lambda'] = 0.005      # default: 0.005\n",
    "params_stitch['regularization']['translation_factor'] = 0.005  # default: 0.005\n",
    "\n",
    "# Export montage settings to\n",
    "stitch_json = dir_project / '_jsons_montage' / stack / 'montage.json'\n",
    "stitch_json.parent.mkdir(parents=True, exist_ok=True)\n",
    "with stitch_json.open('w') as json_data:\n",
    "    json.dump(params_stitch, json_data, indent=2)\n",
    "\n",
    "# Check alignment parameters\n",
    "print(stitch_json)\n",
    "print('-'*len(stitch_json.as_posix()))\n",
    "pprint(params_stitch)"
   ]
  },
  {
   "cell_type": "markdown",
   "id": "868465fd-a7c9-4b27-a95c-c3942660ed98",
   "metadata": {},
   "source": [
    "### Compute optimal transformations with `BigFeta`"
   ]
  },
  {
   "cell_type": "code",
   "execution_count": 41,
   "id": "3dc48cc5-1e99-46ee-8646-5f2e0e7f0dc8",
   "metadata": {
    "tags": []
   },
   "outputs": [
    {
     "name": "stderr",
     "output_type": "stream",
     "text": [
      "/home/akievits/interactive-render-workflow/.venv/lib/python3.10/site-packages/argschema/utils.py:346: FutureWarning: '--transform_apply' is using old-style command-line syntax with each element as a separate argument. This will not be supported in argschema after 2.0. See http://argschema.readthedocs.io/en/master/user/intro.html#command-line-specification for details.\n",
      "  warnings.warn(warn_msg, FutureWarning)\n",
      "INFO:bigfeta.utils:\n",
      " loaded 25 tile specs from 1 zvalues in 0.1 sec using interface: render\n",
      "INFO:__main__: A created in 0.2 seconds\n",
      "INFO:__main__:\n",
      " solved in 0.0 sec\n",
      " precision [norm(Kx-Lm)/norm(Lm)] = 6.3e-16, 7.6e-16\n",
      " error     [norm(Ax-b)] = 367.359, 277.496\n",
      " [mean(Ax) +/- std(Ax)] : 0.0 +/- 5.4, 0.0 +/- 4.1\n",
      " [mean(error mag) +/- std(error mag)] : 6.0 +/- 3.1\n",
      "INFO:__main__:\n",
      " scales: 1.00 +/- 0.00, 1.00 +/- 0.00\n",
      "INFO:bigfeta.utils:\n",
      "ingesting results to http://localhost:8081 akievits__20231107_MCF7_UAC_test__postcorrection_stitched\n",
      "INFO:bigfeta.utils:render output is going to /dev/null\n",
      "INFO:bigfeta.utils:\n",
      " loaded 25 tile specs from 1 zvalues in 0.0 sec using interface: render\n",
      "INFO:__main__: A created in 0.1 seconds\n",
      "INFO:__main__:\n",
      " solved in 0.0 sec\n",
      " precision [norm(Kx-Lm)/norm(Lm)] = 7.2e-16, 7.2e-16\n",
      " error     [norm(Ax-b)] = 340.132, 255.254\n",
      " [mean(Ax) +/- std(Ax)] : 0.0 +/- 5.5, 0.0 +/- 4.1\n",
      " [mean(error mag) +/- std(error mag)] : 6.1 +/- 3.2\n",
      "INFO:__main__:\n",
      " scales: 1.00 +/- 0.00, 1.00 +/- 0.00\n",
      "INFO:bigfeta.utils:\n",
      "ingesting results to http://localhost:8081 akievits__20231107_MCF7_UAC_test__postcorrection_stitched\n",
      "INFO:bigfeta.utils:render output is going to /dev/null\n",
      "INFO:bigfeta.utils:\n",
      " loaded 25 tile specs from 1 zvalues in 0.0 sec using interface: render\n",
      "INFO:__main__: A created in 0.2 seconds\n",
      "INFO:__main__:\n",
      " solved in 0.0 sec\n",
      " precision [norm(Kx-Lm)/norm(Lm)] = 6.0e-16, 4.4e-16\n",
      " error     [norm(Ax-b)] = 352.622, 265.951\n",
      " [mean(Ax) +/- std(Ax)] : 0.0 +/- 5.5, 0.0 +/- 4.2\n",
      " [mean(error mag) +/- std(error mag)] : 6.1 +/- 3.2\n",
      "INFO:__main__:\n",
      " scales: 1.00 +/- 0.00, 1.00 +/- 0.00\n",
      "INFO:bigfeta.utils:\n",
      "ingesting results to http://localhost:8081 akievits__20231107_MCF7_UAC_test__postcorrection_stitched\n",
      "INFO:bigfeta.utils:render output is going to /dev/null\n",
      "INFO:__main__: total time: 4.6\n"
     ]
    }
   ],
   "source": [
    "# Path to `BigFeta`\n",
    "cwd = Path.cwd().as_posix()\n",
    "dir_BigFeta = Path('/home/catmaid/BigFeta/')\n",
    "\n",
    "# Select json for stitching\n",
    "stitch_json = dir_project / '_jsons_montage' / stack / 'montage.json'\n",
    "\n",
    "# Call `BigFeta.BigFeta` process -- have to switch to BigFeta directory\n",
    "os.chdir(dir_BigFeta.as_posix())\n",
    "subprocess.run(['python', '-m', 'bigfeta.bigfeta', '--input_json', stitch_json.as_posix()])\n",
    "os.chdir(cwd)"
   ]
  },
  {
   "cell_type": "markdown",
   "id": "abb5fdfb-0e0f-4a04-a70e-d3275a8f6580",
   "metadata": {},
   "source": [
    "### Inspect"
   ]
  },
  {
   "cell_type": "code",
   "execution_count": 42,
   "id": "ef74803c-dff3-4315-9e10-484de54ff937",
   "metadata": {
    "tags": []
   },
   "outputs": [
    {
     "data": {
      "application/vnd.jupyter.widget-view+json": {
       "model_id": "ddb849341f0e4c9fb5ef041ce03be20d",
       "version_major": 2,
       "version_minor": 0
      },
      "text/plain": [
       "  0%|          | 0/2 [00:00<?, ?it/s]"
      ]
     },
     "metadata": {},
     "output_type": "display_data"
    },
    {
     "data": {
      "application/vnd.jupyter.widget-view+json": {
       "model_id": "0eb7b2e891bc4c27acadec5a584209c8",
       "version_major": 2,
       "version_minor": 0
      },
      "text/plain": [
       "interactive(children=(IntSlider(value=0, description='z', max=2), IntSlider(value=28502, description='vmin', m…"
      ]
     },
     "metadata": {},
     "output_type": "display_data"
    }
   ],
   "source": [
    "# Plot stacks\n",
    "stacks = [\"postcorrection\", \"postcorrection_stitched\"]\n",
    "plotting.plot_stacks(\n",
    "    stacks,\n",
    "    **params_render\n",
    ")"
   ]
  },
  {
   "cell_type": "markdown",
   "id": "1614850d",
   "metadata": {},
   "source": [
    "### Filter tiles with no point matches (substrate/resin tiles)\n",
    "---"
   ]
  },
  {
   "cell_type": "code",
   "execution_count": null,
   "id": "582bae90",
   "metadata": {},
   "outputs": [],
   "source": [
    "z_values = renderapi.stack.get_z_values_for_stack(stack=f\"{stack}_stitched\",\n",
    "                                                  **params_render)\n",
    "tileIds = renderapi.stack.get_stack_tileIds(stack=f\"{stack}_stitched\",\n",
    "                                            **params_render)\n",
    "match_tileIds = []\n",
    "# Loop over z-values\n",
    "for z in tqdm(z_values,\n",
    "              desc=\"Finding tiles with matches\",\n",
    "              total=len(z_values),\n",
    "              unit=\" z-levels\"):\n",
    "    # SectionId to find tilepairs and matches for\n",
    "    sectionId = renderapi.stack.get_sectionId_for_z(stack=f\"{stack}_stitched\",\n",
    "                                                    z=z,\n",
    "                                                    **params_render)\n",
    "    # Get match groupIds (all Ids for which there exist matches)\n",
    "    matches = renderapi.pointmatch.get_matches_within_group(match_collection,\n",
    "                                                            groupId=sectionId,\n",
    "                                                            **params_render)\n",
    "    # tileIds with matches\n",
    "    for match in matches:\n",
    "        match_tileIds.append(match['pId'])\n",
    "# Get all tileIds\n",
    "all_tile_Ids = renderapi.stack.get_stack_tileIds(stack=f\"{stack}_stitched\",\n",
    "                                                 **params_render)\n",
    "# If no matches, island tile\n",
    "island_tileIds = [tileId for tileId in all_tile_Ids if tileId not in match_tileIds]"
   ]
  },
  {
   "cell_type": "code",
   "execution_count": null,
   "id": "d2486a3e",
   "metadata": {},
   "outputs": [],
   "source": [
    "# Clone stack to create filtered stack\n",
    "renderapi.stack.clone_stack(f\"{stack}_stitched\",\n",
    "                            f\"{stack}_stitched_filtered\",\n",
    "                            **params_render)\n",
    "\n",
    "# Filter stack\n",
    "renderapi.stack.set_stack_state(stack=f\"{stack}_stitched_filtered\",\n",
    "                                state='LOADING',\n",
    "                                **params_render)\n",
    "for tileId in island_tileIds:\n",
    "    renderapi.stack.delete_tile(stack=f\"{stack}_stitched_filtered\",\n",
    "                                tileId=tileId,\n",
    "                                **params_render)                                \n",
    "renderapi.stack.set_stack_state(stack=f\"{stack}_stitched_filtered\",\n",
    "                                state='COMPLETE',\n",
    "                                **params_render)"
   ]
  },
  {
   "cell_type": "markdown",
   "id": "2512a0c4",
   "metadata": {},
   "source": [
    "### Inspect filtered stack"
   ]
  },
  {
   "cell_type": "code",
   "execution_count": null,
   "id": "9fc46b05",
   "metadata": {},
   "outputs": [],
   "source": [
    "# Plot stacks\n",
    "stacks = [f\"{stack}_stitched\", f\"{stack}_stitched_filtered\"]\n",
    "plotting.plot_stacks(\n",
    "    stacks,\n",
    "    **params_render\n",
    ")"
   ]
  }
 ],
 "metadata": {
  "kernelspec": {
   "display_name": "Python 3 (ipykernel)",
   "language": "python",
   "name": "python3"
  },
  "language_info": {
   "codemirror_mode": {
    "name": "ipython",
    "version": 3
   },
   "file_extension": ".py",
   "mimetype": "text/x-python",
   "name": "python",
   "nbconvert_exporter": "python",
   "pygments_lexer": "ipython3",
   "version": "3.10.12"
  }
 },
 "nbformat": 4,
 "nbformat_minor": 5
}
