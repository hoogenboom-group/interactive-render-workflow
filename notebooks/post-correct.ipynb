{
 "cells": [
  {
   "cell_type": "markdown",
   "metadata": {},
   "source": [
    "# Post-correction\n",
    "---\n",
    "\n",
    "#### Overview\n",
    "Prior to import to render-ws, apply post-correction to FAST-EM images. This notebook supports interactive selection of the optimal parameters for post-correction.  \n",
    "Optimal parameters can be applied to all data via the command line script or in the notebook."
   ]
  },
  {
   "cell_type": "code",
   "execution_count": 3,
   "metadata": {},
   "outputs": [],
   "source": [
    "import pathlib\n",
    "from natsort import natsorted\n",
    "import fnmatch\n",
    "\n",
    "from scripted_render_pipeline.postcorrector.post_corrector import Post_Corrector\n",
    "from interactive_render.plotting import plot_images_with_artefacts\n",
    "\n",
    "# indirectly enable autocomplete\n",
    "%config Completer.use_jedi = False\n",
    "\n",
    "# autoreload modules\n",
    "%load_ext autoreload\n",
    "%autoreload 2"
   ]
  },
  {
   "cell_type": "markdown",
   "metadata": {},
   "source": [
    "#### Parameters\n",
    "\n",
    "* `dir_project` : path to project directory -- assumes subdirectories are the ROA's (which are further assumed to be sections)\n",
    "* `project_paths (optional)` : paths to ROA directories -- assumes contents are (a grid of) tiff files\n",
    "* `parallel`: how many threads to use in parallel, optimises io usage\n",
    "* `clobber`: whether to allow overwriting of corrected images\n",
    "* `pct` : Percentile used in artifact detection\n",
    "*  `a` : Scaling factor for thresholding the deviation from the median. Increasing `a` will allow for larger deviations"
   ]
  },
  {
   "cell_type": "code",
   "execution_count": 4,
   "metadata": {},
   "outputs": [
    {
     "data": {
      "text/plain": [
       "{0: PosixPath('/long_term_storage/akievits/FAST-EM/20230914_RP_exocrine_partial_test/S054'),\n",
       " 1: PosixPath('/long_term_storage/akievits/FAST-EM/20230914_RP_exocrine_partial_test/S055'),\n",
       " 2: PosixPath('/long_term_storage/akievits/FAST-EM/20230914_RP_exocrine_partial_test/S056')}"
      ]
     },
     "execution_count": 4,
     "metadata": {},
     "output_type": "execute_result"
    }
   ],
   "source": [
    "# set project directory\n",
    "dir_project = pathlib.Path(\"/long_term_storage/akievits/FAST-EM/20230914_RP_exocrine_partial_test/\")\n",
    "\n",
    "# set parameters for correction\n",
    "params_process = {\n",
    "    \"parallel\": 40,\n",
    "    \"clobber\": True,\n",
    "    \"pct\": 0.1,\n",
    "    \"a\": 1\n",
    "}\n",
    "\n",
    "# collect filepaths to ROA's\n",
    "fps_ROA = natsorted([fp for fp in dir_project.glob(\"*\") if (fp.is_dir() and fnmatch.fnmatch(fp.name, 'S*'))])\n",
    "fps_ROA = {k: v for k, v in enumerate(fps_ROA)}\n",
    "fps_ROA"
   ]
  },
  {
   "cell_type": "markdown",
   "metadata": {},
   "source": [
    "#### Inspect section"
   ]
  },
  {
   "cell_type": "code",
   "execution_count": 6,
   "metadata": {},
   "outputs": [
    {
     "data": {
      "text/plain": [
       "[PosixPath('/long_term_storage/akievits/FAST-EM/20230914_RP_exocrine_partial_test/S055/000_000_0.tiff'),\n",
       " PosixPath('/long_term_storage/akievits/FAST-EM/20230914_RP_exocrine_partial_test/S055/000_001_0.tiff'),\n",
       " PosixPath('/long_term_storage/akievits/FAST-EM/20230914_RP_exocrine_partial_test/S055/000_002_0.tiff'),\n",
       " PosixPath('/long_term_storage/akievits/FAST-EM/20230914_RP_exocrine_partial_test/S055/000_003_0.tiff'),\n",
       " PosixPath('/long_term_storage/akievits/FAST-EM/20230914_RP_exocrine_partial_test/S055/000_004_0.tiff')]"
      ]
     },
     "execution_count": 6,
     "metadata": {},
     "output_type": "execute_result"
    }
   ],
   "source": [
    "z = 1\n",
    "filepaths_raw = [fp for fp in fps_ROA[z].glob(\"*.tiff\")]\n",
    "filepaths_raw[0:5]"
   ]
  },
  {
   "cell_type": "code",
   "execution_count": 7,
   "metadata": {},
   "outputs": [],
   "source": [
    "# Calculate median and median absolute deviation (mad)\n",
    "pct = 0.1\n",
    "postcorrector = Post_Corrector(project_path=dir_project)\n",
    "med = postcorrector.get_med(filepaths=filepaths_raw, \n",
    "                            pct=pct)\n",
    "mad = postcorrector.get_mad(filepaths=filepaths_raw, \n",
    "                            med=med, \n",
    "                            pct=pct)"
   ]
  },
  {
   "cell_type": "code",
   "execution_count": 8,
   "metadata": {},
   "outputs": [
    {
     "data": {
      "application/vnd.jupyter.widget-view+json": {
       "model_id": "4dac2441bdfe43e790984e5a9fbe3e57",
       "version_major": 2,
       "version_minor": 0
      },
      "text/plain": [
       "  0%|          | 0/25 [00:00<?, ?it/s]"
      ]
     },
     "metadata": {},
     "output_type": "display_data"
    },
    {
     "data": {
      "application/vnd.jupyter.widget-view+json": {
       "model_id": "d9fac834e4994953b5ddccdadd42c184",
       "version_major": 2,
       "version_minor": 0
      },
      "text/plain": [
       "interactive(children=(FloatText(value=0.1, description='percentile'), FloatText(value=1.0, description='scalin…"
      ]
     },
     "metadata": {},
     "output_type": "display_data"
    }
   ],
   "source": [
    "# Visualize fields with artefacts\n",
    "plot_images_with_artefacts(filepaths=filepaths_raw,\n",
    "                           med=med,\n",
    "                           mad=mad)"
   ]
  },
  {
   "cell_type": "markdown",
   "metadata": {},
   "source": [
    "#### Post-correct all sections"
   ]
  },
  {
   "cell_type": "code",
   "execution_count": 7,
   "metadata": {},
   "outputs": [
    {
     "data": {
      "text/plain": [
       "[PosixPath('/long_term_storage/akievits/FAST-EM/20230914_RP_exocrine_partial_test/S056'),\n",
       " PosixPath('/long_term_storage/akievits/FAST-EM/20230914_RP_exocrine_partial_test/S054'),\n",
       " PosixPath('/long_term_storage/akievits/FAST-EM/20230914_RP_exocrine_partial_test/S055')]"
      ]
     },
     "execution_count": 7,
     "metadata": {},
     "output_type": "execute_result"
    }
   ],
   "source": [
    "project_paths = [p for p in dir_project.iterdir() if p.is_dir() and fnmatch.fnmatch(p.name, 'S*')]\n",
    "project_paths"
   ]
  },
  {
   "cell_type": "code",
   "execution_count": 9,
   "metadata": {},
   "outputs": [
    {
     "name": "stderr",
     "output_type": "stream",
     "text": [
      "post-correcting sections: 100%|██████████| 3/3 [05:42<00:00, 114.05s/sections]\n"
     ]
    }
   ],
   "source": [
    "postcorrector = Post_Corrector(project_path=dir_project,\n",
    "                               parallel=40,\n",
    "                               clobber=True,\n",
    "                               pct=0.1, # Set to optimal value\n",
    "                               a=3, # Set to optimal value\n",
    "                               project_paths=project_paths\n",
    "                               )\n",
    "postcorrector.post_correct_all_sections()"
   ]
  }
 ],
 "metadata": {
  "kernelspec": {
   "display_name": ".venv",
   "language": "python",
   "name": "python3"
  },
  "language_info": {
   "codemirror_mode": {
    "name": "ipython",
    "version": 3
   },
   "file_extension": ".py",
   "mimetype": "text/x-python",
   "name": "python",
   "nbconvert_exporter": "python",
   "pygments_lexer": "ipython3",
   "version": "3.10.12"
  }
 },
 "nbformat": 4,
 "nbformat_minor": 2
}
