{
 "cells": [
  {
   "cell_type": "markdown",
   "metadata": {},
   "source": [
    "# Post-correction\n",
    "---\n",
    "\n",
    "#### Overview\n",
    "Prior to import to render-ws, apply post-correction to FAST-EM images. This notebook supports interactive selection of the optimal parameters for post-correction.  \n",
    "Optimal parameters can be applied to all data via the command line script or in the notebook."
   ]
  },
  {
   "cell_type": "code",
   "execution_count": 2,
   "metadata": {},
   "outputs": [
    {
     "name": "stdout",
     "output_type": "stream",
     "text": [
      "The autoreload extension is already loaded. To reload it, use:\n",
      "  %reload_ext autoreload\n"
     ]
    }
   ],
   "source": [
    "import pathlib\n",
    "from natsort import natsorted\n",
    "import fnmatch\n",
    "import logging\n",
    "\n",
    "from scripted_render_pipeline.postcorrector.post_corrector import Post_Corrector\n",
    "from interactive_render.plotting import plot_images_with_artefacts\n",
    "\n",
    "# indirectly enable autocomplete\n",
    "%config Completer.use_jedi = False\n",
    "\n",
    "# autoreload modules\n",
    "%load_ext autoreload\n",
    "%autoreload 2"
   ]
  },
  {
   "cell_type": "markdown",
   "metadata": {},
   "source": [
    "#### Parameters\n",
    "\n",
    "* `dir_project` : path to project directory -- assumes subdirectories are the ROA's (which are further assumed to be sections)\n",
    "* `project_paths (optional)` : paths to ROA directories -- assumes contents are (a grid of) tiff files\n",
    "* `parallel`: how many threads to use in parallel, optimises io usage\n",
    "* `clobber`: whether to allow overwriting of corrected images\n",
    "* `pct` : Percentile used in artifact detection\n",
    "*  `a` : Scaling factor for thresholding the deviation from the median. Increasing `a` will allow for larger deviations"
   ]
  },
  {
   "cell_type": "code",
   "execution_count": 3,
   "metadata": {},
   "outputs": [
    {
     "data": {
      "text/plain": [
       "{0: PosixPath('/long_term_storage/akievits/FAST-EM/tests/20231107_MCF7_UAC_test/S000'),\n",
       " 1: PosixPath('/long_term_storage/akievits/FAST-EM/tests/20231107_MCF7_UAC_test/S001'),\n",
       " 2: PosixPath('/long_term_storage/akievits/FAST-EM/tests/20231107_MCF7_UAC_test/S002')}"
      ]
     },
     "execution_count": 3,
     "metadata": {},
     "output_type": "execute_result"
    }
   ],
   "source": [
    "# set project directory\n",
    "dir_project = pathlib.Path(\"/long_term_storage/akievits/FAST-EM/tests/20231107_MCF7_UAC_test/\")\n",
    "\n",
    "# set parameters for correction\n",
    "params_process = {\n",
    "    \"parallel\": 40,\n",
    "    \"clobber\": True,\n",
    "    \"pct\": 0.1,\n",
    "    \"a\": 1\n",
    "}\n",
    "\n",
    "# collect filepaths to ROA's\n",
    "fps_ROA = natsorted([fp for fp in dir_project.glob(\"*\") if (fp.is_dir() and fnmatch.fnmatch(fp.name, 'S*'))])\n",
    "fps_ROA = {k: v for k, v in enumerate(fps_ROA)}\n",
    "fps_ROA"
   ]
  },
  {
   "cell_type": "markdown",
   "metadata": {},
   "source": [
    "#### Inspect section"
   ]
  },
  {
   "cell_type": "code",
   "execution_count": 4,
   "metadata": {},
   "outputs": [
    {
     "data": {
      "text/plain": [
       "[PosixPath('/long_term_storage/akievits/FAST-EM/tests/20231107_MCF7_UAC_test/S001/000_000_0.tiff'),\n",
       " PosixPath('/long_term_storage/akievits/FAST-EM/tests/20231107_MCF7_UAC_test/S001/000_001_0.tiff'),\n",
       " PosixPath('/long_term_storage/akievits/FAST-EM/tests/20231107_MCF7_UAC_test/S001/000_002_0.tiff'),\n",
       " PosixPath('/long_term_storage/akievits/FAST-EM/tests/20231107_MCF7_UAC_test/S001/000_003_0.tiff'),\n",
       " PosixPath('/long_term_storage/akievits/FAST-EM/tests/20231107_MCF7_UAC_test/S001/000_004_0.tiff')]"
      ]
     },
     "execution_count": 4,
     "metadata": {},
     "output_type": "execute_result"
    }
   ],
   "source": [
    "z = 1\n",
    "filepaths_raw = [fp for fp in fps_ROA[z].glob(\"*.tiff\")]\n",
    "filepaths_raw[0:5]"
   ]
  },
  {
   "cell_type": "code",
   "execution_count": 5,
   "metadata": {},
   "outputs": [],
   "source": [
    "# Calculate median and median absolute deviation (mad)\n",
    "pct = 0.1\n",
    "postcorrector = Post_Corrector(project_path=dir_project)\n",
    "med = postcorrector.get_med(filepaths=filepaths_raw, \n",
    "                            pct=params_process[\"pct\"])\n",
    "mad = postcorrector.get_mad(filepaths=filepaths_raw, \n",
    "                            med=med, \n",
    "                            pct=params_process[\"pct\"])"
   ]
  },
  {
   "cell_type": "code",
   "execution_count": 6,
   "metadata": {},
   "outputs": [
    {
     "data": {
      "application/vnd.jupyter.widget-view+json": {
       "model_id": "785822dfe9ec4d3f85802be7252d698d",
       "version_major": 2,
       "version_minor": 0
      },
      "text/plain": [
       "  0%|          | 0/25 [00:00<?, ?it/s]"
      ]
     },
     "metadata": {},
     "output_type": "display_data"
    },
    {
     "data": {
      "application/vnd.jupyter.widget-view+json": {
       "model_id": "bcc39d3f14c940928c4bdf426549f640",
       "version_major": 2,
       "version_minor": 0
      },
      "text/plain": [
       "interactive(children=(FloatText(value=0.1, description='percentile'), FloatText(value=1.0, description='scalin…"
      ]
     },
     "metadata": {},
     "output_type": "display_data"
    }
   ],
   "source": [
    "# Visualize fields with artefacts\n",
    "plot_images_with_artefacts(filepaths=filepaths_raw,\n",
    "                           med=med,\n",
    "                           mad=mad)"
   ]
  },
  {
   "cell_type": "markdown",
   "metadata": {},
   "source": [
    "#### Get MED and MAD from sample of images in all sections"
   ]
  },
  {
   "cell_type": "code",
   "execution_count": 8,
   "metadata": {},
   "outputs": [],
   "source": [
    "import random"
   ]
  },
  {
   "cell_type": "code",
   "execution_count": 9,
   "metadata": {},
   "outputs": [],
   "source": [
    "n = 10\n",
    "fps_total = []\n",
    "for z in fps_ROA:\n",
    "    fps_sample = random.sample([fp for fp in fps_ROA[z].glob(\"*.tiff\")], n)\n",
    "    fps_total = fps_total + fps_sample"
   ]
  },
  {
   "cell_type": "code",
   "execution_count": 10,
   "metadata": {},
   "outputs": [],
   "source": [
    "# Calculate median and median absolute deviation (mad) from sample\n",
    "postcorrector = Post_Corrector(project_path=dir_project)\n",
    "med = postcorrector.get_med(filepaths=fps_total, \n",
    "                            pct=params_process[\"pct\"])\n",
    "mad = postcorrector.get_mad(filepaths=fps_total, \n",
    "                            med=med, \n",
    "                            pct=params_process[\"pct\"])"
   ]
  },
  {
   "cell_type": "markdown",
   "metadata": {},
   "source": [
    "Inspect section"
   ]
  },
  {
   "cell_type": "code",
   "execution_count": 15,
   "metadata": {},
   "outputs": [
    {
     "data": {
      "text/plain": [
       "[PosixPath('/long_term_storage/akievits/FAST-EM/tests/20231107_MCF7_UAC_test/S000/000_000_0.tiff'),\n",
       " PosixPath('/long_term_storage/akievits/FAST-EM/tests/20231107_MCF7_UAC_test/S000/000_001_0.tiff'),\n",
       " PosixPath('/long_term_storage/akievits/FAST-EM/tests/20231107_MCF7_UAC_test/S000/000_002_0.tiff'),\n",
       " PosixPath('/long_term_storage/akievits/FAST-EM/tests/20231107_MCF7_UAC_test/S000/000_003_0.tiff'),\n",
       " PosixPath('/long_term_storage/akievits/FAST-EM/tests/20231107_MCF7_UAC_test/S000/000_004_0.tiff')]"
      ]
     },
     "execution_count": 15,
     "metadata": {},
     "output_type": "execute_result"
    }
   ],
   "source": [
    "z = 0\n",
    "filepaths_raw = [fp for fp in fps_ROA[z].glob(\"*.tiff\")]\n",
    "filepaths_raw[0:5]"
   ]
  },
  {
   "cell_type": "code",
   "execution_count": 16,
   "metadata": {},
   "outputs": [
    {
     "data": {
      "application/vnd.jupyter.widget-view+json": {
       "model_id": "5c0818cdcdc6407fb3fe4837645cf68f",
       "version_major": 2,
       "version_minor": 0
      },
      "text/plain": [
       "  0%|          | 0/25 [00:00<?, ?it/s]"
      ]
     },
     "metadata": {},
     "output_type": "display_data"
    },
    {
     "data": {
      "application/vnd.jupyter.widget-view+json": {
       "model_id": "685af066bf794ae08feb30be326902a4",
       "version_major": 2,
       "version_minor": 0
      },
      "text/plain": [
       "interactive(children=(FloatText(value=0.1, description='percentile'), FloatText(value=1.0, description='scalin…"
      ]
     },
     "metadata": {},
     "output_type": "display_data"
    }
   ],
   "source": [
    "# Visualize fields with artefacts\n",
    "plot_images_with_artefacts(filepaths=filepaths_raw,\n",
    "                           med=med,\n",
    "                           mad=mad,\n",
    "                           )"
   ]
  },
  {
   "cell_type": "markdown",
   "metadata": {},
   "source": [
    "#### Post-correct all sections"
   ]
  },
  {
   "cell_type": "code",
   "execution_count": 7,
   "metadata": {},
   "outputs": [
    {
     "data": {
      "text/plain": [
       "[PosixPath('/long_term_storage/akievits/FAST-EM/20230914_RP_exocrine_partial_test/S056'),\n",
       " PosixPath('/long_term_storage/akievits/FAST-EM/20230914_RP_exocrine_partial_test/S054'),\n",
       " PosixPath('/long_term_storage/akievits/FAST-EM/20230914_RP_exocrine_partial_test/S055')]"
      ]
     },
     "execution_count": 7,
     "metadata": {},
     "output_type": "execute_result"
    }
   ],
   "source": [
    "project_paths = [p for p in dir_project.iterdir() if p.is_dir() and fnmatch.fnmatch(p.name, 'S*')]\n",
    "project_paths"
   ]
  },
  {
   "cell_type": "code",
   "execution_count": 9,
   "metadata": {},
   "outputs": [
    {
     "name": "stderr",
     "output_type": "stream",
     "text": [
      "post-correcting sections: 100%|██████████| 3/3 [05:42<00:00, 114.05s/sections]\n"
     ]
    }
   ],
   "source": [
    "postcorrector = Post_Corrector(project_path=dir_project,\n",
    "                               parallel=params_process[\"parallel\"],\n",
    "                               clobber=params_process[\"clobber\"],\n",
    "                               pct=0.1, # Set to optimal value\n",
    "                               a=3, # Set to optimal value\n",
    "                               project_paths=project_paths\n",
    "                               )\n",
    "\n",
    "failed_sections = postcorrector.post_correct_all_sections()\n",
    "if not failed_sections:\n",
    "    logging.info(\"post-correction completed succesfully\")\n",
    "else:\n",
    "    logging.info(\"Post_correction failed for: %s\", [section.name for section in failed_sections])      \n",
    "    logging.info(\"Detected failed sections. Rerunning post-correction using nearest available correction image\")\n",
    "    postcorrector.post_correct_failed_sections(failed_sections)"
   ]
  }
 ],
 "metadata": {
  "kernelspec": {
   "display_name": ".venv",
   "language": "python",
   "name": "python3"
  },
  "language_info": {
   "codemirror_mode": {
    "name": "ipython",
    "version": 3
   },
   "file_extension": ".py",
   "mimetype": "text/x-python",
   "name": "python",
   "nbconvert_exporter": "python",
   "pygments_lexer": "ipython3",
   "version": "3.10.12"
  }
 },
 "nbformat": 4,
 "nbformat_minor": 2
}
