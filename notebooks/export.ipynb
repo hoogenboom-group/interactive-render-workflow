{
 "cells": [
  {
   "cell_type": "markdown",
   "metadata": {},
   "source": [
    "# Export\n",
    "---\n",
    "\n",
    "#### Overview\n",
    "Export data from render-ws to WebKnossos"
   ]
  },
  {
   "cell_type": "code",
   "execution_count": 1,
   "metadata": {},
   "outputs": [],
   "source": [
    "# indirectly enable autocomplete\n",
    "%config Completer.use_jedi = False\n",
    "\n",
    "# autoreload modules\n",
    "%load_ext autoreload\n",
    "%autoreload 2"
   ]
  },
  {
   "cell_type": "code",
   "execution_count": 2,
   "metadata": {},
   "outputs": [],
   "source": [
    "import requests\n",
    "import renderapi\n",
    "\n",
    "from scripted_render_pipeline.exporter.webknossos_exporter import Webknossos_Exporter\n",
    "from scripted_render_pipeline import basic_auth"
   ]
  },
  {
   "cell_type": "code",
   "execution_count": 3,
   "metadata": {},
   "outputs": [],
   "source": [
    "# create an authorized session\n",
    "auth = basic_auth.load_auth()\n",
    "sesh = requests.Session()\n",
    "sesh.auth = auth\n",
    "project = \"20231107_MCF7_UAC_test\"\n",
    "stacks_2_export = [\"postcorrection\", \"postcorrection_stitched\"]\n",
    "\n",
    "# render-ws environment variables\n",
    "params_render = {\n",
    "    \"host\": \"http://localhost\",\n",
    "    \"port\": 8081,\n",
    "    \"client_scripts\": \"/home/catmaid/render/render-ws-java-client/src/main/scripts\",\n",
    "    \"client_script\": \"/home/catmaid/render/render-ws-java-client/src/main/scripts/run_ws_client.sh\",\n",
    "    \"owner\": \"akievits\",\n",
    "    \"project\": project,\n",
    "    \"session\": sesh\n",
    "}\n",
    "\n",
    "# Get voxel size\n",
    "stack_metadata = [renderapi.stack.get_stack_metadata(stack, **params_render) for stack in stacks_2_export]\n",
    "voxel_size = stack_metadata[0].stackResolutionX, stack_metadata[0].stackResolutionY, stack_metadata[0].stackResolutionZ\n",
    "\n",
    "# export parameters\n",
    "params_export = {\n",
    "    \"location\": \"/long_term_storage/webknossos/binaryData/hoogenboom-group/20231107_MCF7_UAC_test\",\n",
    "    \"host\": \"https://sonic.tnw.tudelft.nl\",\n",
    "    \"owner\": \"akievits\",\n",
    "    \"project\": project,\n",
    "    \"voxel_size\": voxel_size,\n",
    "    \"downsample\": 7,\n",
    "    \"processes\": 8\n",
    "}"
   ]
  },
  {
   "cell_type": "code",
   "execution_count": 4,
   "metadata": {},
   "outputs": [],
   "source": [
    "wk_exporter = Webknossos_Exporter(\n",
    "    **params_export\n",
    "    )\n",
    "\n",
    "wk_exporter.download_project(\n",
    "    stacks=stacks_2_export\n",
    "    )"
   ]
  },
  {
   "cell_type": "code",
   "execution_count": null,
   "metadata": {},
   "outputs": [],
   "source": []
  }
 ],
 "metadata": {
  "kernelspec": {
   "display_name": ".venv",
   "language": "python",
   "name": "python3"
  },
  "language_info": {
   "codemirror_mode": {
    "name": "ipython",
    "version": 3
   },
   "file_extension": ".py",
   "mimetype": "text/x-python",
   "name": "python",
   "nbconvert_exporter": "python",
   "pygments_lexer": "ipython3",
   "version": "3.10.12"
  }
 },
 "nbformat": 4,
 "nbformat_minor": 2
}
