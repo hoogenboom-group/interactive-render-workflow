{
 "cells": [
  {
   "cell_type": "markdown",
   "metadata": {},
   "source": [
    "# Align\n",
    "---\n",
    "\n",
    "#### Overview\n",
    "Interactive 3D alignment of serial sections."
   ]
  },
  {
   "cell_type": "code",
   "execution_count": 15,
   "metadata": {},
   "outputs": [],
   "source": [
    "import pathlib\n",
    "import requests\n",
    "\n",
    "from tqdm.notebook import tqdm\n",
    "import numpy as np\n",
    "import matplotlib.pyplot as plt\n",
    "import renderapi\n",
    "import os\n",
    "\n",
    "from scripted_render_pipeline import basic_auth\n",
    "from scripted_render_pipeline.importer import uploader\n",
    "from interactive_render import plotting\n",
    "from interactive_render.utils import clear_image_cache"
   ]
  },
  {
   "cell_type": "markdown",
   "metadata": {},
   "source": [
    "#### `render-ws` environment variables"
   ]
  },
  {
   "cell_type": "code",
   "execution_count": 16,
   "metadata": {},
   "outputs": [],
   "source": [
    "# create an authorized session\n",
    "auth = basic_auth.load_auth()\n",
    "sesh = requests.Session()\n",
    "sesh.auth = auth\n",
    "\n",
    "# render-ws environment variables\n",
    "params_render = {\n",
    "    \"host\": \"http://localhost\",\n",
    "    \"port\": 8081,\n",
    "    \"client_scripts\": \"/home/catmaid/render/render-ws-java-client/src/main/scripts\",\n",
    "    \"client_script\": \"/home/catmaid/render/render-ws-java-client/src/main/scripts/run_ws_client.sh\",\n",
    "    \"owner\": \"akievits\",\n",
    "    \"project\": \"20230914_RP_exocrine_partial_test\",\n",
    "    \"session\": sesh\n",
    "}\n",
    "\n",
    "params_uploader = {\n",
    "    \"host\": \"https://sonic.tnw.tudelft.nl\",\n",
    "    \"owner\": \"akievits\",\n",
    "    \"project\": \"20230914_RP_exocrine_partial_test\",\n",
    "    \"auth\": auth\n",
    "}\n",
    "\n",
    "# set project directory\n",
    "dir_project = pathlib.Path(\"/long_term_storage/akievits/FAST-EM/20230914_RP_exocrine_partial_test/\")"
   ]
  },
  {
   "cell_type": "markdown",
   "metadata": {},
   "source": [
    "## 2) Rough alignment (I)\n",
    "---\n",
    "Perform rough alignment of downsamples section images\n",
    "\n",
    "### Create downsampled montage stack"
   ]
  },
  {
   "cell_type": "code",
   "execution_count": 17,
   "metadata": {},
   "outputs": [],
   "source": [
    "from interactive_render.utils import create_downsampled_stack"
   ]
  },
  {
   "cell_type": "code",
   "execution_count": 18,
   "metadata": {},
   "outputs": [],
   "source": [
    "# Set stacks for downsampling\n",
    "stack_2_downsample = {\n",
    "    'in': 'postcorrection_stitched',\n",
    "    'out': 'postcorrection_dsmontages'\n",
    "}"
   ]
  },
  {
   "cell_type": "code",
   "execution_count": 19,
   "metadata": {},
   "outputs": [
    {
     "data": {
      "application/vnd.jupyter.widget-view+json": {
       "model_id": "c54c5dd0bc4241e9a1ea66c8b035b704",
       "version_major": 2,
       "version_minor": 0
      },
      "text/plain": [
       "  0%|          | 0/3 [00:00<?, ?it/s]"
      ]
     },
     "metadata": {},
     "output_type": "display_data"
    },
    {
     "name": "stderr",
     "output_type": "stream",
     "text": [
      "uploading: 100%|██████████| 1/1 [00:00<00:00,  2.09stacks/s]\n"
     ]
    }
   ],
   "source": [
    "# Create downsampled stack\n",
    "ds_stack = create_downsampled_stack(dir_project, \n",
    "                                    stack_2_downsample, \n",
    "                                    **params_render)\n",
    "# Upload\n",
    "# initialize uploader\n",
    "uppity = uploader.Uploader(\n",
    "        **params_uploader,\n",
    "        clobber=False\n",
    ")\n",
    "\n",
    "# import stack to render-ws\n",
    "uppity.upload_to_render(\n",
    "    stacks=[ds_stack],\n",
    "    z_resolution=100\n",
    ")"
   ]
  },
  {
   "cell_type": "markdown",
   "metadata": {},
   "source": [
    "### Inspect downsampled montage stack"
   ]
  },
  {
   "cell_type": "code",
   "execution_count": 20,
   "metadata": {},
   "outputs": [
    {
     "data": {
      "application/vnd.jupyter.widget-view+json": {
       "model_id": "31b69128e79a4ad88f2115f628954d12",
       "version_major": 2,
       "version_minor": 0
      },
      "text/plain": [
       "  0%|          | 0/1 [00:00<?, ?it/s]"
      ]
     },
     "metadata": {},
     "output_type": "display_data"
    },
    {
     "data": {
      "application/vnd.jupyter.widget-view+json": {
       "model_id": "69174a930cc64e72a3923736657d28e7",
       "version_major": 2,
       "version_minor": 0
      },
      "text/plain": [
       "interactive(children=(IntSlider(value=0, description='z', max=2), IntSlider(value=22338, description='vmin', m…"
      ]
     },
     "metadata": {},
     "output_type": "display_data"
    }
   ],
   "source": [
    "# plot stack\n",
    "plotting.plot_stacks(\n",
    "    [ds_stack.name],\n",
    "    width=1000,\n",
    "    vmin=0,\n",
    "    vmax=65535,\n",
    "    **params_render\n",
    ")"
   ]
  },
  {
   "cell_type": "markdown",
   "metadata": {},
   "source": [
    "## 3) Rough alignment (II)\n",
    "---\n",
    "Get point matches for `dsmontage` stack and roughly align\n",
    "### Align `dsmontage` stack\n"
   ]
  },
  {
   "cell_type": "code",
   "execution_count": 21,
   "metadata": {},
   "outputs": [],
   "source": [
    "ds_stack_2_align = {\n",
    "    'in': 'postcorrection_dsmontages',\n",
    "    'out': 'postcorrection_dsmontages_aligned'\n",
    "}"
   ]
  },
  {
   "cell_type": "markdown",
   "metadata": {},
   "source": [
    "### Get point matches\n",
    "\n",
    "Use `render-ws` `PointMatchClient` script to find matching features between the neighboring z-levels\n",
    "#### Collect tile pairs"
   ]
  },
  {
   "cell_type": "code",
   "execution_count": 22,
   "metadata": {},
   "outputs": [
    {
     "name": "stderr",
     "output_type": "stream",
     "text": [
      "WARNING:renderapi.client.client_calls:call_run_ws_client requires memory specification -- defaulting to 1G\n"
     ]
    },
    {
     "name": "stdout",
     "output_type": "stream",
     "text": [
      "Number of tile pairs... 2 \n",
      "-------------------------\n"
     ]
    },
    {
     "data": {
      "text/plain": [
       "[{'p': {'groupId': 'S003', 'id': 't0_z0.0_y0_x0'},\n",
       "  'q': {'groupId': 'S004', 'id': 't0_z1.0_y0_x0'}},\n",
       " {'p': {'groupId': 'S004', 'id': 't0_z1.0_y0_x0'},\n",
       "  'q': {'groupId': 'S005', 'id': 't0_z2.0_y0_x0'}}]"
      ]
     },
     "execution_count": 22,
     "metadata": {},
     "output_type": "execute_result"
    }
   ],
   "source": [
    "# choose stack from which to get tile pairs\n",
    "z_values = [int(z) for z in renderapi.stack.get_z_values_for_stack(\n",
    "    ds_stack_2_align['in'],\n",
    "    **params_render\n",
    ")]\n",
    "\n",
    "# Get tile pairs from the rough aligned stack\n",
    "tilepairs = renderapi.client.tilePairClient(\n",
    "    stack=ds_stack_2_align['in'],\n",
    "    minz=min(z_values),\n",
    "    maxz=max(z_values),\n",
    "    zNeighborDistance=1,  # half-height of search cylinder\n",
    "    excludeSameLayerNeighbors=False,\n",
    "    subprocess_mode=\"check_output\",  # suppresses output\n",
    "    **params_render\n",
    ")[\"neighborPairs\"]\n",
    "\n",
    "# Show tile pairs\n",
    "out = f\"Number of tile pairs... {len(tilepairs)}\"\n",
    "print(out, \"\\n\" + \"-\"*len(out))\n",
    "tilepairs[:5]"
   ]
  },
  {
   "cell_type": "code",
   "execution_count": 23,
   "metadata": {},
   "outputs": [],
   "source": [
    "from renderapi.client import (\n",
    "    SiftPointMatchOptions,\n",
    "    MatchDerivationParameters,\n",
    "    FeatureExtractionParameters\n",
    ")"
   ]
  },
  {
   "cell_type": "code",
   "execution_count": 24,
   "metadata": {},
   "outputs": [
    {
     "data": {
      "text/plain": [
       "'20230914_RP_exocrine_partial_test_postcorrection_dsmontages_matches'"
      ]
     },
     "execution_count": 24,
     "metadata": {},
     "output_type": "execute_result"
    }
   ],
   "source": [
    "# Name for pointmatch collection\n",
    "match_collection = f\"{params_render['project']}_{ds_stack_2_align['in']}_matches\"\n",
    "match_collection"
   ]
  },
  {
   "cell_type": "code",
   "execution_count": 25,
   "metadata": {},
   "outputs": [],
   "source": [
    "# renderapi.pointmatch.delete_collection(match_collection,\n",
    "#                                        **params_render)"
   ]
  },
  {
   "cell_type": "markdown",
   "metadata": {},
   "source": [
    "#### Set SIFT + RANSAC parameters"
   ]
  },
  {
   "cell_type": "code",
   "execution_count": 32,
   "metadata": {},
   "outputs": [
    {
     "data": {
      "text/plain": [
       "{'SIFTfdSize': 8,\n",
       " 'SIFTmaxScale': 0.5,\n",
       " 'SIFTminScale': 0.1,\n",
       " 'SIFTsteps': 7,\n",
       " 'matchIterations': None,\n",
       " 'matchMaxEpsilon': 25,\n",
       " 'matchMaxNumInliers': None,\n",
       " 'matchMaxTrust': None,\n",
       " 'matchMinInlierRatio': 0.05,\n",
       " 'matchMinNumInliers': 7,\n",
       " 'matchModelType': 'AFFINE',\n",
       " 'matchRod': 0.92,\n",
       " 'renderScale': None,\n",
       " 'fillWithNoise': True,\n",
       " 'numberOfThreads': 1}"
      ]
     },
     "execution_count": 32,
     "metadata": {},
     "output_type": "execute_result"
    }
   ],
   "source": [
    "# `RANSAC` parameters\n",
    "params_RANSAC = MatchDerivationParameters(\n",
    "    matchIterations=None,\n",
    "    matchMaxEpsilon=25,        # maximal alignment error\n",
    "    matchMaxNumInliers=None,\n",
    "    matchMaxTrust=None,\n",
    "    matchMinInlierRatio=0.05,  # minimal inlier ratio\n",
    "    matchMinNumInliers=7,      # minimal number of inliers\n",
    "    matchModelType='AFFINE',   # expected transformation\n",
    "    matchRod=0.92              # closest/next closest ratio\n",
    ")\n",
    "\n",
    "# `SIFT` parameters\n",
    "params_SIFT = FeatureExtractionParameters(\n",
    "    SIFTfdSize=8,              # feature descriptor size\n",
    "    SIFTmaxScale=0.50,         # (width/height *) maximum image size\n",
    "    SIFTminScale=0.1,         # (width/height *) minimum image size\n",
    "    SIFTsteps=5                # steps per scale octave\n",
    ")\n",
    "\n",
    "# Combined `SIFT` & `RANSAC` parameters\n",
    "params_SIFT = SiftPointMatchOptions(\n",
    "    fillWithNoise=True,\n",
    "    **{**params_RANSAC.__dict__,\n",
    "       **params_SIFT.__dict__}\n",
    ")\n",
    "\n",
    "# Extra parameters\n",
    "params_SIFT.numberOfThreads = 1  # multithreading\n",
    "params_SIFT.__dict__"
   ]
  },
  {
   "cell_type": "code",
   "execution_count": 33,
   "metadata": {},
   "outputs": [
    {
     "data": {
      "application/vnd.jupyter.widget-view+json": {
       "model_id": "a99ff86b0dc346b58450ed54fb9ac05a",
       "version_major": 2,
       "version_minor": 0
      },
      "text/plain": [
       "  0%|          | 0/2 [00:00<?, ?it/s]"
      ]
     },
     "metadata": {},
     "output_type": "display_data"
    },
    {
     "name": "stderr",
     "output_type": "stream",
     "text": [
      "WARNING:renderapi.client.client_calls:call_run_ws_client requires memory specification -- defaulting to 1G\n"
     ]
    },
    {
     "name": "stderr",
     "output_type": "stream",
     "text": [
      "WARNING:renderapi.client.client_calls:call_run_ws_client requires memory specification -- defaulting to 1G\n"
     ]
    }
   ],
   "source": [
    "# Loop through tile pairs\n",
    "for tp in tqdm(tilepairs):\n",
    "\n",
    "    # Format tile pair\n",
    "    tp_ids = (tp[\"p\"][\"id\"], tp[\"q\"][\"id\"])\n",
    "\n",
    "    # Run SIFT + RANSAC via render-ws PointMatchClient\n",
    "    renderapi.client.pointMatchClient(\n",
    "        stack=ds_stack_2_align['in'],\n",
    "        collection=match_collection,\n",
    "        tile_pairs=[tp_ids],\n",
    "        sift_options=params_SIFT,\n",
    "        excludeAllTransforms=True,\n",
    "        subprocess_mode='check_output',  # suppresses output\n",
    "        **params_render\n",
    "    )"
   ]
  },
  {
   "cell_type": "code",
   "execution_count": null,
   "metadata": {},
   "outputs": [
    {
     "data": {
      "application/vnd.jupyter.widget-view+json": {
       "model_id": "87fc7325fa4042a5992e1ccb4d6eee5e",
       "version_major": 2,
       "version_minor": 0
      },
      "text/plain": [
       "  0%|          | 0/1 [00:00<?, ?it/s]"
      ]
     },
     "metadata": {},
     "output_type": "display_data"
    },
    {
     "data": {
      "application/vnd.jupyter.widget-view+json": {
       "model_id": "1fc022430b5a4155a14d5401b7a912d8",
       "version_major": 2,
       "version_minor": 0
      },
      "text/plain": [
       "interactive(children=(IntSlider(value=0, description='z', max=1), Output()), _dom_classes=('widget-interact',)…"
      ]
     },
     "metadata": {},
     "output_type": "display_data"
    }
   ],
   "source": [
    "plotting.plot_dsstack_with_alignment_matches(\n",
    "    ds_stack_2_align['in'],\n",
    "    match_collection,\n",
    "    width=1000,\n",
    "    **params_render\n",
    ")"
   ]
  },
  {
   "cell_type": "code",
   "execution_count": null,
   "metadata": {},
   "outputs": [],
   "source": []
  }
 ],
 "metadata": {
  "kernelspec": {
   "display_name": ".venv",
   "language": "python",
   "name": "python3"
  },
  "language_info": {
   "codemirror_mode": {
    "name": "ipython",
    "version": 3
   },
   "file_extension": ".py",
   "mimetype": "text/x-python",
   "name": "python",
   "nbconvert_exporter": "python",
   "pygments_lexer": "ipython3",
   "version": "3.9.1"
  }
 },
 "nbformat": 4,
 "nbformat_minor": 2
}
