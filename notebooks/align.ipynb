{
 "cells": [
  {
   "cell_type": "markdown",
   "metadata": {},
   "source": [
    "# Align\n",
    "---\n",
    "\n",
    "#### Overview\n",
    "Interactive 3D alignment of serial sections."
   ]
  },
  {
   "cell_type": "code",
   "execution_count": 1,
   "metadata": {},
   "outputs": [],
   "source": [
    "import pathlib\n",
    "import requests\n",
    "\n",
    "from tqdm.notebook import tqdm\n",
    "import numpy as np\n",
    "import matplotlib.pyplot as plt\n",
    "import renderapi\n",
    "import os\n",
    "\n",
    "from scripted_render_pipeline import basic_auth\n",
    "from scripted_render_pipeline.importer import uploader\n",
    "from interactive_render import plotting\n",
    "from interactive_render.utils import clear_image_cache"
   ]
  },
  {
   "cell_type": "markdown",
   "metadata": {},
   "source": [
    "#### `render-ws` environment variables"
   ]
  },
  {
   "cell_type": "code",
   "execution_count": 2,
   "metadata": {},
   "outputs": [],
   "source": [
    "# create an authorized session\n",
    "auth = basic_auth.load_auth()\n",
    "sesh = requests.Session()\n",
    "sesh.auth = auth\n",
    "\n",
    "# render-ws environment variables\n",
    "params_render = {\n",
    "    \"host\": \"http://localhost\",\n",
    "    \"port\": 8081,\n",
    "    \"client_scripts\": \"/home/catmaid/render/render-ws-java-client/src/main/scripts\",\n",
    "    \"client_script\": \"/home/catmaid/render/render-ws-java-client/src/main/scripts/run_ws_client.sh\",\n",
    "    \"owner\": \"akievits\",\n",
    "    \"project\": \"20230914_RP_exocrine_partial_test\",\n",
    "    \"session\": sesh\n",
    "}\n",
    "\n",
    "params_uploader = {\n",
    "    \"host\": \"https://sonic.tnw.tudelft.nl\",\n",
    "    \"owner\": \"akievits\",\n",
    "    \"project\": \"20230914_RP_exocrine_partial_test\",\n",
    "    \"auth\": auth\n",
    "}\n",
    "\n",
    "# set project directory\n",
    "dir_project = pathlib.Path(\"/long_term_storage/akievits/FAST-EM/20230914_RP_exocrine_partial_test/\")"
   ]
  },
  {
   "cell_type": "markdown",
   "metadata": {},
   "source": [
    "## 2) Rough alignment (I)\n",
    "---\n",
    "Perform rough alignment of downsamples section images\n",
    "\n",
    "### Create downsampled montage stack"
   ]
  },
  {
   "cell_type": "code",
   "execution_count": 3,
   "metadata": {},
   "outputs": [],
   "source": [
    "from interactive_render.utils import create_downsampled_stack"
   ]
  },
  {
   "cell_type": "code",
   "execution_count": 4,
   "metadata": {},
   "outputs": [],
   "source": [
    "# Set stacks for downsampling\n",
    "stack_2_downsample = {\n",
    "    'in': 'postcorrection_stitched',\n",
    "    'out': 'postcorrection_dsmontages'\n",
    "}"
   ]
  },
  {
   "cell_type": "code",
   "execution_count": 5,
   "metadata": {},
   "outputs": [
    {
     "data": {
      "application/vnd.jupyter.widget-view+json": {
       "model_id": "fa5cbc4c689c4f42bdee0277e916724a",
       "version_major": 2,
       "version_minor": 0
      },
      "text/plain": [
       "  0%|          | 0/3 [00:00<?, ?it/s]"
      ]
     },
     "metadata": {},
     "output_type": "display_data"
    },
    {
     "name": "stderr",
     "output_type": "stream",
     "text": [
      "uploading: 100%|██████████| 1/1 [00:00<00:00,  4.24stacks/s]\n"
     ]
    }
   ],
   "source": [
    "# Create downsampled stack\n",
    "ds_stack = create_downsampled_stack(dir_project, \n",
    "                                    stack_2_downsample, \n",
    "                                    **params_render)\n",
    "# Upload\n",
    "# initialize uploader\n",
    "uppity = uploader.Uploader(\n",
    "        **params_uploader,\n",
    "        clobber=False\n",
    ")\n",
    "\n",
    "# import stack to render-ws\n",
    "uppity.upload_to_render(\n",
    "    stacks=[ds_stack],\n",
    "    z_resolution=100\n",
    ")"
   ]
  },
  {
   "cell_type": "markdown",
   "metadata": {},
   "source": [
    "### Inspect downsampled montage stack"
   ]
  },
  {
   "cell_type": "code",
   "execution_count": 6,
   "metadata": {},
   "outputs": [
    {
     "data": {
      "application/vnd.jupyter.widget-view+json": {
       "model_id": "7467ce4454714c0b9dca3eb32ca13193",
       "version_major": 2,
       "version_minor": 0
      },
      "text/plain": [
       "  0%|          | 0/1 [00:00<?, ?it/s]"
      ]
     },
     "metadata": {},
     "output_type": "display_data"
    },
    {
     "data": {
      "application/vnd.jupyter.widget-view+json": {
       "model_id": "7e0d609d518b466084749847d23df2e3",
       "version_major": 2,
       "version_minor": 0
      },
      "text/plain": [
       "interactive(children=(IntSlider(value=0, description='z', max=2), IntSlider(value=26, description='vmin', max=…"
      ]
     },
     "metadata": {},
     "output_type": "display_data"
    }
   ],
   "source": [
    "# plot stack\n",
    "plotting.plot_stacks(\n",
    "    [ds_stack.name],\n",
    "    width=1000,\n",
    "    vmin=0,\n",
    "    vmax=65535,\n",
    "    **params_render\n",
    ")"
   ]
  },
  {
   "cell_type": "markdown",
   "metadata": {},
   "source": [
    "## 3) Rough alignment (II)\n",
    "---\n",
    "Get point matches for `dsmontage` stack and roughly align\n",
    "### Align `dsmontage` stack"
   ]
  },
  {
   "cell_type": "code",
   "execution_count": 7,
   "metadata": {},
   "outputs": [],
   "source": [
    "ds_stack_2_align = {\n",
    "    'in': 'postcorrection_dsmontages',\n",
    "    'out': 'postcorrection_dsmontages_aligned'\n",
    "}"
   ]
  },
  {
   "cell_type": "markdown",
   "metadata": {},
   "source": [
    "### Get point matches\n",
    "\n",
    "Use `render-ws` `PointMatchClient` script to find matching features between the neighboring z-levels\n",
    "#### Collect tile pairs"
   ]
  },
  {
   "cell_type": "code",
   "execution_count": 8,
   "metadata": {},
   "outputs": [
    {
     "name": "stderr",
     "output_type": "stream",
     "text": [
      "WARNING:renderapi.client.client_calls:call_run_ws_client requires memory specification -- defaulting to 1G\n"
     ]
    },
    {
     "name": "stdout",
     "output_type": "stream",
     "text": [
      "Number of tile pairs... 2 \n",
      "-------------------------\n"
     ]
    },
    {
     "data": {
      "text/plain": [
       "[{'p': {'groupId': 'S003', 'id': 't0_z0.0_y0_x0'},\n",
       "  'q': {'groupId': 'S004', 'id': 't0_z1.0_y0_x0'}},\n",
       " {'p': {'groupId': 'S004', 'id': 't0_z1.0_y0_x0'},\n",
       "  'q': {'groupId': 'S005', 'id': 't0_z2.0_y0_x0'}}]"
      ]
     },
     "execution_count": 8,
     "metadata": {},
     "output_type": "execute_result"
    }
   ],
   "source": [
    "# choose stack from which to get tile pairs\n",
    "z_values = [int(z) for z in renderapi.stack.get_z_values_for_stack(\n",
    "    ds_stack_2_align['in'],\n",
    "    **params_render\n",
    ")]\n",
    "\n",
    "# Get tile pairs from the rough aligned stack\n",
    "tilepairs = renderapi.client.tilePairClient(\n",
    "    stack=ds_stack_2_align['in'],\n",
    "    minz=min(z_values),\n",
    "    maxz=max(z_values),\n",
    "    zNeighborDistance=1,  # half-height of search cylinder\n",
    "    excludeSameLayerNeighbors=False,\n",
    "    subprocess_mode=\"check_output\",  # suppresses output\n",
    "    **params_render\n",
    ")[\"neighborPairs\"]\n",
    "\n",
    "# Show tile pairs\n",
    "out = f\"Number of tile pairs... {len(tilepairs)}\"\n",
    "print(out, \"\\n\" + \"-\"*len(out))\n",
    "tilepairs[:5]"
   ]
  },
  {
   "cell_type": "code",
   "execution_count": null,
   "metadata": {},
   "outputs": [],
   "source": [
    "# renderapi.pointmatch.delete_collection(match_collection,\n",
    "#                                        **params_render)"
   ]
  },
  {
   "cell_type": "code",
   "execution_count": 10,
   "metadata": {},
   "outputs": [
    {
     "data": {
      "text/plain": [
       "'20230914_RP_exocrine_partial_test_postcorrection_dsmontages_matches'"
      ]
     },
     "execution_count": 10,
     "metadata": {},
     "output_type": "execute_result"
    }
   ],
   "source": [
    "# Name for pointmatch collection\n",
    "match_collection = f\"{params_render['project']}_{ds_stack_2_align['in']}_matches\"\n",
    "match_collection"
   ]
  },
  {
   "cell_type": "code",
   "execution_count": null,
   "metadata": {},
   "outputs": [],
   "source": [
    "from skimage.measure import ransac\n",
    "from skimage.morphology import binary_dilation\n",
    "from skimage.filters import threshold_li\n",
    "from skimage.transform import AffineTransform\n",
    "\n",
    "from interactive_render.prematching import (\n",
    "    get_bbox_from_relative_position,\n",
    "    get_image_pair_for_matching,\n",
    ")\n",
    "from interactive_render.features import (\n",
    "    find_feature_correspondences,\n",
    "    find_robust_feature_correspondences\n",
    ")"
   ]
  },
  {
   "cell_type": "markdown",
   "metadata": {},
   "source": [
    "#### Set SIFT + RANSAC parameters"
   ]
  },
  {
   "cell_type": "code",
   "execution_count": 11,
   "metadata": {},
   "outputs": [
    {
     "ename": "NameError",
     "evalue": "name 'AffineTransform' is not defined",
     "output_type": "error",
     "traceback": [
      "\u001b[0;31m---------------------------------------------------------------------------\u001b[0m",
      "\u001b[0;31mNameError\u001b[0m                                 Traceback (most recent call last)",
      "\u001b[1;32m/home/akievits/interactive-render-workflow/notebooks/align.ipynb Cell 19\u001b[0m line \u001b[0;36m2\n\u001b[1;32m      <a href='vscode-notebook-cell://ssh-remote%2Bfastem-server/home/akievits/interactive-render-workflow/notebooks/align.ipynb#X50sdnNjb2RlLXJlbW90ZQ%3D%3D?line=6'>7</a>\u001b[0m params_SIFT \u001b[39m=\u001b[39m {\n\u001b[1;32m      <a href='vscode-notebook-cell://ssh-remote%2Bfastem-server/home/akievits/interactive-render-workflow/notebooks/align.ipynb#X50sdnNjb2RlLXJlbW90ZQ%3D%3D?line=7'>8</a>\u001b[0m     \u001b[39m\"\u001b[39m\u001b[39mupsampling\u001b[39m\u001b[39m\"\u001b[39m: \u001b[39m1\u001b[39m,  \u001b[39m# no upsampling\u001b[39;00m\n\u001b[1;32m      <a href='vscode-notebook-cell://ssh-remote%2Bfastem-server/home/akievits/interactive-render-workflow/notebooks/align.ipynb#X50sdnNjb2RlLXJlbW90ZQ%3D%3D?line=8'>9</a>\u001b[0m     \u001b[39m\"\u001b[39m\u001b[39mn_octaves\u001b[39m\u001b[39m\"\u001b[39m: \u001b[39m3\u001b[39m, \u001b[39m# 3, Octaves are defined as (maxScale, maxScale/2, maxScale/4, ..., minScale) in PointMatchClient\u001b[39;00m\n\u001b[0;32m   (...)\u001b[0m\n\u001b[1;32m     <a href='vscode-notebook-cell://ssh-remote%2Bfastem-server/home/akievits/interactive-render-workflow/notebooks/align.ipynb#X50sdnNjb2RlLXJlbW90ZQ%3D%3D?line=12'>13</a>\u001b[0m     \u001b[39m\"\u001b[39m\u001b[39mn_hist\u001b[39m\u001b[39m\"\u001b[39m: \u001b[39m8\u001b[39m \u001b[39m# 8, SIFTfdSize in PointMatchClient\u001b[39;00m\n\u001b[1;32m     <a href='vscode-notebook-cell://ssh-remote%2Bfastem-server/home/akievits/interactive-render-workflow/notebooks/align.ipynb#X50sdnNjb2RlLXJlbW90ZQ%3D%3D?line=13'>14</a>\u001b[0m }\n\u001b[1;32m     <a href='vscode-notebook-cell://ssh-remote%2Bfastem-server/home/akievits/interactive-render-workflow/notebooks/align.ipynb#X50sdnNjb2RlLXJlbW90ZQ%3D%3D?line=15'>16</a>\u001b[0m params_MATCH \u001b[39m=\u001b[39m {\n\u001b[1;32m     <a href='vscode-notebook-cell://ssh-remote%2Bfastem-server/home/akievits/interactive-render-workflow/notebooks/align.ipynb#X50sdnNjb2RlLXJlbW90ZQ%3D%3D?line=16'>17</a>\u001b[0m     \u001b[39m\"\u001b[39m\u001b[39mmetric\u001b[39m\u001b[39m\"\u001b[39m: \u001b[39mNone\u001b[39;00m, \u001b[39m# Not defined in PointMatchClient \u001b[39;00m\n\u001b[1;32m     <a href='vscode-notebook-cell://ssh-remote%2Bfastem-server/home/akievits/interactive-render-workflow/notebooks/align.ipynb#X50sdnNjb2RlLXJlbW90ZQ%3D%3D?line=17'>18</a>\u001b[0m     \u001b[39m\"\u001b[39m\u001b[39mcross_check\u001b[39m\u001b[39m\"\u001b[39m: \u001b[39mTrue\u001b[39;00m, \u001b[39m# Not defined in PointMatchClient \u001b[39;00m\n\u001b[1;32m     <a href='vscode-notebook-cell://ssh-remote%2Bfastem-server/home/akievits/interactive-render-workflow/notebooks/align.ipynb#X50sdnNjb2RlLXJlbW90ZQ%3D%3D?line=18'>19</a>\u001b[0m     \u001b[39m\"\u001b[39m\u001b[39mmax_ratio\u001b[39m\u001b[39m\"\u001b[39m: \u001b[39m0.92\u001b[39m \u001b[39m# matchRod in PointMatchClient\u001b[39;00m\n\u001b[1;32m     <a href='vscode-notebook-cell://ssh-remote%2Bfastem-server/home/akievits/interactive-render-workflow/notebooks/align.ipynb#X50sdnNjb2RlLXJlbW90ZQ%3D%3D?line=19'>20</a>\u001b[0m }\n\u001b[1;32m     <a href='vscode-notebook-cell://ssh-remote%2Bfastem-server/home/akievits/interactive-render-workflow/notebooks/align.ipynb#X50sdnNjb2RlLXJlbW90ZQ%3D%3D?line=21'>22</a>\u001b[0m params_RANSAC \u001b[39m=\u001b[39m {\n\u001b[0;32m---> <a href='vscode-notebook-cell://ssh-remote%2Bfastem-server/home/akievits/interactive-render-workflow/notebooks/align.ipynb#X50sdnNjb2RlLXJlbW90ZQ%3D%3D?line=22'>23</a>\u001b[0m     \u001b[39m\"\u001b[39m\u001b[39mmodel_class\u001b[39m\u001b[39m\"\u001b[39m: AffineTransform, \u001b[39m# matchModelType in PointMatchClient\u001b[39;00m\n\u001b[1;32m     <a href='vscode-notebook-cell://ssh-remote%2Bfastem-server/home/akievits/interactive-render-workflow/notebooks/align.ipynb#X50sdnNjb2RlLXJlbW90ZQ%3D%3D?line=23'>24</a>\u001b[0m     \u001b[39m\"\u001b[39m\u001b[39mmin_samples\u001b[39m\u001b[39m\"\u001b[39m: \u001b[39m12\u001b[39m, \u001b[39m# Minimal amount of data points to fit model to, related to matchMinNumInliers? \u001b[39;00m\n\u001b[1;32m     <a href='vscode-notebook-cell://ssh-remote%2Bfastem-server/home/akievits/interactive-render-workflow/notebooks/align.ipynb#X50sdnNjb2RlLXJlbW90ZQ%3D%3D?line=24'>25</a>\u001b[0m     \u001b[39m\"\u001b[39m\u001b[39mresidual_threshold\u001b[39m\u001b[39m\"\u001b[39m: \u001b[39m25\u001b[39m, \u001b[39m# matchMaxEpsilon in PointMatchClient\u001b[39;00m\n\u001b[1;32m     <a href='vscode-notebook-cell://ssh-remote%2Bfastem-server/home/akievits/interactive-render-workflow/notebooks/align.ipynb#X50sdnNjb2RlLXJlbW90ZQ%3D%3D?line=25'>26</a>\u001b[0m     \u001b[39m\"\u001b[39m\u001b[39mmax_trials\u001b[39m\u001b[39m\"\u001b[39m: \u001b[39m10000\u001b[39m, \u001b[39m# matchIterations in PointMatchClient\u001b[39;00m\n\u001b[1;32m     <a href='vscode-notebook-cell://ssh-remote%2Bfastem-server/home/akievits/interactive-render-workflow/notebooks/align.ipynb#X50sdnNjb2RlLXJlbW90ZQ%3D%3D?line=26'>27</a>\u001b[0m     \u001b[39m\"\u001b[39m\u001b[39mstop_sample_num\u001b[39m\u001b[39m\"\u001b[39m : \u001b[39mNone\u001b[39;00m \u001b[39m# matchMaxNumInliers? \u001b[39;00m\n\u001b[1;32m     <a href='vscode-notebook-cell://ssh-remote%2Bfastem-server/home/akievits/interactive-render-workflow/notebooks/align.ipynb#X50sdnNjb2RlLXJlbW90ZQ%3D%3D?line=27'>28</a>\u001b[0m }\n",
      "\u001b[0;31mNameError\u001b[0m: name 'AffineTransform' is not defined"
     ]
    }
   ],
   "source": [
    "# Try with same default params as PointMatchClient\n",
    "params_imScale = {\n",
    "    \"maxScale\": 0.8, # Defined in PointMatchClient, used here to fetch bbox image at maxScale for SIFT extraction\n",
    "    \"minScale\": 0.05 # Determined by n_octaves\n",
    "}\n",
    "\n",
    "params_SIFT = {\n",
    "    \"upsampling\": 1,  # no upsampling\n",
    "    \"n_octaves\": 3, # 3, Octaves are defined as (maxScale, maxScale/2, maxScale/4, ..., minScale) in PointMatchClient\n",
    "    \"n_scales\": 5, # 5, SIFTsteps per scale octave\n",
    "    \"sigma_min\": 1.6, # 3.2 * params_imScale[\"maxScale\"], # Not defined in PointMatchClient, but we assume it is 3.2 standard for full scale image\n",
    "    \"n_bins\": 8, # 8, No parameter in PointMatchClient \n",
    "    \"n_hist\": 8 # 8, SIFTfdSize in PointMatchClient\n",
    "}\n",
    "\n",
    "params_MATCH = {\n",
    "    \"metric\": None, # Not defined in PointMatchClient \n",
    "    \"cross_check\": True, # Not defined in PointMatchClient \n",
    "    \"max_ratio\": 0.92 # matchRod in PointMatchClient\n",
    "}\n",
    "\n",
    "params_RANSAC = {\n",
    "    \"model_class\": AffineTransform, # matchModelType in PointMatchClient\n",
    "    \"min_samples\": 12, # Minimal amount of data points to fit model to, related to matchMinNumInliers? \n",
    "    \"residual_threshold\": 25, # matchMaxEpsilon in PointMatchClient\n",
    "    \"max_trials\": 10000, # matchIterations in PointMatchClient\n",
    "    \"stop_sample_num\" : None # matchMaxNumInliers? \n",
    "}"
   ]
  },
  {
   "cell_type": "markdown",
   "metadata": {},
   "source": [
    "### Run SIFT + RANSAC"
   ]
  },
  {
   "cell_type": "code",
   "execution_count": null,
   "metadata": {},
   "outputs": [],
   "source": [
    "# initialize collection of point matches\n",
    "matches = []\n",
    "\n",
    "# loop through tile pairs\n",
    "for i, tp in tqdm(enumerate(tilepairs)):\n",
    "    \n",
    "    # get z values from groupIds (aka sectionIds)\n",
    "    z_p = renderapi.stack.get_section_z_value(\n",
    "        ds_stack_2_align['in'],\n",
    "        tp[\"p\"][\"groupId\"],\n",
    "        **params_render)\n",
    "    z_q = renderapi.stack.get_section_z_value(\n",
    "        ds_stack_2_align['in'],\n",
    "        tp[\"q\"][\"groupId\"],\n",
    "        **params_render)\n",
    "\n",
    "    # render image pair\n",
    "    # get stack bounds\n",
    "    bounds = renderapi.stack.get_stack_bounds(ds_stack_2_align['in'], \n",
    "                                              **params_render)\n",
    "    if i == 0:\n",
    "        bbox_p = renderapi.image.get_bb_image(stack=ds_stack_2_align['in'],\n",
    "                                                z=z_p,\n",
    "                                                x=bounds['minX'],\n",
    "                                                y=bounds['minY'],\n",
    "                                                width=(bounds['maxX'] - bounds['minX']),\n",
    "                                                height=(bounds['maxY'] - bounds['minY']),\n",
    "                                                scale=params_imScale[\"maxScale\"],\n",
    "                                                img_format='tiff16',\n",
    "                                                **params_render)\n",
    "    else:\n",
    "        bbox_p = bbox_q # new p = last q\n",
    "    bbox_q = renderapi.image.get_bb_image(stack=ds_stack_2_align['in'],\n",
    "                                            z=z_q,\n",
    "                                            x=bounds['minX'],\n",
    "                                            y=bounds['minY'],\n",
    "                                            width=(bounds['maxX'] - bounds['minX']),\n",
    "                                            height=(bounds['maxY'] - bounds['minY']),\n",
    "                                            scale=params_imScale[\"maxScale\"],\n",
    "                                            img_format='tiff16',\n",
    "                                            **params_render)\n",
    "    # get point match candidates\n",
    "    matches_p, matches_q = find_feature_correspondences(\n",
    "        bbox_p,\n",
    "        bbox_q,\n",
    "        feature_detector=\"SIFT\",\n",
    "        params_features=params_SIFT,\n",
    "        params_match=params_MATCH\n",
    "    )\n",
    "    # filter matches based on location\n",
    "    # create mask \n",
    "    # TODO make more efficient\n",
    "    thres_p, thres_q = threshold_li(bbox_p), threshold_li(bbox_q)\n",
    "    mask_p, mask_q = binary_dilation(bbox_p < thres_p), binary_dilation(bbox_q < thres_q) # find regions with low intensity pixels, to exclude from matching\n",
    "    masked_p, masked_q = np.argwhere(mask_p), np.argwhere(mask_q) # convert to coordinates\n",
    "    # Filter point match candidates\n",
    "    matches_p_filtered, matches_q_filtered = np.in1d(matches_p.astype(np.uint8), masked_p), np.in1d(matches_q.astype(np.uint8), masked_q)\n",
    "\n",
    "    # robustify the point match candidates\n",
    "    model, inliers = ransac(\n",
    "        (matches_p, matches_q),\n",
    "        **params_RANSAC\n",
    "    )\n",
    "    # Scale point matches to full image\n",
    "    inliers_p, inliers_q = matches_p[inliers] * (1 / params_imScale[\"maxScale\"]), matches_q[inliers] * (1 / params_imScale[\"maxScale\"])\n",
    "    # format matches for uploading to render-ws point match database\n",
    "    d = {\n",
    "        \"pGroupId\": tp[\"p\"][\"groupId\"],  # sectionId for image P\n",
    "        \"qGroupId\": tp[\"q\"][\"groupId\"],  # sectionId for image Q\n",
    "        \"pId\": tp[\"p\"][\"id\"],  # tileId for image P\n",
    "        \"qId\": tp[\"q\"][\"id\"],  # tileId for image Q\n",
    "        \"matches\": {\n",
    "            \"p\": inliers_p.T.tolist(),\n",
    "            \"q\": inliers_q.T.tolist(),\n",
    "            \"w\": np.ones(len(inliers_p)).tolist()\n",
    "        }\n",
    "    }\n",
    "\n",
    "    matches.append(d)"
   ]
  },
  {
   "cell_type": "markdown",
   "metadata": {},
   "source": [
    "### Upload point matches"
   ]
  },
  {
   "cell_type": "code",
   "execution_count": null,
   "metadata": {},
   "outputs": [],
   "source": [
    "# import pointmatches\n",
    "renderapi.pointmatch.import_matches(\n",
    "    match_collection,\n",
    "    matches,\n",
    "    **params_render\n",
    ")"
   ]
  },
  {
   "cell_type": "markdown",
   "metadata": {},
   "source": [
    "#### Inspect"
   ]
  },
  {
   "cell_type": "code",
   "execution_count": null,
   "metadata": {},
   "outputs": [],
   "source": [
    "plotting.plot_dsstack_with_alignment_matches(\n",
    "    ds_stack_2_align['in'],\n",
    "    match_collection,\n",
    "    width=1000,\n",
    "    **params_render\n",
    ")"
   ]
  },
  {
   "cell_type": "code",
   "execution_count": null,
   "metadata": {},
   "outputs": [],
   "source": [
    "fig, ax = plt.subplots(1, 2, figsize=(5, 10))\n",
    "ax[0].imshow(bbox_p, cmap=\"Greys_r\")\n",
    "ax[1].imshow(bbox_q, cmap=\"Greys_r\")"
   ]
  }
 ],
 "metadata": {
  "kernelspec": {
   "display_name": ".venv",
   "language": "python",
   "name": "python3"
  },
  "language_info": {
   "codemirror_mode": {
    "name": "ipython",
    "version": 3
   },
   "file_extension": ".py",
   "mimetype": "text/x-python",
   "name": "python",
   "nbconvert_exporter": "python",
   "pygments_lexer": "ipython3",
   "version": "3.9.1"
  }
 },
 "nbformat": 4,
 "nbformat_minor": 2
}
