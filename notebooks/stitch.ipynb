{
 "cells": [
  {
   "cell_type": "markdown",
   "id": "7f98536f-5fed-4071-bb4c-1de1884879ff",
   "metadata": {},
   "source": [
    "# Stitch\n",
    "---\n",
    "\n",
    "#### Overview\n",
    "Interactive stitching of one or several sections."
   ]
  },
  {
   "cell_type": "code",
   "execution_count": 1,
   "id": "a9f1c1f9-f144-493d-b6bc-69b97102f1a6",
   "metadata": {
    "tags": []
   },
   "outputs": [],
   "source": [
    "# indirectly enable autocomplete\n",
    "%config Completer.use_jedi = False\n",
    "\n",
    "# autoreload modules\n",
    "%load_ext autoreload\n",
    "%autoreload 2\n",
    "\n",
    "import logging\n",
    "logger = logging.getLogger()\n",
    "logger.setLevel(logging.INFO)"
   ]
  },
  {
   "cell_type": "code",
   "execution_count": 2,
   "id": "9775c083-9d1d-4542-8b1a-11552e0faa77",
   "metadata": {
    "tags": []
   },
   "outputs": [],
   "source": [
    "import pathlib\n",
    "import requests\n",
    "import logging\n",
    "\n",
    "from tqdm.notebook import tqdm\n",
    "import numpy as np\n",
    "import matplotlib.pyplot as plt\n",
    "import renderapi\n",
    "\n",
    "from scripted_render_pipeline import basic_auth\n",
    "from interactive_render import plotting"
   ]
  },
  {
   "cell_type": "markdown",
   "id": "6e0ba2e0-a94e-48f3-a42b-56f8fbfbd101",
   "metadata": {},
   "source": [
    "#### `render-ws` environment variables"
   ]
  },
  {
   "cell_type": "code",
   "execution_count": 3,
   "id": "4c79b07f-5658-4a24-8743-9a71b0b06e01",
   "metadata": {
    "tags": []
   },
   "outputs": [],
   "source": [
    "# # render-ws environment variables\n",
    "# params_render = {\n",
    "#     \"host\": \"https://sonic.tnw.tudelft.nl\",\n",
    "#     \"owner\": \"fastem\",\n",
    "#     \"project\": \"20230712_RF_zstack\",\n",
    "#     \"auth\": basic_auth.load_auth()\n",
    "# }\n",
    "\n",
    "# create an authorized session\n",
    "auth = basic_auth.load_auth()\n",
    "sesh = requests.Session()\n",
    "sesh.auth = auth\n",
    "\n",
    "# render-ws environment variables\n",
    "params_render = {\n",
    "    \"host\": \"http://localhost\",\n",
    "    \"port\": 8081,\n",
    "    \"client_scripts\": \"/home/catmaid/render/render-ws-java-client/src/main/scripts\",\n",
    "    \"client_script\": \"/home/catmaid/render/render-ws-java-client/src/main/scripts/run_ws_client.sh\",\n",
    "    \"owner\": \"fastem\",\n",
    "    \"project\": \"20230712_RF_zstack\",\n",
    "    \"session\": sesh\n",
    "}\n",
    "\n",
    "# set project directory\n",
    "dir_project = pathlib.Path(\"/long_term_storage/asm_storage/asm_service/2023-07-12/20230712_RF_zstack/\")"
   ]
  },
  {
   "cell_type": "markdown",
   "id": "f37c3bca-4660-4835-99df-5a58b5005c47",
   "metadata": {},
   "source": [
    "## Stitching (part I)\n",
    "---\n",
    "Get tile pairs. Get point matches.\n",
    "\n",
    "### Get tile pairs\n",
    "\n",
    "Use render-ws `tilePairClient` to get the set of tile pairs."
   ]
  },
  {
   "cell_type": "code",
   "execution_count": 4,
   "id": "b45f7d85-e39d-4eab-a5a8-eb1280d2c812",
   "metadata": {
    "tags": []
   },
   "outputs": [
    {
     "name": "stdout",
     "output_type": "stream",
     "text": [
      "Number of tile pairs... 204 \n",
      "---------------------------\n"
     ]
    },
    {
     "data": {
      "text/plain": [
       "[{'p': {'groupId': 'RF_brain_section_10_10us',\n",
       "   'id': 't0_z8_y2_x2',\n",
       "   'relativePosition': 'BOTTOM'},\n",
       "  'q': {'groupId': 'RF_brain_section_10_10us',\n",
       "   'id': 't3_z8_y1_x2',\n",
       "   'relativePosition': 'TOP'}},\n",
       " {'p': {'groupId': 'RF_brain_section_10_10us',\n",
       "   'id': 't0_z8_y2_x2',\n",
       "   'relativePosition': 'RIGHT'},\n",
       "  'q': {'groupId': 'RF_brain_section_10_10us',\n",
       "   'id': 't1_z8_y2_x1',\n",
       "   'relativePosition': 'LEFT'}},\n",
       " {'p': {'groupId': 'RF_brain_section_10_10us',\n",
       "   'id': 't1_z8_y2_x1',\n",
       "   'relativePosition': 'BOTTOM'},\n",
       "  'q': {'groupId': 'RF_brain_section_10_10us',\n",
       "   'id': 't4_z8_y1_x1',\n",
       "   'relativePosition': 'TOP'}},\n",
       " {'p': {'groupId': 'RF_brain_section_10_10us',\n",
       "   'id': 't1_z8_y2_x1',\n",
       "   'relativePosition': 'RIGHT'},\n",
       "  'q': {'groupId': 'RF_brain_section_10_10us',\n",
       "   'id': 't2_z8_y2_x0',\n",
       "   'relativePosition': 'LEFT'}},\n",
       " {'p': {'groupId': 'RF_brain_section_10_10us',\n",
       "   'id': 't2_z8_y2_x0',\n",
       "   'relativePosition': 'BOTTOM'},\n",
       "  'q': {'groupId': 'RF_brain_section_10_10us',\n",
       "   'id': 't5_z8_y1_x0',\n",
       "   'relativePosition': 'TOP'}}]"
      ]
     },
     "execution_count": 4,
     "metadata": {},
     "output_type": "execute_result"
    }
   ],
   "source": [
    "# choose stack from which to get tile pairs\n",
    "stack = \"corrected\"\n",
    "z_values = [int(z) for z in renderapi.stack.get_z_values_for_stack(\n",
    "    stack,\n",
    "    **params_render\n",
    ")]\n",
    "\n",
    "# Get tile pairs from the rough aligned stack\n",
    "tilepairs = renderapi.client.tilePairClient(\n",
    "    stack=stack,\n",
    "    minz=min(z_values),\n",
    "    maxz=max(z_values),\n",
    "    zNeighborDistance=0,  # half-height of search cylinder\n",
    "    excludeSameLayerNeighbors=False,\n",
    "    subprocess_mode=\"check_output\",  # suppresses output\n",
    "    **params_render\n",
    ")[\"neighborPairs\"]\n",
    "\n",
    "# Show tile pairs\n",
    "out = f\"Number of tile pairs... {len(tilepairs)}\"\n",
    "print(out, \"\\n\" + \"-\"*len(out))\n",
    "tilepairs[:5]"
   ]
  },
  {
   "cell_type": "markdown",
   "id": "1d019a14-0f44-4e2c-b3f4-ff132eada894",
   "metadata": {
    "tags": []
   },
   "source": [
    "### Get point matches"
   ]
  },
  {
   "cell_type": "code",
   "execution_count": 5,
   "id": "da326d67-f9df-4c71-9ff7-ed6d40d0676a",
   "metadata": {
    "tags": []
   },
   "outputs": [],
   "source": [
    "from skimage.measure import ransac\n",
    "from skimage.transform import EuclideanTransform\n",
    "\n",
    "from interactive_render.prematching import (\n",
    "    get_bbox_from_relative_position,\n",
    "    get_image_pair_for_matching,\n",
    ")\n",
    "from interactive_render.features import (\n",
    "    find_feature_correspondences,\n",
    "    find_robust_feature_correspondences\n",
    ")"
   ]
  },
  {
   "cell_type": "code",
   "execution_count": 6,
   "id": "c10bf3f9-049a-4670-a91c-4fd7a4fb537c",
   "metadata": {
    "tags": []
   },
   "outputs": [
    {
     "data": {
      "text/plain": [
       "'20230712_RF_zstack_corrected_watches'"
      ]
     },
     "execution_count": 6,
     "metadata": {},
     "output_type": "execute_result"
    }
   ],
   "source": [
    "# Name for pointmatch collection\n",
    "match_collection = f\"{params_render['project']}_{stack}_watches\"\n",
    "match_collection"
   ]
  },
  {
   "cell_type": "markdown",
   "id": "e2056bd8-0ec8-4440-83a6-efa1aaea8c7f",
   "metadata": {},
   "source": [
    "#### Set SIFT + RANSAC parameters"
   ]
  },
  {
   "cell_type": "code",
   "execution_count": 7,
   "id": "641ab556-dcad-4928-8600-a33763eed489",
   "metadata": {
    "tags": []
   },
   "outputs": [],
   "source": [
    "params_SIFT = {\n",
    "    \"upsampling\": 1,  # no upsampling\n",
    "    \"n_octaves\": 3,\n",
    "    \"sigma_min\": 3\n",
    "}\n",
    "\n",
    "params_MATCH = {\n",
    "    \"metric\": None,\n",
    "    \"cross_check\": True,\n",
    "    \"max_ratio\": 0.8\n",
    "}\n",
    "\n",
    "params_RANSAC = {\n",
    "    \"model_class\": EuclideanTransform,\n",
    "    \"min_samples\": 12,\n",
    "    \"residual_threshold\": 4,\n",
    "    \"max_trials\": 10000\n",
    "}"
   ]
  },
  {
   "cell_type": "markdown",
   "id": "966190f6-9c3b-4738-a39f-f781d2d740e1",
   "metadata": {},
   "source": [
    "#### Execute SIFT + RANSAC"
   ]
  },
  {
   "cell_type": "code",
   "execution_count": 9,
   "id": "ff479e0c-c55a-495a-96bc-c9e126fb9415",
   "metadata": {
    "tags": []
   },
   "outputs": [],
   "source": [
    "# initialize collection of point matches\n",
    "matches = []\n",
    "\n",
    "# loop through tile pairs\n",
    "for tp in tqdm(tilepairs):\n",
    "\n",
    "    # get z value from groupId (aka sectionId)\n",
    "    sectionId = tp[\"p\"][\"groupId\"]\n",
    "    z = renderapi.stack.get_section_z_value(\n",
    "        stack,\n",
    "        sectionId,\n",
    "        **params_render\n",
    "    )\n",
    "\n",
    "    # render image pair\n",
    "    bbox_p = get_bbox_from_relative_position(\n",
    "        renderapi.tilespec.get_tile_spec(stack, tp[\"p\"][\"id\"], **params_render),\n",
    "        tp[\"p\"][\"relativePosition\"]\n",
    "    )\n",
    "    bbox_q = get_bbox_from_relative_position(\n",
    "        renderapi.tilespec.get_tile_spec(stack, tp[\"q\"][\"id\"], **params_render),\n",
    "        tp[\"q\"][\"relativePosition\"]\n",
    "    )\n",
    "    image_p, image_q = get_image_pair_for_matching(\n",
    "        \"corrected\",\n",
    "        tp,\n",
    "        **params_render\n",
    "    )\n",
    "\n",
    "    # get point matches\n",
    "    inliers_p, inliers_q = find_robust_feature_correspondences(\n",
    "        image_p,\n",
    "        image_q,\n",
    "        feature_detector=\"SIFT\",\n",
    "        params_features=params_SIFT,\n",
    "        params_match=params_MATCH,\n",
    "        params_RANSAC=params_RANSAC\n",
    "    )\n",
    "    logging.info(f\"Found {len(inliers_p)} matched features between \"\n",
    "                 f\"tiles `{tp['p']['id']}` and `{tp['q']['id']}` in \"\n",
    "                 f\"section `{sectionId}` (z={z:.0f}).\")\n",
    "\n",
    "    # TODO: make better\n",
    "    if tp[\"p\"][\"relativePosition\"].lower() == \"left\":\n",
    "        inliers_p[:, 0] += int(6400 - (bbox_p[2] - bbox_p[0]))\n",
    "    if tp[\"p\"][\"relativePosition\"].lower() == \"top\":\n",
    "        inliers_p[:, 1] += int(6400 - (bbox_p[3] - bbox_p[1]))\n",
    "    if tp[\"q\"][\"relativePosition\"].lower() == \"left\":\n",
    "        inliers_q[:, 0] += int(6400 - (bbox_q[2] - bbox_q[0]))\n",
    "    if tp[\"q\"][\"relativePosition\"].lower() == \"top\":\n",
    "        inliers_q[:, 1] += int(6400 - (bbox_q[3] - bbox_q[1]))\n",
    "\n",
    "    # format matches for uploading to render-ws point match database\n",
    "    d = {\n",
    "        \"pGroupId\": sectionId,  # sectionId for image P\n",
    "        \"qGroupId\": sectionId,  # sectionId for image Q\n",
    "        \"pId\": tp[\"p\"][\"id\"],  # tileId for image P\n",
    "        \"qId\": tp[\"q\"][\"id\"],  # tileId for image Q\n",
    "        \"matches\": {\n",
    "            \"p\": inliers_p.T.tolist(),\n",
    "            \"q\": inliers_q.T.tolist(),\n",
    "            \"w\": np.ones(len(inliers_p)).tolist()\n",
    "        }\n",
    "    }\n",
    "    matches.append(d)"
   ]
  },
  {
   "cell_type": "markdown",
   "id": "4333f0e8-2e68-4928-92be-1f1e64079ac4",
   "metadata": {},
   "source": [
    "### Upload point matches"
   ]
  },
  {
   "cell_type": "code",
   "execution_count": 11,
   "id": "138eae2a-2d8a-4000-9909-13aa351f4690",
   "metadata": {
    "tags": []
   },
   "outputs": [],
   "source": [
    "# import pointmatches\n",
    "renderapi.pointmatch.import_matches(\n",
    "    match_collection,\n",
    "    matches,\n",
    "    **params_render\n",
    ")"
   ]
  },
  {
   "cell_type": "markdown",
   "id": "5185a7af-729a-4c22-b939-43d9b09bb492",
   "metadata": {},
   "source": [
    "#### Inspect"
   ]
  },
  {
   "cell_type": "code",
   "execution_count": 12,
   "id": "23ac6617-55d9-4e86-a1fe-7c9a737abb09",
   "metadata": {
    "tags": []
   },
   "outputs": [
    {
     "data": {
      "application/vnd.jupyter.widget-view+json": {
       "model_id": "953565a37614493694917f60f2865ce3",
       "version_major": 2,
       "version_minor": 0
      },
      "text/plain": [
       "interactive(children=(IntSlider(value=0, description='z', max=16), Output()), _dom_classes=('widget-interact',…"
      ]
     },
     "metadata": {},
     "output_type": "display_data"
    }
   ],
   "source": [
    "plotting.plot_stack_with_stitching_matches(\n",
    "    stack,\n",
    "    match_collection,\n",
    "    params_render,\n",
    "    width=256\n",
    ")"
   ]
  },
  {
   "cell_type": "markdown",
   "id": "9958961a-022f-4c89-b1a0-638899578979",
   "metadata": {},
   "source": [
    "## Stitching (part II)\n",
    "---\n",
    "\n",
    "### Create alignment files"
   ]
  },
  {
   "cell_type": "code",
   "execution_count": 14,
   "id": "705e9814-1905-4edb-b21d-d456f2abe054",
   "metadata": {
    "tags": []
   },
   "outputs": [],
   "source": [
    "from pathlib import Path\n",
    "import os\n",
    "import subprocess\n",
    "import json\n",
    "from pprint import pprint"
   ]
  },
  {
   "cell_type": "code",
   "execution_count": 21,
   "id": "36d903ec-2bd7-4b61-839e-c0d896dac411",
   "metadata": {
    "tags": []
   },
   "outputs": [
    {
     "data": {
      "application/vnd.jupyter.widget-view+json": {
       "model_id": "0ddf63db133d418dafb9617ef96feea4",
       "version_major": 2,
       "version_minor": 0
      },
      "text/plain": [
       "  0%|          | 0/17 [00:00<?, ?it/s]"
      ]
     },
     "metadata": {},
     "output_type": "display_data"
    },
    {
     "name": "stdout",
     "output_type": "stream",
     "text": [
      "/long_term_storage/asm_storage/asm_service/2023-07-12/20230712_RF_zstack/RF_brain_section_18_10us/corrected/montage.json\n",
      "------------------------------------------------------------------------------------------------------------------------\n",
      "{'close_stack': 'True',\n",
      " 'first_section': 16,\n",
      " 'hdf5_options': {'chunks_per_file': -1, 'output_dir': ''},\n",
      " 'input_stack': {'client_scripts': '/home/catmaid/render/render-ws-java-client/src/main/scripts',\n",
      "                 'collection_type': 'stack',\n",
      "                 'db_interface': 'render',\n",
      "                 'host': 'http://localhost',\n",
      "                 'name': 'corrected',\n",
      "                 'owner': 'fastem',\n",
      "                 'port': 8081,\n",
      "                 'project': '20230712_RF_zstack'},\n",
      " 'last_section': 16,\n",
      " 'log_level': 'INFO',\n",
      " 'matrix_assembly': {'cross_pt_weight': 1.0,\n",
      "                     'depth': 2,\n",
      "                     'inverse_dz': 'True',\n",
      "                     'montage_pt_weight': 1.0,\n",
      "                     'npts_max': 500,\n",
      "                     'npts_min': 5},\n",
      " 'output_mode': 'stack',\n",
      " 'output_stack': {'client_scripts': '/home/catmaid/render/render-ws-java-client/src/main/scripts',\n",
      "                  'collection_type': 'stack',\n",
      "                  'db_interface': 'render',\n",
      "                  'host': 'http://localhost',\n",
      "                  'name': 'corrected_stitched2',\n",
      "                  'owner': 'fastem',\n",
      "                  'port': 8081,\n",
      "                  'project': '20230712_RF_zstack'},\n",
      " 'pointmatch': {'client_scripts': '/home/catmaid/render/render-ws-java-client/src/main/scripts',\n",
      "                'collection_type': 'pointmatch',\n",
      "                'db_interface': 'render',\n",
      "                'host': 'http://localhost',\n",
      "                'name': '20230712_RF_zstack_corrected_watches',\n",
      "                'owner': 'fastem',\n",
      "                'port': 8081},\n",
      " 'regularization': {'default_lambda': 0.005,\n",
      "                    'thinplate_factor': 1e-05,\n",
      "                    'translation_factor': 0.005},\n",
      " 'solve_type': 'montage',\n",
      " 'start_from_file': '',\n",
      " 'transformation': 'TranslationModel'}\n"
     ]
    }
   ],
   "source": [
    "# Load align.json template\n",
    "template_align_json = Path('../templates/montage.json')\n",
    "with template_align_json.open('r') as json_data:\n",
    "    params_align = json.load(json_data)\n",
    "\n",
    "# Loop through sections\n",
    "for z in tqdm(z_values):\n",
    "\n",
    "    # Edit BigFeta solver schema\n",
    "    params_align['first_section'] = z\n",
    "    params_align['last_section'] = z\n",
    "    params_align['transformation'] = 'TranslationModel'\n",
    "\n",
    "    # Edit input stack data\n",
    "    params_align['input_stack']['host'] = params_render['host']\n",
    "    params_align['input_stack']['owner'] = params_render['owner']\n",
    "    params_align['input_stack']['project'] = params_render['project']\n",
    "    params_align['input_stack']['name'] = stack\n",
    "\n",
    "    # Edit point match stack data\n",
    "    params_align['pointmatch']['host'] = params_render['host']\n",
    "    params_align['pointmatch']['owner'] = params_render['owner']\n",
    "    params_align['pointmatch']['name'] = match_collection\n",
    "\n",
    "    # Edit output stack data\n",
    "    params_align['output_stack']['host'] = params_render['host']\n",
    "    params_align['output_stack']['owner'] = params_render['owner']\n",
    "    params_align['output_stack']['project'] = params_render['project']\n",
    "    params_align['output_stack']['name'] = f\"{stack}_stitched\"\n",
    "\n",
    "    # Edit regularization parameters\n",
    "    params_align['regularization']['default_lambda'] = 0.005      # default: 0.005\n",
    "    params_align['regularization']['translation_factor'] = 0.005  # default: 0.005\n",
    "\n",
    "    # Export montage settings to\n",
    "    sectionId = renderapi.stack.get_sectionId_for_z(stack, z, **params_render)\n",
    "    align_json = dir_project / f\"{sectionId}/{stack}/montage.json\"\n",
    "    with align_json.open('w') as json_data:\n",
    "        json.dump(params_align, json_data, indent=2)\n",
    "\n",
    "# Check alignment parameters\n",
    "print(align_json)\n",
    "print('-'*len(align_json.as_posix()))\n",
    "pprint(params_align)"
   ]
  },
  {
   "cell_type": "markdown",
   "id": "868465fd-a7c9-4b27-a95c-c3942660ed98",
   "metadata": {},
   "source": [
    "### Compute optimal transformations with `BigFeta`"
   ]
  },
  {
   "cell_type": "code",
   "execution_count": 22,
   "id": "3dc48cc5-1e99-46ee-8646-5f2e0e7f0dc8",
   "metadata": {
    "tags": []
   },
   "outputs": [
    {
     "name": "stderr",
     "output_type": "stream",
     "text": [
      "/home/rlane/miniconda3/envs/render/lib/python3.11/site-packages/argschema/utils.py:346: FutureWarning: '--transform_apply' is using old-style command-line syntax with each element as a separate argument. This will not be supported in argschema after 2.0. See http://argschema.readthedocs.io/en/master/user/intro.html#command-line-specification for details.\n",
      "  warnings.warn(warn_msg, FutureWarning)\n",
      "INFO:bigfeta.utils:\n",
      " loaded 9 tile specs from 1 zvalues in 0.0 sec using interface: render\n",
      "INFO:__main__: A created in 0.1 seconds\n",
      "INFO:__main__:\n",
      " solved in 0.0 sec\n",
      " precision [norm(Kx-Lm)/norm(Lm)] = 1.8e-16, 2.9e-16\n",
      " error     [norm(Ax-b)] = 213.728, 96.686\n",
      " [mean(Ax) +/- std(Ax)] : 0.0 +/- 4.4, 0.0 +/- 2.0\n",
      " [mean(error mag) +/- std(error mag)] : 3.9 +/- 2.9\n",
      "INFO:__main__:\n",
      " scales: 1.00 +/- 0.00, 1.00 +/- 0.00\n",
      "INFO:bigfeta.utils:\n",
      "ingesting results to http://localhost:8081 fastem__20230712_RF_zstack__corrected_stitched2\n",
      "INFO:bigfeta.utils:render output is going to /dev/null\n",
      "INFO:__main__: total time: 1.4\n",
      "/home/rlane/miniconda3/envs/render/lib/python3.11/site-packages/argschema/utils.py:346: FutureWarning: '--transform_apply' is using old-style command-line syntax with each element as a separate argument. This will not be supported in argschema after 2.0. See http://argschema.readthedocs.io/en/master/user/intro.html#command-line-specification for details.\n",
      "  warnings.warn(warn_msg, FutureWarning)\n",
      "INFO:bigfeta.utils:\n",
      " loaded 9 tile specs from 1 zvalues in 0.0 sec using interface: render\n",
      "INFO:__main__: A created in 0.1 seconds\n",
      "INFO:__main__:\n",
      " solved in 0.0 sec\n",
      " precision [norm(Kx-Lm)/norm(Lm)] = 1.4e-16, 2.9e-16\n",
      " error     [norm(Ax-b)] = 180.793, 83.035\n",
      " [mean(Ax) +/- std(Ax)] : 0.0 +/- 4.2, 0.0 +/- 2.0\n",
      " [mean(error mag) +/- std(error mag)] : 3.7 +/- 2.9\n",
      "INFO:__main__:\n",
      " scales: 1.00 +/- 0.00, 1.00 +/- 0.00\n",
      "INFO:bigfeta.utils:\n",
      "ingesting results to http://localhost:8081 fastem__20230712_RF_zstack__corrected_stitched2\n",
      "INFO:bigfeta.utils:render output is going to /dev/null\n",
      "INFO:__main__: total time: 1.3\n",
      "/home/rlane/miniconda3/envs/render/lib/python3.11/site-packages/argschema/utils.py:346: FutureWarning: '--transform_apply' is using old-style command-line syntax with each element as a separate argument. This will not be supported in argschema after 2.0. See http://argschema.readthedocs.io/en/master/user/intro.html#command-line-specification for details.\n",
      "  warnings.warn(warn_msg, FutureWarning)\n",
      "INFO:bigfeta.utils:\n",
      " loaded 9 tile specs from 1 zvalues in 0.0 sec using interface: render\n",
      "INFO:__main__: A created in 0.1 seconds\n",
      "INFO:__main__:\n",
      " solved in 0.0 sec\n",
      " precision [norm(Kx-Lm)/norm(Lm)] = 1.1e-16, 1.5e-16\n",
      " error     [norm(Ax-b)] = 238.003, 95.736\n",
      " [mean(Ax) +/- std(Ax)] : 0.0 +/- 5.3, 0.0 +/- 2.1\n",
      " [mean(error mag) +/- std(error mag)] : 4.7 +/- 3.2\n",
      "INFO:__main__:\n",
      " scales: 1.00 +/- 0.00, 1.00 +/- 0.00\n",
      "INFO:bigfeta.utils:\n",
      "ingesting results to http://localhost:8081 fastem__20230712_RF_zstack__corrected_stitched2\n",
      "INFO:bigfeta.utils:render output is going to /dev/null\n",
      "INFO:__main__: total time: 1.3\n",
      "/home/rlane/miniconda3/envs/render/lib/python3.11/site-packages/argschema/utils.py:346: FutureWarning: '--transform_apply' is using old-style command-line syntax with each element as a separate argument. This will not be supported in argschema after 2.0. See http://argschema.readthedocs.io/en/master/user/intro.html#command-line-specification for details.\n",
      "  warnings.warn(warn_msg, FutureWarning)\n",
      "INFO:bigfeta.utils:\n",
      " loaded 9 tile specs from 1 zvalues in 0.0 sec using interface: render\n",
      "INFO:__main__: A created in 0.1 seconds\n",
      "INFO:__main__:\n",
      " solved in 0.0 sec\n",
      " precision [norm(Kx-Lm)/norm(Lm)] = 1.0e-16, 1.6e-16\n",
      " error     [norm(Ax-b)] = 176.034, 82.732\n",
      " [mean(Ax) +/- std(Ax)] : 0.0 +/- 4.0, 0.0 +/- 1.9\n",
      " [mean(error mag) +/- std(error mag)] : 3.6 +/- 2.7\n",
      "INFO:__main__:\n",
      " scales: 1.00 +/- 0.00, 1.00 +/- 0.00\n",
      "INFO:bigfeta.utils:\n",
      "ingesting results to http://localhost:8081 fastem__20230712_RF_zstack__corrected_stitched2\n",
      "INFO:bigfeta.utils:render output is going to /dev/null\n",
      "INFO:__main__: total time: 1.3\n",
      "/home/rlane/miniconda3/envs/render/lib/python3.11/site-packages/argschema/utils.py:346: FutureWarning: '--transform_apply' is using old-style command-line syntax with each element as a separate argument. This will not be supported in argschema after 2.0. See http://argschema.readthedocs.io/en/master/user/intro.html#command-line-specification for details.\n",
      "  warnings.warn(warn_msg, FutureWarning)\n",
      "INFO:bigfeta.utils:\n",
      " loaded 9 tile specs from 1 zvalues in 0.0 sec using interface: render\n",
      "INFO:__main__: A created in 0.1 seconds\n",
      "INFO:__main__:\n",
      " solved in 0.0 sec\n",
      " precision [norm(Kx-Lm)/norm(Lm)] = 5.7e-17, 1.0e-16\n",
      " error     [norm(Ax-b)] = 233.579, 104.042\n",
      " [mean(Ax) +/- std(Ax)] : 0.0 +/- 4.8, 0.0 +/- 2.2\n",
      " [mean(error mag) +/- std(error mag)] : 4.3 +/- 3.0\n",
      "INFO:__main__:\n",
      " scales: 1.00 +/- 0.00, 1.00 +/- 0.00\n",
      "INFO:bigfeta.utils:\n",
      "ingesting results to http://localhost:8081 fastem__20230712_RF_zstack__corrected_stitched2\n",
      "INFO:bigfeta.utils:render output is going to /dev/null\n",
      "INFO:__main__: total time: 1.3\n",
      "/home/rlane/miniconda3/envs/render/lib/python3.11/site-packages/argschema/utils.py:346: FutureWarning: '--transform_apply' is using old-style command-line syntax with each element as a separate argument. This will not be supported in argschema after 2.0. See http://argschema.readthedocs.io/en/master/user/intro.html#command-line-specification for details.\n",
      "  warnings.warn(warn_msg, FutureWarning)\n",
      "INFO:bigfeta.utils:\n",
      " loaded 9 tile specs from 1 zvalues in 0.0 sec using interface: render\n",
      "INFO:__main__: A created in 0.1 seconds\n",
      "INFO:__main__:\n",
      " solved in 0.0 sec\n",
      " precision [norm(Kx-Lm)/norm(Lm)] = 3.5e-16, 2.9e-16\n",
      " error     [norm(Ax-b)] = 188.365, 100.040\n",
      " [mean(Ax) +/- std(Ax)] : 0.0 +/- 3.9, 0.0 +/- 2.1\n",
      " [mean(error mag) +/- std(error mag)] : 3.7 +/- 2.4\n",
      "INFO:__main__:\n",
      " scales: 1.00 +/- 0.00, 1.00 +/- 0.00\n",
      "INFO:bigfeta.utils:\n",
      "ingesting results to http://localhost:8081 fastem__20230712_RF_zstack__corrected_stitched2\n",
      "INFO:bigfeta.utils:render output is going to /dev/null\n",
      "INFO:__main__: total time: 1.3\n",
      "/home/rlane/miniconda3/envs/render/lib/python3.11/site-packages/argschema/utils.py:346: FutureWarning: '--transform_apply' is using old-style command-line syntax with each element as a separate argument. This will not be supported in argschema after 2.0. See http://argschema.readthedocs.io/en/master/user/intro.html#command-line-specification for details.\n",
      "  warnings.warn(warn_msg, FutureWarning)\n",
      "INFO:bigfeta.utils:\n",
      " loaded 9 tile specs from 1 zvalues in 0.0 sec using interface: render\n",
      "INFO:__main__: A created in 0.1 seconds\n",
      "INFO:__main__:\n",
      " solved in 0.0 sec\n",
      " precision [norm(Kx-Lm)/norm(Lm)] = 2.4e-16, 1.1e-16\n",
      " error     [norm(Ax-b)] = 174.324, 96.019\n",
      " [mean(Ax) +/- std(Ax)] : 0.0 +/- 3.8, 0.0 +/- 2.1\n",
      " [mean(error mag) +/- std(error mag)] : 3.7 +/- 2.3\n",
      "INFO:__main__:\n",
      " scales: 1.00 +/- 0.00, 1.00 +/- 0.00\n",
      "INFO:bigfeta.utils:\n",
      "ingesting results to http://localhost:8081 fastem__20230712_RF_zstack__corrected_stitched2\n",
      "INFO:bigfeta.utils:render output is going to /dev/null\n",
      "INFO:__main__: total time: 1.2\n",
      "/home/rlane/miniconda3/envs/render/lib/python3.11/site-packages/argschema/utils.py:346: FutureWarning: '--transform_apply' is using old-style command-line syntax with each element as a separate argument. This will not be supported in argschema after 2.0. See http://argschema.readthedocs.io/en/master/user/intro.html#command-line-specification for details.\n",
      "  warnings.warn(warn_msg, FutureWarning)\n",
      "INFO:bigfeta.utils:\n",
      " loaded 9 tile specs from 1 zvalues in 0.0 sec using interface: render\n",
      "INFO:__main__: A created in 0.1 seconds\n",
      "INFO:__main__:\n",
      " solved in 0.0 sec\n",
      " precision [norm(Kx-Lm)/norm(Lm)] = 1.4e-16, 2.5e-16\n",
      " error     [norm(Ax-b)] = 77.787, 79.320\n",
      " [mean(Ax) +/- std(Ax)] : 0.0 +/- 2.4, 0.0 +/- 2.4\n",
      " [mean(error mag) +/- std(error mag)] : 3.0 +/- 1.7\n",
      "INFO:__main__:\n",
      " scales: 1.00 +/- 0.00, 1.00 +/- 0.00\n",
      "INFO:bigfeta.utils:\n",
      "ingesting results to http://localhost:8081 fastem__20230712_RF_zstack__corrected_stitched2\n",
      "INFO:bigfeta.utils:render output is going to /dev/null\n",
      "INFO:__main__: total time: 1.2\n",
      "/home/rlane/miniconda3/envs/render/lib/python3.11/site-packages/argschema/utils.py:346: FutureWarning: '--transform_apply' is using old-style command-line syntax with each element as a separate argument. This will not be supported in argschema after 2.0. See http://argschema.readthedocs.io/en/master/user/intro.html#command-line-specification for details.\n",
      "  warnings.warn(warn_msg, FutureWarning)\n",
      "INFO:bigfeta.utils:\n",
      " loaded 9 tile specs from 1 zvalues in 0.0 sec using interface: render\n",
      "INFO:__main__: A created in 0.1 seconds\n",
      "INFO:__main__:\n",
      " solved in 0.0 sec\n",
      " precision [norm(Kx-Lm)/norm(Lm)] = 7.8e-17, 3.0e-16\n",
      " error     [norm(Ax-b)] = 136.485, 87.281\n",
      " [mean(Ax) +/- std(Ax)] : 0.0 +/- 3.3, 0.0 +/- 2.1\n",
      " [mean(error mag) +/- std(error mag)] : 3.5 +/- 1.9\n",
      "INFO:__main__:\n",
      " scales: 1.00 +/- 0.00, 1.00 +/- 0.00\n",
      "INFO:bigfeta.utils:\n",
      "ingesting results to http://localhost:8081 fastem__20230712_RF_zstack__corrected_stitched2\n",
      "INFO:bigfeta.utils:render output is going to /dev/null\n",
      "INFO:__main__: total time: 1.3\n",
      "/home/rlane/miniconda3/envs/render/lib/python3.11/site-packages/argschema/utils.py:346: FutureWarning: '--transform_apply' is using old-style command-line syntax with each element as a separate argument. This will not be supported in argschema after 2.0. See http://argschema.readthedocs.io/en/master/user/intro.html#command-line-specification for details.\n",
      "  warnings.warn(warn_msg, FutureWarning)\n",
      "INFO:bigfeta.utils:\n",
      " loaded 9 tile specs from 1 zvalues in 0.0 sec using interface: render\n",
      "INFO:__main__: A created in 0.1 seconds\n",
      "INFO:__main__:\n",
      " solved in 0.0 sec\n",
      " precision [norm(Kx-Lm)/norm(Lm)] = 1.1e-16, 1.9e-16\n",
      " error     [norm(Ax-b)] = 52.083, 113.699\n",
      " [mean(Ax) +/- std(Ax)] : 0.0 +/- 1.9, 0.0 +/- 4.2\n",
      " [mean(error mag) +/- std(error mag)] : 3.8 +/- 2.7\n",
      "INFO:__main__:\n",
      " scales: 1.00 +/- 0.00, 1.00 +/- 0.00\n",
      "INFO:bigfeta.utils:\n",
      "ingesting results to http://localhost:8081 fastem__20230712_RF_zstack__corrected_stitched2\n",
      "INFO:bigfeta.utils:render output is going to /dev/null\n",
      "INFO:__main__: total time: 1.3\n",
      "/home/rlane/miniconda3/envs/render/lib/python3.11/site-packages/argschema/utils.py:346: FutureWarning: '--transform_apply' is using old-style command-line syntax with each element as a separate argument. This will not be supported in argschema after 2.0. See http://argschema.readthedocs.io/en/master/user/intro.html#command-line-specification for details.\n",
      "  warnings.warn(warn_msg, FutureWarning)\n",
      "INFO:bigfeta.utils:\n",
      " loaded 9 tile specs from 1 zvalues in 0.0 sec using interface: render\n",
      "INFO:__main__: A created in 0.1 seconds\n",
      "INFO:__main__:\n",
      " solved in 0.0 sec\n",
      " precision [norm(Kx-Lm)/norm(Lm)] = 9.0e-17, 3.2e-16\n",
      " error     [norm(Ax-b)] = 152.846, 91.814\n",
      " [mean(Ax) +/- std(Ax)] : 0.0 +/- 3.9, 0.0 +/- 2.4\n",
      " [mean(error mag) +/- std(error mag)] : 3.9 +/- 2.4\n",
      "INFO:__main__:\n",
      " scales: 1.00 +/- 0.00, 1.00 +/- 0.00\n",
      "INFO:bigfeta.utils:\n",
      "ingesting results to http://localhost:8081 fastem__20230712_RF_zstack__corrected_stitched2\n",
      "INFO:bigfeta.utils:render output is going to /dev/null\n",
      "INFO:__main__: total time: 1.2\n",
      "/home/rlane/miniconda3/envs/render/lib/python3.11/site-packages/argschema/utils.py:346: FutureWarning: '--transform_apply' is using old-style command-line syntax with each element as a separate argument. This will not be supported in argschema after 2.0. See http://argschema.readthedocs.io/en/master/user/intro.html#command-line-specification for details.\n",
      "  warnings.warn(warn_msg, FutureWarning)\n",
      "INFO:bigfeta.utils:\n",
      " loaded 9 tile specs from 1 zvalues in 0.0 sec using interface: render\n",
      "INFO:__main__: A created in 0.1 seconds\n",
      "INFO:__main__:\n",
      " solved in 0.0 sec\n",
      " precision [norm(Kx-Lm)/norm(Lm)] = 2.0e-16, 2.0e-16\n",
      " error     [norm(Ax-b)] = 108.527, 89.328\n",
      " [mean(Ax) +/- std(Ax)] : 0.0 +/- 2.8, 0.0 +/- 2.3\n",
      " [mean(error mag) +/- std(error mag)] : 3.2 +/- 1.8\n",
      "INFO:__main__:\n",
      " scales: 1.00 +/- 0.00, 1.00 +/- 0.00\n",
      "INFO:bigfeta.utils:\n",
      "ingesting results to http://localhost:8081 fastem__20230712_RF_zstack__corrected_stitched2\n",
      "INFO:bigfeta.utils:render output is going to /dev/null\n",
      "INFO:__main__: total time: 1.2\n",
      "/home/rlane/miniconda3/envs/render/lib/python3.11/site-packages/argschema/utils.py:346: FutureWarning: '--transform_apply' is using old-style command-line syntax with each element as a separate argument. This will not be supported in argschema after 2.0. See http://argschema.readthedocs.io/en/master/user/intro.html#command-line-specification for details.\n",
      "  warnings.warn(warn_msg, FutureWarning)\n",
      "INFO:bigfeta.utils:\n",
      " loaded 9 tile specs from 1 zvalues in 0.0 sec using interface: render\n",
      "INFO:__main__: A created in 0.1 seconds\n",
      "INFO:__main__:\n",
      " solved in 0.0 sec\n",
      " precision [norm(Kx-Lm)/norm(Lm)] = 2.0e-16, 2.4e-16\n",
      " error     [norm(Ax-b)] = 125.248, 96.366\n",
      " [mean(Ax) +/- std(Ax)] : 0.0 +/- 3.1, 0.0 +/- 2.4\n",
      " [mean(error mag) +/- std(error mag)] : 3.3 +/- 2.0\n",
      "INFO:__main__:\n",
      " scales: 1.00 +/- 0.00, 1.00 +/- 0.00\n",
      "INFO:bigfeta.utils:\n",
      "ingesting results to http://localhost:8081 fastem__20230712_RF_zstack__corrected_stitched2\n",
      "INFO:bigfeta.utils:render output is going to /dev/null\n",
      "INFO:__main__: total time: 1.3\n",
      "/home/rlane/miniconda3/envs/render/lib/python3.11/site-packages/argschema/utils.py:346: FutureWarning: '--transform_apply' is using old-style command-line syntax with each element as a separate argument. This will not be supported in argschema after 2.0. See http://argschema.readthedocs.io/en/master/user/intro.html#command-line-specification for details.\n",
      "  warnings.warn(warn_msg, FutureWarning)\n",
      "INFO:bigfeta.utils:\n",
      " loaded 9 tile specs from 1 zvalues in 0.0 sec using interface: render\n",
      "INFO:__main__: A created in 0.1 seconds\n",
      "INFO:__main__:\n",
      " solved in 0.0 sec\n",
      " precision [norm(Kx-Lm)/norm(Lm)] = 1.8e-16, 2.0e-16\n",
      " error     [norm(Ax-b)] = 184.740, 94.663\n",
      " [mean(Ax) +/- std(Ax)] : 0.0 +/- 3.9, 0.0 +/- 2.0\n",
      " [mean(error mag) +/- std(error mag)] : 3.8 +/- 2.3\n",
      "INFO:__main__:\n",
      " scales: 1.00 +/- 0.00, 1.00 +/- 0.00\n",
      "INFO:bigfeta.utils:\n",
      "ingesting results to http://localhost:8081 fastem__20230712_RF_zstack__corrected_stitched2\n",
      "INFO:bigfeta.utils:render output is going to /dev/null\n",
      "INFO:__main__: total time: 1.3\n",
      "/home/rlane/miniconda3/envs/render/lib/python3.11/site-packages/argschema/utils.py:346: FutureWarning: '--transform_apply' is using old-style command-line syntax with each element as a separate argument. This will not be supported in argschema after 2.0. See http://argschema.readthedocs.io/en/master/user/intro.html#command-line-specification for details.\n",
      "  warnings.warn(warn_msg, FutureWarning)\n",
      "INFO:bigfeta.utils:\n",
      " loaded 9 tile specs from 1 zvalues in 0.0 sec using interface: render\n",
      "INFO:__main__: A created in 0.1 seconds\n",
      "INFO:__main__:\n",
      " solved in 0.0 sec\n",
      " precision [norm(Kx-Lm)/norm(Lm)] = 4.1e-17, 1.6e-16\n",
      " error     [norm(Ax-b)] = 124.266, 80.304\n",
      " [mean(Ax) +/- std(Ax)] : 0.0 +/- 3.2, 0.0 +/- 2.1\n",
      " [mean(error mag) +/- std(error mag)] : 3.3 +/- 1.9\n",
      "INFO:__main__:\n",
      " scales: 1.00 +/- 0.00, 1.00 +/- 0.00\n",
      "INFO:bigfeta.utils:\n",
      "ingesting results to http://localhost:8081 fastem__20230712_RF_zstack__corrected_stitched2\n",
      "INFO:bigfeta.utils:render output is going to /dev/null\n",
      "INFO:__main__: total time: 1.3\n",
      "/home/rlane/miniconda3/envs/render/lib/python3.11/site-packages/argschema/utils.py:346: FutureWarning: '--transform_apply' is using old-style command-line syntax with each element as a separate argument. This will not be supported in argschema after 2.0. See http://argschema.readthedocs.io/en/master/user/intro.html#command-line-specification for details.\n",
      "  warnings.warn(warn_msg, FutureWarning)\n",
      "INFO:bigfeta.utils:\n",
      " loaded 9 tile specs from 1 zvalues in 0.0 sec using interface: render\n",
      "INFO:__main__: A created in 0.1 seconds\n",
      "INFO:__main__:\n",
      " solved in 0.0 sec\n",
      " precision [norm(Kx-Lm)/norm(Lm)] = 1.9e-16, 1.1e-16\n",
      " error     [norm(Ax-b)] = 84.748, 79.631\n",
      " [mean(Ax) +/- std(Ax)] : 0.0 +/- 2.3, 0.0 +/- 2.2\n",
      " [mean(error mag) +/- std(error mag)] : 2.9 +/- 1.5\n",
      "INFO:__main__:\n",
      " scales: 1.00 +/- 0.00, 1.00 +/- 0.00\n",
      "INFO:bigfeta.utils:\n",
      "ingesting results to http://localhost:8081 fastem__20230712_RF_zstack__corrected_stitched2\n",
      "INFO:bigfeta.utils:render output is going to /dev/null\n",
      "INFO:__main__: total time: 1.3\n",
      "/home/rlane/miniconda3/envs/render/lib/python3.11/site-packages/argschema/utils.py:346: FutureWarning: '--transform_apply' is using old-style command-line syntax with each element as a separate argument. This will not be supported in argschema after 2.0. See http://argschema.readthedocs.io/en/master/user/intro.html#command-line-specification for details.\n",
      "  warnings.warn(warn_msg, FutureWarning)\n",
      "INFO:bigfeta.utils:\n",
      " loaded 9 tile specs from 1 zvalues in 0.0 sec using interface: render\n",
      "INFO:__main__: A created in 0.1 seconds\n",
      "INFO:__main__:\n",
      " solved in 0.0 sec\n",
      " precision [norm(Kx-Lm)/norm(Lm)] = 1.0e-16, 1.6e-16\n",
      " error     [norm(Ax-b)] = 158.207, 79.028\n",
      " [mean(Ax) +/- std(Ax)] : 0.0 +/- 4.0, 0.0 +/- 2.0\n",
      " [mean(error mag) +/- std(error mag)] : 3.9 +/- 2.3\n",
      "INFO:__main__:\n",
      " scales: 1.00 +/- 0.00, 1.00 +/- 0.00\n",
      "INFO:bigfeta.utils:\n",
      "ingesting results to http://localhost:8081 fastem__20230712_RF_zstack__corrected_stitched2\n",
      "INFO:bigfeta.utils:render output is going to /dev/null\n",
      "INFO:__main__: total time: 1.3\n"
     ]
    }
   ],
   "source": [
    "# Path to `BigFeta`\n",
    "cwd = Path.cwd().as_posix()\n",
    "dir_BigFeta = Path('/home/rlane/BigFeta/')\n",
    "\n",
    "# Loop through z values\n",
    "for z in z_values:\n",
    "\n",
    "    # Select montage json\n",
    "    sectionId = renderapi.stack.get_sectionId_for_z(stack, z, **params_render)\n",
    "    align_json = dir_project / f\"{sectionId}/{stack}/montage.json\"\n",
    "\n",
    "    # Call `BigFeta.BigFeta` process -- have to switch to BigFeta directory\n",
    "    os.chdir(dir_BigFeta.as_posix())\n",
    "    subprocess.run(['python', '-m', 'bigfeta.bigfeta', '--input_json', align_json.as_posix()])\n",
    "    os.chdir(cwd)"
   ]
  },
  {
   "cell_type": "markdown",
   "id": "abb5fdfb-0e0f-4a04-a70e-d3275a8f6580",
   "metadata": {},
   "source": [
    "### Inspect"
   ]
  },
  {
   "cell_type": "code",
   "execution_count": 25,
   "id": "ef74803c-dff3-4315-9e10-484de54ff937",
   "metadata": {
    "tags": []
   },
   "outputs": [
    {
     "data": {
      "application/vnd.jupyter.widget-view+json": {
       "model_id": "c27864623b75422fb466ca6654afa81b",
       "version_major": 2,
       "version_minor": 0
      },
      "text/plain": [
       "  0%|          | 0/2 [00:00<?, ?it/s]"
      ]
     },
     "metadata": {},
     "output_type": "display_data"
    },
    {
     "data": {
      "application/vnd.jupyter.widget-view+json": {
       "model_id": "1845a13565ff42589d4f0b9d57bb84ef",
       "version_major": 2,
       "version_minor": 0
      },
      "text/plain": [
       "interactive(children=(IntSlider(value=0, description='z', max=16), IntSlider(value=30201, description='vmin', …"
      ]
     },
     "metadata": {},
     "output_type": "display_data"
    }
   ],
   "source": [
    "# Plot stacks\n",
    "stacks = [\"corrected\", \"corrected_stitched\"]\n",
    "plotting.plot_stacks(\n",
    "    stacks,\n",
    "    params_render\n",
    ")"
   ]
  }
 ],
 "metadata": {
  "kernelspec": {
   "display_name": "Python 3 (ipykernel)",
   "language": "python",
   "name": "python3"
  },
  "language_info": {
   "codemirror_mode": {
    "name": "ipython",
    "version": 3
   },
   "file_extension": ".py",
   "mimetype": "text/x-python",
   "name": "python",
   "nbconvert_exporter": "python",
   "pygments_lexer": "ipython3",
   "version": "3.11.4"
  }
 },
 "nbformat": 4,
 "nbformat_minor": 5
}
