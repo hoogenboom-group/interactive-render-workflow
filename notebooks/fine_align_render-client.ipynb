{
 "cells": [
  {
   "cell_type": "markdown",
   "metadata": {},
   "source": [
    "# Fine align\n",
    "---\n",
    "\n",
    "#### Overview\n",
    "Interactive 3D alignment of serial sections."
   ]
  },
  {
   "cell_type": "code",
   "execution_count": 1,
   "metadata": {},
   "outputs": [],
   "source": [
    "import pathlib\n",
    "import requests\n",
    "\n",
    "from tqdm.notebook import tqdm\n",
    "import numpy as np\n",
    "import matplotlib.pyplot as plt\n",
    "import renderapi\n",
    "import os\n",
    "\n",
    "from scripted_render_pipeline import basic_auth\n",
    "from scripted_render_pipeline.importer import uploader\n",
    "from interactive_render import plotting\n",
    "from interactive_render.utils import clear_image_cache"
   ]
  },
  {
   "cell_type": "code",
   "execution_count": 2,
   "metadata": {},
   "outputs": [
    {
     "data": {
      "text/plain": [
       "<Response [200]>"
      ]
     },
     "execution_count": 2,
     "metadata": {},
     "output_type": "execute_result"
    }
   ],
   "source": [
    "clear_image_cache()"
   ]
  },
  {
   "cell_type": "markdown",
   "metadata": {},
   "source": [
    "#### `render-ws` environment variables"
   ]
  },
  {
   "cell_type": "code",
   "execution_count": 3,
   "metadata": {},
   "outputs": [],
   "source": [
    "# create an authorized session\n",
    "auth = basic_auth.load_auth()\n",
    "sesh = requests.Session()\n",
    "sesh.auth = auth\n",
    "\n",
    "# render-ws environment variables\n",
    "params_render = {\n",
    "    \"host\": \"http://localhost\",\n",
    "    \"port\": 8081,\n",
    "    \"client_scripts\": \"/home/catmaid/render/render-ws-java-client/src/main/scripts\",\n",
    "    \"client_script\": \"/home/catmaid/render/render-ws-java-client/src/main/scripts/run_ws_client.sh\",\n",
    "    \"owner\": \"akievits\",\n",
    "    \"project\": \"20230914_RP_exocrine_partial_test\",\n",
    "    \"session\": sesh\n",
    "}\n",
    "\n",
    "params_uploader = {\n",
    "    \"host\": \"https://sonic.tnw.tudelft.nl\",\n",
    "    \"owner\": \"akievits\",\n",
    "    \"project\": \"20230914_RP_exocrine_partial_test\",\n",
    "    \"auth\": auth\n",
    "}\n",
    "\n",
    "# set project directory\n",
    "dir_project = pathlib.Path(\"/long_term_storage/akievits/FAST-EM/20230914_RP_exocrine_partial_test/\")"
   ]
  },
  {
   "cell_type": "markdown",
   "metadata": {},
   "source": [
    "## 5) Fine alignment\n",
    "---"
   ]
  },
  {
   "cell_type": "code",
   "execution_count": 7,
   "metadata": {},
   "outputs": [],
   "source": [
    "stacks = {\n",
    "    'rough_align': 'postcorrection_aligned_rough',\n",
    "    'in': 'postcorrection',\n",
    "    'out': 'postcorrection_rigid'\n",
    "}"
   ]
  },
  {
   "cell_type": "markdown",
   "metadata": {},
   "source": [
    "### Get point matches\n",
    "\n",
    "Use `render-ws` `PointMatchClient` script to find point matches between tilepairs in `z`, based on rough alignment\n",
    "#### Collect tile pairs"
   ]
  },
  {
   "cell_type": "code",
   "execution_count": 17,
   "metadata": {},
   "outputs": [
    {
     "name": "stdout",
     "output_type": "stream",
     "text": [
      "Number of tile pairs... 70 \n",
      "--------------------------\n"
     ]
    },
    {
     "data": {
      "text/plain": [
       "[{'p': {'groupId': 'S003', 'id': 't00_z0_y4_x4'},\n",
       "  'q': {'groupId': 'S004', 'id': 't00_z1_y4_x4'}},\n",
       " {'p': {'groupId': 'S003', 'id': 't01_z0_y4_x3'},\n",
       "  'q': {'groupId': 'S004', 'id': 't00_z1_y4_x4'}},\n",
       " {'p': {'groupId': 'S003', 'id': 't01_z0_y4_x3'},\n",
       "  'q': {'groupId': 'S004', 'id': 't01_z1_y4_x3'}},\n",
       " {'p': {'groupId': 'S003', 'id': 't02_z0_y4_x2'},\n",
       "  'q': {'groupId': 'S004', 'id': 't01_z1_y4_x3'}},\n",
       " {'p': {'groupId': 'S003', 'id': 't02_z0_y4_x2'},\n",
       "  'q': {'groupId': 'S004', 'id': 't02_z1_y4_x2'}}]"
      ]
     },
     "execution_count": 17,
     "metadata": {},
     "output_type": "execute_result"
    }
   ],
   "source": [
    "# Get z values\n",
    "z_values = renderapi.stack.get_z_values_for_stack(stack=stacks['rough_align'],\n",
    "                                                  **params_render)\n",
    "\n",
    "# Get tile pairs\n",
    "tile_pairs= renderapi.client.tilePairClient(stack=stacks['rough_align'],\n",
    "                                             minz=min(z_values),\n",
    "                                             maxz=max(z_values),\n",
    "                                             zNeighborDistance=1, # half-height of search cylinder\n",
    "                                             xyNeighborFactor=0.1,\n",
    "                                             excludeSameLayerNeighbors=True,\n",
    "                                             subprocess_mode=\"check_output\",  # suppresses output\n",
    "                                             **params_render)\n",
    "# Show tile pairs\n",
    "out = f\"Number of tile pairs... {len(tile_pairs['neighborPairs'])}\"\n",
    "print(out, \"\\n\" + \"-\"*len(out))\n",
    "tile_pairs['neighborPairs'][0:5]"
   ]
  },
  {
   "cell_type": "code",
   "execution_count": 31,
   "metadata": {},
   "outputs": [
    {
     "data": {
      "text/plain": [
       "'20230914_RP_exocrine_partial_test_postcorrection_points'"
      ]
     },
     "execution_count": 31,
     "metadata": {},
     "output_type": "execute_result"
    }
   ],
   "source": [
    "# Name for pointmatch collection\n",
    "match_collection = f\"{params_render['project']}_{stacks['in']}_points\"\n",
    "match_collection"
   ]
  },
  {
   "cell_type": "markdown",
   "metadata": {},
   "source": [
    "#### Set `SIFT` & `RANSAC` parameters for fine alignment"
   ]
  },
  {
   "cell_type": "code",
   "execution_count": 32,
   "metadata": {},
   "outputs": [],
   "source": [
    "from renderapi.client import (\n",
    "    SiftPointMatchOptions,\n",
    "    MatchDerivationParameters,\n",
    "    FeatureExtractionParameters\n",
    ")"
   ]
  },
  {
   "cell_type": "code",
   "execution_count": 35,
   "metadata": {},
   "outputs": [
    {
     "data": {
      "text/plain": [
       "{'SIFTfdSize': 8,\n",
       " 'SIFTmaxScale': 0.2,\n",
       " 'SIFTminScale': 0.05,\n",
       " 'SIFTsteps': 7,\n",
       " 'matchIterations': None,\n",
       " 'matchMaxEpsilon': 25,\n",
       " 'matchMaxNumInliers': None,\n",
       " 'matchMaxTrust': None,\n",
       " 'matchMinInlierRatio': 0.01,\n",
       " 'matchMinNumInliers': 3,\n",
       " 'matchModelType': 'AFFINE',\n",
       " 'matchRod': 0.92,\n",
       " 'renderScale': None,\n",
       " 'fillWithNoise': True,\n",
       " 'numberOfThreads': 1}"
      ]
     },
     "execution_count": 35,
     "metadata": {},
     "output_type": "execute_result"
    }
   ],
   "source": [
    "# `RANSAC` parameters\n",
    "params_RANSAC = MatchDerivationParameters(\n",
    "    matchIterations=None,\n",
    "    matchMaxEpsilon=25,        # maximal alignment error\n",
    "    matchMaxNumInliers=None,\n",
    "    matchMaxTrust=None,\n",
    "    matchMinInlierRatio=0.01,  # minimal inlier ratio\n",
    "    matchMinNumInliers=3,      # minimal number of inliers\n",
    "    matchModelType='AFFINE',   # expected transformation\n",
    "    matchRod=0.92              # closest/next closest ratio\n",
    ")\n",
    "\n",
    "# `SIFT` parameters\n",
    "params_SIFT = FeatureExtractionParameters(\n",
    "    SIFTfdSize=8,              # feature descriptor size\n",
    "    SIFTmaxScale=0.2,         # (width/height *) maximum image size\n",
    "    SIFTminScale=0.05,         # (width/height *) minimum image size\n",
    "    SIFTsteps=7               # steps per scale octave\n",
    ")\n",
    "\n",
    "# Combined `SIFT` & `RANSAC` parameters\n",
    "params_SIFT = SiftPointMatchOptions(\n",
    "    fillWithNoise=True,\n",
    "    **{**params_RANSAC.__dict__,\n",
    "       **params_SIFT.__dict__}\n",
    ")\n",
    "\n",
    "# Extra parameters\n",
    "params_SIFT.numberOfThreads = 1  # multithreading\n",
    "params_SIFT.__dict__"
   ]
  },
  {
   "cell_type": "markdown",
   "metadata": {},
   "source": [
    "#### Get point matches"
   ]
  },
  {
   "cell_type": "code",
   "execution_count": 37,
   "metadata": {},
   "outputs": [
    {
     "data": {
      "application/vnd.jupyter.widget-view+json": {
       "model_id": "a4cdc69a15124245988f7a255cf43ba8",
       "version_major": 2,
       "version_minor": 0
      },
      "text/plain": [
       "  0%|          | 0/70 [00:00<?, ?it/s]"
      ]
     },
     "metadata": {},
     "output_type": "display_data"
    }
   ],
   "source": [
    "# Loop through tile pairs\n",
    "for tp in tqdm(tile_pairs['neighborPairs']):\n",
    "\n",
    "    # Format tile pair\n",
    "    tp_ids = (tp[\"p\"][\"id\"], tp[\"q\"][\"id\"])\n",
    "\n",
    "    # Run SIFT + RANSAC via render-ws PointMatchClient\n",
    "    renderapi.client.pointMatchClient(\n",
    "        stack=stacks['in'],\n",
    "        collection=match_collection,\n",
    "        tile_pairs=[tp_ids],\n",
    "        sift_options=params_SIFT,\n",
    "        excludeAllTransforms=True,\n",
    "        subprocess_mode='check_output',  # suppresses output\n",
    "        **params_render\n",
    "    )"
   ]
  },
  {
   "cell_type": "markdown",
   "metadata": {},
   "source": [
    "### Align stack\n",
    "---\n",
    "\n",
    "### Create alignment files"
   ]
  },
  {
   "cell_type": "code",
   "execution_count": null,
   "metadata": {},
   "outputs": [],
   "source": [
    "from pathlib import Path\n",
    "import os\n",
    "import subprocess\n",
    "import json\n",
    "from pprint import pprint"
   ]
  },
  {
   "cell_type": "code",
   "execution_count": null,
   "metadata": {},
   "outputs": [],
   "source": [
    "z_values = renderapi.stack.get_z_values_for_stack(stacks['in'],\n",
    "                                                  **params_render)\n",
    "# Load align.json template\n",
    "template_align_json = Path('../templates/align.json')\n",
    "with template_align_json.open('r') as json_data:\n",
    "    params_align_fine = json.load(json_data)\n",
    "\n",
    "# Edit BigFeta solver schema\n",
    "params_align_fine['first_section'] = min(z_values)\n",
    "params_align_fine['last_section'] = max(z_values)\n",
    "params_align_fine['solve_type'] = '3D'\n",
    "params_align_fine['transformation'] = 'rigid'\n",
    "params_align_fine['log_level'] = 'INFO'\n",
    "\n",
    "# Edit input stack data\n",
    "params_align_fine['input_stack']['host'] = params_render['host']\n",
    "params_align_fine['input_stack']['owner'] = params_render['owner']\n",
    "params_align_fine['input_stack']['project'] = params_render['project']\n",
    "params_align_fine['input_stack']['name'] = stacks['in']\n",
    "\n",
    "# Edit point match stack data\n",
    "params_align_fine['pointmatch']['host'] = params_render['host']\n",
    "params_align_fine['pointmatch']['owner'] = params_render['owner']\n",
    "params_align_fine['pointmatch']['name'] = match_collection\n",
    "\n",
    "# Edit output stack data\n",
    "params_align_fine['output_stack']['host'] = params_render['host']\n",
    "params_align_fine['output_stack']['owner'] = params_render['owner']\n",
    "params_align_fine['output_stack']['project'] = params_render['project']\n",
    "params_align_fine['output_stack']['name'] = stacks['out']\n",
    "\n",
    "# Edit regularization parameters\n",
    "params_align_fine['regularization']['default_lambda'] = 1e-2       # default: 0.005\n",
    "params_align_fine['regularization']['translation_factor'] = 1e-2   # default: 0.005\n",
    "params_align_fine['regularization']['thinplate_factor'] = 1e-5     # default: 1e-5\n",
    "\n",
    "# Export montage settings to\n",
    "align_json = dir_project / '_jsons_align_fine' / stacks['in'] / 'align_fine.json'\n",
    "align_json.parent.mkdir(parents=True, exist_ok=True)\n",
    "with align_json.open('w') as json_data:\n",
    "    json.dump(params_align_fine, json_data, indent=2)\n",
    "\n",
    "# Check alignment parameters\n",
    "print(align_json)\n",
    "print('-'*len(align_json.as_posix()))\n",
    "pprint(params_align_fine)"
   ]
  },
  {
   "cell_type": "markdown",
   "metadata": {},
   "source": [
    "### Run `BigFeta`"
   ]
  },
  {
   "cell_type": "code",
   "execution_count": null,
   "metadata": {},
   "outputs": [],
   "source": [
    "# Path to `BigFeta`\n",
    "cwd = Path.cwd().as_posix()\n",
    "BigFeta_dir = Path('/home/catmaid/BigFeta/')\n",
    "\n",
    "# Call `BigFeta.BigFeta` process -- have to switch to BigFeta directory\n",
    "os.chdir(BigFeta_dir.as_posix())\n",
    "subprocess.run(['python', '-m', 'bigfeta.bigfeta', '--input_json', align_json.as_posix()])\n",
    "os.chdir(cwd)"
   ]
  },
  {
   "cell_type": "markdown",
   "metadata": {},
   "source": [
    "### Inspect fine alignment"
   ]
  },
  {
   "cell_type": "code",
   "execution_count": null,
   "metadata": {},
   "outputs": [],
   "source": [
    "# plot stack\n",
    "plotting.plot_stacks(\n",
    "    stacks=[stacks['out']],\n",
    "    **params_render\n",
    ")"
   ]
  }
 ],
 "metadata": {
  "kernelspec": {
   "display_name": ".venv",
   "language": "python",
   "name": "python3"
  },
  "language_info": {
   "codemirror_mode": {
    "name": "ipython",
    "version": 3
   },
   "file_extension": ".py",
   "mimetype": "text/x-python",
   "name": "python",
   "nbconvert_exporter": "python",
   "pygments_lexer": "ipython3",
   "version": "3.9.1"
  }
 },
 "nbformat": 4,
 "nbformat_minor": 2
}
