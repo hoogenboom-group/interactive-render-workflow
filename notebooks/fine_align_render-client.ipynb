{
 "cells": [
  {
   "cell_type": "markdown",
   "metadata": {},
   "source": [
    "# Fine align\n",
    "---\n",
    "\n",
    "#### Overview\n",
    "Interactive 3D alignment of serial sections."
   ]
  },
  {
   "cell_type": "code",
   "execution_count": 31,
   "metadata": {},
   "outputs": [],
   "source": [
    "import pathlib\n",
    "import requests\n",
    "\n",
    "from tqdm.notebook import tqdm\n",
    "import numpy as np\n",
    "import matplotlib.pyplot as plt\n",
    "import renderapi\n",
    "import os\n",
    "\n",
    "from scripted_render_pipeline import basic_auth\n",
    "from scripted_render_pipeline.importer import uploader\n",
    "from interactive_render import plotting\n",
    "from interactive_render.utils import clear_image_cache\n",
    "from interactive_render.utils import get_pointmatches"
   ]
  },
  {
   "cell_type": "code",
   "execution_count": 71,
   "metadata": {},
   "outputs": [
    {
     "data": {
      "text/plain": [
       "<Response [200]>"
      ]
     },
     "execution_count": 71,
     "metadata": {},
     "output_type": "execute_result"
    }
   ],
   "source": [
    "clear_image_cache()"
   ]
  },
  {
   "cell_type": "markdown",
   "metadata": {},
   "source": [
    "#### `render-ws` environment variables"
   ]
  },
  {
   "cell_type": "code",
   "execution_count": 54,
   "metadata": {},
   "outputs": [],
   "source": [
    "# create an authorized session\n",
    "auth = basic_auth.load_auth()\n",
    "sesh = requests.Session()\n",
    "sesh.auth = auth\n",
    "\n",
    "# render-ws environment variables\n",
    "params_render = {\n",
    "    \"host\": \"http://localhost\",\n",
    "    \"port\": 8081,\n",
    "    \"client_scripts\": \"/home/catmaid/render/render-ws-java-client/src/main/scripts\",\n",
    "    \"client_script\": \"/home/catmaid/render/render-ws-java-client/src/main/scripts/run_ws_client.sh\",\n",
    "    \"owner\": \"akievits\",\n",
    "    \"project\": \"20230914_RP_exocrine_partial_test\",\n",
    "    \"session\": sesh\n",
    "}\n",
    "\n",
    "params_align = {\n",
    "    \"host\": \"http://localhost\",\n",
    "    \"port\": 8081,\n",
    "    \"client_scripts\": \"/home/catmaid/render/render-ws-java-client/src/main/scripts\",\n",
    "    \"client_script\": \"/home/catmaid/render/render-ws-java-client/src/main/scripts/run_ws_client.sh\",\n",
    "    \"owner\": \"akievits\",\n",
    "    \"project\": \"20230914_RP_exocrine_partial_test\",\n",
    "    \"memGB\": '40G',\n",
    "    \"session\": sesh\n",
    "}\n",
    "\n",
    "params_uploader = {\n",
    "    \"host\": \"https://sonic.tnw.tudelft.nl\",\n",
    "    \"owner\": \"akievits\",\n",
    "    \"project\": \"20230914_RP_exocrine_partial_test\",\n",
    "    \"auth\": auth\n",
    "}\n",
    "\n",
    "# set project directory\n",
    "dir_project = pathlib.Path(\"/long_term_storage/akievits/FAST-EM/20230914_RP_exocrine_partial_test/\")"
   ]
  },
  {
   "cell_type": "markdown",
   "metadata": {},
   "source": [
    "## 5) Fine alignment\n",
    "---"
   ]
  },
  {
   "cell_type": "code",
   "execution_count": 73,
   "metadata": {},
   "outputs": [],
   "source": [
    "stacks = {\n",
    "    'rough_align': 'postcorrection_aligned_rough',\n",
    "    'in': 'postcorrection',\n",
    "    'out': 'postcorrection_rigid'\n",
    "}"
   ]
  },
  {
   "cell_type": "markdown",
   "metadata": {},
   "source": [
    "### Get point matches\n",
    "\n",
    "Use `render-ws` `PointMatchClient` script to find point matches between tilepairs in `z`, based on rough alignment\n",
    "#### Collect tile pairs"
   ]
  },
  {
   "cell_type": "code",
   "execution_count": 36,
   "metadata": {},
   "outputs": [
    {
     "name": "stdout",
     "output_type": "stream",
     "text": [
      "Number of tile pairs... 232 \n",
      "---------------------------\n"
     ]
    },
    {
     "data": {
      "text/plain": [
       "[{'p': {'groupId': 'S003', 'id': 't00_z0_y4_x4'},\n",
       "  'q': {'groupId': 'S004', 'id': 't00_z1_y4_x4'}},\n",
       " {'p': {'groupId': 'S003', 'id': 't00_z0_y4_x4'},\n",
       "  'q': {'groupId': 'S004', 'id': 't05_z1_y3_x4'}},\n",
       " {'p': {'groupId': 'S003', 'id': 't01_z0_y4_x3'},\n",
       "  'q': {'groupId': 'S004', 'id': 't00_z1_y4_x4'}},\n",
       " {'p': {'groupId': 'S003', 'id': 't01_z0_y4_x3'},\n",
       "  'q': {'groupId': 'S004', 'id': 't01_z1_y4_x3'}},\n",
       " {'p': {'groupId': 'S003', 'id': 't01_z0_y4_x3'},\n",
       "  'q': {'groupId': 'S004', 'id': 't02_z1_y4_x2'}}]"
      ]
     },
     "execution_count": 36,
     "metadata": {},
     "output_type": "execute_result"
    }
   ],
   "source": [
    "# Get z values\n",
    "z_values = renderapi.stack.get_z_values_for_stack(stack=stacks['rough_align'],\n",
    "                                                  **params_render)\n",
    "\n",
    "# Get tile pairs\n",
    "tile_pairs = renderapi.client.tilePairClient(stack=stacks['rough_align'],\n",
    "                                             minz=min(z_values),\n",
    "                                             maxz=max(z_values),\n",
    "                                             zNeighborDistance=1, # half-height of search cylinder\n",
    "                                             xyNeighborFactor=0.9,\n",
    "                                             excludeSameLayerNeighbors=True,\n",
    "                                             subprocess_mode=\"check_output\",  # suppresses output\n",
    "                                             **params_render)\n",
    "# Show tile pairs\n",
    "out = f\"Number of tile pairs... {len(tile_pairs['neighborPairs'])}\"\n",
    "print(out, \"\\n\" + \"-\"*len(out))\n",
    "tile_pairs['neighborPairs'][0:5]"
   ]
  },
  {
   "cell_type": "code",
   "execution_count": 37,
   "metadata": {},
   "outputs": [
    {
     "data": {
      "text/plain": [
       "[['t00_z0_y4_x4', 't00_z1_y4_x4'],\n",
       " ['t00_z0_y4_x4', 't05_z1_y3_x4'],\n",
       " ['t01_z0_y4_x3', 't00_z1_y4_x4'],\n",
       " ['t01_z0_y4_x3', 't01_z1_y4_x3'],\n",
       " ['t01_z0_y4_x3', 't02_z1_y4_x2']]"
      ]
     },
     "execution_count": 37,
     "metadata": {},
     "output_type": "execute_result"
    }
   ],
   "source": [
    "# Reformat tilepairs for PointMatchClient\n",
    "tilepairs_reformat = [[tp['p']['id'], tp['q']['id']] for tp in tile_pairs['neighborPairs']]\n",
    "tilepairs_reformat[:5]"
   ]
  },
  {
   "cell_type": "code",
   "execution_count": 38,
   "metadata": {},
   "outputs": [
    {
     "data": {
      "text/plain": [
       "'20230914_RP_exocrine_partial_test_postcorrection_stitched_points'"
      ]
     },
     "execution_count": 38,
     "metadata": {},
     "output_type": "execute_result"
    }
   ],
   "source": [
    "# Name for pointmatch collection\n",
    "match_collection = f\"{params_render['project']}_{stacks['in']}_points\"\n",
    "match_collection"
   ]
  },
  {
   "cell_type": "markdown",
   "metadata": {},
   "source": [
    "#### Set `SIFT` & `RANSAC` parameters for fine alignment"
   ]
  },
  {
   "cell_type": "code",
   "execution_count": 39,
   "metadata": {},
   "outputs": [],
   "source": [
    "from renderapi.client import (\n",
    "    SiftPointMatchOptions,\n",
    "    MatchDerivationParameters,\n",
    "    FeatureExtractionParameters\n",
    ")"
   ]
  },
  {
   "cell_type": "code",
   "execution_count": 55,
   "metadata": {},
   "outputs": [
    {
     "data": {
      "text/plain": [
       "{'SIFTfdSize': 8,\n",
       " 'SIFTmaxScale': 0.2,\n",
       " 'SIFTminScale': 0.05,\n",
       " 'SIFTsteps': 5,\n",
       " 'matchIterations': None,\n",
       " 'matchMaxEpsilon': 25,\n",
       " 'matchMaxNumInliers': None,\n",
       " 'matchMaxTrust': None,\n",
       " 'matchMinInlierRatio': 0.05,\n",
       " 'matchMinNumInliers': 7,\n",
       " 'matchModelType': 'AFFINE',\n",
       " 'matchRod': 0.92,\n",
       " 'renderScale': None,\n",
       " 'fillWithNoise': True,\n",
       " 'numberOfThreads': 20}"
      ]
     },
     "execution_count": 55,
     "metadata": {},
     "output_type": "execute_result"
    }
   ],
   "source": [
    "# `RANSAC` parameters\n",
    "params_RANSAC = MatchDerivationParameters(\n",
    "    matchIterations=None,\n",
    "    matchMaxEpsilon=25,        # maximal alignment error\n",
    "    matchMaxNumInliers=None,\n",
    "    matchMaxTrust=None,\n",
    "    matchMinInlierRatio=0.05,  # minimal inlier ratio\n",
    "    matchMinNumInliers=7,      # minimal number of inliers\n",
    "    matchModelType='AFFINE',   # expected transformation\n",
    "    matchRod=0.92              # closest/next closest ratio\n",
    ")\n",
    "\n",
    "# `SIFT` parameters\n",
    "params_SIFT = FeatureExtractionParameters(\n",
    "    SIFTfdSize=8,              # feature descriptor size\n",
    "    SIFTmaxScale=0.2,         # (width/height *) maximum image size\n",
    "    SIFTminScale=0.05,         # (width/height *) minimum image size\n",
    "    SIFTsteps=5               # steps per scale octave\n",
    ")\n",
    "\n",
    "# Combined `SIFT` & `RANSAC` parameters\n",
    "params_SIFT = SiftPointMatchOptions(\n",
    "    fillWithNoise=True,\n",
    "    **{**params_RANSAC.__dict__,\n",
    "       **params_SIFT.__dict__}\n",
    ")\n",
    "\n",
    "# Extra parameters\n",
    "params_SIFT.numberOfThreads = 20 # multithreading\n",
    "params_SIFT.__dict__"
   ]
  },
  {
   "cell_type": "markdown",
   "metadata": {},
   "source": [
    "#### Get point matches"
   ]
  },
  {
   "cell_type": "code",
   "execution_count": 56,
   "metadata": {},
   "outputs": [],
   "source": [
    "# Run SIFT + RANSAC via render-ws PointMatchClient\n",
    "renderapi.client.pointMatchClient(\n",
    "    stack=stacks['in'],\n",
    "    collection=match_collection,\n",
    "    tile_pairs=tilepairs_reformat,\n",
    "    sift_options=params_SIFT,\n",
    "    excludeAllTransforms=True,\n",
    "    subprocess_mode='check_output',  # suppresses output\n",
    "    **params_align\n",
    ")"
   ]
  },
  {
   "cell_type": "code",
   "execution_count": 80,
   "metadata": {},
   "outputs": [
    {
     "ename": "NameError",
     "evalue": "name 'interactive_render' is not defined",
     "output_type": "error",
     "traceback": [
      "\u001b[0;31m---------------------------------------------------------------------------\u001b[0m",
      "\u001b[0;31mNameError\u001b[0m                                 Traceback (most recent call last)",
      "\u001b[1;32m/home/akievits/interactive-render-workflow/notebooks/fine_align_render-client.ipynb Cell 17\u001b[0m line \u001b[0;36m2\n\u001b[1;32m      <a href='vscode-notebook-cell://ssh-remote%2Bfastem-server/home/akievits/interactive-render-workflow/notebooks/fine_align_render-client.ipynb#X52sdnNjb2RlLXJlbW90ZQ%3D%3D?line=0'>1</a>\u001b[0m \u001b[39m# get inter-section point matches\u001b[39;00m\n\u001b[0;32m----> <a href='vscode-notebook-cell://ssh-remote%2Bfastem-server/home/akievits/interactive-render-workflow/notebooks/fine_align_render-client.ipynb#X52sdnNjb2RlLXJlbW90ZQ%3D%3D?line=1'>2</a>\u001b[0m d_matches \u001b[39m=\u001b[39m interactive_render\u001b[39m.\u001b[39mutils\u001b[39m.\u001b[39mget_pointmatches(\n\u001b[1;32m      <a href='vscode-notebook-cell://ssh-remote%2Bfastem-server/home/akievits/interactive-render-workflow/notebooks/fine_align_render-client.ipynb#X52sdnNjb2RlLXJlbW90ZQ%3D%3D?line=2'>3</a>\u001b[0m     stacks[\u001b[39m'\u001b[39m\u001b[39min\u001b[39m\u001b[39m'\u001b[39m],\n\u001b[1;32m      <a href='vscode-notebook-cell://ssh-remote%2Bfastem-server/home/akievits/interactive-render-workflow/notebooks/fine_align_render-client.ipynb#X52sdnNjb2RlLXJlbW90ZQ%3D%3D?line=3'>4</a>\u001b[0m     match_collection,\n\u001b[1;32m      <a href='vscode-notebook-cell://ssh-remote%2Bfastem-server/home/akievits/interactive-render-workflow/notebooks/fine_align_render-client.ipynb#X52sdnNjb2RlLXJlbW90ZQ%3D%3D?line=4'>5</a>\u001b[0m     \u001b[39m*\u001b[39m\u001b[39m*\u001b[39mparams_render\n\u001b[1;32m      <a href='vscode-notebook-cell://ssh-remote%2Bfastem-server/home/akievits/interactive-render-workflow/notebooks/fine_align_render-client.ipynb#X52sdnNjb2RlLXJlbW90ZQ%3D%3D?line=5'>6</a>\u001b[0m     )\n",
      "\u001b[0;31mNameError\u001b[0m: name 'interactive_render' is not defined"
     ]
    }
   ],
   "source": [
    "# get inter-section point matches\n",
    "d_matches = interactive_render.utils.get_pointmatches(\n",
    "    stacks['in'],\n",
    "    match_collection,\n",
    "    **params_render\n",
    "    )"
   ]
  },
  {
   "cell_type": "markdown",
   "metadata": {},
   "source": [
    "### Align stack\n",
    "---\n",
    "\n",
    "### Create alignment files"
   ]
  },
  {
   "cell_type": "code",
   "execution_count": 57,
   "metadata": {},
   "outputs": [],
   "source": [
    "from pathlib import Path\n",
    "import os\n",
    "import subprocess\n",
    "import json\n",
    "from pprint import pprint"
   ]
  },
  {
   "cell_type": "code",
   "execution_count": 77,
   "metadata": {},
   "outputs": [
    {
     "name": "stdout",
     "output_type": "stream",
     "text": [
      "/long_term_storage/akievits/FAST-EM/20230914_RP_exocrine_partial_test/_jsons_align_fine/postcorrection/align_fine.json\n",
      "----------------------------------------------------------------------------------------------------------------------\n",
      "{'close_stack': 'True',\n",
      " 'first_section': 0.0,\n",
      " 'hdf5_options': {'chunks_per_file': -1, 'output_dir': ''},\n",
      " 'input_stack': {'client_scripts': '/home/catmaid/render/render-ws-java-client/src/main/scripts',\n",
      "                 'collection_type': 'stack',\n",
      "                 'db_interface': 'render',\n",
      "                 'host': 'http://localhost',\n",
      "                 'mongo_host': 'sonic.tnw.tudelft.nl',\n",
      "                 'mongo_port': 27017,\n",
      "                 'name': 'postcorrection',\n",
      "                 'owner': 'akievits',\n",
      "                 'port': 8081,\n",
      "                 'project': '20230914_RP_exocrine_partial_test'},\n",
      " 'last_section': 2.0,\n",
      " 'log_level': 'INFO',\n",
      " 'matrix_assembly': {'cross_pt_weight': 1.0,\n",
      "                     'depth': 2,\n",
      "                     'inverse_dz': 'True',\n",
      "                     'montage_pt_weight': 1.0,\n",
      "                     'npts_max': 500,\n",
      "                     'npts_min': 5},\n",
      " 'output_mode': 'stack',\n",
      " 'output_stack': {'client_scripts': '/home/catmaid/render/render-ws-java-client/src/main/scripts',\n",
      "                  'collection_type': 'stack',\n",
      "                  'db_interface': 'render',\n",
      "                  'host': 'http://localhost',\n",
      "                  'mongo_host': 'sonic.tnw.tudelft.nl',\n",
      "                  'mongo_port': 27017,\n",
      "                  'name': 'postcorrection_rigid',\n",
      "                  'owner': 'akievits',\n",
      "                  'port': 8081,\n",
      "                  'project': '20230914_RP_exocrine_partial_test'},\n",
      " 'pointmatch': {'client_scripts': '/home/catmaid/render/render-ws-java-client/src/main/scripts',\n",
      "                'collection_type': 'pointmatch',\n",
      "                'db_interface': 'render',\n",
      "                'host': 'http://localhost',\n",
      "                'mongo_host': 'sonic.tnw.tudelft.nl',\n",
      "                'mongo_port': 27017,\n",
      "                'name': '20230914_RP_exocrine_partial_test_postcorrection_stitched_points',\n",
      "                'owner': 'akievits',\n",
      "                'port': 8081},\n",
      " 'regularization': {'default_lambda': 0.005,\n",
      "                    'thinplate_factor': 1e-05,\n",
      "                    'translation_factor': 0.005},\n",
      " 'solve_type': '3D',\n",
      " 'start_from_file': '',\n",
      " 'transformation': 'rigid'}\n"
     ]
    }
   ],
   "source": [
    "z_values = renderapi.stack.get_z_values_for_stack(stacks['in'],\n",
    "                                                  **params_render)\n",
    "# Load align.json template\n",
    "template_align_json = Path('../templates/align.json')\n",
    "with template_align_json.open('r') as json_data:\n",
    "    params_align_fine = json.load(json_data)\n",
    "\n",
    "# Edit BigFeta solver schema\n",
    "params_align_fine['first_section'] = min(z_values)\n",
    "params_align_fine['last_section'] = max(z_values)\n",
    "params_align_fine['solve_type'] = '3D'\n",
    "params_align_fine['transformation'] = 'rigid'\n",
    "params_align_fine['log_level'] = 'INFO'\n",
    "\n",
    "# Edit input stack data\n",
    "params_align_fine['input_stack']['host'] = params_render['host']\n",
    "params_align_fine['input_stack']['owner'] = params_render['owner']\n",
    "params_align_fine['input_stack']['project'] = params_render['project']\n",
    "params_align_fine['input_stack']['name'] = stacks['in']\n",
    "\n",
    "# Edit point match stack data\n",
    "params_align_fine['pointmatch']['host'] = params_render['host']\n",
    "params_align_fine['pointmatch']['owner'] = params_render['owner']\n",
    "params_align_fine['pointmatch']['name'] = match_collection\n",
    "\n",
    "# Edit output stack data\n",
    "params_align_fine['output_stack']['host'] = params_render['host']\n",
    "params_align_fine['output_stack']['owner'] = params_render['owner']\n",
    "params_align_fine['output_stack']['project'] = params_render['project']\n",
    "params_align_fine['output_stack']['name'] = stacks['out']\n",
    "\n",
    "# Edit regularization parameters\n",
    "params_align_fine['regularization']['default_lambda'] = 0.005       # default: 0.005\n",
    "params_align_fine['regularization']['translation_factor'] = 0.005   # default: 0.005\n",
    "params_align_fine['regularization']['thinplate_factor'] = 1e-5     # default: 1e-5\n",
    "\n",
    "# Export montage settings to\n",
    "align_json = dir_project / '_jsons_align_fine' / stacks['in'] / 'align_fine.json'\n",
    "align_json.parent.mkdir(parents=True, exist_ok=True)\n",
    "with align_json.open('w') as json_data:\n",
    "    json.dump(params_align_fine, json_data, indent=2)\n",
    "\n",
    "# Check alignment parameters\n",
    "print(align_json)\n",
    "print('-'*len(align_json.as_posix()))\n",
    "pprint(params_align_fine)"
   ]
  },
  {
   "cell_type": "markdown",
   "metadata": {},
   "source": [
    "### Run `BigFeta`"
   ]
  },
  {
   "cell_type": "code",
   "execution_count": 78,
   "metadata": {},
   "outputs": [
    {
     "name": "stderr",
     "output_type": "stream",
     "text": [
      "/home/akievits/interactive-render-workflow/.venv/lib/python3.9/site-packages/argschema/utils.py:346: FutureWarning: '--transform_apply' is using old-style command-line syntax with each element as a separate argument. This will not be supported in argschema after 2.0. See http://argschema.readthedocs.io/en/master/user/intro.html#command-line-specification for details.\n",
      "  warnings.warn(warn_msg, FutureWarning)\n",
      "INFO:bigfeta.utils:\n",
      " loaded 75 tile specs from 3 zvalues in 0.1 sec using interface: render\n",
      "INFO:__main__: A created in 0.3 seconds\n",
      "INFO:__main__:\n",
      " solved in 0.0 sec\n",
      " precision [norm(Kx-Lm)/norm(Lm)] = 1.3e-07\n",
      " error     [norm(Ax-b)] = 11.399\n",
      " [mean(Ax) +/- std(Ax)] : 0.0 +/- 0.4\n",
      " [mean(error mag) +/- std(error mag)] : 0.2 +/- 0.3\n",
      "/home/catmaid/BigFeta/bigfeta/transform/rigid_model.py:69: DeprecationWarning: Conversion of an array with ndim > 0 to a scalar is deprecated, and will error in future. Ensure you extract a single element from your array before performing this operation. (Deprecated NumPy 1.25.)\n",
      "  self.M[0, 0] = vec[0] * s\n",
      "/home/catmaid/BigFeta/bigfeta/transform/rigid_model.py:70: DeprecationWarning: Conversion of an array with ndim > 0 to a scalar is deprecated, and will error in future. Ensure you extract a single element from your array before performing this operation. (Deprecated NumPy 1.25.)\n",
      "  self.M[0, 1] = vec[1] * s\n",
      "/home/catmaid/BigFeta/bigfeta/transform/rigid_model.py:71: DeprecationWarning: Conversion of an array with ndim > 0 to a scalar is deprecated, and will error in future. Ensure you extract a single element from your array before performing this operation. (Deprecated NumPy 1.25.)\n",
      "  self.M[0, 2] = vec[2] * s\n",
      "/home/catmaid/BigFeta/bigfeta/transform/rigid_model.py:72: DeprecationWarning: Conversion of an array with ndim > 0 to a scalar is deprecated, and will error in future. Ensure you extract a single element from your array before performing this operation. (Deprecated NumPy 1.25.)\n",
      "  self.M[1, 0] = -vec[1] * s\n",
      "/home/catmaid/BigFeta/bigfeta/transform/rigid_model.py:73: DeprecationWarning: Conversion of an array with ndim > 0 to a scalar is deprecated, and will error in future. Ensure you extract a single element from your array before performing this operation. (Deprecated NumPy 1.25.)\n",
      "  self.M[1, 1] = vec[0] * s\n",
      "/home/catmaid/BigFeta/bigfeta/transform/rigid_model.py:74: DeprecationWarning: Conversion of an array with ndim > 0 to a scalar is deprecated, and will error in future. Ensure you extract a single element from your array before performing this operation. (Deprecated NumPy 1.25.)\n",
      "  self.M[1, 2] = vec[3] * s\n",
      "INFO:__main__:\n",
      " scales: 1.00 +/- 0.00, 1.00 +/- 0.00\n",
      "INFO:bigfeta.utils:\n",
      "ingesting results to http://localhost:8081 akievits__20230914_RP_exocrine_partial_test__postcorrection_rigid\n",
      "INFO:bigfeta.utils:render output is going to /dev/null\n",
      "INFO:__main__: total time: 5.6\n"
     ]
    }
   ],
   "source": [
    "# Path to `BigFeta`\n",
    "cwd = Path.cwd().as_posix()\n",
    "BigFeta_dir = Path('/home/catmaid/BigFeta/')\n",
    "\n",
    "# Call `BigFeta.BigFeta` process -- have to switch to BigFeta directory\n",
    "os.chdir(BigFeta_dir.as_posix())\n",
    "subprocess.run(['python', '-m', 'bigfeta.bigfeta', '--input_json', align_json.as_posix()])\n",
    "os.chdir(cwd)"
   ]
  },
  {
   "cell_type": "markdown",
   "metadata": {},
   "source": [
    "### Inspect fine alignment"
   ]
  },
  {
   "cell_type": "code",
   "execution_count": 79,
   "metadata": {},
   "outputs": [
    {
     "data": {
      "application/vnd.jupyter.widget-view+json": {
       "model_id": "6f92fca3591d4c4aa5df0d020a31e9ad",
       "version_major": 2,
       "version_minor": 0
      },
      "text/plain": [
       "  0%|          | 0/1 [00:00<?, ?it/s]"
      ]
     },
     "metadata": {},
     "output_type": "display_data"
    },
    {
     "ename": "TypeError",
     "evalue": "'>' not supported between instances of 'RenderError' and 'int'",
     "output_type": "error",
     "traceback": [
      "\u001b[0;31m---------------------------------------------------------------------------\u001b[0m",
      "\u001b[0;31mTypeError\u001b[0m                                 Traceback (most recent call last)",
      "\u001b[1;32m/home/akievits/interactive-render-workflow/notebooks/fine_align_render-client.ipynb Cell 23\u001b[0m line \u001b[0;36m2\n\u001b[1;32m      <a href='vscode-notebook-cell://ssh-remote%2Bfastem-server/home/akievits/interactive-render-workflow/notebooks/fine_align_render-client.ipynb#X30sdnNjb2RlLXJlbW90ZQ%3D%3D?line=0'>1</a>\u001b[0m \u001b[39m# plot stack\u001b[39;00m\n\u001b[0;32m----> <a href='vscode-notebook-cell://ssh-remote%2Bfastem-server/home/akievits/interactive-render-workflow/notebooks/fine_align_render-client.ipynb#X30sdnNjb2RlLXJlbW90ZQ%3D%3D?line=1'>2</a>\u001b[0m plotting\u001b[39m.\u001b[39;49mplot_stacks(\n\u001b[1;32m      <a href='vscode-notebook-cell://ssh-remote%2Bfastem-server/home/akievits/interactive-render-workflow/notebooks/fine_align_render-client.ipynb#X30sdnNjb2RlLXJlbW90ZQ%3D%3D?line=2'>3</a>\u001b[0m     stacks\u001b[39m=\u001b[39;49m[stacks[\u001b[39m'\u001b[39;49m\u001b[39mout\u001b[39;49m\u001b[39m'\u001b[39;49m]],\n\u001b[1;32m      <a href='vscode-notebook-cell://ssh-remote%2Bfastem-server/home/akievits/interactive-render-workflow/notebooks/fine_align_render-client.ipynb#X30sdnNjb2RlLXJlbW90ZQ%3D%3D?line=3'>4</a>\u001b[0m     width\u001b[39m=\u001b[39;49m\u001b[39m1000\u001b[39;49m,\n\u001b[1;32m      <a href='vscode-notebook-cell://ssh-remote%2Bfastem-server/home/akievits/interactive-render-workflow/notebooks/fine_align_render-client.ipynb#X30sdnNjb2RlLXJlbW90ZQ%3D%3D?line=4'>5</a>\u001b[0m     vmin\u001b[39m=\u001b[39;49m\u001b[39m0\u001b[39;49m,\n\u001b[1;32m      <a href='vscode-notebook-cell://ssh-remote%2Bfastem-server/home/akievits/interactive-render-workflow/notebooks/fine_align_render-client.ipynb#X30sdnNjb2RlLXJlbW90ZQ%3D%3D?line=5'>6</a>\u001b[0m     vmax\u001b[39m=\u001b[39;49m\u001b[39m65535\u001b[39;49m,\n\u001b[1;32m      <a href='vscode-notebook-cell://ssh-remote%2Bfastem-server/home/akievits/interactive-render-workflow/notebooks/fine_align_render-client.ipynb#X30sdnNjb2RlLXJlbW90ZQ%3D%3D?line=6'>7</a>\u001b[0m     \u001b[39m*\u001b[39;49m\u001b[39m*\u001b[39;49mparams_render\n\u001b[1;32m      <a href='vscode-notebook-cell://ssh-remote%2Bfastem-server/home/akievits/interactive-render-workflow/notebooks/fine_align_render-client.ipynb#X30sdnNjb2RlLXJlbW90ZQ%3D%3D?line=7'>8</a>\u001b[0m )\n",
      "File \u001b[0;32m~/interactive-render-workflow/.venv/lib/python3.9/site-packages/interactive_render/plotting.py:72\u001b[0m, in \u001b[0;36mplot_stacks\u001b[0;34m(stacks, width, vmin, vmax, **render)\u001b[0m\n\u001b[1;32m     70\u001b[0m k \u001b[39m=\u001b[39m \u001b[39m3\u001b[39m\n\u001b[1;32m     71\u001b[0m imstack \u001b[39m=\u001b[39m np\u001b[39m.\u001b[39mstack([\u001b[39mlist\u001b[39m(d\u001b[39m.\u001b[39mvalues()) \u001b[39mfor\u001b[39;00m d \u001b[39min\u001b[39;00m images\u001b[39m.\u001b[39mvalues()])\n\u001b[0;32m---> 72\u001b[0m vmin \u001b[39m=\u001b[39m imstack[imstack \u001b[39m>\u001b[39;49m \u001b[39m0\u001b[39;49m]\u001b[39m.\u001b[39mmean() \u001b[39m-\u001b[39m k\u001b[39m*\u001b[39mimstack[imstack \u001b[39m>\u001b[39m \u001b[39m0\u001b[39m]\u001b[39m.\u001b[39mstd()\n\u001b[1;32m     73\u001b[0m vmax \u001b[39m=\u001b[39m imstack[imstack \u001b[39m>\u001b[39m \u001b[39m0\u001b[39m]\u001b[39m.\u001b[39mmean() \u001b[39m+\u001b[39m k\u001b[39m*\u001b[39mimstack[imstack \u001b[39m>\u001b[39m \u001b[39m0\u001b[39m]\u001b[39m.\u001b[39mstd()\n\u001b[1;32m     75\u001b[0m \u001b[39m# interaction magic\u001b[39;00m\n",
      "\u001b[0;31mTypeError\u001b[0m: '>' not supported between instances of 'RenderError' and 'int'"
     ]
    }
   ],
   "source": [
    "# plot stack\n",
    "plotting.plot_stacks(\n",
    "    stacks=[stacks['out']],\n",
    "    width=1000,\n",
    "    vmin=0,\n",
    "    vmax=65535,\n",
    "    **params_render\n",
    ")"
   ]
  },
  {
   "cell_type": "code",
   "execution_count": null,
   "metadata": {},
   "outputs": [],
   "source": []
  }
 ],
 "metadata": {
  "kernelspec": {
   "display_name": ".venv",
   "language": "python",
   "name": "python3"
  },
  "language_info": {
   "codemirror_mode": {
    "name": "ipython",
    "version": 3
   },
   "file_extension": ".py",
   "mimetype": "text/x-python",
   "name": "python",
   "nbconvert_exporter": "python",
   "pygments_lexer": "ipython3",
   "version": "3.9.1"
  }
 },
 "nbformat": 4,
 "nbformat_minor": 2
}
