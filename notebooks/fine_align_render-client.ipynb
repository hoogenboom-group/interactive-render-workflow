{
 "cells": [
  {
   "cell_type": "markdown",
   "metadata": {},
   "source": [
    "# Fine align\n",
    "---\n",
    "\n",
    "#### Overview\n",
    "Interactive 3D fine alignment of serial sections. Iterate through the z-levels, sample a cone with a radius of 0.1 times the image size to find overlapping tiles in z between neighboring z levels. Point matches are then sought in z for every tile pair. The alignment is solved on the full set of intra-ROA and inter-ROA point matches, for a similarity transformation model, with weights given to the intra-ROA and inter-ROA matches, respectively."
   ]
  },
  {
   "cell_type": "code",
   "execution_count": 11,
   "metadata": {},
   "outputs": [
    {
     "data": {
      "text/plain": [
       "<Response [200]>"
      ]
     },
     "execution_count": 11,
     "metadata": {},
     "output_type": "execute_result"
    }
   ],
   "source": [
    "import pathlib\n",
    "import requests\n",
    "\n",
    "from tqdm.notebook import tqdm\n",
    "import numpy as np\n",
    "import renderapi\n",
    "\n",
    "from scripted_render_pipeline import basic_auth\n",
    "from interactive_render.utils import clear_image_cache\n",
    "from interactive_render.utils import get_stitching_pointmatches, get_alignment_pointmatches\n",
    "\n",
    "clear_image_cache()"
   ]
  },
  {
   "cell_type": "markdown",
   "metadata": {},
   "source": [
    "#### parameters and `render-ws` environment variables\n",
    "* `host` : Localhost or Web address which hosts render-ws (for uploader). It's usually the preamble of the link to render-ws html page, i.e. `{host_name}/render-ws/view/index.html`\n",
    "* `owner` : render-ws ID of dataset\n",
    "* `project`: render-ws project name\n",
    "* `auth`: authorization for render-ws. See https://github.com/hoogenboom-group/scripted-render-pipeline/tree/master for instructions\n",
    "* `dir_project`: full path to project directory on disk\n",
    "* `memGB`: Gigabytes of RAM to give to java PointMatchClient. Increase proportionally if using more threads to find matches"
   ]
  },
  {
   "cell_type": "code",
   "execution_count": 12,
   "metadata": {},
   "outputs": [],
   "source": [
    "# Set script parameters \n",
    "num_threads = 20\n",
    "owner = \"akievits\"\n",
    "project = \"20231107_MCF7_UAC_test\"\n",
    "\n",
    "# set project directory\n",
    "dir_project = pathlib.Path(\"/long_term_storage/akievits/FAST-EM/tests/20231107_MCF7_UAC_test/\")\n",
    "\n",
    "# create an authorized session\n",
    "auth = basic_auth.load_auth()\n",
    "sesh = requests.Session()\n",
    "sesh.auth = auth\n",
    "\n",
    "# render-ws environment variables\n",
    "params_render = {\n",
    "    \"host\": \"http://localhost\",\n",
    "    \"port\": 8081,\n",
    "    \"client_scripts\": \"/home/catmaid/render/render-ws-java-client/src/main/scripts\",\n",
    "    \"client_script\": \"/home/catmaid/render/render-ws-java-client/src/main/scripts/run_ws_client.sh\",\n",
    "    \"owner\": owner,\n",
    "    \"project\": project,\n",
    "    \"session\": sesh\n",
    "}\n",
    "\n",
    "params_align = {\n",
    "    \"host\": \"http://localhost\",\n",
    "    \"port\": 8081,\n",
    "    \"client_scripts\": \"/home/catmaid/render/render-ws-java-client/src/main/scripts\",\n",
    "    \"client_script\": \"/home/catmaid/render/render-ws-java-client/src/main/scripts/run_ws_client.sh\",\n",
    "    \"owner\": owner,\n",
    "    \"project\": project,\n",
    "    \"memGB\": f\"{num_threads * 2}G\",\n",
    "    \"session\": sesh\n",
    "}\n",
    "\n",
    "params_uploader = {\n",
    "    \"host\": \"https://sonic.tnw.tudelft.nl\",\n",
    "    \"owner\": owner,\n",
    "    \"project\": project,\n",
    "    \"auth\": auth\n",
    "}"
   ]
  },
  {
   "cell_type": "markdown",
   "metadata": {},
   "source": [
    "## 5) Fine alignment\n",
    "---"
   ]
  },
  {
   "cell_type": "code",
   "execution_count": 13,
   "metadata": {},
   "outputs": [],
   "source": [
    "# Stack from rough alignment, stack to align ('in') and output stack ('out')\n",
    "stacks = {\n",
    "    'rough_align': 'postcorrection_aligned_rough',\n",
    "    'in': 'postcorrection',\n",
    "    'out': 'postcorrection_rigid'\n",
    "}"
   ]
  },
  {
   "cell_type": "markdown",
   "metadata": {},
   "source": [
    "### Get point matches\n",
    "\n",
    "Use `render-ws` `PointMatchClient` script to find point matches between tilepairs in `z`, based on rough alignment\n",
    "#### Collect tile pairs"
   ]
  },
  {
   "cell_type": "code",
   "execution_count": 6,
   "metadata": {},
   "outputs": [
    {
     "name": "stdout",
     "output_type": "stream",
     "text": [
      "Number of tile pairs... 64 \n",
      "--------------------------\n"
     ]
    },
    {
     "data": {
      "text/plain": [
       "[['t00_z0_y4_x4', 't00_z1_y4_x4'],\n",
       " ['t00_z0_y4_x4', 't01_z1_y4_x3'],\n",
       " ['t01_z0_y4_x3', 't01_z1_y4_x3'],\n",
       " ['t01_z0_y4_x3', 't02_z1_y4_x2'],\n",
       " ['t02_z0_y4_x2', 't02_z1_y4_x2']]"
      ]
     },
     "execution_count": 6,
     "metadata": {},
     "output_type": "execute_result"
    }
   ],
   "source": [
    "# Get z values\n",
    "z_values = renderapi.stack.get_z_values_for_stack(stack=stacks['rough_align'],\n",
    "                                                  **params_render)\n",
    "\n",
    "# Get tile pairs\n",
    "tile_pairs = renderapi.client.tilePairClient(stack=stacks['rough_align'],\n",
    "                                             minz=min(z_values),\n",
    "                                             maxz=max(z_values),\n",
    "                                             zNeighborDistance=1, # half-height of search cylinder\n",
    "                                             xyNeighborFactor=0.1,\n",
    "                                             excludeSameLayerNeighbors=True,\n",
    "                                             subprocess_mode=\"check_output\",  # suppresses output\n",
    "                                             **params_render)\n",
    "# Reformat tilepairs for PointMatchClient\n",
    "tile_pairs_reformat = [[tp['p']['id'], tp['q']['id']] for tp in tile_pairs['neighborPairs']]\n",
    "\n",
    "# Show tile pairs\n",
    "out = f\"Number of tile pairs... {len(tile_pairs_reformat)}\"\n",
    "print(out, \"\\n\" + \"-\"*len(out))\n",
    "tile_pairs_reformat[0:5]"
   ]
  },
  {
   "cell_type": "code",
   "execution_count": 14,
   "metadata": {},
   "outputs": [
    {
     "data": {
      "text/plain": [
       "'20231107_MCF7_UAC_test_postcorrection_align_matches'"
      ]
     },
     "execution_count": 14,
     "metadata": {},
     "output_type": "execute_result"
    }
   ],
   "source": [
    "# Name for pointmatch collection\n",
    "match_collection = f\"{params_render['project']}_{stacks['in']}_align_matches\"\n",
    "match_collection"
   ]
  },
  {
   "cell_type": "markdown",
   "metadata": {},
   "source": [
    "#### Set `SIFT` & `RANSAC` parameters for fine alignment"
   ]
  },
  {
   "cell_type": "code",
   "execution_count": 8,
   "metadata": {},
   "outputs": [],
   "source": [
    "from renderapi.client import (\n",
    "    SiftPointMatchOptions,\n",
    "    MatchDerivationParameters,\n",
    "    FeatureExtractionParameters\n",
    ")"
   ]
  },
  {
   "cell_type": "code",
   "execution_count": 9,
   "metadata": {},
   "outputs": [
    {
     "data": {
      "text/plain": [
       "{'SIFTfdSize': 8,\n",
       " 'SIFTmaxScale': 0.2,\n",
       " 'SIFTminScale': 0.05,\n",
       " 'SIFTsteps': 5,\n",
       " 'matchIterations': None,\n",
       " 'matchMaxEpsilon': 25,\n",
       " 'matchMaxNumInliers': None,\n",
       " 'matchMaxTrust': None,\n",
       " 'matchMinInlierRatio': 0.05,\n",
       " 'matchMinNumInliers': 7,\n",
       " 'matchModelType': 'AFFINE',\n",
       " 'matchRod': 0.92,\n",
       " 'renderScale': None,\n",
       " 'fillWithNoise': True,\n",
       " 'numberOfThreads': 20}"
      ]
     },
     "execution_count": 9,
     "metadata": {},
     "output_type": "execute_result"
    }
   ],
   "source": [
    "# `RANSAC` parameters\n",
    "params_RANSAC = MatchDerivationParameters(\n",
    "    matchIterations=None,\n",
    "    matchMaxEpsilon=25,        # maximal alignment error\n",
    "    matchMaxNumInliers=None,\n",
    "    matchMaxTrust=None,\n",
    "    matchMinInlierRatio=0.05,  # minimal inlier ratio\n",
    "    matchMinNumInliers=7,      # minimal number of inliers\n",
    "    matchModelType='AFFINE',   # expected transformation\n",
    "    matchRod=0.92              # closest/next closest ratio\n",
    ")\n",
    "\n",
    "# `SIFT` parameters\n",
    "params_SIFT = FeatureExtractionParameters(\n",
    "    SIFTfdSize=8,              # feature descriptor size\n",
    "    SIFTmaxScale=0.2,         # (width/height *) maximum image size\n",
    "    SIFTminScale=0.05,         # (width/height *) minimum image size\n",
    "    SIFTsteps=5               # steps per scale octave\n",
    ")\n",
    "\n",
    "# Combined `SIFT` & `RANSAC` parameters\n",
    "params_SIFT = SiftPointMatchOptions(\n",
    "    fillWithNoise=True,\n",
    "    **{**params_RANSAC.__dict__,\n",
    "       **params_SIFT.__dict__}\n",
    ")\n",
    "\n",
    "# Extra parameters\n",
    "params_SIFT.numberOfThreads = num_threads # multithreading\n",
    "params_SIFT.__dict__"
   ]
  },
  {
   "cell_type": "markdown",
   "metadata": {},
   "source": [
    "#### Get point matches"
   ]
  },
  {
   "cell_type": "code",
   "execution_count": 10,
   "metadata": {},
   "outputs": [],
   "source": [
    "batch_size = params_SIFT.numberOfThreads # batch size equal to # of threads used\n",
    "batches = [i for i in range(0, len(tile_pairs_reformat)+1, batch_size)]"
   ]
  },
  {
   "cell_type": "code",
   "execution_count": 12,
   "metadata": {},
   "outputs": [
    {
     "data": {
      "application/vnd.jupyter.widget-view+json": {
       "model_id": "bf4750c6809f44c39a4a89eb3470d5f3",
       "version_major": 2,
       "version_minor": 0
      },
      "text/plain": [
       "  0%|          | 0/4 [00:00<?, ?it/s]"
      ]
     },
     "metadata": {},
     "output_type": "display_data"
    }
   ],
   "source": [
    "for i in tqdm((batches),\n",
    "              total=len(batches)):\n",
    "    tile_pair_batch = tile_pairs_reformat[i:(i+batch_size)]\n",
    "\n",
    "    # Run SIFT + RANSAC via render-ws PointMatchClient\n",
    "    renderapi.client.pointMatchClient(\n",
    "        stack=stacks['in'],\n",
    "        collection=match_collection,\n",
    "        tile_pairs=tile_pair_batch,\n",
    "        sift_options=params_SIFT,\n",
    "        excludeAllTransforms=True,\n",
    "        subprocess_mode='check_output',  # suppresses output\n",
    "        **params_align\n",
    "    )"
   ]
  },
  {
   "cell_type": "code",
   "execution_count": 13,
   "metadata": {},
   "outputs": [],
   "source": [
    "# renderapi.pointmatch.delete_collection(match_collection,\n",
    "#                                        **params_render)"
   ]
  },
  {
   "cell_type": "markdown",
   "metadata": {},
   "source": [
    "#### Inspect matches"
   ]
  },
  {
   "cell_type": "code",
   "execution_count": 14,
   "metadata": {},
   "outputs": [],
   "source": [
    "from interactive_render import plotting"
   ]
  },
  {
   "cell_type": "code",
   "execution_count": 15,
   "metadata": {},
   "outputs": [
    {
     "data": {
      "application/vnd.jupyter.widget-view+json": {
       "model_id": "3b94cf88fdba4fd2a48cb5368eff6c26",
       "version_major": 2,
       "version_minor": 0
      },
      "text/plain": [
       "interactive(children=(IntSlider(value=0, description='z', max=1), Output()), _dom_classes=('widget-interact',)…"
      ]
     },
     "metadata": {},
     "output_type": "display_data"
    }
   ],
   "source": [
    "plotting.plot_aligned_stack_with_alignment_matches(\n",
    "    stacks['in'],\n",
    "    match_collection,\n",
    "    width=1000,\n",
    "    **params_render\n",
    ")"
   ]
  },
  {
   "cell_type": "markdown",
   "metadata": {},
   "source": [
    "### Combine stitching and aligment match collections\n",
    "Facilitate alignment using both match collections"
   ]
  },
  {
   "cell_type": "code",
   "execution_count": 15,
   "metadata": {},
   "outputs": [
    {
     "data": {
      "text/plain": [
       "'20231107_MCF7_UAC_test_postcorrection_total_matches'"
      ]
     },
     "execution_count": 15,
     "metadata": {},
     "output_type": "execute_result"
    }
   ],
   "source": [
    "# Name for stitch and align pointmatch collection\n",
    "match_collection_total = f\"{params_render['project']}_{stacks['in']}_total_matches\"\n",
    "match_collection_total"
   ]
  },
  {
   "cell_type": "code",
   "execution_count": 22,
   "metadata": {},
   "outputs": [
    {
     "data": {
      "text/plain": [
       "<Response [201]>"
      ]
     },
     "execution_count": 22,
     "metadata": {},
     "output_type": "execute_result"
    }
   ],
   "source": [
    "# Get all point matches\n",
    "# get intrasection point matches\n",
    "stitch_matches = get_stitching_pointmatches(\n",
    "    \"postcorrection\",\n",
    "    f\"{params_render['project']}_{stacks['in']}_stitch_matches\",\n",
    "    **params_render\n",
    "    )\n",
    "\n",
    "# get intersection point matches\n",
    "align_matches = get_alignment_pointmatches(\n",
    "    \"postcorrection\",\n",
    "    f\"{params_render['project']}_{stacks['in']}_align_matches\",\n",
    "    **params_render\n",
    "    )\n",
    "\n",
    "# Combine the lot\n",
    "all_matches = []\n",
    "z_values = renderapi.stack.get_z_values_for_stack(stack=\"postcorrection\",\n",
    "                                                  **params_render)\n",
    "for z in z_values:\n",
    "    all_matches += stitch_matches[z]\n",
    "\n",
    "for z in z_values[:-1]:\n",
    "    all_matches += align_matches[z]\n",
    "    \n",
    "# Import total collection of matches\n",
    "renderapi.pointmatch.import_matches(\n",
    "    match_collection_total,\n",
    "    all_matches,\n",
    "    **params_render\n",
    ")"
   ]
  },
  {
   "cell_type": "markdown",
   "metadata": {},
   "source": [
    "### Align stack\n",
    "---\n",
    "\n",
    "### Create alignment files\n",
    "The alignment file is generated on disk and contains the settings for this alignment job. The regularization parameters are the most important parameters that may need adjustment, if alignment fails a good strategy is to decrease or increase the regularization parameters by a factor of 10 each time. Larger values increase regulariation, smaller values decrease it and lead to more flexible outcomes"
   ]
  },
  {
   "cell_type": "code",
   "execution_count": 16,
   "metadata": {},
   "outputs": [],
   "source": [
    "from pathlib import Path\n",
    "import os\n",
    "import subprocess\n",
    "import json\n",
    "from pprint import pprint"
   ]
  },
  {
   "cell_type": "code",
   "execution_count": 17,
   "metadata": {},
   "outputs": [
    {
     "name": "stdout",
     "output_type": "stream",
     "text": [
      "/long_term_storage/akievits/FAST-EM/tests/20231107_MCF7_UAC_test/_jsons_align_fine/postcorrection/align_fine.json\n",
      "-----------------------------------------------------------------------------------------------------------------\n",
      "{'close_stack': 'True',\n",
      " 'first_section': 0.0,\n",
      " 'hdf5_options': {'chunks_per_file': -1, 'output_dir': ''},\n",
      " 'input_stack': {'client_scripts': '/home/catmaid/render/render-ws-java-client/src/main/scripts',\n",
      "                 'collection_type': 'stack',\n",
      "                 'db_interface': 'render',\n",
      "                 'host': 'http://localhost',\n",
      "                 'mongo_host': 'sonic.tnw.tudelft.nl',\n",
      "                 'mongo_port': 27017,\n",
      "                 'name': 'postcorrection',\n",
      "                 'owner': 'akievits',\n",
      "                 'port': 8081,\n",
      "                 'project': '20231107_MCF7_UAC_test'},\n",
      " 'last_section': 2.0,\n",
      " 'log_level': 'INFO',\n",
      " 'matrix_assembly': {'choose_random': 'False',\n",
      "                     'cross_pt_weight': 1,\n",
      "                     'depth': 2,\n",
      "                     'inverse_dz': 'True',\n",
      "                     'montage_pt_weight': 0.5,\n",
      "                     'npts_max': 100,\n",
      "                     'npts_min': 5},\n",
      " 'output_mode': 'stack',\n",
      " 'output_stack': {'client_scripts': '/home/catmaid/render/render-ws-java-client/src/main/scripts',\n",
      "                  'collection_type': 'stack',\n",
      "                  'db_interface': 'render',\n",
      "                  'host': 'http://localhost',\n",
      "                  'mongo_host': 'sonic.tnw.tudelft.nl',\n",
      "                  'mongo_port': 27017,\n",
      "                  'name': 'postcorrection_rigid',\n",
      "                  'owner': 'akievits',\n",
      "                  'port': 8081,\n",
      "                  'project': '20231107_MCF7_UAC_test'},\n",
      " 'pointmatch': {'client_scripts': '/home/catmaid/render/render-ws-java-client/src/main/scripts',\n",
      "                'collection_type': 'pointmatch',\n",
      "                'db_interface': 'render',\n",
      "                'host': 'http://localhost',\n",
      "                'mongo_host': 'sonic.tnw.tudelft.nl',\n",
      "                'mongo_port': 27017,\n",
      "                'name': '20231107_MCF7_UAC_test_postcorrection_total_matches',\n",
      "                'owner': 'akievits',\n",
      "                'port': 8081},\n",
      " 'regularization': {'default_lambda': 1000.0,\n",
      "                    'freeze_first_tile': 'false',\n",
      "                    'thinplate_factor': 1e-05,\n",
      "                    'translation_factor': 1e-05},\n",
      " 'solve_type': '3D',\n",
      " 'start_from_file': '',\n",
      " 'transformation': 'SimilarityModel'}\n"
     ]
    }
   ],
   "source": [
    "z_values = renderapi.stack.get_z_values_for_stack(stacks['in'],\n",
    "                                                  **params_render)\n",
    "# Load align.json template\n",
    "template_align_json = Path(f\"/home/{owner}/interactive-render-workflow/templates/align.json\") # Replace with path to installation\n",
    "with template_align_json.open('r') as json_data:\n",
    "    params_align_fine = json.load(json_data)\n",
    "\n",
    "# Edit BigFeta solver schema\n",
    "params_align_fine['first_section'] = min(z_values)\n",
    "params_align_fine['last_section'] = max(z_values)\n",
    "params_align_fine['solve_type'] = '3D'\n",
    "params_align_fine['transformation'] = 'SimilarityModel'\n",
    "params_align_fine['log_level'] = 'INFO'\n",
    "\n",
    "# Edit input stack data\n",
    "params_align_fine['input_stack']['host'] = params_render['host']\n",
    "params_align_fine['input_stack']['owner'] = params_render['owner']\n",
    "params_align_fine['input_stack']['project'] = params_render['project']\n",
    "params_align_fine['input_stack']['name'] = stacks['in']\n",
    "\n",
    "# Edit point match stack data\n",
    "params_align_fine['pointmatch']['host'] = params_render['host']\n",
    "params_align_fine['pointmatch']['owner'] = params_render['owner']\n",
    "params_align_fine['pointmatch']['name'] = match_collection_total\n",
    "\n",
    "# Edit output stack data\n",
    "params_align_fine['output_stack']['host'] = params_render['host']\n",
    "params_align_fine['output_stack']['owner'] = params_render['owner']\n",
    "params_align_fine['output_stack']['project'] = params_render['project']\n",
    "params_align_fine['output_stack']['name'] = stacks['out']\n",
    "\n",
    "# Edit alignment parameters\n",
    "params_align_fine['matrix_assembly']['depth'] = 2\n",
    "params_align_fine['matrix_assembly']['montage_pt_weight'] = 0.5\n",
    "params_align_fine['matrix_assembly']['cross_pt_weight'] = 1\n",
    "params_align_fine['matrix_assembly']['npts_min'] = 5\n",
    "params_align_fine['matrix_assembly']['npts_max'] = 100\n",
    "\n",
    "# Edit regularization parameters\n",
    "params_align_fine['regularization']['default_lambda'] = 1e3    # default: 0.005\n",
    "params_align_fine['regularization']['translation_factor'] = 0.00001  # default: 0.005\n",
    "params_align_fine['regularization']['thinplate_factor'] = 1e-5      # default: 1e-5\n",
    "\n",
    "# Export montage settings to\n",
    "align_json = dir_project / '_jsons_align_fine' / stacks['in'] / 'align_fine.json'\n",
    "align_json.parent.mkdir(parents=True, exist_ok=True)\n",
    "with align_json.open('w') as json_data:\n",
    "    json.dump(params_align_fine, json_data, indent=2)\n",
    "\n",
    "# Check alignment parameters\n",
    "print(align_json)\n",
    "print('-'*len(align_json.as_posix()))\n",
    "pprint(params_align_fine)"
   ]
  },
  {
   "cell_type": "markdown",
   "metadata": {},
   "source": [
    "### Run `BigFeta`"
   ]
  },
  {
   "cell_type": "code",
   "execution_count": 20,
   "metadata": {},
   "outputs": [
    {
     "name": "stderr",
     "output_type": "stream",
     "text": [
      "/home/akievits/interactive-render-workflow/.venv/lib/python3.10/site-packages/argschema/utils.py:346: FutureWarning: '--transform_apply' is using old-style command-line syntax with each element as a separate argument. This will not be supported in argschema after 2.0. See http://argschema.readthedocs.io/en/master/user/intro.html#command-line-specification for details.\n",
      "  warnings.warn(warn_msg, FutureWarning)\n",
      "INFO:bigfeta.utils:\n",
      " loaded 75 tile specs from 3 zvalues in 0.0 sec using interface: render\n",
      "INFO:__main__: A created in 0.3 seconds\n",
      "INFO:__main__:\n",
      " solved in 0.0 sec\n",
      " precision [norm(Kx-Lm)/norm(Lm)] = 3.6e-09\n",
      " error     [norm(Ax-b)] = 1360.075\n",
      " [mean(Ax) +/- std(Ax)] : 0.1 +/- 6.3\n",
      " [mean(error mag) +/- std(error mag)] : 4.3 +/- 4.6\n",
      "/home/catmaid/BigFeta/bigfeta/transform/similarity_model.py:68: DeprecationWarning: Conversion of an array with ndim > 0 to a scalar is deprecated, and will error in future. Ensure you extract a single element from your array before performing this operation. (Deprecated NumPy 1.25.)\n",
      "  self.M[0, 0] = vec[0]\n",
      "/home/catmaid/BigFeta/bigfeta/transform/similarity_model.py:69: DeprecationWarning: Conversion of an array with ndim > 0 to a scalar is deprecated, and will error in future. Ensure you extract a single element from your array before performing this operation. (Deprecated NumPy 1.25.)\n",
      "  self.M[0, 1] = vec[1]\n",
      "/home/catmaid/BigFeta/bigfeta/transform/similarity_model.py:70: DeprecationWarning: Conversion of an array with ndim > 0 to a scalar is deprecated, and will error in future. Ensure you extract a single element from your array before performing this operation. (Deprecated NumPy 1.25.)\n",
      "  self.M[0, 2] = vec[2]\n",
      "/home/catmaid/BigFeta/bigfeta/transform/similarity_model.py:71: DeprecationWarning: Conversion of an array with ndim > 0 to a scalar is deprecated, and will error in future. Ensure you extract a single element from your array before performing this operation. (Deprecated NumPy 1.25.)\n",
      "  self.M[1, 0] = -vec[1]\n",
      "/home/catmaid/BigFeta/bigfeta/transform/similarity_model.py:72: DeprecationWarning: Conversion of an array with ndim > 0 to a scalar is deprecated, and will error in future. Ensure you extract a single element from your array before performing this operation. (Deprecated NumPy 1.25.)\n",
      "  self.M[1, 1] = vec[0]\n",
      "/home/catmaid/BigFeta/bigfeta/transform/similarity_model.py:73: DeprecationWarning: Conversion of an array with ndim > 0 to a scalar is deprecated, and will error in future. Ensure you extract a single element from your array before performing this operation. (Deprecated NumPy 1.25.)\n",
      "  self.M[1, 2] = vec[3]\n",
      "INFO:__main__:\n",
      " scales: 1.04 +/- 0.00, 1.04 +/- 0.00\n",
      "INFO:bigfeta.utils:\n",
      "ingesting results to http://localhost:8081 akievits__20231107_MCF7_UAC_test__postcorrection_rigid\n",
      "INFO:bigfeta.utils:render output is going to /dev/null\n",
      "INFO:__main__: total time: 1.6\n"
     ]
    }
   ],
   "source": [
    "# Path to `BigFeta`\n",
    "cwd = Path.cwd().as_posix()\n",
    "BigFeta_dir = Path(f\"/home/{owner}/BigFeta/\")\n",
    "\n",
    "# Call `BigFeta.BigFeta` process -- have to switch to BigFeta directory\n",
    "os.chdir(BigFeta_dir.as_posix())\n",
    "subprocess.run(['python', '-m', 'bigfeta.bigfeta', '--input_json', align_json.as_posix()])\n",
    "os.chdir(cwd)"
   ]
  },
  {
   "cell_type": "code",
   "execution_count": 26,
   "metadata": {},
   "outputs": [
    {
     "data": {
      "text/plain": [
       "<Response [200]>"
      ]
     },
     "execution_count": 26,
     "metadata": {},
     "output_type": "execute_result"
    }
   ],
   "source": [
    "clear_image_cache()"
   ]
  },
  {
   "cell_type": "markdown",
   "metadata": {},
   "source": [
    "### Inspect fine alignment"
   ]
  },
  {
   "cell_type": "code",
   "execution_count": 27,
   "metadata": {},
   "outputs": [
    {
     "data": {
      "application/vnd.jupyter.widget-view+json": {
       "model_id": "e4957dede7a74cd4a8d1073efaef7f0a",
       "version_major": 2,
       "version_minor": 0
      },
      "text/plain": [
       "  0%|          | 0/1 [00:00<?, ?it/s]"
      ]
     },
     "metadata": {},
     "output_type": "display_data"
    },
    {
     "data": {
      "application/vnd.jupyter.widget-view+json": {
       "model_id": "c40f01a70e16436fb7d315b9467e5a1c",
       "version_major": 2,
       "version_minor": 0
      },
      "text/plain": [
       "interactive(children=(IntSlider(value=0, description='z', max=2), IntSlider(value=28550, description='vmin', m…"
      ]
     },
     "metadata": {},
     "output_type": "display_data"
    }
   ],
   "source": [
    "# plot stack\n",
    "plotting.plot_stacks(\n",
    "    stacks=[stacks['out']],\n",
    "    width=1000,\n",
    "    vmin=0,\n",
    "    vmax=65535,\n",
    "    **params_render\n",
    ")"
   ]
  },
  {
   "cell_type": "markdown",
   "metadata": {},
   "source": [
    "### Inspect fine alignment\n",
    "Plot tiles to qualitatively assess alignment quality"
   ]
  },
  {
   "cell_type": "code",
   "execution_count": 28,
   "metadata": {},
   "outputs": [
    {
     "data": {
      "application/vnd.jupyter.widget-view+json": {
       "model_id": "ba837e2dba35483ebe8de7269816f684",
       "version_major": 2,
       "version_minor": 0
      },
      "text/plain": [
       "interactive(children=(IntSlider(value=0, description='z', max=1), FloatSlider(value=0.5, description='alpha1',…"
      ]
     },
     "metadata": {},
     "output_type": "display_data"
    }
   ],
   "source": [
    "plotting.plot_aligned_tiles(stack=stacks['out'],\n",
    "                            width=2000,\n",
    "                            **params_render)"
   ]
  },
  {
   "cell_type": "markdown",
   "metadata": {},
   "source": [
    "### Update stack scale and bounds\n",
    "Set minimum X and Y bounds to 0 because WebKnossos doesn't allow for negative coordinates.  \n",
    "Then scale `tforms` such that tile sizes are back approximately to the original size before alignment"
   ]
  },
  {
   "cell_type": "code",
   "execution_count": 35,
   "metadata": {},
   "outputs": [
    {
     "data": {
      "application/vnd.jupyter.widget-view+json": {
       "model_id": "922a4b09064a4527bfe5ef27b3a83121",
       "version_major": 2,
       "version_minor": 0
      },
      "text/plain": [
       "  0%|          | 0/3 [00:00<?, ?it/s]"
      ]
     },
     "metadata": {},
     "output_type": "display_data"
    },
    {
     "name": "stdout",
     "output_type": "stream",
     "text": [
      "org.janelia.render.client.ImportJsonClient\n",
      "\n",
      "  Running: /home/catmaid/render/deploy/jdk1.8.0_131/bin/java -cp /home/catmaid/render/render-ws-java-client/target/render-ws-java-client-2.0.1-SNAPSHOT-standalone.jar -Xms1G -Xmx1G -Djava.awt.headless=true -XX:+UseSerialGC org.janelia.render.client.ImportJsonClient --baseDataUrl http://localhost:8081/render-ws/v1 --owner akievits --project 20231107_MCF7_UAC_test --stack postcorrection_rigid_translated /tmp/tmpxvdoqkt8.json\n",
      "\n",
      "\n",
      "16:39:26.348 [main] INFO  [org.janelia.render.client.ClientRunner] run: entry\n",
      "16:39:26.515 [main] INFO  [org.janelia.render.client.ImportJsonClient] runClient: entry, parameters={\n",
      "  \"renderWeb\" : {\n",
      "    \"baseDataUrl\" : \"http://localhost:8081/render-ws/v1\",\n",
      "    \"owner\" : \"akievits\",\n",
      "    \"project\" : \"20231107_MCF7_UAC_test\"\n",
      "  },\n",
      "  \"tileSpecValidator\" : { },\n",
      "  \"stack\" : \"postcorrection_rigid_translated\",\n",
      "  \"tileFiles\" : [\n",
      "    \"/tmp/tmpxvdoqkt8.json\"\n",
      "  ]\n",
      "}\n",
      "16:39:26.816 [main] INFO  [org.janelia.render.client.RenderDataClient] getStackMetaData: submitting GET http://localhost:8081/render-ws/v1/owner/akievits/project/20231107_MCF7_UAC_test/stack/postcorrection_rigid_translated\n",
      "16:39:26.919 [main] INFO  [org.janelia.render.client.RenderDataClient] ensureStackIsInLoadingState: postcorrection_rigid_translated stack is already in the LOADING state\n",
      "16:39:26.919 [main] INFO  [org.janelia.render.client.ImportJsonClient] loadTransformData: exit, loaded 0 transform specs\n",
      "16:39:26.919 [main] INFO  [org.janelia.render.client.ImportJsonClient] importStackData: entry, tileFile=/tmp/tmpxvdoqkt8.json\n",
      "16:39:26.919 [main] INFO  [org.janelia.render.client.ImportJsonClient] loadTileData: entry, path=/tmp/tmpxvdoqkt8.json\n",
      "16:39:26.977 [main] INFO  [org.janelia.render.client.ImportJsonClient] loadTileData: exit, loaded 75 tile specs\n",
      "16:39:27.010 [main] INFO  [org.janelia.render.client.ImportJsonClient] importStackData: derived bounding box for 75 tiles, elapsedSeconds=0\n",
      "16:39:27.047 [main] INFO  [org.janelia.render.client.RenderDataClient] saveResolvedTiles: submitting PUT http://localhost:8081/render-ws/v1/owner/akievits/project/20231107_MCF7_UAC_test/stack/postcorrection_rigid_translated/resolvedTiles for 0 transforms and 75 tiles\n",
      "16:39:27.086 [main] INFO  [org.janelia.render.client.ImportJsonClient] importStackData: exit, saved tiles and transforms from /tmp/tmpxvdoqkt8.json\n",
      "16:39:27.086 [main] INFO  [org.janelia.render.client.ClientRunner] run: exit, processing completed in 0 hours, 0 minutes, 0 seconds\n"
     ]
    },
    {
     "data": {
      "text/plain": [
       "<Response [201]>"
      ]
     },
     "execution_count": 35,
     "metadata": {},
     "output_type": "execute_result"
    }
   ],
   "source": [
    "bounds = renderapi.stack.get_stack_bounds(f\"{stacks['out']}\",\n",
    "                                          **params_render)\n",
    "tX = -1*bounds['minX']\n",
    "tY = -1*bounds['minY']\n",
    "\n",
    "ts_new = []\n",
    "z_values = renderapi.stack.get_z_values_for_stack(f\"{stacks['out']}\",\n",
    "                                                  **params_render)\n",
    "for z in tqdm(z_values, total=len(z_values)):\n",
    "    # Get tilespec and transformations from the aligned stack\n",
    "    TileSpec = renderapi.tilespec.get_tile_specs_from_z(f\"{stacks['out']}\",\n",
    "                                                        z=z,\n",
    "                                                        **params_render)\n",
    "    translation = renderapi.transform.leaf.AffineModel(B0=tX, B1=tY)\n",
    "    # Translate stack\n",
    "    for ts in TileSpec:\n",
    "        ts.tforms += [translation]\n",
    "        ts_new.append(ts)\n",
    "        \n",
    "# Create new stack\n",
    "renderapi.stack.create_stack(f\"{stacks['out']}_translated\",\n",
    "                             **params_render)\n",
    "# Import tilespecs to stack\n",
    "renderapi.client.import_tilespecs(f\"{stacks['out']}_translated\",\n",
    "                                  tilespecs=ts_new,\n",
    "                                  **params_render)\n",
    "# Close stack\n",
    "renderapi.stack.set_stack_state(f\"{stacks['out']}_translated\",\n",
    "                                state='COMPLETE',\n",
    "                                **params_render)"
   ]
  },
  {
   "cell_type": "markdown",
   "metadata": {},
   "source": [
    "Determine scaling factor"
   ]
  },
  {
   "cell_type": "code",
   "execution_count": 36,
   "metadata": {},
   "outputs": [],
   "source": [
    "from matplotlib.transforms import Affine2D as AffineMPL\n",
    "from renderapi.transform import AffineModel as AffineRender"
   ]
  },
  {
   "cell_type": "code",
   "execution_count": 37,
   "metadata": {},
   "outputs": [
    {
     "data": {
      "application/vnd.jupyter.widget-view+json": {
       "model_id": "9e3e7813fac84d55b7f59deef4f087d9",
       "version_major": 2,
       "version_minor": 0
      },
      "text/plain": [
       "  0%|          | 0/3 [00:00<?, ?it/s]"
      ]
     },
     "metadata": {},
     "output_type": "display_data"
    },
    {
     "data": {
      "text/plain": [
       "(0.9640213140573337, 0.9640213140573337)"
      ]
     },
     "execution_count": 37,
     "metadata": {},
     "output_type": "execute_result"
    }
   ],
   "source": [
    "# Collect scaling factors\n",
    "scales_x = []\n",
    "scales_y = []\n",
    "\n",
    "z_values = renderapi.stack.get_z_values_for_stack(stacks['out'],\n",
    "                                                  **params_render)\n",
    "for z in tqdm(z_values, total=len(z_values)):\n",
    "    # Get tilespec and transformations from the aligned stack\n",
    "    TileSpec = renderapi.tilespec.get_tile_specs_from_z(stacks['out'],\n",
    "                                                        z=z,\n",
    "                                                        **params_render)\n",
    "    # tform scale terms (have to isolate them)\n",
    "    M00 = np.array([ts.tforms[0].M[0, 0] for ts in TileSpec])\n",
    "    M01 = np.array([ts.tforms[0].M[0, 1] for ts in TileSpec])\n",
    "    M10 = np.array([ts.tforms[0].M[1, 0] for ts in TileSpec])\n",
    "    M11 = np.array([ts.tforms[0].M[1, 1] for ts in TileSpec])\n",
    "    \n",
    "    # Extract scale from affine transform\n",
    "    M = AffineMPL(np.array([[M00.mean(), M01.mean(), 0],\n",
    "                            [M10.mean(), M11.mean(), 0],\n",
    "                            [         0,          0, 1]]))\n",
    "    R, S = np.linalg.qr(M.get_matrix())\n",
    "    mask = np.diag(S) < 0.\n",
    "    S[mask, :] *= -1.\n",
    "    # Set scale\n",
    "    sx = 1/S[0,0]\n",
    "    sy = 1/S[1,1]\n",
    "    \n",
    "    # Collect scaling factors\n",
    "    scales_x.append(sx)\n",
    "    scales_y.append(sy)\n",
    "    \n",
    "# Put into arrays\n",
    "scales_x = np.array(scales_x)\n",
    "scales_y = np.array(scales_y)\n",
    "# Find average\n",
    "sx = scales_x.mean()\n",
    "sy = scales_y.mean()\n",
    "\n",
    "# Out\n",
    "sx, sy"
   ]
  },
  {
   "cell_type": "markdown",
   "metadata": {},
   "source": [
    "Scale tileset by scaling factor"
   ]
  },
  {
   "cell_type": "code",
   "execution_count": 38,
   "metadata": {},
   "outputs": [
    {
     "data": {
      "application/vnd.jupyter.widget-view+json": {
       "model_id": "22b56622727042c3b9f48bd1d5b1e9b6",
       "version_major": 2,
       "version_minor": 0
      },
      "text/plain": [
       "  0%|          | 0/3 [00:00<?, ?it/s]"
      ]
     },
     "metadata": {},
     "output_type": "display_data"
    },
    {
     "name": "stdout",
     "output_type": "stream",
     "text": [
      "org.janelia.render.client.ImportJsonClient\n",
      "\n",
      "  Running: /home/catmaid/render/deploy/jdk1.8.0_131/bin/java -cp /home/catmaid/render/render-ws-java-client/target/render-ws-java-client-2.0.1-SNAPSHOT-standalone.jar -Xms1G -Xmx1G -Djava.awt.headless=true -XX:+UseSerialGC org.janelia.render.client.ImportJsonClient --baseDataUrl http://localhost:8081/render-ws/v1 --owner akievits --project 20231107_MCF7_UAC_test --stack postcorrection_rigid_scaled /tmp/tmp6wuea3zg.json\n",
      "\n",
      "\n",
      "16:39:28.399 [main] INFO  [org.janelia.render.client.ClientRunner] run: entry\n",
      "16:39:28.560 [main] INFO  [org.janelia.render.client.ImportJsonClient] runClient: entry, parameters={\n",
      "  \"renderWeb\" : {\n",
      "    \"baseDataUrl\" : \"http://localhost:8081/render-ws/v1\",\n",
      "    \"owner\" : \"akievits\",\n",
      "    \"project\" : \"20231107_MCF7_UAC_test\"\n",
      "  },\n",
      "  \"tileSpecValidator\" : { },\n",
      "  \"stack\" : \"postcorrection_rigid_scaled\",\n",
      "  \"tileFiles\" : [\n",
      "    \"/tmp/tmp6wuea3zg.json\"\n",
      "  ]\n",
      "}\n",
      "16:39:28.857 [main] INFO  [org.janelia.render.client.RenderDataClient] getStackMetaData: submitting GET http://localhost:8081/render-ws/v1/owner/akievits/project/20231107_MCF7_UAC_test/stack/postcorrection_rigid_scaled\n",
      "16:39:28.960 [main] INFO  [org.janelia.render.client.RenderDataClient] ensureStackIsInLoadingState: postcorrection_rigid_scaled stack is already in the LOADING state\n",
      "16:39:28.960 [main] INFO  [org.janelia.render.client.ImportJsonClient] loadTransformData: exit, loaded 0 transform specs\n",
      "16:39:28.960 [main] INFO  [org.janelia.render.client.ImportJsonClient] importStackData: entry, tileFile=/tmp/tmp6wuea3zg.json\n",
      "16:39:28.960 [main] INFO  [org.janelia.render.client.ImportJsonClient] loadTileData: entry, path=/tmp/tmp6wuea3zg.json\n",
      "16:39:29.009 [main] INFO  [org.janelia.render.client.ImportJsonClient] loadTileData: exit, loaded 75 tile specs\n",
      "16:39:29.036 [main] INFO  [org.janelia.render.client.ImportJsonClient] importStackData: derived bounding box for 75 tiles, elapsedSeconds=0\n",
      "16:39:29.071 [main] INFO  [org.janelia.render.client.RenderDataClient] saveResolvedTiles: submitting PUT http://localhost:8081/render-ws/v1/owner/akievits/project/20231107_MCF7_UAC_test/stack/postcorrection_rigid_scaled/resolvedTiles for 0 transforms and 75 tiles\n",
      "16:39:29.116 [main] INFO  [org.janelia.render.client.ImportJsonClient] importStackData: exit, saved tiles and transforms from /tmp/tmp6wuea3zg.json\n",
      "16:39:29.116 [main] INFO  [org.janelia.render.client.ClientRunner] run: exit, processing completed in 0 hours, 0 minutes, 0 seconds\n"
     ]
    },
    {
     "data": {
      "text/plain": [
       "<Response [201]>"
      ]
     },
     "execution_count": 38,
     "metadata": {},
     "output_type": "execute_result"
    }
   ],
   "source": [
    "ts_new = []\n",
    "z_values = renderapi.stack.get_z_values_for_stack(stacks['out'],\n",
    "                                                  **params_render)\n",
    "for z in tqdm(z_values, total=len(z_values)):\n",
    "    # Get tilespec and transformations from the aligned stack\n",
    "    TileSpec = renderapi.tilespec.get_tile_specs_from_z(f\"{stacks['out']}_translated\",\n",
    "                                                        z=z,\n",
    "                                                        **params_render)\n",
    "    # Scale \n",
    "    S = renderapi.transform.leaf.AffineModel(M00=sx,\n",
    "                                             M11=sy)\n",
    "    # Add to tforms\n",
    "    for ts in TileSpec:\n",
    "        ts.tforms += [S]\n",
    "        ts_new.append(ts)\n",
    "        \n",
    "# Create new stack\n",
    "renderapi.stack.create_stack(f\"{stacks['out']}_scaled\",\n",
    "                             **params_render)\n",
    "# Import tilespecs to stack\n",
    "renderapi.client.import_tilespecs(f\"{stacks['out']}_scaled\",\n",
    "                                  tilespecs=ts_new,\n",
    "                                  **params_render)\n",
    "# Close stack\n",
    "renderapi.stack.set_stack_state(f\"{stacks['out']}_scaled\",\n",
    "                                state='COMPLETE',\n",
    "                                **params_render)"
   ]
  },
  {
   "cell_type": "markdown",
   "metadata": {},
   "source": [
    "### Update stack metadata \n",
    "Set final pixel resolution of stack"
   ]
  },
  {
   "cell_type": "code",
   "execution_count": 39,
   "metadata": {},
   "outputs": [],
   "source": [
    "from interactive_render.utils import update_stack_resolution"
   ]
  },
  {
   "cell_type": "code",
   "execution_count": 42,
   "metadata": {},
   "outputs": [],
   "source": [
    "update_stack_resolution(stack=f\"{stacks['out']}_scaled\",\n",
    "                        stackresolutionX=4.0,\n",
    "                        stackresolutionY=4.0,\n",
    "                        stackresolutionZ=100.0,\n",
    "                        **params_render)"
   ]
  },
  {
   "cell_type": "code",
   "execution_count": 44,
   "metadata": {},
   "outputs": [
    {
     "data": {
      "text/plain": [
       "<Response [201]>"
      ]
     },
     "execution_count": 44,
     "metadata": {},
     "output_type": "execute_result"
    }
   ],
   "source": [
    "renderapi.stack.set_stack_state(f\"{stacks['out']}_scaled\",\n",
    "                                state='COMPLETE',\n",
    "                                **params_render)"
   ]
  }
 ],
 "metadata": {
  "kernelspec": {
   "display_name": ".venv",
   "language": "python",
   "name": "python3"
  },
  "language_info": {
   "codemirror_mode": {
    "name": "ipython",
    "version": 3
   },
   "file_extension": ".py",
   "mimetype": "text/x-python",
   "name": "python",
   "nbconvert_exporter": "python",
   "pygments_lexer": "ipython3",
   "version": "3.10.12"
  }
 },
 "nbformat": 4,
 "nbformat_minor": 2
}
