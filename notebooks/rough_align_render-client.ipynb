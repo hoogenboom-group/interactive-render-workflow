{
 "cells": [
  {
   "cell_type": "markdown",
   "metadata": {},
   "source": [
    "# Rough align\n",
    "---\n",
    "\n",
    "#### Overview\n",
    "Interactive rough 3D alignment of serial sections. Point matches are found in montages (2d stitched sections) that are rendered to disk at 5\\% scale. A filtering step is then performed to remove false point matches that are found on the border of the ROA. The alignment between downsampled montages is then solved, which produces a roughly aligned stack in render-ws. The transformations from this stack are then applied to the full-scale data, creating a montaged, roughly-aligned stack."
   ]
  },
  {
   "cell_type": "code",
   "execution_count": 4,
   "metadata": {},
   "outputs": [],
   "source": [
    "import pathlib\n",
    "import requests\n",
    "\n",
    "from tqdm.notebook import tqdm\n",
    "import numpy as np\n",
    "import renderapi\n",
    "\n",
    "from scripted_render_pipeline import basic_auth\n",
    "from scripted_render_pipeline.importer import uploader\n",
    "from interactive_render import plotting\n",
    "from interactive_render.utils import clear_image_cache\n",
    "\n",
    "clear_image_cache()"
   ]
  },
  {
   "cell_type": "markdown",
   "metadata": {},
   "source": [
    "#### parameters and `render-ws` environment variables\n",
    "* `host` : Localhost or Web address which hosts render-ws (for uploader). It's usually the preamble of the link to render-ws html page, i.e. `{host_name}/render-ws/view/index.html`\n",
    "* `owner` : render-ws ID of dataset\n",
    "* `project`: render-ws project name\n",
    "* `auth`: authorization for render-ws. See https://github.com/hoogenboom-group/scripted-render-pipeline/tree/master for instructions\n",
    "* `dir_project`: full path to project directory on disk\n",
    "* `memGB`: Gigabytes of RAM to give to java PointMatchClient. Increase proportionally if using more threads to find matches\n",
    "* `SCALE`: Scale to downsample montage images to."
   ]
  },
  {
   "cell_type": "code",
   "execution_count": 6,
   "metadata": {},
   "outputs": [],
   "source": [
    "# Set script parameters  \n",
    "dir_project = pathlib.Path(\"/long_term_storage/akievits/FAST-EM/tests/20231107_MCF7_UAC_test/\") # project directory\n",
    "SCALE = 0.05 # downsampling scale, default is 0.05\n",
    "num_threads = 20\n",
    "\n",
    "# Set stacks for downsampling\n",
    "stack_2_downsample = {\n",
    "    'in': 'postcorrection_stitched',\n",
    "    'out': 'postcorrection_dsmontages'\n",
    "}\n",
    "\n",
    "# create an authorized session\n",
    "auth = basic_auth.load_auth()\n",
    "sesh = requests.Session()\n",
    "sesh.auth = auth\n",
    "\n",
    "# render-ws environment variables\n",
    "params_render = {\n",
    "    \"host\": \"http://localhost\",\n",
    "    \"port\": 8081,\n",
    "    \"client_scripts\": \"/home/catmaid/render/render-ws-java-client/src/main/scripts\",\n",
    "    \"client_script\": \"/home/catmaid/render/render-ws-java-client/src/main/scripts/run_ws_client.sh\",\n",
    "    \"owner\": \"akievits\",\n",
    "    \"project\": \"20231107_MCF7_UAC_test\",\n",
    "    \"session\": sesh\n",
    "}\n",
    "\n",
    "params_align = {\n",
    "    \"host\": \"http://localhost\",\n",
    "    \"port\": 8081,\n",
    "    \"client_scripts\": \"/home/catmaid/render/render-ws-java-client/src/main/scripts\",\n",
    "    \"client_script\": \"/home/catmaid/render/render-ws-java-client/src/main/scripts/run_ws_client.sh\",\n",
    "    \"owner\": \"akievits\",\n",
    "    \"project\": \"20231107_MCF7_UAC_test\",\n",
    "    \"memGB\": f\"{num_threads * 2}G\", # Allocate enough memory\n",
    "    \"session\": sesh\n",
    "}\n",
    "\n",
    "params_uploader = {\n",
    "    \"host\": \"https://sonic.tnw.tudelft.nl\",\n",
    "    \"owner\": \"akievits\",\n",
    "    \"project\": \"20231107_MCF7_UAC_test\",\n",
    "    \"auth\": auth\n",
    "}"
   ]
  },
  {
   "cell_type": "markdown",
   "metadata": {},
   "source": [
    "## 1) Rough alignment (part I)\n",
    "---\n",
    "Perform rough alignment of downsamples section images\n",
    "\n",
    "### Create downsampled montage stack"
   ]
  },
  {
   "cell_type": "code",
   "execution_count": 7,
   "metadata": {},
   "outputs": [],
   "source": [
    "from interactive_render.utils import create_downsampled_stack"
   ]
  },
  {
   "cell_type": "code",
   "execution_count": 8,
   "metadata": {},
   "outputs": [],
   "source": [
    "# Set stacks for downsampling\n",
    "stack_2_downsample = {\n",
    "    'in': 'postcorrection_stitched',\n",
    "    'out': 'postcorrection_dsmontages'\n",
    "}"
   ]
  },
  {
   "cell_type": "code",
   "execution_count": 10,
   "metadata": {},
   "outputs": [
    {
     "data": {
      "application/vnd.jupyter.widget-view+json": {
       "model_id": "dfc50391eee04d638fdd08d2d20d9cbd",
       "version_major": 2,
       "version_minor": 0
      },
      "text/plain": [
       "  0%|          | 0/3 [00:00<?, ?it/s]"
      ]
     },
     "metadata": {},
     "output_type": "display_data"
    },
    {
     "name": "stderr",
     "output_type": "stream",
     "text": [
      "uploading: 100%|██████████| 1/1 [00:00<00:00,  2.67stacks/s]\n"
     ]
    }
   ],
   "source": [
    "# Create downsampled stack\n",
    "ds_stack = create_downsampled_stack(dir_project, \n",
    "                                    stack_2_downsample, \n",
    "                                    **params_render)\n",
    "# Upload\n",
    "# initialize uploader\n",
    "uppity = uploader.Uploader(\n",
    "        **params_uploader,\n",
    "        clobber=False\n",
    ")\n",
    "\n",
    "# import stack to render-ws\n",
    "uppity.upload_to_render(\n",
    "    stacks=[ds_stack],\n",
    "    z_resolution=100\n",
    ")"
   ]
  },
  {
   "cell_type": "markdown",
   "metadata": {},
   "source": [
    "### Inspect downsampled montage stack"
   ]
  },
  {
   "cell_type": "code",
   "execution_count": 13,
   "metadata": {},
   "outputs": [
    {
     "data": {
      "application/vnd.jupyter.widget-view+json": {
       "model_id": "a8d33f4339794b9a8d07c6ef849a0df7",
       "version_major": 2,
       "version_minor": 0
      },
      "text/plain": [
       "  0%|          | 0/1 [00:00<?, ?it/s]"
      ]
     },
     "metadata": {},
     "output_type": "display_data"
    },
    {
     "data": {
      "application/vnd.jupyter.widget-view+json": {
       "model_id": "2e940ffe7a534134abfd9c0c5872ba88",
       "version_major": 2,
       "version_minor": 0
      },
      "text/plain": [
       "interactive(children=(IntSlider(value=0, description='z', max=2), IntSlider(value=5, description='vmin', max=6…"
      ]
     },
     "metadata": {},
     "output_type": "display_data"
    }
   ],
   "source": [
    "# plot stack\n",
    "plotting.plot_stacks(\n",
    "    [ds_stack.name],\n",
    "    width=1000,\n",
    "    vmin=0,\n",
    "    vmax=65535,\n",
    "    **params_render\n",
    ")"
   ]
  },
  {
   "cell_type": "markdown",
   "metadata": {},
   "source": [
    "## 2) Rough alignment (part II)\n",
    "---\n",
    "Get point matches for `dsmontage` stack and roughly align\n",
    "### Align `dsmontage` stack\n"
   ]
  },
  {
   "cell_type": "code",
   "execution_count": 14,
   "metadata": {},
   "outputs": [],
   "source": [
    "# Define stack to rough align and output stack name\n",
    "ds_stack_2_align = {\n",
    "    'in': 'postcorrection_dsmontages',\n",
    "    'out': 'postcorrection_dsmontages_aligned'\n",
    "}"
   ]
  },
  {
   "cell_type": "markdown",
   "metadata": {},
   "source": [
    "### Get point matches\n",
    "\n",
    "Use `render-ws` `PointMatchClient` script to find matching features between the neighboring z-levels\n",
    "#### Collect tile pairs"
   ]
  },
  {
   "cell_type": "code",
   "execution_count": 15,
   "metadata": {},
   "outputs": [
    {
     "name": "stderr",
     "output_type": "stream",
     "text": [
      "WARNING:renderapi.client.client_calls:call_run_ws_client requires memory specification -- defaulting to 1G\n"
     ]
    },
    {
     "name": "stdout",
     "output_type": "stream",
     "text": [
      "Number of tile pairs... 2 \n",
      "-------------------------\n"
     ]
    },
    {
     "data": {
      "text/plain": [
       "[['t0_z0.0_y0_x0', 't0_z1.0_y0_x0'], ['t0_z1.0_y0_x0', 't0_z2.0_y0_x0']]"
      ]
     },
     "execution_count": 15,
     "metadata": {},
     "output_type": "execute_result"
    }
   ],
   "source": [
    "# choose stack from which to get tile pairs\n",
    "z_values = [int(z) for z in renderapi.stack.get_z_values_for_stack(\n",
    "    ds_stack_2_align['in'],\n",
    "    **params_render\n",
    ")]\n",
    "\n",
    "# Get tile pairs from the rough aligned stack\n",
    "tilepairs = renderapi.client.tilePairClient(\n",
    "    stack=ds_stack_2_align['in'],\n",
    "    minz=min(z_values),\n",
    "    maxz=max(z_values),\n",
    "    zNeighborDistance=1,  # half-height of search cylinder\n",
    "    excludeSameLayerNeighbors=False,\n",
    "    subprocess_mode=\"check_output\",  # suppresses output\n",
    "    **params_render\n",
    ")[\"neighborPairs\"]\n",
    "\n",
    "# Reformat tilepairs for PointMatchClient\n",
    "tile_pairs_reformat = [[tp['p']['id'], tp['q']['id']] for tp in tilepairs]\n",
    "\n",
    "# Show tile pairs\n",
    "out = f\"Number of tile pairs... {len(tile_pairs_reformat)}\"\n",
    "print(out, \"\\n\" + \"-\"*len(out))\n",
    "tile_pairs_reformat[:5]"
   ]
  },
  {
   "cell_type": "code",
   "execution_count": 16,
   "metadata": {},
   "outputs": [],
   "source": [
    "from renderapi.client import (\n",
    "    SiftPointMatchOptions,\n",
    "    MatchDerivationParameters,\n",
    "    FeatureExtractionParameters\n",
    ")"
   ]
  },
  {
   "cell_type": "code",
   "execution_count": 17,
   "metadata": {},
   "outputs": [
    {
     "data": {
      "text/plain": [
       "'20231107_MCF7_UAC_test_postcorrection_dsmontages_matches'"
      ]
     },
     "execution_count": 17,
     "metadata": {},
     "output_type": "execute_result"
    }
   ],
   "source": [
    "# Name for pointmatch collection\n",
    "match_collection = f\"{params_render['project']}_{ds_stack_2_align['in']}_matches\"\n",
    "match_collection"
   ]
  },
  {
   "cell_type": "code",
   "execution_count": 18,
   "metadata": {},
   "outputs": [],
   "source": [
    "# renderapi.pointmatch.delete_collection(match_collection,\n",
    "#                                        **params_render)"
   ]
  },
  {
   "cell_type": "markdown",
   "metadata": {},
   "source": [
    "#### Set SIFT + RANSAC parameters"
   ]
  },
  {
   "cell_type": "code",
   "execution_count": 19,
   "metadata": {},
   "outputs": [
    {
     "data": {
      "text/plain": [
       "{'SIFTfdSize': 8,\n",
       " 'SIFTmaxScale': 0.8,\n",
       " 'SIFTminScale': 0.2,\n",
       " 'SIFTsteps': 5,\n",
       " 'matchIterations': None,\n",
       " 'matchMaxEpsilon': 50,\n",
       " 'matchMaxNumInliers': None,\n",
       " 'matchMaxTrust': None,\n",
       " 'matchMinInlierRatio': 0.01,\n",
       " 'matchMinNumInliers': 3,\n",
       " 'matchModelType': 'AFFINE',\n",
       " 'matchRod': 0.92,\n",
       " 'renderScale': None,\n",
       " 'fillWithNoise': True,\n",
       " 'numberOfThreads': 2}"
      ]
     },
     "execution_count": 19,
     "metadata": {},
     "output_type": "execute_result"
    }
   ],
   "source": [
    "# `RANSAC` parameters\n",
    "params_RANSAC = MatchDerivationParameters(\n",
    "    matchIterations=None,\n",
    "    matchMaxEpsilon=50,        # maximal alignment error\n",
    "    matchMaxNumInliers=None,\n",
    "    matchMaxTrust=None,\n",
    "    matchMinInlierRatio=0.01,  # minimal inlier ratio\n",
    "    matchMinNumInliers=3,      # minimal number of inliers\n",
    "    matchModelType='AFFINE',   # expected transformation\n",
    "    matchRod=0.92              # closest/next closest ratio\n",
    ")\n",
    "\n",
    "# `SIFT` parameters\n",
    "params_SIFT = FeatureExtractionParameters(\n",
    "    SIFTfdSize=8,              # feature descriptor size\n",
    "    SIFTmaxScale=0.8,         # (width/height *) maximum image size\n",
    "    SIFTminScale=0.2,         # (width/height *) minimum image size\n",
    "    SIFTsteps=5               # steps per scale octave\n",
    ")\n",
    "\n",
    "# Combined `SIFT` & `RANSAC` parameters\n",
    "params_SIFT = SiftPointMatchOptions(\n",
    "    fillWithNoise=True,\n",
    "    **{**params_RANSAC.__dict__,\n",
    "       **params_SIFT.__dict__}\n",
    ")\n",
    "\n",
    "# Extra parameters\n",
    "params_SIFT.numberOfThreads = min(len(tile_pairs_reformat), num_threads)  # multithreading\n",
    "params_SIFT.__dict__"
   ]
  },
  {
   "cell_type": "code",
   "execution_count": 20,
   "metadata": {},
   "outputs": [],
   "source": [
    "# Divide point matching finding in batches equal in size to # of threads\n",
    "batch_size = params_SIFT.numberOfThreads\n",
    "batches = [i for i in range(0, len(tile_pairs_reformat), batch_size)] "
   ]
  },
  {
   "cell_type": "code",
   "execution_count": 21,
   "metadata": {},
   "outputs": [
    {
     "data": {
      "application/vnd.jupyter.widget-view+json": {
       "model_id": "ac7fd2c18aee41feba151e68a9bec109",
       "version_major": 2,
       "version_minor": 0
      },
      "text/plain": [
       "  0%|          | 0/1 [00:00<?, ?it/s]"
      ]
     },
     "metadata": {},
     "output_type": "display_data"
    }
   ],
   "source": [
    "for i in tqdm((batches),\n",
    "              total=len(batches)):\n",
    "    tile_pair_batch = tile_pairs_reformat[i:(i+batch_size)]\n",
    "\n",
    "    # Run SIFT + RANSAC via render-ws PointMatchClient\n",
    "    renderapi.client.pointMatchClient(\n",
    "        stack=ds_stack_2_align['in'],\n",
    "        collection=match_collection,\n",
    "        tile_pairs=tile_pair_batch,\n",
    "        sift_options=params_SIFT,\n",
    "        excludeAllTransforms=True,\n",
    "        subprocess_mode='check_output',  # suppresses output\n",
    "        **params_align\n",
    "    )"
   ]
  },
  {
   "cell_type": "markdown",
   "metadata": {},
   "source": [
    "### Inspect"
   ]
  },
  {
   "cell_type": "code",
   "execution_count": 22,
   "metadata": {},
   "outputs": [
    {
     "data": {
      "application/vnd.jupyter.widget-view+json": {
       "model_id": "66532ee3ff594852a00b98ad6c6205bb",
       "version_major": 2,
       "version_minor": 0
      },
      "text/plain": [
       "  0%|          | 0/1 [00:00<?, ?it/s]"
      ]
     },
     "metadata": {},
     "output_type": "display_data"
    },
    {
     "data": {
      "application/vnd.jupyter.widget-view+json": {
       "model_id": "3d74a53734764a4e9e75d450cff9dc9f",
       "version_major": 2,
       "version_minor": 0
      },
      "text/plain": [
       "interactive(children=(IntSlider(value=0, description='z', max=1), Output()), _dom_classes=('widget-interact',)…"
      ]
     },
     "metadata": {},
     "output_type": "display_data"
    }
   ],
   "source": [
    "plotting.plot_dsstack_with_alignment_matches(\n",
    "    ds_stack_2_align['in'],\n",
    "    match_collection,\n",
    "    width=1000,\n",
    "    **params_render\n",
    ")"
   ]
  },
  {
   "cell_type": "markdown",
   "metadata": {},
   "source": [
    "### Filter point matches\n",
    "Filter false point matches that are located on the edges of the stack"
   ]
  },
  {
   "cell_type": "code",
   "execution_count": 23,
   "metadata": {},
   "outputs": [
    {
     "name": "stderr",
     "output_type": "stream",
     "text": [
      "WARNING:renderapi.client.client_calls:call_run_ws_client requires memory specification -- defaulting to 1G\n"
     ]
    },
    {
     "data": {
      "application/vnd.jupyter.widget-view+json": {
       "model_id": "2f436e85ff0b44f0a6fa01fd6e1d80e1",
       "version_major": 2,
       "version_minor": 0
      },
      "text/plain": [
       "  0%|          | 0/2 [00:00<?, ?it/s]"
      ]
     },
     "metadata": {},
     "output_type": "display_data"
    }
   ],
   "source": [
    "clip = 0.05 # fraction of image size to clip, can be varied\n",
    "\n",
    "# Define clipping range based on stack bounds\n",
    "bounds = renderapi.stack.get_stack_bounds(ds_stack_2_align['in'],\n",
    "                                          **params_render)\n",
    "min_X, max_X = clip * bounds['maxX'], (1-clip) * bounds['maxX'] \n",
    "min_Y, max_Y = clip * bounds['maxY'], (1-clip) * bounds['maxX'] \n",
    "\n",
    "# Filtered matches\n",
    "matches_filtered = []\n",
    "\n",
    "# Get tile pairs from the rough aligned stack\n",
    "tile_pairs = renderapi.client.tilePairClient(\n",
    "    stack=ds_stack_2_align['in'],\n",
    "    minz=min(z_values),\n",
    "    maxz=max(z_values),\n",
    "    zNeighborDistance=1,  # half-height of search cylinder\n",
    "    excludeSameLayerNeighbors=False,\n",
    "    subprocess_mode=\"check_output\",  # suppresses output\n",
    "    **params_render\n",
    ")[\"neighborPairs\"]\n",
    "\n",
    "# loop through tile pairs\n",
    "for tp in tqdm(tile_pairs):\n",
    "    # get z value from groupId (aka sectionId)\n",
    "    p_sectionId = tp[\"p\"][\"groupId\"]\n",
    "    q_sectionId = tp[\"q\"][\"groupId\"]\n",
    "    matches_per_group = renderapi.pointmatch.get_matches_from_group_to_group(match_collection,\n",
    "                                                                             p_sectionId,\n",
    "                                                                             q_sectionId,\n",
    "                                                                             **params_render)\n",
    "    # Filter match coordinates\n",
    "    pmatches = matches_per_group[0]['matches']['p']\n",
    "    qmatches = matches_per_group[0]['matches']['q']\n",
    "    p_matches = np.array(\n",
    "        [[px, py] for px, py, qx, qy in zip(pmatches[0], pmatches[1], qmatches[0], qmatches[1]) if ((px >= min_X and px <= max_X) and (py >= min_Y and py <= max_Y) and\n",
    "                                                                                                    (qx >= min_X and qx <= max_X) and (qy >= min_Y and qy <= max_Y))]\n",
    "    )\n",
    "    q_matches = np.array(\n",
    "        [[qx, qy] for qx, qy, px, py in zip(qmatches[0], qmatches[1], pmatches[0], pmatches[1]) if ((qx >= min_X and qx <= max_X) and (qy >= min_Y and qy <= max_Y) and\n",
    "                                                                                                    (px >= min_X and px <= max_X) and (py >= min_Y and py <= max_Y))]\n",
    "    )\n",
    "\n",
    "    # format matches for uploading to render-ws point match database\n",
    "    d = {\n",
    "        \"pGroupId\": p_sectionId,  # sectionId for image P\n",
    "        \"qGroupId\": q_sectionId,  # sectionId for image Q\n",
    "        \"pId\": tp[\"p\"][\"id\"],  # tileId for image P\n",
    "        \"qId\": tp[\"q\"][\"id\"],  # tileId for image Q\n",
    "        \"matches\": {\n",
    "            \"p\": p_matches.T.tolist(),\n",
    "            \"q\": q_matches.T.tolist(),\n",
    "            \"w\": np.ones(len(p_matches)).tolist()\n",
    "        }\n",
    "    }\n",
    "    matches_filtered.append(d)"
   ]
  },
  {
   "cell_type": "markdown",
   "metadata": {},
   "source": [
    "### Delete original point matches and upload filtered matches"
   ]
  },
  {
   "cell_type": "code",
   "execution_count": 25,
   "metadata": {},
   "outputs": [
    {
     "data": {
      "text/plain": [
       "<Response [201]>"
      ]
     },
     "execution_count": 25,
     "metadata": {},
     "output_type": "execute_result"
    }
   ],
   "source": [
    "# Delete existing collection\n",
    "renderapi.pointmatch.delete_collection(match_collection,\n",
    "                                       **params_render)\n",
    "\n",
    "# Import filtered matches\n",
    "renderapi.pointmatch.import_matches(\n",
    "    match_collection,\n",
    "    matches_filtered,\n",
    "    **params_render\n",
    ")"
   ]
  },
  {
   "cell_type": "markdown",
   "metadata": {},
   "source": [
    "### Inspect filtered matches"
   ]
  },
  {
   "cell_type": "code",
   "execution_count": 26,
   "metadata": {},
   "outputs": [
    {
     "data": {
      "application/vnd.jupyter.widget-view+json": {
       "model_id": "65395d4aa216405e93a06958e5e33eb0",
       "version_major": 2,
       "version_minor": 0
      },
      "text/plain": [
       "  0%|          | 0/1 [00:00<?, ?it/s]"
      ]
     },
     "metadata": {},
     "output_type": "display_data"
    },
    {
     "data": {
      "application/vnd.jupyter.widget-view+json": {
       "model_id": "f66baecc15834af590fe429af268d985",
       "version_major": 2,
       "version_minor": 0
      },
      "text/plain": [
       "interactive(children=(IntSlider(value=0, description='z', max=1), Output()), _dom_classes=('widget-interact',)…"
      ]
     },
     "metadata": {},
     "output_type": "display_data"
    }
   ],
   "source": [
    "plotting.plot_dsstack_with_alignment_matches(\n",
    "    ds_stack_2_align['in'],\n",
    "    match_collection,\n",
    "    width=1000,\n",
    "    **params_render\n",
    ")"
   ]
  },
  {
   "cell_type": "markdown",
   "metadata": {},
   "source": [
    "## Align `dsmontage` stack\n",
    "---\n",
    "\n",
    "### Create alignment files"
   ]
  },
  {
   "cell_type": "code",
   "execution_count": 24,
   "metadata": {},
   "outputs": [],
   "source": [
    "from pathlib import Path\n",
    "import os\n",
    "import subprocess\n",
    "import json\n",
    "from pprint import pprint"
   ]
  },
  {
   "cell_type": "code",
   "execution_count": 25,
   "metadata": {},
   "outputs": [
    {
     "name": "stdout",
     "output_type": "stream",
     "text": [
      "/long_term_storage/akievits/FAST-EM/tests/20231107_MCF7_UAC_test/_jsons_align_rough/postcorrection_dsmontages/align_rough.json\n",
      "------------------------------------------------------------------------------------------------------------------------------\n",
      "{'close_stack': 'True',\n",
      " 'first_section': 0.0,\n",
      " 'hdf5_options': {'chunks_per_file': -1, 'output_dir': ''},\n",
      " 'input_stack': {'client_scripts': '/home/catmaid/render/render-ws-java-client/src/main/scripts',\n",
      "                 'collection_type': 'stack',\n",
      "                 'db_interface': 'render',\n",
      "                 'host': 'http://localhost',\n",
      "                 'mongo_host': 'sonic.tnw.tudelft.nl',\n",
      "                 'mongo_port': 27017,\n",
      "                 'name': 'postcorrection_dsmontages',\n",
      "                 'owner': 'akievits',\n",
      "                 'port': 8081,\n",
      "                 'project': '20231107_MCF7_UAC_test'},\n",
      " 'last_section': 2.0,\n",
      " 'log_level': 'INFO',\n",
      " 'matrix_assembly': {'choose_random': 'False',\n",
      "                     'cross_pt_weight': 0.5,\n",
      "                     'depth': 2,\n",
      "                     'inverse_dz': 'True',\n",
      "                     'montage_pt_weight': 1.0,\n",
      "                     'npts_max': 500,\n",
      "                     'npts_min': 5},\n",
      " 'output_mode': 'stack',\n",
      " 'output_stack': {'client_scripts': '/home/catmaid/render/render-ws-java-client/src/main/scripts',\n",
      "                  'collection_type': 'stack',\n",
      "                  'db_interface': 'render',\n",
      "                  'host': 'http://localhost',\n",
      "                  'mongo_host': 'sonic.tnw.tudelft.nl',\n",
      "                  'mongo_port': 27017,\n",
      "                  'name': 'postcorrection_dsmontages_aligned',\n",
      "                  'owner': 'akievits',\n",
      "                  'port': 8081,\n",
      "                  'project': '20231107_MCF7_UAC_test'},\n",
      " 'pointmatch': {'client_scripts': '/home/catmaid/render/render-ws-java-client/src/main/scripts',\n",
      "                'collection_type': 'pointmatch',\n",
      "                'db_interface': 'render',\n",
      "                'host': 'http://localhost',\n",
      "                'mongo_host': 'sonic.tnw.tudelft.nl',\n",
      "                'mongo_port': 27017,\n",
      "                'name': '20231107_MCF7_UAC_test_postcorrection_dsmontages_matches',\n",
      "                'owner': 'akievits',\n",
      "                'port': 8081},\n",
      " 'regularization': {'default_lambda': 1000.0,\n",
      "                    'freeze_first_tile': 'false',\n",
      "                    'thinplate_factor': 1e-05,\n",
      "                    'translation_factor': 1e-05},\n",
      " 'solve_type': '3D',\n",
      " 'start_from_file': '',\n",
      " 'transformation': 'SimilarityModel'}\n"
     ]
    }
   ],
   "source": [
    "z_values = renderapi.stack.get_z_values_for_stack(ds_stack_2_align['in'],\n",
    "                                                  **params_render)\n",
    "# Load align.json template\n",
    "template_align_json = Path('../templates/align.json')\n",
    "with template_align_json.open('r') as json_data:\n",
    "    params_align_rough = json.load(json_data)\n",
    "\n",
    "# Edit BigFeta solver schema\n",
    "params_align_rough['first_section'] = min(z_values)\n",
    "params_align_rough['last_section'] = max(z_values)\n",
    "params_align_rough['solve_type'] = '3D'\n",
    "params_align_rough['transformation'] = 'SimilarityModel'\n",
    "params_align_rough['log_level'] = 'INFO'\n",
    "\n",
    "# Edit input stack data\n",
    "params_align_rough['input_stack']['host'] = params_render['host']\n",
    "params_align_rough['input_stack']['owner'] = params_render['owner']\n",
    "params_align_rough['input_stack']['project'] = params_render['project']\n",
    "params_align_rough['input_stack']['name'] = ds_stack_2_align['in']\n",
    "\n",
    "# Edit point match stack data\n",
    "params_align_rough['pointmatch']['host'] = params_render['host']\n",
    "params_align_rough['pointmatch']['owner'] = params_render['owner']\n",
    "params_align_rough['pointmatch']['name'] = match_collection\n",
    "\n",
    "# Edit output stack data\n",
    "params_align_rough['output_stack']['host'] = params_render['host']\n",
    "params_align_rough['output_stack']['owner'] = params_render['owner']\n",
    "params_align_rough['output_stack']['project'] = params_render['project']\n",
    "params_align_rough['output_stack']['name'] = ds_stack_2_align['out']\n",
    "\n",
    "# Edit regularization parameters\n",
    "params_align_rough['regularization']['default_lambda'] = 1e3        # default: 0.005\n",
    "params_align_rough['regularization']['translation_factor'] = 0.00001  # default: 0.005\n",
    "params_align_rough['regularization']['thinplate_factor'] = 1e-5   # default: 1e-5\n",
    "\n",
    "# Export montage settings to\n",
    "align_json = dir_project / '_jsons_align_rough' / ds_stack_2_align['in'] / 'align_rough.json'\n",
    "align_json.parent.mkdir(parents=True, exist_ok=True)\n",
    "with align_json.open('w') as json_data:\n",
    "    json.dump(params_align_rough, json_data, indent=2)\n",
    "\n",
    "# Check alignment parameters\n",
    "print(align_json)\n",
    "print('-'*len(align_json.as_posix()))\n",
    "pprint(params_align_rough)"
   ]
  },
  {
   "cell_type": "markdown",
   "metadata": {},
   "source": [
    "### Run `BigFeta`"
   ]
  },
  {
   "cell_type": "code",
   "execution_count": 26,
   "metadata": {},
   "outputs": [
    {
     "name": "stderr",
     "output_type": "stream",
     "text": [
      "/home/akievits/interactive-render-workflow/.venv/lib/python3.10/site-packages/argschema/utils.py:346: FutureWarning: '--transform_apply' is using old-style command-line syntax with each element as a separate argument. This will not be supported in argschema after 2.0. See http://argschema.readthedocs.io/en/master/user/intro.html#command-line-specification for details.\n",
      "  warnings.warn(warn_msg, FutureWarning)\n",
      "INFO:bigfeta.utils:\n",
      " loaded 3 tile specs from 3 zvalues in 0.1 sec using interface: render\n",
      "INFO:__main__: A created in 0.2 seconds\n",
      "INFO:__main__:\n",
      " solved in 0.0 sec\n",
      " precision [norm(Kx-Lm)/norm(Lm)] = 7.8e-12\n",
      " error     [norm(Ax-b)] = 52.647\n",
      " [mean(Ax) +/- std(Ax)] : 0.0 +/- 1.0\n",
      " [mean(error mag) +/- std(error mag)] : 0.8 +/- 0.6\n",
      "/home/catmaid/BigFeta/bigfeta/transform/similarity_model.py:68: DeprecationWarning: Conversion of an array with ndim > 0 to a scalar is deprecated, and will error in future. Ensure you extract a single element from your array before performing this operation. (Deprecated NumPy 1.25.)\n",
      "  self.M[0, 0] = vec[0]\n",
      "/home/catmaid/BigFeta/bigfeta/transform/similarity_model.py:69: DeprecationWarning: Conversion of an array with ndim > 0 to a scalar is deprecated, and will error in future. Ensure you extract a single element from your array before performing this operation. (Deprecated NumPy 1.25.)\n",
      "  self.M[0, 1] = vec[1]\n",
      "/home/catmaid/BigFeta/bigfeta/transform/similarity_model.py:70: DeprecationWarning: Conversion of an array with ndim > 0 to a scalar is deprecated, and will error in future. Ensure you extract a single element from your array before performing this operation. (Deprecated NumPy 1.25.)\n",
      "  self.M[0, 2] = vec[2]\n",
      "/home/catmaid/BigFeta/bigfeta/transform/similarity_model.py:71: DeprecationWarning: Conversion of an array with ndim > 0 to a scalar is deprecated, and will error in future. Ensure you extract a single element from your array before performing this operation. (Deprecated NumPy 1.25.)\n",
      "  self.M[1, 0] = -vec[1]\n",
      "/home/catmaid/BigFeta/bigfeta/transform/similarity_model.py:72: DeprecationWarning: Conversion of an array with ndim > 0 to a scalar is deprecated, and will error in future. Ensure you extract a single element from your array before performing this operation. (Deprecated NumPy 1.25.)\n",
      "  self.M[1, 1] = vec[0]\n",
      "/home/catmaid/BigFeta/bigfeta/transform/similarity_model.py:73: DeprecationWarning: Conversion of an array with ndim > 0 to a scalar is deprecated, and will error in future. Ensure you extract a single element from your array before performing this operation. (Deprecated NumPy 1.25.)\n",
      "  self.M[1, 2] = vec[3]\n",
      "INFO:__main__:\n",
      " scales: 0.40 +/- 0.00, 0.40 +/- 0.00\n",
      "INFO:bigfeta.utils:\n",
      "ingesting results to http://localhost:8081 akievits__20231107_MCF7_UAC_test__postcorrection_dsmontages_aligned\n",
      "INFO:bigfeta.utils:render output is going to /dev/null\n",
      "INFO:__main__: total time: 1.8\n"
     ]
    }
   ],
   "source": [
    "# Path to `BigFeta`\n",
    "cwd = Path.cwd().as_posix()\n",
    "BigFeta_dir = Path('/home/catmaid/BigFeta/')\n",
    "\n",
    "# Select json for rough alignment\n",
    "align_json = dir_project / '_jsons_align_rough' / ds_stack_2_align['in'] / 'align_rough.json'\n",
    "\n",
    "# Call `BigFeta.BigFeta` process -- have to switch to BigFeta directory\n",
    "os.chdir(BigFeta_dir.as_posix())\n",
    "subprocess.run(['python', '-m', 'bigfeta.bigfeta', '--input_json', align_json.as_posix()])\n",
    "os.chdir(cwd)"
   ]
  },
  {
   "cell_type": "markdown",
   "metadata": {},
   "source": [
    "### Inspect alignment"
   ]
  },
  {
   "cell_type": "code",
   "execution_count": 27,
   "metadata": {},
   "outputs": [
    {
     "data": {
      "text/plain": [
       "<Response [200]>"
      ]
     },
     "execution_count": 27,
     "metadata": {},
     "output_type": "execute_result"
    }
   ],
   "source": [
    "clear_image_cache()"
   ]
  },
  {
   "cell_type": "code",
   "execution_count": 28,
   "metadata": {},
   "outputs": [
    {
     "data": {
      "application/vnd.jupyter.widget-view+json": {
       "model_id": "3017770b5ecb48129ea386fc40d77b45",
       "version_major": 2,
       "version_minor": 0
      },
      "text/plain": [
       "  0%|          | 0/1 [00:00<?, ?it/s]"
      ]
     },
     "metadata": {},
     "output_type": "display_data"
    },
    {
     "data": {
      "application/vnd.jupyter.widget-view+json": {
       "model_id": "43d771ef00c644839c05aebaf97a97a9",
       "version_major": 2,
       "version_minor": 0
      },
      "text/plain": [
       "interactive(children=(IntSlider(value=0, description='z', max=2), IntSlider(value=5, description='vmin', max=6…"
      ]
     },
     "metadata": {},
     "output_type": "display_data"
    }
   ],
   "source": [
    "# plot stack\n",
    "plotting.plot_stacks(\n",
    "    stacks=[ds_stack_2_align['out']],\n",
    "    **params_render\n",
    ")"
   ]
  },
  {
   "cell_type": "markdown",
   "metadata": {},
   "source": [
    "## 3) Rough alignment (part III)\n",
    "---\n",
    "### Propagate transform to stitched together stack\n",
    "The output stack is only used to generate tile pairs from. Doesn't really matter what the resulting stack looks like so much as long it's roughly aligned in `z` and not too crazy."
   ]
  },
  {
   "cell_type": "code",
   "execution_count": 29,
   "metadata": {},
   "outputs": [],
   "source": [
    "stack_2_align_rough = {\n",
    "    'in': 'postcorrection_stitched',\n",
    "    'out': 'postcorrection_aligned_rough'\n",
    "}"
   ]
  },
  {
   "cell_type": "code",
   "execution_count": 31,
   "metadata": {},
   "outputs": [
    {
     "data": {
      "application/vnd.jupyter.widget-view+json": {
       "model_id": "b04df4ee9e07490f9f32d62ca5008fc4",
       "version_major": 2,
       "version_minor": 0
      },
      "text/plain": [
       "  0%|          | 0/3 [00:00<?, ?it/s]"
      ]
     },
     "metadata": {},
     "output_type": "display_data"
    },
    {
     "name": "stderr",
     "output_type": "stream",
     "text": [
      "WARNING:renderapi.client.client_calls:call_run_ws_client requires memory specification -- defaulting to 1G\n"
     ]
    },
    {
     "name": "stdout",
     "output_type": "stream",
     "text": [
      "org.janelia.render.client.ImportJsonClient\n",
      "\n",
      "  Running: /home/catmaid/render/deploy/jdk1.8.0_131/bin/java -cp /home/catmaid/render/render-ws-java-client/target/render-ws-java-client-2.0.1-SNAPSHOT-standalone.jar -Xms1G -Xmx1G -Djava.awt.headless=true -XX:+UseSerialGC org.janelia.render.client.ImportJsonClient --baseDataUrl http://localhost:8081/render-ws/v1 --owner akievits --project 20231107_MCF7_UAC_test --stack postcorrection_aligned_rough /tmp/tmpvbn4ewk9.json\n",
      "\n",
      "\n",
      "16:03:53.210 [main] INFO  [org.janelia.render.client.ClientRunner] run: entry\n",
      "16:03:53.376 [main] INFO  [org.janelia.render.client.ImportJsonClient] runClient: entry, parameters={\n",
      "  \"renderWeb\" : {\n",
      "    \"baseDataUrl\" : \"http://localhost:8081/render-ws/v1\",\n",
      "    \"owner\" : \"akievits\",\n",
      "    \"project\" : \"20231107_MCF7_UAC_test\"\n",
      "  },\n",
      "  \"tileSpecValidator\" : { },\n",
      "  \"stack\" : \"postcorrection_aligned_rough\",\n",
      "  \"tileFiles\" : [\n",
      "    \"/tmp/tmpvbn4ewk9.json\"\n",
      "  ]\n",
      "}\n",
      "16:03:53.652 [main] INFO  [org.janelia.render.client.RenderDataClient] getStackMetaData: submitting GET http://localhost:8081/render-ws/v1/owner/akievits/project/20231107_MCF7_UAC_test/stack/postcorrection_aligned_rough\n",
      "16:03:53.739 [main] INFO  [org.janelia.render.client.RenderDataClient] ensureStackIsInLoadingState: postcorrection_aligned_rough stack is already in the LOADING state\n",
      "16:03:53.740 [main] INFO  [org.janelia.render.client.ImportJsonClient] loadTransformData: exit, loaded 0 transform specs\n",
      "16:03:53.740 [main] INFO  [org.janelia.render.client.ImportJsonClient] importStackData: entry, tileFile=/tmp/tmpvbn4ewk9.json\n",
      "16:03:53.740 [main] INFO  [org.janelia.render.client.ImportJsonClient] loadTileData: entry, path=/tmp/tmpvbn4ewk9.json\n",
      "16:03:53.788 [main] INFO  [org.janelia.render.client.ImportJsonClient] loadTileData: exit, loaded 75 tile specs\n",
      "16:03:53.812 [main] INFO  [org.janelia.render.client.ImportJsonClient] importStackData: derived bounding box for 75 tiles, elapsedSeconds=0\n",
      "16:03:53.847 [main] INFO  [org.janelia.render.client.RenderDataClient] saveResolvedTiles: submitting PUT http://localhost:8081/render-ws/v1/owner/akievits/project/20231107_MCF7_UAC_test/stack/postcorrection_aligned_rough/resolvedTiles for 0 transforms and 75 tiles\n",
      "16:03:53.896 [main] INFO  [org.janelia.render.client.ImportJsonClient] importStackData: exit, saved tiles and transforms from /tmp/tmpvbn4ewk9.json\n",
      "16:03:53.896 [main] INFO  [org.janelia.render.client.ClientRunner] run: exit, processing completed in 0 hours, 0 minutes, 0 seconds\n"
     ]
    },
    {
     "data": {
      "text/plain": [
       "<Response [201]>"
      ]
     },
     "execution_count": 31,
     "metadata": {},
     "output_type": "execute_result"
    }
   ],
   "source": [
    "ts_rough_aligned = []\n",
    "z_values = renderapi.stack.get_z_values_for_stack(stack_2_align_rough['in'],\n",
    "                                                  **params_render)\n",
    "for z in tqdm(z_values, total=len(z_values)):\n",
    "    # Get the transformation from the aligned downsampled stack\n",
    "    tform_ds = renderapi.tilespec.get_tile_specs_from_z(ds_stack_2_align['out'],\n",
    "                                                        z=z,\n",
    "                                                        **params_render)[0].tforms\n",
    "    # Get TileSpecs from high res stack to transform\n",
    "    tilespec = renderapi.tilespec.get_tile_specs_from_z(stack_2_align_rough['in'],\n",
    "                                                        z=z,\n",
    "                                                        **params_render)\n",
    "    # Scale downsampled stack transform to original stack size\n",
    "    for tf in tform_ds:\n",
    "        if isinstance(tf, renderapi.transform.leaf.AffineModel):\n",
    "            tf.M[0:2, 0:2] *= SCALE\n",
    "\n",
    "    # Append transform to high res stack\n",
    "    for ts in tilespec:\n",
    "        ts.tforms += tform_ds\n",
    "        ts_rough_aligned.append(ts)\n",
    "        \n",
    "# Create new stack\n",
    "renderapi.stack.create_stack(stack_2_align_rough['out'],\n",
    "                             **params_render)\n",
    "# Import tilespecs to stack\n",
    "renderapi.client.import_tilespecs(stack_2_align_rough['out'],\n",
    "                                  tilespecs=ts_rough_aligned,\n",
    "                                  **params_render)\n",
    "# Close stack\n",
    "renderapi.stack.set_stack_state(stack_2_align_rough['out'],\n",
    "                                state='COMPLETE',\n",
    "                                **params_render)"
   ]
  },
  {
   "cell_type": "markdown",
   "metadata": {},
   "source": [
    "### Inspect"
   ]
  },
  {
   "cell_type": "code",
   "execution_count": 32,
   "metadata": {},
   "outputs": [
    {
     "data": {
      "application/vnd.jupyter.widget-view+json": {
       "model_id": "04c2521cd1974d3391218e3023bb5444",
       "version_major": 2,
       "version_minor": 0
      },
      "text/plain": [
       "  0%|          | 0/1 [00:00<?, ?it/s]"
      ]
     },
     "metadata": {},
     "output_type": "display_data"
    },
    {
     "data": {
      "application/vnd.jupyter.widget-view+json": {
       "model_id": "05c9918cb07941508db26236c2d7de18",
       "version_major": 2,
       "version_minor": 0
      },
      "text/plain": [
       "interactive(children=(IntSlider(value=0, description='z', max=2), IntSlider(value=28550, description='vmin', m…"
      ]
     },
     "metadata": {},
     "output_type": "display_data"
    }
   ],
   "source": [
    "# plot stack\n",
    "plotting.plot_stacks(\n",
    "    stacks=[stack_2_align_rough['out']],\n",
    "    **params_render\n",
    ")"
   ]
  },
  {
   "cell_type": "code",
   "execution_count": 33,
   "metadata": {},
   "outputs": [
    {
     "data": {
      "text/plain": [
       "{'minX': -58.0,\n",
       " 'minY': -26.0,\n",
       " 'minZ': 0.0,\n",
       " 'maxX': 659.0,\n",
       " 'maxY': 646.0,\n",
       " 'maxZ': 2.0}"
      ]
     },
     "execution_count": 33,
     "metadata": {},
     "output_type": "execute_result"
    }
   ],
   "source": [
    "bounds = renderapi.stack.get_stack_bounds(stack_2_align_rough['out'],\n",
    "                                          **params_render)\n",
    "bounds"
   ]
  }
 ],
 "metadata": {
  "kernelspec": {
   "display_name": ".venv",
   "language": "python",
   "name": "python3"
  },
  "language_info": {
   "codemirror_mode": {
    "name": "ipython",
    "version": 3
   },
   "file_extension": ".py",
   "mimetype": "text/x-python",
   "name": "python",
   "nbconvert_exporter": "python",
   "pygments_lexer": "ipython3",
   "version": "3.10.12"
  }
 },
 "nbformat": 4,
 "nbformat_minor": 2
}
