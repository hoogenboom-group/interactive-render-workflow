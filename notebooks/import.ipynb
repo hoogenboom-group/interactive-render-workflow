{
 "cells": [
  {
   "cell_type": "markdown",
   "id": "35fea659-a926-4b60-954f-fae3dcb343cc",
   "metadata": {},
   "source": [
    "# Import\n",
    "---\n",
    "\n",
    "#### Overview\n",
    "Import image data to render-ws.\n"
   ]
  },
  {
   "cell_type": "code",
   "execution_count": 1,
   "id": "d6bab00c-fe3f-4f8a-8c55-39934cab1b50",
   "metadata": {
    "tags": []
   },
   "outputs": [],
   "source": [
    "# indirectly enable autocomplete\n",
    "%config Completer.use_jedi = False\n",
    "\n",
    "# autoreload modules\n",
    "%load_ext autoreload\n",
    "%autoreload 2"
   ]
  },
  {
   "cell_type": "code",
   "execution_count": 2,
   "id": "01d34d6f-559e-4601-83e3-4c71e3198ce1",
   "metadata": {
    "tags": []
   },
   "outputs": [],
   "source": [
    "import pathlib\n",
    "from itertools import chain\n",
    "from natsort import natsorted\n",
    "from tqdm.notebook import tqdm\n",
    "\n",
    "from scripted_render_pipeline import basic_auth\n",
    "from scripted_render_pipeline.importer import render_specs, uploader\n",
    "from scripted_render_pipeline.importer.fastem_mipmapper import FASTEM_Mipmapper"
   ]
  },
  {
   "cell_type": "markdown",
   "id": "8f803c97-47b9-48ca-8235-a9003750dc3b",
   "metadata": {},
   "source": [
    "#### `render-ws` environment variables\n",
    "* `host` : Web address which hosts render-ws. It's usually the preamble of the link to render-ws html page, i.e. `{host_name}/render-ws/view/index.html`\n",
    "* `owner` : render-ws ID of dataset\n",
    "* `project`: desired project name\n",
    "* `auth`: authorization for render-ws. See https://github.com/hoogenboom-group/scripted-render-pipeline/tree/master for instructions"
   ]
  },
  {
   "cell_type": "code",
   "execution_count": 3,
   "id": "405aacb4-3149-4359-86e3-780f58900f02",
   "metadata": {
    "tags": []
   },
   "outputs": [],
   "source": [
    "# render-ws environment variables\n",
    "params_render = {\n",
    "    \"host\": \"https://sonic.tnw.tudelft.nl\",\n",
    "    \"owner\": \"fastem\",\n",
    "    \"project\": \"20230914_RP_exocrine_partial_test\",\n",
    "    \"auth\": basic_auth.load_auth()\n",
    "}"
   ]
  },
  {
   "cell_type": "markdown",
   "id": "7a21a04c-d3f2-4dbf-b838-1d04362049b6",
   "metadata": {},
   "source": [
    "#### Import parameters\n",
    "\n",
    "* `dir_project` : path to project directory -- assumes subdirectories are the ROA's (which are further assumed to be sections)\n",
    "* `project_path` : path to ROA directory -- assumes contents are (a grid of) tiff files\n",
    "* `parallel`: how many threads to use in parallel, optimises io usage\n",
    "* `clobber`: wether to allow overwriting of existing mipmaps\n",
    "* `mipmap_path`: where to save mipmaps, defaults to `{project_path}/_mipmaps`\n",
    "\n",
    "Assumes data for every ROA (section) is post-corrected and in subfolders (`/postcorrection`). If using the raw data:  \n",
    "`fps_ROA = natsorted([fp for fp in dir_project.glob(\"*\") if fp.is_dir()])`"
   ]
  },
  {
   "cell_type": "code",
   "execution_count": 11,
   "id": "9c4f1115-2c1c-417a-ad68-dcb7da9b89bb",
   "metadata": {
    "tags": []
   },
   "outputs": [
    {
     "data": {
      "text/plain": [
       "{0: PosixPath('/long_term_storage/akievits/FAST-EM/20230914_RP_exocrine_partial_test/S054/postcorrection'),\n",
       " 1: PosixPath('/long_term_storage/akievits/FAST-EM/20230914_RP_exocrine_partial_test/S055/postcorrection'),\n",
       " 2: PosixPath('/long_term_storage/akievits/FAST-EM/20230914_RP_exocrine_partial_test/S056/postcorrection')}"
      ]
     },
     "execution_count": 11,
     "metadata": {},
     "output_type": "execute_result"
    }
   ],
   "source": [
    "# set project directory\n",
    "dir_project = pathlib.Path(\"/long_term_storage/akievits/FAST-EM/tests/20231107_MCF7_UAC_test/\")\n",
    "\n",
    "# set parameters for importing\n",
    "params_import = {\n",
    "    \"parallel\": 40,\n",
    "    \"clobber\": True,\n",
    "    \"mipmap_path\": dir_project / \"_mipmaps/\"\n",
    "}\n",
    "\n",
    "# collect filepaths to ROA's\n",
    "fps_ROA = natsorted([fp for fp in dir_project.glob(\"*/postcorrection/\") if fp.is_dir()])\n",
    "fps_ROA = {k: v for k, v in enumerate(fps_ROA)}\n",
    "fps_ROA"
   ]
  },
  {
   "cell_type": "markdown",
   "id": "cecc039d-5065-47c5-bb19-39dc349deb17",
   "metadata": {},
   "source": [
    "#### Create mipmaps\n",
    "Create mipmaps (Image pyramids) of every `field` image. `mipmapper.create_all_mipmaps()` creates a new subfolder in `dir_project` named `_mipmaps`, and nested subfolders for each z level (zero-indexed) and field image:  \n",
    "\n",
    "```\n",
    ".\n",
    "└── _mipmaps/\n",
    "    ├── 0/\n",
    "    │   ├── 000x000/\n",
    "    │   │   ├── 0.tif\n",
    "    │   │   ├── 1.tif\n",
    "    │   │   ├── 2.tif\n",
    "    │   │   ├── 3.tif\n",
    "    │   │   ├── 4.tif\n",
    "    │   │   ├── 5.tif\n",
    "    │   │   ├── 6.tif\n",
    "    │   │   ├── 7.tif\n",
    "    │   │   └── 8.tif\n",
    "    │   ├── 000x001\n",
    "    │   └── 000x002\n",
    "    ├── 1/\n",
    "    │   ├── 000x000\n",
    "    │   ├── 000x001\n",
    "    │   └── 000x002\n",
    "    └── 2/\n",
    "```"
   ]
  },
  {
   "cell_type": "code",
   "execution_count": 1,
   "id": "f74b2590-efd3-44d4-ac80-f910e85599f5",
   "metadata": {
    "tags": []
   },
   "outputs": [],
   "source": [
    "# create mipmaps from mapping of z values to ROA/section directories\n",
    "mipmapper = FASTEM_Mipmapper(\n",
    "    project_paths=fps_ROA,\n",
    "    **params_import\n",
    ")\n",
    "stacks = mipmapper.create_all_mipmaps()"
   ]
  },
  {
   "cell_type": "markdown",
   "id": "684b2d4f-4758-4a5d-b592-61177ab64fe3",
   "metadata": {},
   "source": [
    "#### Import to render-ws\n",
    "Import `stack` object to `render-ws`\n",
    "* `z_resolution`: section thickness, has to be set because this cannot be inferred from the metadata."
   ]
  },
  {
   "cell_type": "code",
   "execution_count": null,
   "id": "b4d2f341-a08c-4d07-8f70-b9e562224ed9",
   "metadata": {
    "tags": []
   },
   "outputs": [
    {
     "name": "stderr",
     "output_type": "stream",
     "text": [
      "uploading: 100%|█████████████████████████████████████████████████████████████████████| 1/1 [00:00<00:00,  3.44stacks/s]\n"
     ]
    }
   ],
   "source": [
    "# initialize uploader\n",
    "uppity = uploader.Uploader(\n",
    "    **params_render,\n",
    "    clobber=params_import.get(\"clobber\")\n",
    ")\n",
    "\n",
    "# import stack to render-ws\n",
    "uppity.upload_to_render(\n",
    "    stacks=stacks,\n",
    "    z_resolution=80\n",
    ")"
   ]
  },
  {
   "cell_type": "markdown",
   "id": "b9b53bdc-e841-4dbf-bf3f-d8f3a2ae899e",
   "metadata": {},
   "source": [
    "#### Plot stacks\n",
    "Plot imported stacks to inspect"
   ]
  },
  {
   "cell_type": "code",
   "execution_count": 7,
   "id": "9ba88a93-627c-4c76-86a2-2b4177b8e12d",
   "metadata": {
    "tags": []
   },
   "outputs": [],
   "source": [
    "from interactive_render import plotting"
   ]
  },
  {
   "cell_type": "code",
   "execution_count": 8,
   "id": "e6d9c3d2-8fda-4bbf-82bb-da149c9da341",
   "metadata": {
    "tags": []
   },
   "outputs": [
    {
     "data": {
      "application/vnd.jupyter.widget-view+json": {
       "model_id": "5a88bf40dc3246679b6bfd9206cde528",
       "version_major": 2,
       "version_minor": 0
      },
      "text/plain": [
       "  0%|          | 0/1 [00:00<?, ?it/s]"
      ]
     },
     "metadata": {},
     "output_type": "display_data"
    },
    {
     "data": {
      "application/vnd.jupyter.widget-view+json": {
       "model_id": "3d6cd1a7595d48c1b864d3decd598caa",
       "version_major": 2,
       "version_minor": 0
      },
      "text/plain": [
       "interactive(children=(IntSlider(value=0, description='z', max=16), IntSlider(value=30207, description='vmin', …"
      ]
     },
     "metadata": {},
     "output_type": "display_data"
    }
   ],
   "source": [
    "# plot stack\n",
    "plotting.plot_stacks(\n",
    "    stacks=[stack.name for stack in stacks],\n",
    "    render=uppity.render\n",
    ")"
   ]
  }
 ],
 "metadata": {
  "kernelspec": {
   "display_name": "Python 3 (ipykernel)",
   "language": "python",
   "name": "python3"
  },
  "language_info": {
   "codemirror_mode": {
    "name": "ipython",
    "version": 3
   },
   "file_extension": ".py",
   "mimetype": "text/x-python",
   "name": "python",
   "nbconvert_exporter": "python",
   "pygments_lexer": "ipython3",
   "version": "3.10.12"
  }
 },
 "nbformat": 4,
 "nbformat_minor": 5
}
