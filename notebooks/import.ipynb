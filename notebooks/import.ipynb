{
 "cells": [
  {
   "cell_type": "markdown",
   "id": "35fea659-a926-4b60-954f-fae3dcb343cc",
   "metadata": {},
   "source": [
    "# Import\n",
    "---\n",
    "\n",
    "#### Overview\n",
    "Import image data to render-ws.\n"
   ]
  },
  {
   "cell_type": "code",
   "execution_count": 1,
   "id": "d6bab00c-fe3f-4f8a-8c55-39934cab1b50",
   "metadata": {
    "tags": []
   },
   "outputs": [],
   "source": [
    "# indirectly enable autocomplete\n",
    "%config Completer.use_jedi = False\n",
    "\n",
    "# autoreload modules\n",
    "%load_ext autoreload\n",
    "%autoreload 2"
   ]
  },
  {
   "cell_type": "code",
   "execution_count": 2,
   "id": "01d34d6f-559e-4601-83e3-4c71e3198ce1",
   "metadata": {
    "tags": []
   },
   "outputs": [],
   "source": [
    "import pathlib\n",
    "from itertools import chain\n",
    "from natsort import natsorted\n",
    "from tqdm.notebook import tqdm\n",
    "\n",
    "from scripted_render_pipeline import basic_auth\n",
    "from scripted_render_pipeline.importer import render_specs, uploader\n",
    "from scripted_render_pipeline.importer.fastem_mipmapper import FASTEM_Mipmapper"
   ]
  },
  {
   "cell_type": "markdown",
   "id": "8f803c97-47b9-48ca-8235-a9003750dc3b",
   "metadata": {},
   "source": [
    "#### `render-ws` environment variables"
   ]
  },
  {
   "cell_type": "code",
   "execution_count": 3,
   "id": "405aacb4-3149-4359-86e3-780f58900f02",
   "metadata": {
    "tags": []
   },
   "outputs": [],
   "source": [
    "# render-ws environment variables\n",
    "params_render = {\n",
    "    \"host\": \"https://sonic.tnw.tudelft.nl\",\n",
    "    \"owner\": \"fastem\",\n",
    "    \"project\": \"20230712_RF_zstack\",\n",
    "    \"auth\": basic_auth.load_auth()\n",
    "}"
   ]
  },
  {
   "cell_type": "markdown",
   "id": "7a21a04c-d3f2-4dbf-b838-1d04362049b6",
   "metadata": {},
   "source": [
    "#### Import parameters\n",
    "\n",
    "* `dir_project` : path to project directory -- assumes subdirectories are the ROA's (which are further assumed to be sections)\n",
    "* `project_path` : path to ROA directory -- assumes contents are (a grid of) tiff files\n",
    "* `parallel`: how many threads to use in parallel, optimises io usage\n",
    "* `clobber`: wether to allow overwriting of existing mipmaps\n",
    "* `mipmap_path`: where to save mipmaps, defaults to `{project_path}/_mipmaps`"
   ]
  },
  {
   "cell_type": "code",
   "execution_count": 4,
   "id": "9c4f1115-2c1c-417a-ad68-dcb7da9b89bb",
   "metadata": {
    "tags": []
   },
   "outputs": [
    {
     "data": {
      "text/plain": [
       "[PosixPath('/long_term_storage/asm_storage/asm_service/2023-07-12/20230712_RF_zstack/RF_brain_section_2_10us'),\n",
       " PosixPath('/long_term_storage/asm_storage/asm_service/2023-07-12/20230712_RF_zstack/RF_brain_section_3_10us'),\n",
       " PosixPath('/long_term_storage/asm_storage/asm_service/2023-07-12/20230712_RF_zstack/RF_brain_section_4_10us'),\n",
       " PosixPath('/long_term_storage/asm_storage/asm_service/2023-07-12/20230712_RF_zstack/RF_brain_section_5_10us'),\n",
       " PosixPath('/long_term_storage/asm_storage/asm_service/2023-07-12/20230712_RF_zstack/RF_brain_section_6_10us')]"
      ]
     },
     "execution_count": 4,
     "metadata": {},
     "output_type": "execute_result"
    }
   ],
   "source": [
    "# set project directory\n",
    "dir_project = pathlib.Path(\"/long_term_storage/asm_storage/asm_service/2023-07-12/20230712_RF_zstack/\")\n",
    "\n",
    "# set parameters for importing\n",
    "params_import = {\n",
    "    \"parallel\": 40,\n",
    "    \"clobber\": True\n",
    "}\n",
    "\n",
    "# collect filepaths to ROA's\n",
    "fps_ROA = natsorted([fp for fp in dir_project.glob(\"*\") if fp.is_dir()])\n",
    "fps_ROA[:5]"
   ]
  },
  {
   "cell_type": "markdown",
   "id": "cecc039d-5065-47c5-bb19-39dc349deb17",
   "metadata": {},
   "source": [
    "#### Create mipmaps"
   ]
  },
  {
   "cell_type": "code",
   "execution_count": 5,
   "id": "f74b2590-efd3-44d4-ac80-f910e85599f5",
   "metadata": {
    "tags": []
   },
   "outputs": [
    {
     "data": {
      "application/vnd.jupyter.widget-view+json": {
       "model_id": "b206b1027e114ecd89f13fcd9490aa6f",
       "version_major": 2,
       "version_minor": 0
      },
      "text/plain": [
       "  0%|          | 0/17 [00:00<?, ?it/s]"
      ]
     },
     "metadata": {},
     "output_type": "display_data"
    },
    {
     "name": "stderr",
     "output_type": "stream",
     "text": [
      "\n",
      "making mipmaps:   0%|                                                                           | 0/9 [00:00<?, ?img/s]\u001b[A\n",
      "making mipmaps:  11%|███████▍                                                           | 1/9 [00:03<00:29,  3.69s/img]\u001b[A\n",
      "making mipmaps:  22%|██████████████▉                                                    | 2/9 [00:04<00:12,  1.85s/img]\u001b[A\n",
      "making mipmaps:  33%|██████████████████████▎                                            | 3/9 [00:04<00:06,  1.06s/img]\u001b[A\n",
      "making mipmaps:  56%|█████████████████████████████████████▏                             | 5/9 [00:04<00:01,  2.02img/s]\u001b[A\n",
      "making mipmaps: 100%|███████████████████████████████████████████████████████████████████| 9/9 [00:04<00:00,  1.91img/s]\u001b[A\n",
      "\n",
      "making mipmaps:   0%|                                                                           | 0/9 [00:00<?, ?img/s]\u001b[A\n",
      "making mipmaps:  11%|███████▍                                                           | 1/9 [00:03<00:27,  3.49s/img]\u001b[A\n",
      "making mipmaps:  22%|██████████████▉                                                    | 2/9 [00:04<00:13,  1.88s/img]\u001b[A\n",
      "making mipmaps:  56%|█████████████████████████████████████▏                             | 5/9 [00:04<00:02,  1.79img/s]\u001b[A\n",
      "making mipmaps: 100%|███████████████████████████████████████████████████████████████████| 9/9 [00:04<00:00,  1.87img/s]\u001b[A\n",
      "\n",
      "making mipmaps:   0%|                                                                           | 0/9 [00:00<?, ?img/s]\u001b[A\n",
      "making mipmaps:  11%|███████▍                                                           | 1/9 [00:04<00:35,  4.40s/img]\u001b[A\n",
      "making mipmaps:  56%|█████████████████████████████████████▏                             | 5/9 [00:04<00:02,  1.46img/s]\u001b[A\n",
      "making mipmaps: 100%|███████████████████████████████████████████████████████████████████| 9/9 [00:04<00:00,  1.90img/s]\u001b[A\n",
      "\n",
      "making mipmaps:   0%|                                                                           | 0/9 [00:00<?, ?img/s]\u001b[A\n",
      "making mipmaps:  11%|███████▍                                                           | 1/9 [00:05<00:42,  5.27s/img]\u001b[A\n",
      "making mipmaps:  44%|█████████████████████████████▊                                     | 4/9 [00:05<00:05,  1.03s/img]\u001b[A\n",
      "making mipmaps: 100%|███████████████████████████████████████████████████████████████████| 9/9 [00:05<00:00,  1.62img/s]\u001b[A\n",
      "\n",
      "making mipmaps:   0%|                                                                           | 0/9 [00:00<?, ?img/s]\u001b[A\n",
      "making mipmaps:  11%|███████▍                                                           | 1/9 [00:04<00:33,  4.19s/img]\u001b[A\n",
      "making mipmaps:  22%|██████████████▉                                                    | 2/9 [00:04<00:14,  2.02s/img]\u001b[A\n",
      "making mipmaps:  56%|█████████████████████████████████████▏                             | 5/9 [00:04<00:02,  1.62img/s]\u001b[A\n",
      "making mipmaps: 100%|███████████████████████████████████████████████████████████████████| 9/9 [00:05<00:00,  1.76img/s]\u001b[A\n",
      "\n",
      "making mipmaps:   0%|                                                                           | 0/9 [00:00<?, ?img/s]\u001b[A\n",
      "making mipmaps:  11%|███████▍                                                           | 1/9 [00:04<00:38,  4.81s/img]\u001b[A\n",
      "making mipmaps:  22%|██████████████▉                                                    | 2/9 [00:04<00:14,  2.05s/img]\u001b[A\n",
      "making mipmaps: 100%|███████████████████████████████████████████████████████████████████| 9/9 [00:05<00:00,  1.74img/s]\u001b[A\n",
      "\n",
      "making mipmaps:   0%|                                                                           | 0/9 [00:00<?, ?img/s]\u001b[A\n",
      "making mipmaps:  11%|███████▍                                                           | 1/9 [00:05<00:40,  5.04s/img]\u001b[A\n",
      "making mipmaps:  33%|██████████████████████▎                                            | 3/9 [00:05<00:08,  1.37s/img]\u001b[A\n",
      "making mipmaps:  78%|████████████████████████████████████████████████████               | 7/9 [00:05<00:00,  2.13img/s]\u001b[A\n",
      "making mipmaps: 100%|███████████████████████████████████████████████████████████████████| 9/9 [00:05<00:00,  1.52img/s]\u001b[A\n",
      "\n",
      "making mipmaps:   0%|                                                                           | 0/9 [00:00<?, ?img/s]\u001b[A\n",
      "making mipmaps:  11%|███████▍                                                           | 1/9 [00:04<00:32,  4.06s/img]\u001b[A\n",
      "making mipmaps:  22%|██████████████▉                                                    | 2/9 [00:04<00:14,  2.09s/img]\u001b[A\n",
      "making mipmaps:  33%|██████████████████████▎                                            | 3/9 [00:05<00:07,  1.25s/img]\u001b[A\n",
      "making mipmaps:  56%|█████████████████████████████████████▏                             | 5/9 [00:05<00:02,  1.72img/s]\u001b[A\n",
      "making mipmaps: 100%|███████████████████████████████████████████████████████████████████| 9/9 [00:05<00:00,  1.71img/s]\u001b[A\n",
      "\n",
      "making mipmaps:   0%|                                                                           | 0/9 [00:00<?, ?img/s]\u001b[A\n",
      "making mipmaps:  11%|███████▍                                                           | 1/9 [00:04<00:32,  4.06s/img]\u001b[A\n",
      "making mipmaps:  22%|██████████████▉                                                    | 2/9 [00:04<00:13,  1.96s/img]\u001b[A\n",
      "making mipmaps:  33%|██████████████████████▎                                            | 3/9 [00:04<00:06,  1.15s/img]\u001b[A\n",
      "making mipmaps:  67%|████████████████████████████████████████████▋                      | 6/9 [00:04<00:01,  2.42img/s]\u001b[A\n",
      "making mipmaps: 100%|███████████████████████████████████████████████████████████████████| 9/9 [00:05<00:00,  1.79img/s]\u001b[A\n",
      "\n",
      "making mipmaps:   0%|                                                                           | 0/9 [00:00<?, ?img/s]\u001b[A\n",
      "making mipmaps:  11%|███████▍                                                           | 1/9 [00:05<00:41,  5.18s/img]\u001b[A\n",
      "making mipmaps:  56%|█████████████████████████████████████▏                             | 5/9 [00:05<00:03,  1.17img/s]\u001b[A\n",
      "making mipmaps: 100%|███████████████████████████████████████████████████████████████████| 9/9 [00:05<00:00,  1.56img/s]\u001b[A\n",
      "\n",
      "making mipmaps:   0%|                                                                           | 0/9 [00:00<?, ?img/s]\u001b[A\n",
      "making mipmaps:  11%|███████▍                                                           | 1/9 [00:04<00:39,  4.95s/img]\u001b[A\n",
      "making mipmaps:  22%|██████████████▉                                                    | 2/9 [00:05<00:15,  2.18s/img]\u001b[A\n",
      "making mipmaps: 100%|███████████████████████████████████████████████████████████████████| 9/9 [00:05<00:00,  1.68img/s]\u001b[A\n",
      "\n",
      "making mipmaps:   0%|                                                                           | 0/9 [00:00<?, ?img/s]\u001b[A\n",
      "making mipmaps:  11%|███████▍                                                           | 1/9 [00:04<00:34,  4.31s/img]\u001b[A\n",
      "making mipmaps:  22%|██████████████▉                                                    | 2/9 [00:04<00:13,  1.96s/img]\u001b[A\n",
      "making mipmaps:  33%|██████████████████████▎                                            | 3/9 [00:04<00:06,  1.14s/img]\u001b[A\n",
      "making mipmaps:  67%|████████████████████████████████████████████▋                      | 6/9 [00:04<00:01,  2.33img/s]\u001b[A\n",
      "making mipmaps:  78%|████████████████████████████████████████████████████               | 7/9 [00:05<00:00,  2.75img/s]\u001b[A\n",
      "making mipmaps:  89%|███████████████████████████████████████████████████████████▌       | 8/9 [00:05<00:00,  3.08img/s]\u001b[A\n",
      "making mipmaps: 100%|███████████████████████████████████████████████████████████████████| 9/9 [00:05<00:00,  1.65img/s]\u001b[A\n",
      "\n",
      "making mipmaps:   0%|                                                                           | 0/9 [00:00<?, ?img/s]\u001b[A\n",
      "making mipmaps:  11%|███████▍                                                           | 1/9 [00:04<00:39,  4.88s/img]\u001b[A\n",
      "making mipmaps:  33%|██████████████████████▎                                            | 3/9 [00:04<00:07,  1.30s/img]\u001b[A\n",
      "making mipmaps:  67%|████████████████████████████████████████████▋                      | 6/9 [00:05<00:01,  1.80img/s]\u001b[A\n",
      "making mipmaps: 100%|███████████████████████████████████████████████████████████████████| 9/9 [00:05<00:00,  1.67img/s]\u001b[A\n",
      "\n",
      "making mipmaps:   0%|                                                                           | 0/9 [00:00<?, ?img/s]\u001b[A\n",
      "making mipmaps:  11%|███████▍                                                           | 1/9 [00:04<00:36,  4.53s/img]\u001b[A\n",
      "making mipmaps:  33%|██████████████████████▎                                            | 3/9 [00:04<00:07,  1.24s/img]\u001b[A\n",
      "making mipmaps:  78%|████████████████████████████████████████████████████               | 7/9 [00:04<00:00,  2.26img/s]\u001b[A\n",
      "making mipmaps: 100%|███████████████████████████████████████████████████████████████████| 9/9 [00:05<00:00,  1.76img/s]\u001b[A\n",
      "\n",
      "making mipmaps:   0%|                                                                           | 0/9 [00:00<?, ?img/s]\u001b[A\n",
      "making mipmaps:  11%|███████▍                                                           | 1/9 [00:05<00:42,  5.29s/img]\u001b[A\n",
      "making mipmaps:  33%|██████████████████████▎                                            | 3/9 [00:05<00:08,  1.42s/img]\u001b[A\n",
      "making mipmaps:  56%|█████████████████████████████████████▏                             | 5/9 [00:05<00:02,  1.37img/s]\u001b[A\n",
      "making mipmaps: 100%|███████████████████████████████████████████████████████████████████| 9/9 [00:05<00:00,  1.55img/s]\u001b[A\n",
      "\n",
      "making mipmaps:   0%|                                                                           | 0/9 [00:00<?, ?img/s]\u001b[A\n",
      "making mipmaps:  11%|███████▍                                                           | 1/9 [00:05<00:47,  5.95s/img]\u001b[A\n",
      "making mipmaps:  33%|██████████████████████▎                                            | 3/9 [00:06<00:09,  1.59s/img]\u001b[A\n",
      "making mipmaps:  56%|█████████████████████████████████████▏                             | 5/9 [00:06<00:03,  1.18img/s]\u001b[A\n",
      "making mipmaps: 100%|███████████████████████████████████████████████████████████████████| 9/9 [00:06<00:00,  1.38img/s]\u001b[A\n",
      "\n",
      "making mipmaps:   0%|                                                                           | 0/9 [00:00<?, ?img/s]\u001b[A\n",
      "making mipmaps:  11%|███████▍                                                           | 1/9 [00:05<00:41,  5.24s/img]\u001b[A\n",
      "making mipmaps:  33%|██████████████████████▎                                            | 3/9 [00:05<00:08,  1.42s/img]\u001b[A\n",
      "making mipmaps:  44%|█████████████████████████████▊                                     | 4/9 [00:05<00:05,  1.04s/img]\u001b[A\n",
      "making mipmaps:  78%|████████████████████████████████████████████████████               | 7/9 [00:05<00:00,  2.14img/s]\u001b[A\n",
      "making mipmaps: 100%|███████████████████████████████████████████████████████████████████| 9/9 [00:06<00:00,  1.44img/s]\u001b[A\n"
     ]
    }
   ],
   "source": [
    "# loop through ROA's\n",
    "layers = []\n",
    "for z, fp in tqdm(\n",
    "    enumerate(fps_ROA),\n",
    "    total=len(fps_ROA)\n",
    "):\n",
    "\n",
    "    # update directory with each ROA / section\n",
    "    params_import[\"project_path\"] = fp / \"corrected\"\n",
    "\n",
    "    # make mipmaps\n",
    "    mipmapper = FASTEM_Mipmapper(**params_import)\n",
    "    layer = mipmapper.create_all_mipmaps()[0]\n",
    "    layers.append(layer)"
   ]
  },
  {
   "cell_type": "markdown",
   "id": "684b2d4f-4758-4a5d-b592-61177ab64fe3",
   "metadata": {},
   "source": [
    "#### Import to render-ws"
   ]
  },
  {
   "cell_type": "code",
   "execution_count": 6,
   "id": "b4d2f341-a08c-4d07-8f70-b9e562224ed9",
   "metadata": {
    "tags": []
   },
   "outputs": [
    {
     "name": "stderr",
     "output_type": "stream",
     "text": [
      "uploading: 100%|█████████████████████████████████████████████████████████████████████| 1/1 [00:00<00:00,  3.22stacks/s]\n"
     ]
    }
   ],
   "source": [
    "# initialize uploader\n",
    "uppity = uploader.Uploader(\n",
    "    **params_render,\n",
    "    clobber=params_import.get(\"clobber\")\n",
    ")\n",
    "\n",
    "# create (Tibbe) stack\n",
    "stack = render_specs.Stack(\n",
    "    name=\"corrected\",\n",
    "    specs=list(chain(*[layer.tilespecs for layer in layers])),\n",
    "    pixel_size=layer.pixel_size\n",
    ")\n",
    "\n",
    "# import stack to render-ws\n",
    "uppity.upload_to_render(\n",
    "    stacks=[stack],\n",
    "    z_resolution=100\n",
    ")"
   ]
  },
  {
   "cell_type": "markdown",
   "id": "b9b53bdc-e841-4dbf-bf3f-d8f3a2ae899e",
   "metadata": {},
   "source": [
    "#### Plot stack"
   ]
  },
  {
   "cell_type": "code",
   "execution_count": 7,
   "id": "82afd268-f1ed-4b37-ac4e-c296e826b3ad",
   "metadata": {
    "tags": []
   },
   "outputs": [],
   "source": [
    "import sys\n",
    "\n",
    "dir_code = \"../src/\"\n",
    "if dir_code not in sys.path:\n",
    "    sys.path.insert(1, dir_code)\n",
    "\n",
    "import plotting"
   ]
  },
  {
   "cell_type": "code",
   "execution_count": 8,
   "id": "e6d9c3d2-8fda-4bbf-82bb-da149c9da341",
   "metadata": {
    "tags": []
   },
   "outputs": [
    {
     "data": {
      "application/vnd.jupyter.widget-view+json": {
       "model_id": "de6c5adb71914f96980c455ea44b7c8d",
       "version_major": 2,
       "version_minor": 0
      },
      "text/plain": [
       "  0%|          | 0/1 [00:00<?, ?it/s]"
      ]
     },
     "metadata": {},
     "output_type": "display_data"
    },
    {
     "data": {
      "application/vnd.jupyter.widget-view+json": {
       "model_id": "9e88879ff4214cc48e0ec7d87dc02ec7",
       "version_major": 2,
       "version_minor": 0
      },
      "text/plain": [
       "interactive(children=(IntSlider(value=0, description='z', max=16), IntSlider(value=30207, description='vmin', …"
      ]
     },
     "metadata": {},
     "output_type": "display_data"
    }
   ],
   "source": [
    "# plot stack\n",
    "plotting.plot_stacks(\n",
    "    stacks=[stack.name],\n",
    "    render=uppity.render\n",
    ")"
   ]
  }
 ],
 "metadata": {
  "kernelspec": {
   "display_name": "Python 3 (ipykernel)",
   "language": "python",
   "name": "python3"
  },
  "language_info": {
   "codemirror_mode": {
    "name": "ipython",
    "version": 3
   },
   "file_extension": ".py",
   "mimetype": "text/x-python",
   "name": "python",
   "nbconvert_exporter": "python",
   "pygments_lexer": "ipython3",
   "version": "3.11.4"
  }
 },
 "nbformat": 4,
 "nbformat_minor": 5
}
